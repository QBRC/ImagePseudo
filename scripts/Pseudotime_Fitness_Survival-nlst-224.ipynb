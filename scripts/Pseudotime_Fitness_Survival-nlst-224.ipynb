{
 "cells": [
  {
   "cell_type": "code",
   "execution_count": 1,
   "id": "7866cf6e-420d-4223-af3a-a1fd346a0362",
   "metadata": {},
   "outputs": [
    {
     "name": "stderr",
     "output_type": "stream",
     "text": [
      "/project/OSPH/Xiao_lab/shared/yangL/miniconda3/envs/envpytorch/lib/python3.12/site-packages/tqdm/auto.py:21: TqdmWarning: IProgress not found. Please update jupyter and ipywidgets. See https://ipywidgets.readthedocs.io/en/stable/user_install.html\n",
      "  from .autonotebook import tqdm as notebook_tqdm\n"
     ]
    }
   ],
   "source": [
    "import matplotlib.pyplot as plt\n",
    "import functools\n",
    "import numpy as np\n",
    "import os\n",
    "import pandas as pd\n",
    "import random\n",
    "import re\n",
    "import skimage\n",
    "import skimage.io\n",
    "import torch\n",
    "from torch.utils.data import DataLoader\n",
    "import torchvision\n",
    "import torchvision.models\n",
    "from openslide import open_slide, ImageSlide\n",
    "import cv2\n",
    "from segmentation_functions import getMask, chooseRandPixel"
   ]
  },
  {
   "cell_type": "code",
   "execution_count": 2,
   "id": "793a163c-3019-4350-9887-9e910b309f16",
   "metadata": {},
   "outputs": [],
   "source": [
    "CLASSES = {\"G1\", \n",
    "           \"G2\",\n",
    "           \"G3\",\n",
    "           \"G4\",\n",
    "           \"other\"\n",
    "          }\n",
    "N_CLASSES = 5\n",
    "CLASSES_NAMES = [\"G1\", \"G2\", \"G3\", \"G4\", \"other\"]\n",
    "\n",
    "DEVICE = \"cuda:1\""
   ]
  },
  {
   "cell_type": "code",
   "execution_count": 3,
   "id": "d580db04-078a-472c-8135-d32649af4e3c",
   "metadata": {},
   "outputs": [
    {
     "name": "stdout",
     "output_type": "stream",
     "text": [
      "345\n",
      "340\n",
      "                     filename\n",
      "aaCode                       \n",
      "AA00005 0002  NLSI0000002.svs\n",
      "AA00404 0001  NLSI0000004.svs\n",
      "AA00404 0002  NLSI0000005.svs\n",
      "AA00404 0003  NLSI0000006.svs\n",
      "AA00403 0001  NLSI0000007.svs\n",
      "...                       ...\n",
      "AA00342 0002  NLSI0000525.svs\n",
      "AA00343 0001  NLSI0000526.svs\n",
      "AA00680 0001         9488.svs\n",
      "AA00212 0002         9695.svs\n",
      "AA00211 0003         9697.svs\n",
      "\n",
      "[1253 rows x 1 columns]\n"
     ]
    }
   ],
   "source": [
    "# Annotated slides\n",
    "slide_folder = \"/archive/DPDS/Xiao_lab/shared/hudanyun_sheng/pathology_image_data/NLST_ADC/\"\n",
    "slide_names = [_ for _ in os.listdir(slide_folder) if _.endswith(\".svs\")]\n",
    "print(len(slide_names))\n",
    "annotation_names = [_ for _ in os.listdir(slide_folder) if _.endswith(\".xml\")]\n",
    "print(len(annotation_names))\n",
    "\n",
    "mapping_file = \"/archive/DPDS/Xiao_lab/shared/hudanyun_sheng/pathology_image_data/NLST_ADC/AACode-Filename-Mapping-curated.csv\"\n",
    "clinical_file = \"/archive/DPDS/Xiao_lab/shared/hudanyun_sheng/pathology_image_data/NLST_ADC/nlst_clinical.csv\"\n",
    "survival_file = \"/archive/DPDS/Xiao_lab/shared/hudanyun_sheng/pathology_image_data/NLST_ADC/NLST_Survival.csv\"\n",
    "\n",
    "mapping_df = pd.read_csv(mapping_file, index_col=0)\n",
    "clinical_df = pd.read_csv(clinical_file, index_col=0)\n",
    "survival_df = pd.read_csv(survival_file, index_col=0)\n",
    "\n",
    "print(mapping_df)\n",
    "\n",
    "mapping_df.index = [_.split(\" \")[0] for _ in mapping_df.index.values]\n",
    "mapping_df.index.name = \"ID\"\n",
    "clinical_df = clinical_df.merge(mapping_df, left_on = \"ID\", right_on=\"ID\").merge(survival_df,right_on = \"ID\",left_on = \"ID\")\n",
    "clinical_df[\"ID\"] = clinical_df.index\n",
    "clinical_df.to_csv('data/nlst_clinical_merged.csv')"
   ]
  },
  {
   "cell_type": "markdown",
   "id": "63591c16-e85a-4547-ad22-8cae8ce30d3f",
   "metadata": {},
   "source": [
    "## Calculate pseudotime using PAGA\n",
    "\n"
   ]
  },
  {
   "cell_type": "code",
   "execution_count": 38,
   "id": "973217bf-a7db-4726-8fff-258e35bec010",
   "metadata": {},
   "outputs": [],
   "source": [
    "import scanpy as sc\n",
    "from matplotlib import rcParams\n",
    "import anndata as ad\n",
    "from sklearn.metrics.pairwise import euclidean_distances\n",
    "from sklearn.linear_model import LinearRegression, Lasso\n",
    "from sklearn.metrics import r2_score\n",
    "\n",
    "\n",
    "def Norm(data):\n",
    "    return (data - np.min(data)) / (np.max(data) - np.min(data))\n",
    "\n",
    "def paga(wsi_df):\n",
    "    #slide_df = pd.read_csv(wsi_feature_f)\n",
    "    x, obs = pd.DataFrame(wsi_df.iloc[:,3:]).astype('float64'), pd.DataFrame(wsi_df.iloc[:,0:3])\n",
    "    adata = ad.AnnData(x,obs)\n",
    "    \n",
    "    print('start paga')\n",
    "    sc.tl.pca(adata, svd_solver='arpack') ## dimension reduction\n",
    "    sc.pp.neighbors(adata, n_neighbors=4, n_pcs=20)\n",
    "    sc.tl.leiden(adata,resolution=1) ## clustering\n",
    "    sc.tl.paga(adata, groups='leiden') ## PAGA for clustering partition\n",
    "\n",
    "    #start_class = adata.obs['pred_class'].unique().min()\n",
    "    start_class = 4\n",
    "    adata.uns['iroot'] = np.flatnonzero(adata.obs['pred_class']  == start_class)[0] ## set predicted G1 class as root node\n",
    "    \n",
    "    sc.tl.dpt(adata)  ### DPT to calculate psudotime\n",
    "    print('end paga')\n",
    "    \n",
    "    \n",
    "    ## Calculate euclidean distance\n",
    "    print('start Euclidean')\n",
    "    coordiantes = adata.obs.sort_values(by=\"dpt_pseudotime\")[[\"n_col\",\"n_row\"]]\n",
    "    dist =  pd.DataFrame(euclidean_distances(coordiantes,coordiantes))\n",
    "    dist = Norm(dist[0])\n",
    "    dist.index, dist.name = coordiantes.index, \"Distance\"\n",
    "    adata.obs = adata.obs.join(dist)\n",
    "    print('end Euclidean')\n",
    "    \n",
    "    return adata\n",
    "\n",
    "def lmreg(adata):\n",
    "    model = LinearRegression()\n",
    "    print('start linear regression')\n",
    "    model.fit(adata.X, adata.obs[\"Distance\"]) \n",
    "    pred_dist = model.predict(adata.X)\n",
    "    residual = adata.obs[\"Distance\"] - pred_dist\n",
    "    \n",
    "    #adata.uns['linear_model'] = model\n",
    "    adata.uns['linear_coef'] = model.coef_\n",
    "    adata.uns['linear_residual'] = residual.max()\n",
    "    print( 'end linear ')\n",
    "    return adata\n",
    "\n",
    "\n",
    "def lasso(adata, alpha_value= 0.1):\n",
    "    print('start lasso')\n",
    "    lasso = Lasso(alpha = alpha_value)\n",
    "    lasso.fit(adata.X, adata.obs[\"Distance\"])\n",
    "    pred_dist = lasso.predict(adata.X)\n",
    "    residual = adata.obs[\"Distance\"] - pred_dist\n",
    "    \n",
    "    adata.uns['lasso_residual'] = residual.max()\n",
    "    adata.uns['lasso_coef'] = lasso.coef_\n",
    "    #adata.uns['lasso_model'] = lasso\n",
    "    print('end lasso')\n",
    "    \n",
    "    return adata\n",
    "\n",
    "def get_pairwise_speed(dist, time_f):\n",
    "    ##input is distance matrix and pseudotime\n",
    "    speed_df = np.zeros((len(time_f), len(time_f)))\n",
    "    speed_df[:] = np.nan\n",
    "    \n",
    "    for i in dist.index.values:\n",
    "        #print(i)\n",
    "        for j in dist.index.values:\n",
    "            #print(i,j)\n",
    "            if i != j :\n",
    "                v = dist.iloc[i,j]/abs(time_f.loc[i,'dpt_pesudotime'] - time_f.loc[j,'dpt_pesudotime'])\n",
    "            else:\n",
    "                v = 0\n",
    "                \n",
    "            speed_df[i,j] = v\n",
    "        \n",
    "    return speed_df\n",
    "\n",
    "\n",
    "def get_pairwise_speed_rao(dist, time_f):\n",
    "    ##input is distance matrix and pseudotime\n",
    "    speed_df = np.zeros((len(time_f), len(time_f)))\n",
    "    speed_df[:] = np.nan\n",
    "    \n",
    "    for i in dist.index.values:\n",
    "        #print(i)\n",
    "        for j in dist.index.values:\n",
    "            #print(i,j)\n",
    "            v = time_f.loc[i,'dpt_pesudotime'] * time_f.loc[j,'dpt_pesudotime'] * dist.iloc[i,j]\n",
    "            speed_df[i,j] = v\n",
    "    \n",
    "    return speed_df\n",
    "\n"
   ]
  },
  {
   "cell_type": "code",
   "execution_count": 5,
   "id": "e326d152-7556-4df7-a54d-537203e99279",
   "metadata": {},
   "outputs": [
    {
     "name": "stdout",
     "output_type": "stream",
     "text": [
      "['./outputs/3_WSI_image_feature_phikon_224_NLST/10886.svs_260cols_185rows.csv']\n"
     ]
    },
    {
     "name": "stderr",
     "output_type": "stream",
     "text": [
      " 30%|███       | 93/307 [00:00<00:00, 840.79it/s]"
     ]
    },
    {
     "name": "stdout",
     "output_type": "stream",
     "text": [
      "10886.svs_260cols_185rows.csv\n",
      "Processed\n",
      "11345.svs_274cols_210rows.csv\n",
      "Processed\n",
      "9469.svs_284cols_196rows.csv\n",
      "Processed\n",
      "10880.svs_265cols_210rows.csv\n",
      "Processed\n",
      "10992.svs_245cols_210rows.csv\n",
      "Processed\n",
      "10669.svs_245cols_191rows.csv\n",
      "Processed\n",
      "10509.svs_202cols_149rows.csv\n",
      "Processed\n",
      "11427.svs_245cols_152rows.csv\n",
      "Processed\n",
      "10636.svs_147cols_123rows.csv\n",
      "Processed\n",
      "9389.svs_171cols_100rows.csv\n",
      "Processed\n",
      "11336.svs_207cols_151rows.csv\n",
      "Processed\n",
      "11217.svs_147cols_149rows.csv\n",
      "Processed\n",
      "9756.svs_238cols_171rows.csv\n",
      "Processed\n",
      "NLSI0000198.svs_160cols_99rows.csv\n",
      "Processed\n",
      "11185.svs_202cols_194rows.csv\n",
      "Processed\n",
      "10865.svs_219cols_158rows.csv\n",
      "Processed\n",
      "9972.svs_200cols_109rows.csv\n",
      "Processed\n",
      "10380.svs_327cols_224rows.csv\n",
      "Processed\n",
      "NLSI0000030.svs_70cols_75rows.csv\n",
      "Processed\n",
      "11262.svs_181cols_208rows.csv\n",
      "Processed\n",
      "10629.svs_217cols_183rows.csv\n",
      "Processed\n",
      "10675.svs_260cols_210rows.csv\n",
      "Processed\n",
      "NLSI0000253.svs_155cols_116rows.csv\n",
      "Processed\n",
      "11471.svs_260cols_197rows.csv\n",
      "Processed\n",
      "NLSI0000136.svs_140cols_91rows.csv\n",
      "Processed\n",
      "NLSI0000166.svs_180cols_114rows.csv\n",
      "Processed\n",
      "10998.svs_317cols_210rows.csv\n",
      "Processed\n",
      "11334.svs_217cols_210rows.csv\n",
      "Processed\n",
      "10401.svs_272cols_205rows.csv\n",
      "Processed\n",
      "10379.svs_262cols_207rows.csv\n",
      "Processed\n",
      "11127.svs_248cols_187rows.csv\n",
      "Processed\n",
      "NLSI0000157.svs_80cols_71rows.csv\n",
      "Processed\n",
      "9544.svs_265cols_215rows.csv\n",
      "Processed\n",
      "11042.svs_327cols_205rows.csv\n",
      "Processed\n",
      "9754.svs_305cols_203rows.csv\n",
      "Processed\n",
      "9990.svs_308cols_205rows.csv\n",
      "Processed\n",
      "NLSI0000024.svs_125cols_84rows.csv\n",
      "Processed\n",
      "NLSI0000083.svs_100cols_83rows.csv\n",
      "Processed\n",
      "11373.svs_267cols_210rows.csv\n",
      "Processed\n",
      "11342.svs_116cols_176rows.csv\n",
      "Processed\n",
      "9808.svs_291cols_214rows.csv\n",
      "Processed\n",
      "9683.svs_317cols_215rows.csv\n",
      "Processed\n",
      "10025.svs_188cols_198rows.csv\n",
      "Processed\n",
      "NLSI0000120.svs_150cols_118rows.csv\n",
      "Processed\n",
      "9482.svs_260cols_189rows.csv\n",
      "Processed\n",
      "11105.svs_209cols_210rows.csv\n",
      "Processed\n",
      "NLSI0000294.svs_135cols_78rows.csv\n",
      "Processed\n",
      "11333.svs_267cols_210rows.csv\n",
      "Processed\n",
      "10620.svs_265cols_215rows.csv\n",
      "Processed\n",
      "9388.svs_281cols_177rows.csv\n",
      "Processed\n",
      "11357.svs_289cols_210rows.csv\n",
      "Processed\n",
      "11003.svs_267cols_184rows.csv\n",
      "Processed\n",
      "9460.svs_255cols_187rows.csv\n",
      "Processed\n",
      "NLSI0000075.svs_105cols_97rows.csv\n",
      "Processed\n",
      "NLSI0000267.svs_155cols_105rows.csv\n",
      "Processed\n",
      "NLSI0000132.svs_175cols_114rows.csv\n",
      "Processed\n",
      "11005.svs_277cols_205rows.csv\n",
      "Processed\n",
      "NLSI0000023.svs_145cols_95rows.csv\n",
      "Processed\n",
      "NLSI0000289.svs_120cols_81rows.csv\n",
      "Processed\n",
      "11398.svs_293cols_210rows.csv\n",
      "Processed\n",
      "10640.svs_185cols_185rows.csv\n",
      "Processed\n",
      "11321.svs_257cols_193rows.csv\n",
      "Processed\n",
      "9481.svs_243cols_176rows.csv\n",
      "Processed\n",
      "9684.svs_308cols_215rows.csv\n",
      "Processed\n",
      "11458.svs_188cols_157rows.csv\n",
      "Processed\n",
      "11361.svs_286cols_210rows.csv\n",
      "Processed\n",
      "10411.svs_147cols_117rows.csv\n",
      "Processed\n",
      "11391.svs_169cols_190rows.csv\n",
      "Processed\n",
      "10378.svs_224cols_185rows.csv\n",
      "Processed\n",
      "11433.svs_217cols_210rows.csv\n",
      "Processed\n",
      "10130.svs_274cols_224rows.csv\n",
      "Processed\n",
      "NLSI0000154.svs_145cols_91rows.csv\n",
      "Processed\n",
      "10420.svs_236cols_163rows.csv\n",
      "Processed\n",
      "9738.svs_217cols_185rows.csv\n",
      "Processed\n",
      "10024.svs_53cols_45rows.csv\n",
      "Processed\n",
      "9497.svs_248cols_209rows.csv\n",
      "Processed\n",
      "NLSI0000015.svs_135cols_77rows.csv\n",
      "Processed\n",
      "11259.svs_128cols_158rows.csv\n",
      "Processed\n",
      "10504.svs_106cols_75rows.csv\n",
      "Processed\n",
      "11113.svs_135cols_170rows.csv\n",
      "Processed\n",
      "11036.svs_236cols_193rows.csv\n",
      "Processed\n",
      "10989.svs_207cols_168rows.csv\n",
      "Processed\n",
      "11312.svs_226cols_127rows.csv\n",
      "Processed\n",
      "10417.svs_219cols_154rows.csv\n",
      "Processed\n",
      "10131.svs_238cols_201rows.csv\n",
      "Processed\n",
      "NLSI0000197.svs_145cols_94rows.csv\n",
      "Processed\n",
      "NLSI0000110.svs_145cols_95rows.csv\n",
      "Processed\n",
      "11438.svs_293cols_210rows.csv\n",
      "Processed\n",
      "9549.svs_257cols_215rows.csv\n",
      "Processed\n",
      "10484.svs_200cols_183rows.csv\n",
      "Processed\n",
      "9701.svs_212cols_205rows.csv\n",
      "Processed\n",
      "9462.svs_183cols_151rows.csv\n",
      "Processed\n",
      "NLSI0000161.svs_145cols_87rows.csv\n",
      "Processed\n",
      "11191.svs_303cols_210rows.csv\n",
      "Processed\n",
      "NLSI0000098.svs_100cols_102rows.csv\n",
      "Processed\n",
      "9967.svs_241cols_192rows.csv\n",
      "Processed\n",
      "10500.svs_329cols_198rows.csv\n",
      "Processed\n",
      "11435.svs_298cols_210rows.csv\n",
      "Processed\n",
      "10903.svs_293cols_205rows.csv\n",
      "Processed\n",
      "10887.svs_274cols_196rows.csv\n",
      "Processed\n",
      "10876.svs_313cols_209rows.csv\n",
      "Processed\n",
      "10837.svs_197cols_178rows.csv\n",
      "Processed\n",
      "9980.svs_183cols_100rows.csv\n",
      "Processed\n",
      "10461.svs_289cols_223rows.csv\n",
      "Processed\n",
      "11247.svs_250cols_199rows.csv\n",
      "Processed\n",
      "NLSI0000254.svs_145cols_118rows.csv\n",
      "Processed\n",
      "9529.svs_265cols_205rows.csv\n",
      "Processed\n",
      "10503.svs_236cols_224rows.csv\n",
      "Processed\n",
      "10046.svs_257cols_214rows.csv\n",
      "Processed\n",
      "11454.svs_241cols_210rows.csv\n",
      "Processed\n",
      "NLSI0000259.svs_150cols_65rows.csv\n",
      "Processed\n",
      "11326.svs_229cols_208rows.csv\n",
      "Processed\n",
      "9545.svs_133cols_132rows.csv\n",
      "Processed\n",
      "9757.svs_197cols_188rows.csv\n",
      "Processed\n",
      "10877.svs_346cols_210rows.csv\n",
      "Processed\n",
      "9692.svs_308cols_215rows.csv\n",
      "Processed\n",
      "9813.svs_181cols_212rows.csv\n",
      "Processed\n",
      "9707.svs_238cols_194rows.csv\n",
      "Processed\n",
      "11286.svs_291cols_203rows.csv\n",
      "Processed\n",
      "NLSI0000105.svs_45cols_34rows.csv\n",
      "Processed\n",
      "NLSI0000156.svs_115cols_77rows.csv\n",
      "Processed\n",
      "10506.svs_248cols_181rows.csv\n",
      "Processed\n",
      "10028.svs_154cols_92rows.csv\n",
      "Processed\n",
      "9993.svs_286cols_213rows.csv\n",
      "Processed\n",
      "10619.svs_169cols_169rows.csv\n",
      "Processed\n",
      "11462.svs_272cols_173rows.csv\n",
      "Processed\n",
      "11248.svs_269cols_193rows.csv\n",
      "Processed\n",
      "11004.svs_317cols_202rows.csv\n",
      "Processed\n",
      "11110.svs_339cols_210rows.csv\n"
     ]
    },
    {
     "name": "stderr",
     "output_type": "stream",
     "text": [
      "100%|██████████| 307/307 [00:00<00:00, 1159.09it/s]"
     ]
    },
    {
     "name": "stdout",
     "output_type": "stream",
     "text": [
      "Processed\n",
      "11358.svs_238cols_191rows.csv\n",
      "Processed\n",
      "NLSI0000293.svs_155cols_112rows.csv\n",
      "Processed\n",
      "NLSI0000292.svs_160cols_117rows.csv\n",
      "Processed\n",
      "NLSI0000143.svs_130cols_107rows.csv\n",
      "Processed\n",
      "NLSI0000107.svs_100cols_81rows.csv\n",
      "Processed\n",
      "9402.svs_243cols_198rows.csv\n",
      "Processed\n",
      "NLSI0000069.svs_155cols_115rows.csv\n",
      "Processed\n",
      "11436.svs_202cols_178rows.csv\n",
      "Processed\n",
      "10505.svs_281cols_175rows.csv\n",
      "Processed\n",
      "10931.svs_217cols_185rows.csv\n",
      "Processed\n",
      "9459.svs_250cols_203rows.csv\n",
      "Processed\n",
      "NLSI0000185.svs_110cols_88rows.csv\n",
      "Processed\n",
      "11295.svs_245cols_193rows.csv\n",
      "Processed\n",
      "10862.svs_137cols_142rows.csv\n",
      "Processed\n",
      "10997.svs_267cols_184rows.csv\n",
      "Processed\n",
      "NLSI0000091.svs_150cols_112rows.csv\n",
      "Processed\n",
      "9947.svs_224cols_188rows.csv\n",
      "Processed\n",
      "9988.svs_243cols_173rows.csv\n",
      "Processed\n",
      "11389.svs_193cols_178rows.csv\n",
      "Processed\n",
      "NLSI0000184.svs_115cols_71rows.csv\n",
      "Processed\n",
      "11446.svs_221cols_159rows.csv\n",
      "Processed\n",
      "9778.svs_286cols_215rows.csv\n",
      "Processed\n",
      "11186.svs_207cols_203rows.csv\n",
      "Processed\n",
      "NLSI0000039.svs_100cols_90rows.csv\n",
      "Processed\n",
      "11218.svs_245cols_160rows.csv\n",
      "Processed\n",
      "11292.svs_193cols_190rows.csv\n",
      "Processed\n",
      "10122.svs_217cols_211rows.csv\n",
      "Processed\n",
      "9946.svs_238cols_215rows.csv\n",
      "Processed\n",
      "11460.svs_281cols_209rows.csv\n",
      "Processed\n",
      "NLSI0000240.svs_130cols_102rows.csv\n",
      "Processed\n",
      "10409.svs_349cols_204rows.csv\n",
      "Processed\n",
      "11368.svs_260cols_194rows.csv\n",
      "Processed\n",
      "10460.svs_286cols_224rows.csv\n",
      "Processed\n",
      "11106.svs_171cols_196rows.csv\n",
      "Processed\n",
      "11323.svs_269cols_169rows.csv\n",
      "Processed\n",
      "9532.svs_358cols_215rows.csv\n",
      "Processed\n",
      "10938.svs_260cols_177rows.csv\n",
      "Processed\n",
      "NLSI0000291.svs_135cols_106rows.csv\n",
      "Processed\n",
      "11279.svs_188cols_196rows.csv\n",
      "Processed\n",
      "10171.svs_164cols_105rows.csv\n",
      "Processed\n",
      "10128.svs_178cols_57rows.csv\n",
      "Processed\n",
      "11445.svs_221cols_208rows.csv\n",
      "Processed\n",
      "NLSI0000229.svs_95cols_106rows.csv\n",
      "Processed\n",
      "11788.svs_303cols_210rows.csv\n",
      "Processed\n",
      "9546.svs_195cols_180rows.csv\n",
      "Processed\n",
      "11030.svs_291cols_210rows.csv\n",
      "Processed\n",
      "10384.svs_137cols_109rows.csv\n",
      "Processed\n",
      "NLSI0000090.svs_130cols_99rows.csv\n",
      "Processed\n",
      "NLSI0000134.svs_145cols_74rows.csv\n",
      "Processed\n",
      "11293.svs_221cols_175rows.csv\n",
      "Processed\n",
      "11038.svs_212cols_191rows.csv\n",
      "Processed\n",
      "11313.svs_185cols_127rows.csv\n",
      "Processed\n",
      "NLSI0000277.svs_105cols_86rows.csv\n",
      "Processed\n",
      "10878.svs_296cols_206rows.csv\n",
      "Processed\n",
      "11043.svs_301cols_202rows.csv\n",
      "Processed\n",
      "10994.svs_269cols_143rows.csv\n",
      "Processed\n",
      "10400.svs_248cols_159rows.csv\n",
      "Processed\n",
      "NLSI0000055.svs_145cols_89rows.csv\n",
      "Processed\n",
      "11352.svs_260cols_205rows.csv\n",
      "Processed\n",
      "10674.svs_164cols_162rows.csv\n",
      "Processed\n",
      "11432.svs_188cols_210rows.csv\n",
      "Processed\n",
      "9401.svs_159cols_178rows.csv\n",
      "Processed\n",
      "9496.svs_260cols_215rows.csv\n",
      "Processed\n",
      "9550.svs_277cols_202rows.csv\n",
      "Processed\n",
      "10939.svs_277cols_209rows.csv\n",
      "Processed\n",
      "9966.svs_286cols_209rows.csv\n",
      "Processed\n",
      "NLSI0000025.svs_125cols_106rows.csv\n",
      "Processed\n",
      "NLSI0000152.svs_115cols_76rows.csv\n",
      "Processed\n",
      "10485.svs_238cols_171rows.csv\n",
      "Processed\n",
      "11253.svs_212cols_185rows.csv\n",
      "Processed\n",
      "NLSI0000227.svs_120cols_85rows.csv\n",
      "Processed\n",
      "11351.svs_277cols_210rows.csv\n",
      "Processed\n",
      "9665.svs_181cols_136rows.csv\n",
      "Processed\n",
      "9465.svs_207cols_180rows.csv\n",
      "Processed\n",
      "NLSI0000151.svs_125cols_83rows.csv\n",
      "Processed\n",
      "9548.svs_190cols_187rows.csv\n",
      "Processed\n",
      "10508.svs_250cols_198rows.csv\n",
      "Processed\n",
      "10905.svs_277cols_206rows.csv\n",
      "Processed\n",
      "11033.svs_212cols_152rows.csv\n",
      "Processed\n",
      "9737.svs_221cols_186rows.csv\n",
      "Processed\n",
      "10514.svs_217cols_196rows.csv\n",
      "Processed\n",
      "11463.svs_135cols_124rows.csv\n",
      "Processed\n",
      "10860.svs_260cols_210rows.csv\n",
      "Processed\n",
      "11233.svs_250cols_205rows.csv\n",
      "Processed\n",
      "11188.svs_310cols_210rows.csv\n",
      "Processed\n",
      "NLSI0000026.svs_105cols_98rows.csv\n",
      "Processed\n",
      "10901.svs_157cols_131rows.csv\n",
      "Processed\n",
      "10497.svs_181cols_192rows.csv\n",
      "Processed\n",
      "NLSI0000104.svs_130cols_89rows.csv\n",
      "Processed\n",
      "11010.svs_209cols_182rows.csv\n",
      "Processed\n",
      "NLSI0000077.svs_140cols_98rows.csv\n",
      "Processed\n",
      "11240.svs_236cols_210rows.csv\n",
      "Processed\n",
      "NLSI0000068.svs_105cols_87rows.csv\n",
      "Processed\n",
      "11280.svs_169cols_206rows.csv\n",
      "Processed\n",
      "10894.svs_197cols_201rows.csv\n",
      "Processed\n",
      "10639.svs_229cols_208rows.csv\n",
      "Processed\n",
      "11031.svs_274cols_207rows.csv\n",
      "Processed\n",
      "NLSI0000078.svs_110cols_115rows.csv\n",
      "Processed\n",
      "NLSI0000224.svs_105cols_105rows.csv\n",
      "Processed\n",
      "11456.svs_197cols_186rows.csv\n",
      "Processed\n",
      "NLSI0000131.svs_140cols_95rows.csv\n",
      "Processed\n",
      "10881.svs_281cols_194rows.csv\n",
      "Processed\n",
      "10934.svs_229cols_168rows.csv\n",
      "Processed\n",
      "10492.svs_169cols_194rows.csv\n",
      "Processed\n",
      "NLSI0000290.svs_130cols_96rows.csv\n",
      "Processed\n",
      "NLSI0000174.svs_80cols_83rows.csv\n",
      "Processed\n",
      "NLSI0000231.svs_145cols_117rows.csv\n",
      "Processed\n",
      "10995.svs_238cols_196rows.csv\n",
      "Processed\n",
      "11429.svs_130cols_176rows.csv\n",
      "Processed\n",
      "NLSI0000126.svs_125cols_101rows.csv\n",
      "Processed\n",
      "NLSI0000270.svs_120cols_119rows.csv\n",
      "Processed\n",
      "10382.svs_301cols_202rows.csv\n",
      "Processed\n",
      "NLSI0000186.svs_115cols_81rows.csv\n",
      "Processed\n",
      "9740.svs_281cols_215rows.csv\n",
      "Processed\n",
      "10127.svs_313cols_224rows.csv\n",
      "Processed\n",
      "9468.svs_241cols_158rows.csv\n",
      "Processed\n",
      "10381.svs_226cols_204rows.csv\n",
      "Processed\n",
      "10419.svs_231cols_201rows.csv\n",
      "Processed\n",
      "10999.svs_267cols_210rows.csv\n",
      "Processed\n",
      "9461.svs_147cols_77rows.csv\n",
      "Processed\n",
      "11346.svs_332cols_210rows.csv\n",
      "Processed\n",
      "11786.svs_80cols_77rows.csv\n",
      "Processed\n",
      "11249.svs_221cols_160rows.csv\n",
      "Processed\n",
      "NLSI0000269.svs_155cols_111rows.csv\n",
      "Processed\n",
      "10904.svs_269cols_209rows.csv\n",
      "Processed\n",
      "11128.svs_245cols_175rows.csv\n",
      "Processed\n",
      "NLSI0000260.svs_140cols_78rows.csv\n",
      "Processed\n",
      "9689.svs_229cols_155rows.csv\n",
      "Processed\n",
      "10126.svs_193cols_200rows.csv\n",
      "Processed\n",
      "11364.svs_238cols_168rows.csv\n",
      "Processed\n",
      "10443.svs_221cols_224rows.csv\n",
      "Processed\n",
      "NLSI0000029.svs_135cols_110rows.csv\n",
      "Processed\n",
      "NLSI0000086.svs_155cols_105rows.csv\n",
      "Processed\n",
      "11787.svs_349cols_203rows.csv\n",
      "Processed\n",
      "11229.svs_291cols_189rows.csv\n",
      "Processed\n",
      "NLSI0000111.svs_135cols_99rows.csv\n",
      "Processed\n",
      "10408.svs_291cols_208rows.csv\n",
      "Processed\n",
      "10987.svs_197cols_160rows.csv\n",
      "Processed\n",
      "11296.svs_238cols_170rows.csv\n",
      "Processed\n",
      "10494.svs_171cols_123rows.csv\n",
      "Processed\n",
      "9530.svs_356cols_215rows.csv\n",
      "Processed\n",
      "10136.svs_142cols_163rows.csv\n",
      "Processed\n",
      "10027.svs_87cols_71rows.csv\n",
      "Processed\n",
      "11192.svs_291cols_210rows.csv\n",
      "Processed\n",
      "9543.svs_313cols_186rows.csv\n",
      "Processed\n",
      "11377.svs_130cols_131rows.csv\n",
      "Processed\n",
      "10851.svs_298cols_210rows.csv\n",
      "Processed\n",
      "NLSI0000100.svs_50cols_62rows.csv\n",
      "Processed\n",
      "9723.svs_236cols_191rows.csv\n",
      "Processed\n",
      "10872.svs_164cols_158rows.csv\n",
      "Processed\n",
      "11112.svs_169cols_164rows.csv\n",
      "Processed\n",
      "9390.svs_301cols_215rows.csv\n",
      "Processed\n",
      "11048.svs_286cols_210rows.csv\n",
      "Processed\n",
      "11388.svs_178cols_190rows.csv\n",
      "Processed\n",
      "9747.svs_370cols_215rows.csv\n",
      "Processed\n",
      "NLSI0000101.svs_130cols_105rows.csv\n",
      "Processed\n",
      "9746.svs_267cols_209rows.csv\n",
      "Processed\n",
      "10499.svs_171cols_155rows.csv\n",
      "Processed\n",
      "11252.svs_70cols_65rows.csv\n",
      "Processed\n",
      "11372.svs_267cols_210rows.csv\n",
      "Processed\n",
      "11234.svs_277cols_193rows.csv\n",
      "Processed\n",
      "9463.svs_260cols_180rows.csv\n",
      "Processed\n",
      "9474.svs_248cols_153rows.csv\n",
      "Processed\n",
      "NLSI0000046.svs_155cols_111rows.csv\n",
      "Processed\n",
      "11107.svs_253cols_182rows.csv\n",
      "Processed\n",
      "9475.svs_241cols_205rows.csv\n",
      "Processed\n",
      "10988.svs_181cols_167rows.csv\n",
      "Processed\n",
      "9777.svs_272cols_215rows.csv\n",
      "Processed\n",
      "9706.svs_277cols_206rows.csv\n",
      "Processed\n",
      "10374.svs_334cols_188rows.csv\n",
      "Processed\n",
      "NLSI0000155.svs_130cols_77rows.csv\n",
      "Processed\n",
      "9776.svs_253cols_210rows.csv\n",
      "Processed\n",
      "9965.svs_243cols_177rows.csv\n",
      "Processed\n",
      "11455.svs_332cols_206rows.csv\n",
      "Processed\n",
      "11122.svs_243cols_158rows.csv\n",
      "Processed\n",
      "NLSI0000070.svs_95cols_115rows.csv\n",
      "Processed\n",
      "NLSI0000045.svs_135cols_78rows.csv\n",
      "Processed\n",
      "9741.svs_322cols_215rows.csv\n",
      "Processed\n"
     ]
    },
    {
     "name": "stderr",
     "output_type": "stream",
     "text": [
      "\n"
     ]
    }
   ],
   "source": [
    "from tqdm import tqdm\n",
    "import glob\n",
    "paga_outdir = \"outputs/6_WSI_pseudotime_phikon_224_nlst\"\n",
    "feature_files = glob.glob('./outputs/3_WSI_image_feature_phikon_224_NLST/*.{}'.format('csv'))\n",
    "print(feature_files [0:1])\n",
    "\n",
    "for f in tqdm(feature_files):\n",
    "    #print(f)\n",
    "    wsi_id = f.split('/')[3]\n",
    "    print(wsi_id)\n",
    "    \n",
    "    #if wsi_id == \"11188.svs_248cols_168rows.csv\":\n",
    "        #continue ## this sample runs error when estimating pseudotime\n",
    "\n",
    "    if os.path.exists(os.path.join(paga_outdir,\"{}.h5ad\".format(wsi_id))):\n",
    "        print(\"Processed\")\n",
    "        continue \n",
    "        \n",
    "    wsi_df = pd.read_csv(f)\n",
    "    adata =  paga(wsi_df)\n",
    "    adata = lmreg(adata)\n",
    "    #adata = lasso(adata, alpha_value= 0.1)\n",
    "    #adata.obs.to_csv(os.path.join(outdir,\"{}_obs.csv\".format(wsi_id)),index=False)\n",
    "    adata.write(os.path.join(paga_outdir,\"{}.h5ad\".format(wsi_id)), compression=\"gzip\")"
   ]
  },
  {
   "cell_type": "code",
   "execution_count": 9,
   "id": "927ce887-723a-4b15-bbad-932cc7386632",
   "metadata": {},
   "outputs": [
    {
     "name": "stdout",
     "output_type": "stream",
     "text": [
      "['./outputs/6_WSI_pseudotime_phikon_224_nlst/10639.svs_229cols_208rows.csv.h5ad', './outputs/6_WSI_pseudotime_phikon_224_nlst/11038.svs_212cols_191rows.csv.h5ad'] 307\n"
     ]
    }
   ],
   "source": [
    "import glob\n",
    "paga_f = glob.glob('./outputs/6_WSI_pseudotime_phikon_224_nlst/*.{}'.format('h5ad'))\n",
    "print(paga_f[0:2],len(paga_f))\n"
   ]
  },
  {
   "cell_type": "markdown",
   "id": "03b67f48-3d7c-45de-9a4e-e6d7df40e815",
   "metadata": {},
   "source": [
    "## Calculate Speed, Shannon Diversity and Fitness####"
   ]
  },
  {
   "cell_type": "code",
   "execution_count": 69,
   "id": "5fd3fa6e-ab62-4972-902a-01938cb06de1",
   "metadata": {},
   "outputs": [
    {
     "name": "stdout",
     "output_type": "stream",
     "text": [
      "pred_class\n",
      "1    7129\n",
      "2    5683\n",
      "0     572\n",
      "3      26\n",
      "Name: count, dtype: int64\n"
     ]
    },
    {
     "data": {
      "text/plain": [
       "pred_class\n",
       "1    7129\n",
       "4    6294\n",
       "2    5683\n",
       "0     572\n",
       "3      26\n",
       "Name: count, dtype: int64"
      ]
     },
     "execution_count": 69,
     "metadata": {},
     "output_type": "execute_result"
    }
   ],
   "source": [
    "\n",
    "adata = ad.read_h5ad(paga_f[0])\n",
    "print(adata.obs[adata.obs['pred_class'].isin([0,1,2,3])][\"pred_class\"].value_counts())\n",
    "adata.obs[\"pred_class\"].value_counts()"
   ]
  },
  {
   "cell_type": "code",
   "execution_count": 119,
   "id": "7aac9cca-5e8f-4821-8f50-6042c90b236f",
   "metadata": {},
   "outputs": [
    {
     "name": "stderr",
     "output_type": "stream",
     "text": [
      "  0%|          | 0/307 [00:00<?, ?it/s]"
     ]
    },
    {
     "name": "stdout",
     "output_type": "stream",
     "text": [
      "10639.svs_229cols_208rows.csv.h5ad\n"
     ]
    },
    {
     "name": "stderr",
     "output_type": "stream",
     "text": [
      "/tmp/ipykernel_291422/3061493562.py:22: FutureWarning: The default of observed=False is deprecated and will be changed to True in a future version of pandas. Pass observed=False to retain current behavior or observed=True to adopt the future default and silence this warning.\n",
      "  df['norm_col'] = adata.obs.groupby(['leiden','pred_class'])['n_col'].mean()/n_cols\n",
      "/tmp/ipykernel_291422/3061493562.py:23: FutureWarning: The default of observed=False is deprecated and will be changed to True in a future version of pandas. Pass observed=False to retain current behavior or observed=True to adopt the future default and silence this warning.\n",
      "  df['norm_row'] = adata.obs.groupby(['leiden','pred_class'])['n_row'].mean()/n_rows\n",
      "/tmp/ipykernel_291422/3061493562.py:24: FutureWarning: The default of observed=False is deprecated and will be changed to True in a future version of pandas. Pass observed=False to retain current behavior or observed=True to adopt the future default and silence this warning.\n",
      "  df['dpt_pesudotime'] = adata.obs.groupby(['leiden','pred_class'])['dpt_pseudotime'].mean()\n",
      "  0%|          | 1/307 [00:01<07:51,  1.54s/it]"
     ]
    },
    {
     "name": "stdout",
     "output_type": "stream",
     "text": [
      "10639.svs_229cols_208rows.csv.h5ad speed :23029.989234064695\n",
      "11038.svs_212cols_191rows.csv.h5ad\n"
     ]
    },
    {
     "name": "stderr",
     "output_type": "stream",
     "text": [
      "/tmp/ipykernel_291422/3061493562.py:22: FutureWarning: The default of observed=False is deprecated and will be changed to True in a future version of pandas. Pass observed=False to retain current behavior or observed=True to adopt the future default and silence this warning.\n",
      "  df['norm_col'] = adata.obs.groupby(['leiden','pred_class'])['n_col'].mean()/n_cols\n",
      "/tmp/ipykernel_291422/3061493562.py:23: FutureWarning: The default of observed=False is deprecated and will be changed to True in a future version of pandas. Pass observed=False to retain current behavior or observed=True to adopt the future default and silence this warning.\n",
      "  df['norm_row'] = adata.obs.groupby(['leiden','pred_class'])['n_row'].mean()/n_rows\n",
      "/tmp/ipykernel_291422/3061493562.py:24: FutureWarning: The default of observed=False is deprecated and will be changed to True in a future version of pandas. Pass observed=False to retain current behavior or observed=True to adopt the future default and silence this warning.\n",
      "  df['dpt_pesudotime'] = adata.obs.groupby(['leiden','pred_class'])['dpt_pseudotime'].mean()\n",
      "  1%|          | 2/307 [00:03<08:15,  1.63s/it]"
     ]
    },
    {
     "name": "stdout",
     "output_type": "stream",
     "text": [
      "11038.svs_212cols_191rows.csv.h5ad speed :2615.497027586975\n",
      "11259.svs_128cols_158rows.csv.h5ad\n"
     ]
    },
    {
     "name": "stderr",
     "output_type": "stream",
     "text": [
      "/tmp/ipykernel_291422/3061493562.py:22: FutureWarning: The default of observed=False is deprecated and will be changed to True in a future version of pandas. Pass observed=False to retain current behavior or observed=True to adopt the future default and silence this warning.\n",
      "  df['norm_col'] = adata.obs.groupby(['leiden','pred_class'])['n_col'].mean()/n_cols\n",
      "/tmp/ipykernel_291422/3061493562.py:23: FutureWarning: The default of observed=False is deprecated and will be changed to True in a future version of pandas. Pass observed=False to retain current behavior or observed=True to adopt the future default and silence this warning.\n",
      "  df['norm_row'] = adata.obs.groupby(['leiden','pred_class'])['n_row'].mean()/n_rows\n",
      "/tmp/ipykernel_291422/3061493562.py:24: FutureWarning: The default of observed=False is deprecated and will be changed to True in a future version of pandas. Pass observed=False to retain current behavior or observed=True to adopt the future default and silence this warning.\n",
      "  df['dpt_pesudotime'] = adata.obs.groupby(['leiden','pred_class'])['dpt_pseudotime'].mean()\n",
      "  1%|          | 3/307 [00:04<06:54,  1.36s/it]"
     ]
    },
    {
     "name": "stdout",
     "output_type": "stream",
     "text": [
      "11259.svs_128cols_158rows.csv.h5ad speed :8011.4826888835805\n",
      "NLSI0000070.svs_95cols_115rows.csv.h5ad\n"
     ]
    },
    {
     "name": "stderr",
     "output_type": "stream",
     "text": [
      "/tmp/ipykernel_291422/3061493562.py:22: FutureWarning: The default of observed=False is deprecated and will be changed to True in a future version of pandas. Pass observed=False to retain current behavior or observed=True to adopt the future default and silence this warning.\n",
      "  df['norm_col'] = adata.obs.groupby(['leiden','pred_class'])['n_col'].mean()/n_cols\n",
      "/tmp/ipykernel_291422/3061493562.py:23: FutureWarning: The default of observed=False is deprecated and will be changed to True in a future version of pandas. Pass observed=False to retain current behavior or observed=True to adopt the future default and silence this warning.\n",
      "  df['norm_row'] = adata.obs.groupby(['leiden','pred_class'])['n_row'].mean()/n_rows\n",
      "/tmp/ipykernel_291422/3061493562.py:24: FutureWarning: The default of observed=False is deprecated and will be changed to True in a future version of pandas. Pass observed=False to retain current behavior or observed=True to adopt the future default and silence this warning.\n",
      "  df['dpt_pesudotime'] = adata.obs.groupby(['leiden','pred_class'])['dpt_pseudotime'].mean()\n",
      "  1%|▏         | 4/307 [00:04<05:21,  1.06s/it]"
     ]
    },
    {
     "name": "stdout",
     "output_type": "stream",
     "text": [
      "NLSI0000070.svs_95cols_115rows.csv.h5ad speed :11244.466080659526\n",
      "NLSI0000231.svs_145cols_117rows.csv.h5ad\n"
     ]
    },
    {
     "name": "stderr",
     "output_type": "stream",
     "text": [
      "/tmp/ipykernel_291422/3061493562.py:22: FutureWarning: The default of observed=False is deprecated and will be changed to True in a future version of pandas. Pass observed=False to retain current behavior or observed=True to adopt the future default and silence this warning.\n",
      "  df['norm_col'] = adata.obs.groupby(['leiden','pred_class'])['n_col'].mean()/n_cols\n",
      "/tmp/ipykernel_291422/3061493562.py:23: FutureWarning: The default of observed=False is deprecated and will be changed to True in a future version of pandas. Pass observed=False to retain current behavior or observed=True to adopt the future default and silence this warning.\n",
      "  df['norm_row'] = adata.obs.groupby(['leiden','pred_class'])['n_row'].mean()/n_rows\n",
      "/tmp/ipykernel_291422/3061493562.py:24: FutureWarning: The default of observed=False is deprecated and will be changed to True in a future version of pandas. Pass observed=False to retain current behavior or observed=True to adopt the future default and silence this warning.\n",
      "  df['dpt_pesudotime'] = adata.obs.groupby(['leiden','pred_class'])['dpt_pseudotime'].mean()\n",
      "  2%|▏         | 5/307 [00:05<04:51,  1.04it/s]"
     ]
    },
    {
     "name": "stdout",
     "output_type": "stream",
     "text": [
      "NLSI0000231.svs_145cols_117rows.csv.h5ad speed :6196.3455937629005\n",
      "11333.svs_267cols_210rows.csv.h5ad\n"
     ]
    },
    {
     "name": "stderr",
     "output_type": "stream",
     "text": [
      "/tmp/ipykernel_291422/3061493562.py:22: FutureWarning: The default of observed=False is deprecated and will be changed to True in a future version of pandas. Pass observed=False to retain current behavior or observed=True to adopt the future default and silence this warning.\n",
      "  df['norm_col'] = adata.obs.groupby(['leiden','pred_class'])['n_col'].mean()/n_cols\n",
      "/tmp/ipykernel_291422/3061493562.py:23: FutureWarning: The default of observed=False is deprecated and will be changed to True in a future version of pandas. Pass observed=False to retain current behavior or observed=True to adopt the future default and silence this warning.\n",
      "  df['norm_row'] = adata.obs.groupby(['leiden','pred_class'])['n_row'].mean()/n_rows\n",
      "/tmp/ipykernel_291422/3061493562.py:24: FutureWarning: The default of observed=False is deprecated and will be changed to True in a future version of pandas. Pass observed=False to retain current behavior or observed=True to adopt the future default and silence this warning.\n",
      "  df['dpt_pesudotime'] = adata.obs.groupby(['leiden','pred_class'])['dpt_pseudotime'].mean()\n",
      "  2%|▏         | 6/307 [00:07<06:18,  1.26s/it]"
     ]
    },
    {
     "name": "stdout",
     "output_type": "stream",
     "text": [
      "11333.svs_267cols_210rows.csv.h5ad speed :8090.729434088473\n",
      "9980.svs_183cols_100rows.csv.h5ad\n"
     ]
    },
    {
     "name": "stderr",
     "output_type": "stream",
     "text": [
      "/tmp/ipykernel_291422/3061493562.py:22: FutureWarning: The default of observed=False is deprecated and will be changed to True in a future version of pandas. Pass observed=False to retain current behavior or observed=True to adopt the future default and silence this warning.\n",
      "  df['norm_col'] = adata.obs.groupby(['leiden','pred_class'])['n_col'].mean()/n_cols\n",
      "/tmp/ipykernel_291422/3061493562.py:23: FutureWarning: The default of observed=False is deprecated and will be changed to True in a future version of pandas. Pass observed=False to retain current behavior or observed=True to adopt the future default and silence this warning.\n",
      "  df['norm_row'] = adata.obs.groupby(['leiden','pred_class'])['n_row'].mean()/n_rows\n",
      "/tmp/ipykernel_291422/3061493562.py:24: FutureWarning: The default of observed=False is deprecated and will be changed to True in a future version of pandas. Pass observed=False to retain current behavior or observed=True to adopt the future default and silence this warning.\n",
      "  df['dpt_pesudotime'] = adata.obs.groupby(['leiden','pred_class'])['dpt_pseudotime'].mean()\n",
      "  2%|▏         | 7/307 [00:08<05:10,  1.03s/it]"
     ]
    },
    {
     "name": "stdout",
     "output_type": "stream",
     "text": [
      "9980.svs_183cols_100rows.csv.h5ad speed :8129.162679972028\n",
      "10126.svs_193cols_200rows.csv.h5ad\n"
     ]
    },
    {
     "name": "stderr",
     "output_type": "stream",
     "text": [
      "/tmp/ipykernel_291422/3061493562.py:22: FutureWarning: The default of observed=False is deprecated and will be changed to True in a future version of pandas. Pass observed=False to retain current behavior or observed=True to adopt the future default and silence this warning.\n",
      "  df['norm_col'] = adata.obs.groupby(['leiden','pred_class'])['n_col'].mean()/n_cols\n",
      "/tmp/ipykernel_291422/3061493562.py:23: FutureWarning: The default of observed=False is deprecated and will be changed to True in a future version of pandas. Pass observed=False to retain current behavior or observed=True to adopt the future default and silence this warning.\n",
      "  df['norm_row'] = adata.obs.groupby(['leiden','pred_class'])['n_row'].mean()/n_rows\n",
      "/tmp/ipykernel_291422/3061493562.py:24: FutureWarning: The default of observed=False is deprecated and will be changed to True in a future version of pandas. Pass observed=False to retain current behavior or observed=True to adopt the future default and silence this warning.\n",
      "  df['dpt_pesudotime'] = adata.obs.groupby(['leiden','pred_class'])['dpt_pseudotime'].mean()\n",
      "  3%|▎         | 8/307 [00:09<05:53,  1.18s/it]"
     ]
    },
    {
     "name": "stdout",
     "output_type": "stream",
     "text": [
      "10126.svs_193cols_200rows.csv.h5ad speed :12932.198816140564\n",
      "11433.svs_217cols_210rows.csv.h5ad\n"
     ]
    },
    {
     "name": "stderr",
     "output_type": "stream",
     "text": [
      "/tmp/ipykernel_291422/3061493562.py:22: FutureWarning: The default of observed=False is deprecated and will be changed to True in a future version of pandas. Pass observed=False to retain current behavior or observed=True to adopt the future default and silence this warning.\n",
      "  df['norm_col'] = adata.obs.groupby(['leiden','pred_class'])['n_col'].mean()/n_cols\n",
      "/tmp/ipykernel_291422/3061493562.py:23: FutureWarning: The default of observed=False is deprecated and will be changed to True in a future version of pandas. Pass observed=False to retain current behavior or observed=True to adopt the future default and silence this warning.\n",
      "  df['norm_row'] = adata.obs.groupby(['leiden','pred_class'])['n_row'].mean()/n_rows\n",
      "/tmp/ipykernel_291422/3061493562.py:24: FutureWarning: The default of observed=False is deprecated and will be changed to True in a future version of pandas. Pass observed=False to retain current behavior or observed=True to adopt the future default and silence this warning.\n",
      "  df['dpt_pesudotime'] = adata.obs.groupby(['leiden','pred_class'])['dpt_pseudotime'].mean()\n",
      "  3%|▎         | 9/307 [00:11<06:51,  1.38s/it]"
     ]
    },
    {
     "name": "stdout",
     "output_type": "stream",
     "text": [
      "11433.svs_217cols_210rows.csv.h5ad speed :5776.787651533796\n",
      "9546.svs_195cols_180rows.csv.h5ad\n"
     ]
    },
    {
     "name": "stderr",
     "output_type": "stream",
     "text": [
      "/tmp/ipykernel_291422/3061493562.py:22: FutureWarning: The default of observed=False is deprecated and will be changed to True in a future version of pandas. Pass observed=False to retain current behavior or observed=True to adopt the future default and silence this warning.\n",
      "  df['norm_col'] = adata.obs.groupby(['leiden','pred_class'])['n_col'].mean()/n_cols\n",
      "/tmp/ipykernel_291422/3061493562.py:23: FutureWarning: The default of observed=False is deprecated and will be changed to True in a future version of pandas. Pass observed=False to retain current behavior or observed=True to adopt the future default and silence this warning.\n",
      "  df['norm_row'] = adata.obs.groupby(['leiden','pred_class'])['n_row'].mean()/n_rows\n",
      "/tmp/ipykernel_291422/3061493562.py:24: FutureWarning: The default of observed=False is deprecated and will be changed to True in a future version of pandas. Pass observed=False to retain current behavior or observed=True to adopt the future default and silence this warning.\n",
      "  df['dpt_pesudotime'] = adata.obs.groupby(['leiden','pred_class'])['dpt_pseudotime'].mean()\n",
      "  3%|▎         | 10/307 [00:12<06:24,  1.29s/it]"
     ]
    },
    {
     "name": "stdout",
     "output_type": "stream",
     "text": [
      "9546.svs_195cols_180rows.csv.h5ad speed :5922.412939105846\n",
      "NLSI0000198.svs_160cols_99rows.csv.h5ad\n"
     ]
    },
    {
     "name": "stderr",
     "output_type": "stream",
     "text": [
      "/tmp/ipykernel_291422/3061493562.py:22: FutureWarning: The default of observed=False is deprecated and will be changed to True in a future version of pandas. Pass observed=False to retain current behavior or observed=True to adopt the future default and silence this warning.\n",
      "  df['norm_col'] = adata.obs.groupby(['leiden','pred_class'])['n_col'].mean()/n_cols\n",
      "/tmp/ipykernel_291422/3061493562.py:23: FutureWarning: The default of observed=False is deprecated and will be changed to True in a future version of pandas. Pass observed=False to retain current behavior or observed=True to adopt the future default and silence this warning.\n",
      "  df['norm_row'] = adata.obs.groupby(['leiden','pred_class'])['n_row'].mean()/n_rows\n",
      "/tmp/ipykernel_291422/3061493562.py:24: FutureWarning: The default of observed=False is deprecated and will be changed to True in a future version of pandas. Pass observed=False to retain current behavior or observed=True to adopt the future default and silence this warning.\n",
      "  df['dpt_pesudotime'] = adata.obs.groupby(['leiden','pred_class'])['dpt_pseudotime'].mean()\n",
      "  4%|▎         | 11/307 [00:13<05:19,  1.08s/it]"
     ]
    },
    {
     "name": "stdout",
     "output_type": "stream",
     "text": [
      "NLSI0000198.svs_160cols_99rows.csv.h5ad speed :15140.989401868339\n",
      "10674.svs_164cols_162rows.csv.h5ad\n"
     ]
    },
    {
     "name": "stderr",
     "output_type": "stream",
     "text": [
      "/tmp/ipykernel_291422/3061493562.py:22: FutureWarning: The default of observed=False is deprecated and will be changed to True in a future version of pandas. Pass observed=False to retain current behavior or observed=True to adopt the future default and silence this warning.\n",
      "  df['norm_col'] = adata.obs.groupby(['leiden','pred_class'])['n_col'].mean()/n_cols\n",
      "/tmp/ipykernel_291422/3061493562.py:23: FutureWarning: The default of observed=False is deprecated and will be changed to True in a future version of pandas. Pass observed=False to retain current behavior or observed=True to adopt the future default and silence this warning.\n",
      "  df['norm_row'] = adata.obs.groupby(['leiden','pred_class'])['n_row'].mean()/n_rows\n",
      "/tmp/ipykernel_291422/3061493562.py:24: FutureWarning: The default of observed=False is deprecated and will be changed to True in a future version of pandas. Pass observed=False to retain current behavior or observed=True to adopt the future default and silence this warning.\n",
      "  df['dpt_pesudotime'] = adata.obs.groupby(['leiden','pred_class'])['dpt_pseudotime'].mean()\n",
      "  4%|▍         | 12/307 [00:13<04:59,  1.01s/it]"
     ]
    },
    {
     "name": "stdout",
     "output_type": "stream",
     "text": [
      "10674.svs_164cols_162rows.csv.h5ad speed :2003.3526290208106\n",
      "11455.svs_332cols_206rows.csv.h5ad\n"
     ]
    },
    {
     "name": "stderr",
     "output_type": "stream",
     "text": [
      "/tmp/ipykernel_291422/3061493562.py:22: FutureWarning: The default of observed=False is deprecated and will be changed to True in a future version of pandas. Pass observed=False to retain current behavior or observed=True to adopt the future default and silence this warning.\n",
      "  df['norm_col'] = adata.obs.groupby(['leiden','pred_class'])['n_col'].mean()/n_cols\n",
      "/tmp/ipykernel_291422/3061493562.py:23: FutureWarning: The default of observed=False is deprecated and will be changed to True in a future version of pandas. Pass observed=False to retain current behavior or observed=True to adopt the future default and silence this warning.\n",
      "  df['norm_row'] = adata.obs.groupby(['leiden','pred_class'])['n_row'].mean()/n_rows\n",
      "/tmp/ipykernel_291422/3061493562.py:24: FutureWarning: The default of observed=False is deprecated and will be changed to True in a future version of pandas. Pass observed=False to retain current behavior or observed=True to adopt the future default and silence this warning.\n",
      "  df['dpt_pesudotime'] = adata.obs.groupby(['leiden','pred_class'])['dpt_pseudotime'].mean()\n",
      "  4%|▍         | 13/307 [00:16<06:37,  1.35s/it]"
     ]
    },
    {
     "name": "stdout",
     "output_type": "stream",
     "text": [
      "11455.svs_332cols_206rows.csv.h5ad speed :160801.0086829999\n",
      "10419.svs_231cols_201rows.csv.h5ad\n"
     ]
    },
    {
     "name": "stderr",
     "output_type": "stream",
     "text": [
      "/tmp/ipykernel_291422/3061493562.py:22: FutureWarning: The default of observed=False is deprecated and will be changed to True in a future version of pandas. Pass observed=False to retain current behavior or observed=True to adopt the future default and silence this warning.\n",
      "  df['norm_col'] = adata.obs.groupby(['leiden','pred_class'])['n_col'].mean()/n_cols\n",
      "/tmp/ipykernel_291422/3061493562.py:23: FutureWarning: The default of observed=False is deprecated and will be changed to True in a future version of pandas. Pass observed=False to retain current behavior or observed=True to adopt the future default and silence this warning.\n",
      "  df['norm_row'] = adata.obs.groupby(['leiden','pred_class'])['n_row'].mean()/n_rows\n",
      "/tmp/ipykernel_291422/3061493562.py:24: FutureWarning: The default of observed=False is deprecated and will be changed to True in a future version of pandas. Pass observed=False to retain current behavior or observed=True to adopt the future default and silence this warning.\n",
      "  df['dpt_pesudotime'] = adata.obs.groupby(['leiden','pred_class'])['dpt_pseudotime'].mean()\n",
      "  5%|▍         | 14/307 [00:17<07:25,  1.52s/it]"
     ]
    },
    {
     "name": "stdout",
     "output_type": "stream",
     "text": [
      "10419.svs_231cols_201rows.csv.h5ad speed :13726.137564369328\n",
      "NLSI0000260.svs_140cols_78rows.csv.h5ad\n"
     ]
    },
    {
     "name": "stderr",
     "output_type": "stream",
     "text": [
      "/tmp/ipykernel_291422/3061493562.py:22: FutureWarning: The default of observed=False is deprecated and will be changed to True in a future version of pandas. Pass observed=False to retain current behavior or observed=True to adopt the future default and silence this warning.\n",
      "  df['norm_col'] = adata.obs.groupby(['leiden','pred_class'])['n_col'].mean()/n_cols\n",
      "/tmp/ipykernel_291422/3061493562.py:23: FutureWarning: The default of observed=False is deprecated and will be changed to True in a future version of pandas. Pass observed=False to retain current behavior or observed=True to adopt the future default and silence this warning.\n",
      "  df['norm_row'] = adata.obs.groupby(['leiden','pred_class'])['n_row'].mean()/n_rows\n",
      "/tmp/ipykernel_291422/3061493562.py:24: FutureWarning: The default of observed=False is deprecated and will be changed to True in a future version of pandas. Pass observed=False to retain current behavior or observed=True to adopt the future default and silence this warning.\n",
      "  df['dpt_pesudotime'] = adata.obs.groupby(['leiden','pred_class'])['dpt_pseudotime'].mean()\n",
      "  5%|▍         | 15/307 [00:18<06:04,  1.25s/it]"
     ]
    },
    {
     "name": "stdout",
     "output_type": "stream",
     "text": [
      "NLSI0000260.svs_140cols_78rows.csv.h5ad speed :3789.96082710679\n",
      "9482.svs_260cols_189rows.csv.h5ad\n"
     ]
    },
    {
     "name": "stderr",
     "output_type": "stream",
     "text": [
      "/tmp/ipykernel_291422/3061493562.py:22: FutureWarning: The default of observed=False is deprecated and will be changed to True in a future version of pandas. Pass observed=False to retain current behavior or observed=True to adopt the future default and silence this warning.\n",
      "  df['norm_col'] = adata.obs.groupby(['leiden','pred_class'])['n_col'].mean()/n_cols\n",
      "/tmp/ipykernel_291422/3061493562.py:23: FutureWarning: The default of observed=False is deprecated and will be changed to True in a future version of pandas. Pass observed=False to retain current behavior or observed=True to adopt the future default and silence this warning.\n",
      "  df['norm_row'] = adata.obs.groupby(['leiden','pred_class'])['n_row'].mean()/n_rows\n",
      "/tmp/ipykernel_291422/3061493562.py:24: FutureWarning: The default of observed=False is deprecated and will be changed to True in a future version of pandas. Pass observed=False to retain current behavior or observed=True to adopt the future default and silence this warning.\n",
      "  df['dpt_pesudotime'] = adata.obs.groupby(['leiden','pred_class'])['dpt_pseudotime'].mean()\n",
      "  5%|▌         | 16/307 [00:20<07:12,  1.49s/it]"
     ]
    },
    {
     "name": "stdout",
     "output_type": "stream",
     "text": [
      "9482.svs_260cols_189rows.csv.h5ad speed :5281.387686148928\n",
      "10122.svs_217cols_211rows.csv.h5ad\n"
     ]
    },
    {
     "name": "stderr",
     "output_type": "stream",
     "text": [
      "/tmp/ipykernel_291422/3061493562.py:22: FutureWarning: The default of observed=False is deprecated and will be changed to True in a future version of pandas. Pass observed=False to retain current behavior or observed=True to adopt the future default and silence this warning.\n",
      "  df['norm_col'] = adata.obs.groupby(['leiden','pred_class'])['n_col'].mean()/n_cols\n",
      "/tmp/ipykernel_291422/3061493562.py:23: FutureWarning: The default of observed=False is deprecated and will be changed to True in a future version of pandas. Pass observed=False to retain current behavior or observed=True to adopt the future default and silence this warning.\n",
      "  df['norm_row'] = adata.obs.groupby(['leiden','pred_class'])['n_row'].mean()/n_rows\n",
      "/tmp/ipykernel_291422/3061493562.py:24: FutureWarning: The default of observed=False is deprecated and will be changed to True in a future version of pandas. Pass observed=False to retain current behavior or observed=True to adopt the future default and silence this warning.\n",
      "  df['dpt_pesudotime'] = adata.obs.groupby(['leiden','pred_class'])['dpt_pseudotime'].mean()\n",
      "  6%|▌         | 17/307 [00:22<07:46,  1.61s/it]"
     ]
    },
    {
     "name": "stdout",
     "output_type": "stream",
     "text": [
      "10122.svs_217cols_211rows.csv.h5ad speed :4842.804407661439\n",
      "9496.svs_260cols_215rows.csv.h5ad\n"
     ]
    },
    {
     "name": "stderr",
     "output_type": "stream",
     "text": [
      "/tmp/ipykernel_291422/3061493562.py:22: FutureWarning: The default of observed=False is deprecated and will be changed to True in a future version of pandas. Pass observed=False to retain current behavior or observed=True to adopt the future default and silence this warning.\n",
      "  df['norm_col'] = adata.obs.groupby(['leiden','pred_class'])['n_col'].mean()/n_cols\n",
      "/tmp/ipykernel_291422/3061493562.py:23: FutureWarning: The default of observed=False is deprecated and will be changed to True in a future version of pandas. Pass observed=False to retain current behavior or observed=True to adopt the future default and silence this warning.\n",
      "  df['norm_row'] = adata.obs.groupby(['leiden','pred_class'])['n_row'].mean()/n_rows\n",
      "/tmp/ipykernel_291422/3061493562.py:24: FutureWarning: The default of observed=False is deprecated and will be changed to True in a future version of pandas. Pass observed=False to retain current behavior or observed=True to adopt the future default and silence this warning.\n",
      "  df['dpt_pesudotime'] = adata.obs.groupby(['leiden','pred_class'])['dpt_pseudotime'].mean()\n",
      "  6%|▌         | 18/307 [00:24<08:21,  1.74s/it]"
     ]
    },
    {
     "name": "stdout",
     "output_type": "stream",
     "text": [
      "9496.svs_260cols_215rows.csv.h5ad speed :4283.42871750031\n",
      "9543.svs_313cols_186rows.csv.h5ad\n"
     ]
    },
    {
     "name": "stderr",
     "output_type": "stream",
     "text": [
      "/tmp/ipykernel_291422/3061493562.py:22: FutureWarning: The default of observed=False is deprecated and will be changed to True in a future version of pandas. Pass observed=False to retain current behavior or observed=True to adopt the future default and silence this warning.\n",
      "  df['norm_col'] = adata.obs.groupby(['leiden','pred_class'])['n_col'].mean()/n_cols\n",
      "/tmp/ipykernel_291422/3061493562.py:23: FutureWarning: The default of observed=False is deprecated and will be changed to True in a future version of pandas. Pass observed=False to retain current behavior or observed=True to adopt the future default and silence this warning.\n",
      "  df['norm_row'] = adata.obs.groupby(['leiden','pred_class'])['n_row'].mean()/n_rows\n",
      "/tmp/ipykernel_291422/3061493562.py:24: FutureWarning: The default of observed=False is deprecated and will be changed to True in a future version of pandas. Pass observed=False to retain current behavior or observed=True to adopt the future default and silence this warning.\n",
      "  df['dpt_pesudotime'] = adata.obs.groupby(['leiden','pred_class'])['dpt_pseudotime'].mean()\n",
      "  6%|▌         | 19/307 [00:26<08:19,  1.73s/it]"
     ]
    },
    {
     "name": "stdout",
     "output_type": "stream",
     "text": [
      "9543.svs_313cols_186rows.csv.h5ad speed :5108.358040152894\n",
      "11346.svs_332cols_210rows.csv.h5ad\n"
     ]
    },
    {
     "name": "stderr",
     "output_type": "stream",
     "text": [
      "/tmp/ipykernel_291422/3061493562.py:22: FutureWarning: The default of observed=False is deprecated and will be changed to True in a future version of pandas. Pass observed=False to retain current behavior or observed=True to adopt the future default and silence this warning.\n",
      "  df['norm_col'] = adata.obs.groupby(['leiden','pred_class'])['n_col'].mean()/n_cols\n",
      "/tmp/ipykernel_291422/3061493562.py:23: FutureWarning: The default of observed=False is deprecated and will be changed to True in a future version of pandas. Pass observed=False to retain current behavior or observed=True to adopt the future default and silence this warning.\n",
      "  df['norm_row'] = adata.obs.groupby(['leiden','pred_class'])['n_row'].mean()/n_rows\n",
      "/tmp/ipykernel_291422/3061493562.py:24: FutureWarning: The default of observed=False is deprecated and will be changed to True in a future version of pandas. Pass observed=False to retain current behavior or observed=True to adopt the future default and silence this warning.\n",
      "  df['dpt_pesudotime'] = adata.obs.groupby(['leiden','pred_class'])['dpt_pseudotime'].mean()\n",
      "  7%|▋         | 20/307 [00:28<08:46,  1.83s/it]"
     ]
    },
    {
     "name": "stdout",
     "output_type": "stream",
     "text": [
      "11346.svs_332cols_210rows.csv.h5ad speed :5708.693371797355\n",
      "11460.svs_281cols_209rows.csv.h5ad\n"
     ]
    },
    {
     "name": "stderr",
     "output_type": "stream",
     "text": [
      "/tmp/ipykernel_291422/3061493562.py:22: FutureWarning: The default of observed=False is deprecated and will be changed to True in a future version of pandas. Pass observed=False to retain current behavior or observed=True to adopt the future default and silence this warning.\n",
      "  df['norm_col'] = adata.obs.groupby(['leiden','pred_class'])['n_col'].mean()/n_cols\n",
      "/tmp/ipykernel_291422/3061493562.py:23: FutureWarning: The default of observed=False is deprecated and will be changed to True in a future version of pandas. Pass observed=False to retain current behavior or observed=True to adopt the future default and silence this warning.\n",
      "  df['norm_row'] = adata.obs.groupby(['leiden','pred_class'])['n_row'].mean()/n_rows\n",
      "/tmp/ipykernel_291422/3061493562.py:24: FutureWarning: The default of observed=False is deprecated and will be changed to True in a future version of pandas. Pass observed=False to retain current behavior or observed=True to adopt the future default and silence this warning.\n",
      "  df['dpt_pesudotime'] = adata.obs.groupby(['leiden','pred_class'])['dpt_pseudotime'].mean()\n",
      "  7%|▋         | 21/307 [00:29<08:11,  1.72s/it]"
     ]
    },
    {
     "name": "stdout",
     "output_type": "stream",
     "text": [
      "11460.svs_281cols_209rows.csv.h5ad speed :3727.1183845543246\n",
      "NLSI0000157.svs_80cols_71rows.csv.h5ad\n"
     ]
    },
    {
     "name": "stderr",
     "output_type": "stream",
     "text": [
      "/tmp/ipykernel_291422/3061493562.py:22: FutureWarning: The default of observed=False is deprecated and will be changed to True in a future version of pandas. Pass observed=False to retain current behavior or observed=True to adopt the future default and silence this warning.\n",
      "  df['norm_col'] = adata.obs.groupby(['leiden','pred_class'])['n_col'].mean()/n_cols\n",
      "/tmp/ipykernel_291422/3061493562.py:23: FutureWarning: The default of observed=False is deprecated and will be changed to True in a future version of pandas. Pass observed=False to retain current behavior or observed=True to adopt the future default and silence this warning.\n",
      "  df['norm_row'] = adata.obs.groupby(['leiden','pred_class'])['n_row'].mean()/n_rows\n",
      "/tmp/ipykernel_291422/3061493562.py:24: FutureWarning: The default of observed=False is deprecated and will be changed to True in a future version of pandas. Pass observed=False to retain current behavior or observed=True to adopt the future default and silence this warning.\n",
      "  df['dpt_pesudotime'] = adata.obs.groupby(['leiden','pred_class'])['dpt_pseudotime'].mean()\n",
      "  7%|▋         | 22/307 [00:30<06:24,  1.35s/it]"
     ]
    },
    {
     "name": "stdout",
     "output_type": "stream",
     "text": [
      "NLSI0000157.svs_80cols_71rows.csv.h5ad speed :6840.567894164291\n",
      "9665.svs_181cols_136rows.csv.h5ad\n"
     ]
    },
    {
     "name": "stderr",
     "output_type": "stream",
     "text": [
      "/tmp/ipykernel_291422/3061493562.py:22: FutureWarning: The default of observed=False is deprecated and will be changed to True in a future version of pandas. Pass observed=False to retain current behavior or observed=True to adopt the future default and silence this warning.\n",
      "  df['norm_col'] = adata.obs.groupby(['leiden','pred_class'])['n_col'].mean()/n_cols\n",
      "/tmp/ipykernel_291422/3061493562.py:23: FutureWarning: The default of observed=False is deprecated and will be changed to True in a future version of pandas. Pass observed=False to retain current behavior or observed=True to adopt the future default and silence this warning.\n",
      "  df['norm_row'] = adata.obs.groupby(['leiden','pred_class'])['n_row'].mean()/n_rows\n",
      "/tmp/ipykernel_291422/3061493562.py:24: FutureWarning: The default of observed=False is deprecated and will be changed to True in a future version of pandas. Pass observed=False to retain current behavior or observed=True to adopt the future default and silence this warning.\n",
      "  df['dpt_pesudotime'] = adata.obs.groupby(['leiden','pred_class'])['dpt_pseudotime'].mean()\n",
      "  7%|▋         | 23/307 [00:31<05:45,  1.22s/it]"
     ]
    },
    {
     "name": "stdout",
     "output_type": "stream",
     "text": [
      "9665.svs_181cols_136rows.csv.h5ad speed :5757.736023897508\n",
      "NLSI0000174.svs_80cols_83rows.csv.h5ad\n"
     ]
    },
    {
     "name": "stderr",
     "output_type": "stream",
     "text": [
      "/tmp/ipykernel_291422/3061493562.py:22: FutureWarning: The default of observed=False is deprecated and will be changed to True in a future version of pandas. Pass observed=False to retain current behavior or observed=True to adopt the future default and silence this warning.\n",
      "  df['norm_col'] = adata.obs.groupby(['leiden','pred_class'])['n_col'].mean()/n_cols\n",
      "/tmp/ipykernel_291422/3061493562.py:23: FutureWarning: The default of observed=False is deprecated and will be changed to True in a future version of pandas. Pass observed=False to retain current behavior or observed=True to adopt the future default and silence this warning.\n",
      "  df['norm_row'] = adata.obs.groupby(['leiden','pred_class'])['n_row'].mean()/n_rows\n",
      "/tmp/ipykernel_291422/3061493562.py:24: FutureWarning: The default of observed=False is deprecated and will be changed to True in a future version of pandas. Pass observed=False to retain current behavior or observed=True to adopt the future default and silence this warning.\n",
      "  df['dpt_pesudotime'] = adata.obs.groupby(['leiden','pred_class'])['dpt_pseudotime'].mean()\n",
      "  8%|▊         | 24/307 [00:31<04:26,  1.06it/s]"
     ]
    },
    {
     "name": "stdout",
     "output_type": "stream",
     "text": [
      "NLSI0000174.svs_80cols_83rows.csv.h5ad speed :20868.078762384936\n",
      "9988.svs_243cols_173rows.csv.h5ad\n"
     ]
    },
    {
     "name": "stderr",
     "output_type": "stream",
     "text": [
      "/tmp/ipykernel_291422/3061493562.py:22: FutureWarning: The default of observed=False is deprecated and will be changed to True in a future version of pandas. Pass observed=False to retain current behavior or observed=True to adopt the future default and silence this warning.\n",
      "  df['norm_col'] = adata.obs.groupby(['leiden','pred_class'])['n_col'].mean()/n_cols\n",
      "/tmp/ipykernel_291422/3061493562.py:23: FutureWarning: The default of observed=False is deprecated and will be changed to True in a future version of pandas. Pass observed=False to retain current behavior or observed=True to adopt the future default and silence this warning.\n",
      "  df['norm_row'] = adata.obs.groupby(['leiden','pred_class'])['n_row'].mean()/n_rows\n",
      "/tmp/ipykernel_291422/3061493562.py:24: FutureWarning: The default of observed=False is deprecated and will be changed to True in a future version of pandas. Pass observed=False to retain current behavior or observed=True to adopt the future default and silence this warning.\n",
      "  df['dpt_pesudotime'] = adata.obs.groupby(['leiden','pred_class'])['dpt_pseudotime'].mean()\n",
      "  8%|▊         | 25/307 [00:32<05:00,  1.06s/it]"
     ]
    },
    {
     "name": "stdout",
     "output_type": "stream",
     "text": [
      "9988.svs_243cols_173rows.csv.h5ad speed :48148.55642375699\n",
      "11107.svs_253cols_182rows.csv.h5ad\n"
     ]
    },
    {
     "name": "stderr",
     "output_type": "stream",
     "text": [
      "/tmp/ipykernel_291422/3061493562.py:22: FutureWarning: The default of observed=False is deprecated and will be changed to True in a future version of pandas. Pass observed=False to retain current behavior or observed=True to adopt the future default and silence this warning.\n",
      "  df['norm_col'] = adata.obs.groupby(['leiden','pred_class'])['n_col'].mean()/n_cols\n",
      "/tmp/ipykernel_291422/3061493562.py:23: FutureWarning: The default of observed=False is deprecated and will be changed to True in a future version of pandas. Pass observed=False to retain current behavior or observed=True to adopt the future default and silence this warning.\n",
      "  df['norm_row'] = adata.obs.groupby(['leiden','pred_class'])['n_row'].mean()/n_rows\n",
      "/tmp/ipykernel_291422/3061493562.py:24: FutureWarning: The default of observed=False is deprecated and will be changed to True in a future version of pandas. Pass observed=False to retain current behavior or observed=True to adopt the future default and silence this warning.\n",
      "  df['dpt_pesudotime'] = adata.obs.groupby(['leiden','pred_class'])['dpt_pseudotime'].mean()\n",
      "  8%|▊         | 26/307 [00:34<06:29,  1.39s/it]"
     ]
    },
    {
     "name": "stdout",
     "output_type": "stream",
     "text": [
      "11107.svs_253cols_182rows.csv.h5ad speed :13431.921657782654\n",
      "10408.svs_291cols_208rows.csv.h5ad\n"
     ]
    },
    {
     "name": "stderr",
     "output_type": "stream",
     "text": [
      "/tmp/ipykernel_291422/3061493562.py:22: FutureWarning: The default of observed=False is deprecated and will be changed to True in a future version of pandas. Pass observed=False to retain current behavior or observed=True to adopt the future default and silence this warning.\n",
      "  df['norm_col'] = adata.obs.groupby(['leiden','pred_class'])['n_col'].mean()/n_cols\n",
      "/tmp/ipykernel_291422/3061493562.py:23: FutureWarning: The default of observed=False is deprecated and will be changed to True in a future version of pandas. Pass observed=False to retain current behavior or observed=True to adopt the future default and silence this warning.\n",
      "  df['norm_row'] = adata.obs.groupby(['leiden','pred_class'])['n_row'].mean()/n_rows\n",
      "/tmp/ipykernel_291422/3061493562.py:24: FutureWarning: The default of observed=False is deprecated and will be changed to True in a future version of pandas. Pass observed=False to retain current behavior or observed=True to adopt the future default and silence this warning.\n",
      "  df['dpt_pesudotime'] = adata.obs.groupby(['leiden','pred_class'])['dpt_pseudotime'].mean()\n",
      "  9%|▉         | 27/307 [00:37<07:42,  1.65s/it]"
     ]
    },
    {
     "name": "stdout",
     "output_type": "stream",
     "text": [
      "10408.svs_291cols_208rows.csv.h5ad speed :2658.017249582318\n",
      "11373.svs_267cols_210rows.csv.h5ad\n"
     ]
    },
    {
     "name": "stderr",
     "output_type": "stream",
     "text": [
      "/tmp/ipykernel_291422/3061493562.py:22: FutureWarning: The default of observed=False is deprecated and will be changed to True in a future version of pandas. Pass observed=False to retain current behavior or observed=True to adopt the future default and silence this warning.\n",
      "  df['norm_col'] = adata.obs.groupby(['leiden','pred_class'])['n_col'].mean()/n_cols\n",
      "/tmp/ipykernel_291422/3061493562.py:23: FutureWarning: The default of observed=False is deprecated and will be changed to True in a future version of pandas. Pass observed=False to retain current behavior or observed=True to adopt the future default and silence this warning.\n",
      "  df['norm_row'] = adata.obs.groupby(['leiden','pred_class'])['n_row'].mean()/n_rows\n",
      "/tmp/ipykernel_291422/3061493562.py:24: FutureWarning: The default of observed=False is deprecated and will be changed to True in a future version of pandas. Pass observed=False to retain current behavior or observed=True to adopt the future default and silence this warning.\n",
      "  df['dpt_pesudotime'] = adata.obs.groupby(['leiden','pred_class'])['dpt_pseudotime'].mean()\n",
      "  9%|▉         | 28/307 [00:39<08:06,  1.74s/it]"
     ]
    },
    {
     "name": "stdout",
     "output_type": "stream",
     "text": [
      "11373.svs_267cols_210rows.csv.h5ad speed :1346.3072779064487\n",
      "10379.svs_262cols_207rows.csv.h5ad\n"
     ]
    },
    {
     "name": "stderr",
     "output_type": "stream",
     "text": [
      "/tmp/ipykernel_291422/3061493562.py:22: FutureWarning: The default of observed=False is deprecated and will be changed to True in a future version of pandas. Pass observed=False to retain current behavior or observed=True to adopt the future default and silence this warning.\n",
      "  df['norm_col'] = adata.obs.groupby(['leiden','pred_class'])['n_col'].mean()/n_cols\n",
      "/tmp/ipykernel_291422/3061493562.py:23: FutureWarning: The default of observed=False is deprecated and will be changed to True in a future version of pandas. Pass observed=False to retain current behavior or observed=True to adopt the future default and silence this warning.\n",
      "  df['norm_row'] = adata.obs.groupby(['leiden','pred_class'])['n_row'].mean()/n_rows\n",
      "/tmp/ipykernel_291422/3061493562.py:24: FutureWarning: The default of observed=False is deprecated and will be changed to True in a future version of pandas. Pass observed=False to retain current behavior or observed=True to adopt the future default and silence this warning.\n",
      "  df['dpt_pesudotime'] = adata.obs.groupby(['leiden','pred_class'])['dpt_pseudotime'].mean()\n",
      "  9%|▉         | 29/307 [00:41<08:26,  1.82s/it]"
     ]
    },
    {
     "name": "stdout",
     "output_type": "stream",
     "text": [
      "10379.svs_262cols_207rows.csv.h5ad speed :5215.4854171757825\n",
      "10629.svs_217cols_183rows.csv.h5ad\n"
     ]
    },
    {
     "name": "stderr",
     "output_type": "stream",
     "text": [
      "/tmp/ipykernel_291422/3061493562.py:22: FutureWarning: The default of observed=False is deprecated and will be changed to True in a future version of pandas. Pass observed=False to retain current behavior or observed=True to adopt the future default and silence this warning.\n",
      "  df['norm_col'] = adata.obs.groupby(['leiden','pred_class'])['n_col'].mean()/n_cols\n",
      "/tmp/ipykernel_291422/3061493562.py:23: FutureWarning: The default of observed=False is deprecated and will be changed to True in a future version of pandas. Pass observed=False to retain current behavior or observed=True to adopt the future default and silence this warning.\n",
      "  df['norm_row'] = adata.obs.groupby(['leiden','pred_class'])['n_row'].mean()/n_rows\n",
      "/tmp/ipykernel_291422/3061493562.py:24: FutureWarning: The default of observed=False is deprecated and will be changed to True in a future version of pandas. Pass observed=False to retain current behavior or observed=True to adopt the future default and silence this warning.\n",
      "  df['dpt_pesudotime'] = adata.obs.groupby(['leiden','pred_class'])['dpt_pseudotime'].mean()\n",
      " 10%|▉         | 30/307 [00:42<08:13,  1.78s/it]"
     ]
    },
    {
     "name": "stdout",
     "output_type": "stream",
     "text": [
      "10629.svs_217cols_183rows.csv.h5ad speed :45549.798596189925\n",
      "NLSI0000289.svs_120cols_81rows.csv.h5ad\n"
     ]
    },
    {
     "name": "stderr",
     "output_type": "stream",
     "text": [
      "/tmp/ipykernel_291422/3061493562.py:22: FutureWarning: The default of observed=False is deprecated and will be changed to True in a future version of pandas. Pass observed=False to retain current behavior or observed=True to adopt the future default and silence this warning.\n",
      "  df['norm_col'] = adata.obs.groupby(['leiden','pred_class'])['n_col'].mean()/n_cols\n",
      "/tmp/ipykernel_291422/3061493562.py:23: FutureWarning: The default of observed=False is deprecated and will be changed to True in a future version of pandas. Pass observed=False to retain current behavior or observed=True to adopt the future default and silence this warning.\n",
      "  df['norm_row'] = adata.obs.groupby(['leiden','pred_class'])['n_row'].mean()/n_rows\n",
      "/tmp/ipykernel_291422/3061493562.py:24: FutureWarning: The default of observed=False is deprecated and will be changed to True in a future version of pandas. Pass observed=False to retain current behavior or observed=True to adopt the future default and silence this warning.\n",
      "  df['dpt_pesudotime'] = adata.obs.groupby(['leiden','pred_class'])['dpt_pseudotime'].mean()\n",
      " 10%|█         | 31/307 [00:43<06:37,  1.44s/it]"
     ]
    },
    {
     "name": "stdout",
     "output_type": "stream",
     "text": [
      "NLSI0000289.svs_120cols_81rows.csv.h5ad speed :10315.900748970173\n",
      "11110.svs_339cols_210rows.csv.h5ad\n"
     ]
    },
    {
     "name": "stderr",
     "output_type": "stream",
     "text": [
      "/tmp/ipykernel_291422/3061493562.py:22: FutureWarning: The default of observed=False is deprecated and will be changed to True in a future version of pandas. Pass observed=False to retain current behavior or observed=True to adopt the future default and silence this warning.\n",
      "  df['norm_col'] = adata.obs.groupby(['leiden','pred_class'])['n_col'].mean()/n_cols\n",
      "/tmp/ipykernel_291422/3061493562.py:23: FutureWarning: The default of observed=False is deprecated and will be changed to True in a future version of pandas. Pass observed=False to retain current behavior or observed=True to adopt the future default and silence this warning.\n",
      "  df['norm_row'] = adata.obs.groupby(['leiden','pred_class'])['n_row'].mean()/n_rows\n",
      "/tmp/ipykernel_291422/3061493562.py:24: FutureWarning: The default of observed=False is deprecated and will be changed to True in a future version of pandas. Pass observed=False to retain current behavior or observed=True to adopt the future default and silence this warning.\n",
      "  df['dpt_pesudotime'] = adata.obs.groupby(['leiden','pred_class'])['dpt_pseudotime'].mean()\n",
      " 10%|█         | 32/307 [00:46<08:17,  1.81s/it]"
     ]
    },
    {
     "name": "stdout",
     "output_type": "stream",
     "text": [
      "11110.svs_339cols_210rows.csv.h5ad speed :1166.8010370539964\n",
      "NLSI0000240.svs_130cols_102rows.csv.h5ad\n"
     ]
    },
    {
     "name": "stderr",
     "output_type": "stream",
     "text": [
      "/tmp/ipykernel_291422/3061493562.py:22: FutureWarning: The default of observed=False is deprecated and will be changed to True in a future version of pandas. Pass observed=False to retain current behavior or observed=True to adopt the future default and silence this warning.\n",
      "  df['norm_col'] = adata.obs.groupby(['leiden','pred_class'])['n_col'].mean()/n_cols\n",
      "/tmp/ipykernel_291422/3061493562.py:23: FutureWarning: The default of observed=False is deprecated and will be changed to True in a future version of pandas. Pass observed=False to retain current behavior or observed=True to adopt the future default and silence this warning.\n",
      "  df['norm_row'] = adata.obs.groupby(['leiden','pred_class'])['n_row'].mean()/n_rows\n",
      "/tmp/ipykernel_291422/3061493562.py:24: FutureWarning: The default of observed=False is deprecated and will be changed to True in a future version of pandas. Pass observed=False to retain current behavior or observed=True to adopt the future default and silence this warning.\n",
      "  df['dpt_pesudotime'] = adata.obs.groupby(['leiden','pred_class'])['dpt_pseudotime'].mean()\n",
      " 11%|█         | 33/307 [00:47<07:31,  1.65s/it]"
     ]
    },
    {
     "name": "stdout",
     "output_type": "stream",
     "text": [
      "NLSI0000240.svs_130cols_102rows.csv.h5ad speed :27344.695861080072\n",
      "10865.svs_219cols_158rows.csv.h5ad\n"
     ]
    },
    {
     "name": "stderr",
     "output_type": "stream",
     "text": [
      "/tmp/ipykernel_291422/3061493562.py:22: FutureWarning: The default of observed=False is deprecated and will be changed to True in a future version of pandas. Pass observed=False to retain current behavior or observed=True to adopt the future default and silence this warning.\n",
      "  df['norm_col'] = adata.obs.groupby(['leiden','pred_class'])['n_col'].mean()/n_cols\n",
      "/tmp/ipykernel_291422/3061493562.py:23: FutureWarning: The default of observed=False is deprecated and will be changed to True in a future version of pandas. Pass observed=False to retain current behavior or observed=True to adopt the future default and silence this warning.\n",
      "  df['norm_row'] = adata.obs.groupby(['leiden','pred_class'])['n_row'].mean()/n_rows\n",
      "/tmp/ipykernel_291422/3061493562.py:24: FutureWarning: The default of observed=False is deprecated and will be changed to True in a future version of pandas. Pass observed=False to retain current behavior or observed=True to adopt the future default and silence this warning.\n",
      "  df['dpt_pesudotime'] = adata.obs.groupby(['leiden','pred_class'])['dpt_pseudotime'].mean()\n",
      " 11%|█         | 34/307 [00:48<07:09,  1.57s/it]"
     ]
    },
    {
     "name": "stdout",
     "output_type": "stream",
     "text": [
      "10865.svs_219cols_158rows.csv.h5ad speed :2489.7856478227836\n",
      "NLSI0000184.svs_115cols_71rows.csv.h5ad\n"
     ]
    },
    {
     "name": "stderr",
     "output_type": "stream",
     "text": [
      "/tmp/ipykernel_291422/3061493562.py:22: FutureWarning: The default of observed=False is deprecated and will be changed to True in a future version of pandas. Pass observed=False to retain current behavior or observed=True to adopt the future default and silence this warning.\n",
      "  df['norm_col'] = adata.obs.groupby(['leiden','pred_class'])['n_col'].mean()/n_cols\n",
      "/tmp/ipykernel_291422/3061493562.py:23: FutureWarning: The default of observed=False is deprecated and will be changed to True in a future version of pandas. Pass observed=False to retain current behavior or observed=True to adopt the future default and silence this warning.\n",
      "  df['norm_row'] = adata.obs.groupby(['leiden','pred_class'])['n_row'].mean()/n_rows\n",
      "/tmp/ipykernel_291422/3061493562.py:24: FutureWarning: The default of observed=False is deprecated and will be changed to True in a future version of pandas. Pass observed=False to retain current behavior or observed=True to adopt the future default and silence this warning.\n",
      "  df['dpt_pesudotime'] = adata.obs.groupby(['leiden','pred_class'])['dpt_pseudotime'].mean()\n",
      " 11%|█▏        | 35/307 [00:49<05:41,  1.26s/it]"
     ]
    },
    {
     "name": "stdout",
     "output_type": "stream",
     "text": [
      "NLSI0000184.svs_115cols_71rows.csv.h5ad speed :5463.544934368739\n",
      "11352.svs_260cols_205rows.csv.h5ad\n"
     ]
    },
    {
     "name": "stderr",
     "output_type": "stream",
     "text": [
      "/tmp/ipykernel_291422/3061493562.py:22: FutureWarning: The default of observed=False is deprecated and will be changed to True in a future version of pandas. Pass observed=False to retain current behavior or observed=True to adopt the future default and silence this warning.\n",
      "  df['norm_col'] = adata.obs.groupby(['leiden','pred_class'])['n_col'].mean()/n_cols\n",
      "/tmp/ipykernel_291422/3061493562.py:23: FutureWarning: The default of observed=False is deprecated and will be changed to True in a future version of pandas. Pass observed=False to retain current behavior or observed=True to adopt the future default and silence this warning.\n",
      "  df['norm_row'] = adata.obs.groupby(['leiden','pred_class'])['n_row'].mean()/n_rows\n",
      "/tmp/ipykernel_291422/3061493562.py:24: FutureWarning: The default of observed=False is deprecated and will be changed to True in a future version of pandas. Pass observed=False to retain current behavior or observed=True to adopt the future default and silence this warning.\n",
      "  df['dpt_pesudotime'] = adata.obs.groupby(['leiden','pred_class'])['dpt_pseudotime'].mean()\n",
      " 12%|█▏        | 36/307 [00:51<06:24,  1.42s/it]"
     ]
    },
    {
     "name": "stdout",
     "output_type": "stream",
     "text": [
      "11352.svs_260cols_205rows.csv.h5ad speed :36581.536376158256\n",
      "NLSI0000068.svs_105cols_87rows.csv.h5ad\n"
     ]
    },
    {
     "name": "stderr",
     "output_type": "stream",
     "text": [
      "/tmp/ipykernel_291422/3061493562.py:22: FutureWarning: The default of observed=False is deprecated and will be changed to True in a future version of pandas. Pass observed=False to retain current behavior or observed=True to adopt the future default and silence this warning.\n",
      "  df['norm_col'] = adata.obs.groupby(['leiden','pred_class'])['n_col'].mean()/n_cols\n",
      "/tmp/ipykernel_291422/3061493562.py:23: FutureWarning: The default of observed=False is deprecated and will be changed to True in a future version of pandas. Pass observed=False to retain current behavior or observed=True to adopt the future default and silence this warning.\n",
      "  df['norm_row'] = adata.obs.groupby(['leiden','pred_class'])['n_row'].mean()/n_rows\n",
      "/tmp/ipykernel_291422/3061493562.py:24: FutureWarning: The default of observed=False is deprecated and will be changed to True in a future version of pandas. Pass observed=False to retain current behavior or observed=True to adopt the future default and silence this warning.\n",
      "  df['dpt_pesudotime'] = adata.obs.groupby(['leiden','pred_class'])['dpt_pseudotime'].mean()\n",
      " 12%|█▏        | 37/307 [00:52<05:31,  1.23s/it]"
     ]
    },
    {
     "name": "stdout",
     "output_type": "stream",
     "text": [
      "NLSI0000068.svs_105cols_87rows.csv.h5ad speed :43451.217519423226\n",
      "11247.svs_250cols_199rows.csv.h5ad\n"
     ]
    },
    {
     "name": "stderr",
     "output_type": "stream",
     "text": [
      "/tmp/ipykernel_291422/3061493562.py:22: FutureWarning: The default of observed=False is deprecated and will be changed to True in a future version of pandas. Pass observed=False to retain current behavior or observed=True to adopt the future default and silence this warning.\n",
      "  df['norm_col'] = adata.obs.groupby(['leiden','pred_class'])['n_col'].mean()/n_cols\n",
      "/tmp/ipykernel_291422/3061493562.py:23: FutureWarning: The default of observed=False is deprecated and will be changed to True in a future version of pandas. Pass observed=False to retain current behavior or observed=True to adopt the future default and silence this warning.\n",
      "  df['norm_row'] = adata.obs.groupby(['leiden','pred_class'])['n_row'].mean()/n_rows\n",
      "/tmp/ipykernel_291422/3061493562.py:24: FutureWarning: The default of observed=False is deprecated and will be changed to True in a future version of pandas. Pass observed=False to retain current behavior or observed=True to adopt the future default and silence this warning.\n",
      "  df['dpt_pesudotime'] = adata.obs.groupby(['leiden','pred_class'])['dpt_pseudotime'].mean()\n",
      " 12%|█▏        | 38/307 [00:53<06:27,  1.44s/it]"
     ]
    },
    {
     "name": "stdout",
     "output_type": "stream",
     "text": [
      "11247.svs_250cols_199rows.csv.h5ad speed :4375.098486646181\n",
      "NLSI0000254.svs_145cols_118rows.csv.h5ad\n"
     ]
    },
    {
     "name": "stderr",
     "output_type": "stream",
     "text": [
      "/tmp/ipykernel_291422/3061493562.py:22: FutureWarning: The default of observed=False is deprecated and will be changed to True in a future version of pandas. Pass observed=False to retain current behavior or observed=True to adopt the future default and silence this warning.\n",
      "  df['norm_col'] = adata.obs.groupby(['leiden','pred_class'])['n_col'].mean()/n_cols\n",
      "/tmp/ipykernel_291422/3061493562.py:23: FutureWarning: The default of observed=False is deprecated and will be changed to True in a future version of pandas. Pass observed=False to retain current behavior or observed=True to adopt the future default and silence this warning.\n",
      "  df['norm_row'] = adata.obs.groupby(['leiden','pred_class'])['n_row'].mean()/n_rows\n",
      "/tmp/ipykernel_291422/3061493562.py:24: FutureWarning: The default of observed=False is deprecated and will be changed to True in a future version of pandas. Pass observed=False to retain current behavior or observed=True to adopt the future default and silence this warning.\n",
      "  df['dpt_pesudotime'] = adata.obs.groupby(['leiden','pred_class'])['dpt_pseudotime'].mean()\n",
      " 13%|█▎        | 39/307 [00:56<07:21,  1.65s/it]"
     ]
    },
    {
     "name": "stdout",
     "output_type": "stream",
     "text": [
      "NLSI0000254.svs_145cols_118rows.csv.h5ad speed :12536.274857409167\n",
      "10997.svs_267cols_184rows.csv.h5ad\n"
     ]
    },
    {
     "name": "stderr",
     "output_type": "stream",
     "text": [
      "/tmp/ipykernel_291422/3061493562.py:22: FutureWarning: The default of observed=False is deprecated and will be changed to True in a future version of pandas. Pass observed=False to retain current behavior or observed=True to adopt the future default and silence this warning.\n",
      "  df['norm_col'] = adata.obs.groupby(['leiden','pred_class'])['n_col'].mean()/n_cols\n",
      "/tmp/ipykernel_291422/3061493562.py:23: FutureWarning: The default of observed=False is deprecated and will be changed to True in a future version of pandas. Pass observed=False to retain current behavior or observed=True to adopt the future default and silence this warning.\n",
      "  df['norm_row'] = adata.obs.groupby(['leiden','pred_class'])['n_row'].mean()/n_rows\n",
      "/tmp/ipykernel_291422/3061493562.py:24: FutureWarning: The default of observed=False is deprecated and will be changed to True in a future version of pandas. Pass observed=False to retain current behavior or observed=True to adopt the future default and silence this warning.\n",
      "  df['dpt_pesudotime'] = adata.obs.groupby(['leiden','pred_class'])['dpt_pseudotime'].mean()\n",
      " 13%|█▎        | 40/307 [00:57<07:36,  1.71s/it]"
     ]
    },
    {
     "name": "stdout",
     "output_type": "stream",
     "text": [
      "10997.svs_267cols_184rows.csv.h5ad speed :1013.9537868195307\n",
      "9754.svs_305cols_203rows.csv.h5ad\n"
     ]
    },
    {
     "name": "stderr",
     "output_type": "stream",
     "text": [
      "/tmp/ipykernel_291422/3061493562.py:22: FutureWarning: The default of observed=False is deprecated and will be changed to True in a future version of pandas. Pass observed=False to retain current behavior or observed=True to adopt the future default and silence this warning.\n",
      "  df['norm_col'] = adata.obs.groupby(['leiden','pred_class'])['n_col'].mean()/n_cols\n",
      "/tmp/ipykernel_291422/3061493562.py:23: FutureWarning: The default of observed=False is deprecated and will be changed to True in a future version of pandas. Pass observed=False to retain current behavior or observed=True to adopt the future default and silence this warning.\n",
      "  df['norm_row'] = adata.obs.groupby(['leiden','pred_class'])['n_row'].mean()/n_rows\n",
      "/tmp/ipykernel_291422/3061493562.py:24: FutureWarning: The default of observed=False is deprecated and will be changed to True in a future version of pandas. Pass observed=False to retain current behavior or observed=True to adopt the future default and silence this warning.\n",
      "  df['dpt_pesudotime'] = adata.obs.groupby(['leiden','pred_class'])['dpt_pseudotime'].mean()\n",
      " 13%|█▎        | 41/307 [00:59<07:04,  1.60s/it]"
     ]
    },
    {
     "name": "stdout",
     "output_type": "stream",
     "text": [
      "9754.svs_305cols_203rows.csv.h5ad speed :26902.1084397887\n",
      "NLSI0000078.svs_110cols_115rows.csv.h5ad\n"
     ]
    },
    {
     "name": "stderr",
     "output_type": "stream",
     "text": [
      "/tmp/ipykernel_291422/3061493562.py:22: FutureWarning: The default of observed=False is deprecated and will be changed to True in a future version of pandas. Pass observed=False to retain current behavior or observed=True to adopt the future default and silence this warning.\n",
      "  df['norm_col'] = adata.obs.groupby(['leiden','pred_class'])['n_col'].mean()/n_cols\n",
      "/tmp/ipykernel_291422/3061493562.py:23: FutureWarning: The default of observed=False is deprecated and will be changed to True in a future version of pandas. Pass observed=False to retain current behavior or observed=True to adopt the future default and silence this warning.\n",
      "  df['norm_row'] = adata.obs.groupby(['leiden','pred_class'])['n_row'].mean()/n_rows\n",
      "/tmp/ipykernel_291422/3061493562.py:24: FutureWarning: The default of observed=False is deprecated and will be changed to True in a future version of pandas. Pass observed=False to retain current behavior or observed=True to adopt the future default and silence this warning.\n",
      "  df['dpt_pesudotime'] = adata.obs.groupby(['leiden','pred_class'])['dpt_pseudotime'].mean()\n",
      " 14%|█▎        | 42/307 [01:00<06:41,  1.52s/it]"
     ]
    },
    {
     "name": "stdout",
     "output_type": "stream",
     "text": [
      "NLSI0000078.svs_110cols_115rows.csv.h5ad speed :21255.75228072244\n",
      "10382.svs_301cols_202rows.csv.h5ad\n"
     ]
    },
    {
     "name": "stderr",
     "output_type": "stream",
     "text": [
      "/tmp/ipykernel_291422/3061493562.py:22: FutureWarning: The default of observed=False is deprecated and will be changed to True in a future version of pandas. Pass observed=False to retain current behavior or observed=True to adopt the future default and silence this warning.\n",
      "  df['norm_col'] = adata.obs.groupby(['leiden','pred_class'])['n_col'].mean()/n_cols\n",
      "/tmp/ipykernel_291422/3061493562.py:23: FutureWarning: The default of observed=False is deprecated and will be changed to True in a future version of pandas. Pass observed=False to retain current behavior or observed=True to adopt the future default and silence this warning.\n",
      "  df['norm_row'] = adata.obs.groupby(['leiden','pred_class'])['n_row'].mean()/n_rows\n",
      "/tmp/ipykernel_291422/3061493562.py:24: FutureWarning: The default of observed=False is deprecated and will be changed to True in a future version of pandas. Pass observed=False to retain current behavior or observed=True to adopt the future default and silence this warning.\n",
      "  df['dpt_pesudotime'] = adata.obs.groupby(['leiden','pred_class'])['dpt_pseudotime'].mean()\n",
      " 14%|█▍        | 43/307 [01:02<07:30,  1.71s/it]"
     ]
    },
    {
     "name": "stdout",
     "output_type": "stream",
     "text": [
      "10382.svs_301cols_202rows.csv.h5ad speed :3729.9847278574325\n",
      "11357.svs_289cols_210rows.csv.h5ad\n"
     ]
    },
    {
     "name": "stderr",
     "output_type": "stream",
     "text": [
      "/tmp/ipykernel_291422/3061493562.py:22: FutureWarning: The default of observed=False is deprecated and will be changed to True in a future version of pandas. Pass observed=False to retain current behavior or observed=True to adopt the future default and silence this warning.\n",
      "  df['norm_col'] = adata.obs.groupby(['leiden','pred_class'])['n_col'].mean()/n_cols\n",
      "/tmp/ipykernel_291422/3061493562.py:23: FutureWarning: The default of observed=False is deprecated and will be changed to True in a future version of pandas. Pass observed=False to retain current behavior or observed=True to adopt the future default and silence this warning.\n",
      "  df['norm_row'] = adata.obs.groupby(['leiden','pred_class'])['n_row'].mean()/n_rows\n",
      "/tmp/ipykernel_291422/3061493562.py:24: FutureWarning: The default of observed=False is deprecated and will be changed to True in a future version of pandas. Pass observed=False to retain current behavior or observed=True to adopt the future default and silence this warning.\n",
      "  df['dpt_pesudotime'] = adata.obs.groupby(['leiden','pred_class'])['dpt_pseudotime'].mean()\n",
      " 14%|█▍        | 44/307 [01:06<09:52,  2.25s/it]"
     ]
    },
    {
     "name": "stdout",
     "output_type": "stream",
     "text": [
      "11357.svs_289cols_210rows.csv.h5ad speed :6364.112909630198\n",
      "10669.svs_245cols_191rows.csv.h5ad\n"
     ]
    },
    {
     "name": "stderr",
     "output_type": "stream",
     "text": [
      "/tmp/ipykernel_291422/3061493562.py:22: FutureWarning: The default of observed=False is deprecated and will be changed to True in a future version of pandas. Pass observed=False to retain current behavior or observed=True to adopt the future default and silence this warning.\n",
      "  df['norm_col'] = adata.obs.groupby(['leiden','pred_class'])['n_col'].mean()/n_cols\n",
      "/tmp/ipykernel_291422/3061493562.py:23: FutureWarning: The default of observed=False is deprecated and will be changed to True in a future version of pandas. Pass observed=False to retain current behavior or observed=True to adopt the future default and silence this warning.\n",
      "  df['norm_row'] = adata.obs.groupby(['leiden','pred_class'])['n_row'].mean()/n_rows\n",
      "/tmp/ipykernel_291422/3061493562.py:24: FutureWarning: The default of observed=False is deprecated and will be changed to True in a future version of pandas. Pass observed=False to retain current behavior or observed=True to adopt the future default and silence this warning.\n",
      "  df['dpt_pesudotime'] = adata.obs.groupby(['leiden','pred_class'])['dpt_pseudotime'].mean()\n",
      " 15%|█▍        | 45/307 [01:08<09:30,  2.18s/it]"
     ]
    },
    {
     "name": "stdout",
     "output_type": "stream",
     "text": [
      "10669.svs_245cols_191rows.csv.h5ad speed :5750.813538684262\n",
      "9683.svs_317cols_215rows.csv.h5ad\n"
     ]
    },
    {
     "name": "stderr",
     "output_type": "stream",
     "text": [
      "/tmp/ipykernel_291422/3061493562.py:22: FutureWarning: The default of observed=False is deprecated and will be changed to True in a future version of pandas. Pass observed=False to retain current behavior or observed=True to adopt the future default and silence this warning.\n",
      "  df['norm_col'] = adata.obs.groupby(['leiden','pred_class'])['n_col'].mean()/n_cols\n",
      "/tmp/ipykernel_291422/3061493562.py:23: FutureWarning: The default of observed=False is deprecated and will be changed to True in a future version of pandas. Pass observed=False to retain current behavior or observed=True to adopt the future default and silence this warning.\n",
      "  df['norm_row'] = adata.obs.groupby(['leiden','pred_class'])['n_row'].mean()/n_rows\n",
      "/tmp/ipykernel_291422/3061493562.py:24: FutureWarning: The default of observed=False is deprecated and will be changed to True in a future version of pandas. Pass observed=False to retain current behavior or observed=True to adopt the future default and silence this warning.\n",
      "  df['dpt_pesudotime'] = adata.obs.groupby(['leiden','pred_class'])['dpt_pseudotime'].mean()\n",
      " 15%|█▍        | 46/307 [01:11<10:36,  2.44s/it]"
     ]
    },
    {
     "name": "stdout",
     "output_type": "stream",
     "text": [
      "9683.svs_317cols_215rows.csv.h5ad speed :144225.3899759421\n",
      "10411.svs_147cols_117rows.csv.h5ad\n"
     ]
    },
    {
     "name": "stderr",
     "output_type": "stream",
     "text": [
      "/tmp/ipykernel_291422/3061493562.py:22: FutureWarning: The default of observed=False is deprecated and will be changed to True in a future version of pandas. Pass observed=False to retain current behavior or observed=True to adopt the future default and silence this warning.\n",
      "  df['norm_col'] = adata.obs.groupby(['leiden','pred_class'])['n_col'].mean()/n_cols\n",
      "/tmp/ipykernel_291422/3061493562.py:23: FutureWarning: The default of observed=False is deprecated and will be changed to True in a future version of pandas. Pass observed=False to retain current behavior or observed=True to adopt the future default and silence this warning.\n",
      "  df['norm_row'] = adata.obs.groupby(['leiden','pred_class'])['n_row'].mean()/n_rows\n",
      "/tmp/ipykernel_291422/3061493562.py:24: FutureWarning: The default of observed=False is deprecated and will be changed to True in a future version of pandas. Pass observed=False to retain current behavior or observed=True to adopt the future default and silence this warning.\n",
      "  df['dpt_pesudotime'] = adata.obs.groupby(['leiden','pred_class'])['dpt_pseudotime'].mean()\n",
      " 15%|█▌        | 47/307 [01:13<09:49,  2.27s/it]"
     ]
    },
    {
     "name": "stdout",
     "output_type": "stream",
     "text": [
      "10411.svs_147cols_117rows.csv.h5ad speed :4334.011869611576\n",
      "10127.svs_313cols_224rows.csv.h5ad\n"
     ]
    },
    {
     "name": "stderr",
     "output_type": "stream",
     "text": [
      "/tmp/ipykernel_291422/3061493562.py:22: FutureWarning: The default of observed=False is deprecated and will be changed to True in a future version of pandas. Pass observed=False to retain current behavior or observed=True to adopt the future default and silence this warning.\n",
      "  df['norm_col'] = adata.obs.groupby(['leiden','pred_class'])['n_col'].mean()/n_cols\n",
      "/tmp/ipykernel_291422/3061493562.py:23: FutureWarning: The default of observed=False is deprecated and will be changed to True in a future version of pandas. Pass observed=False to retain current behavior or observed=True to adopt the future default and silence this warning.\n",
      "  df['norm_row'] = adata.obs.groupby(['leiden','pred_class'])['n_row'].mean()/n_rows\n",
      "/tmp/ipykernel_291422/3061493562.py:24: FutureWarning: The default of observed=False is deprecated and will be changed to True in a future version of pandas. Pass observed=False to retain current behavior or observed=True to adopt the future default and silence this warning.\n",
      "  df['dpt_pesudotime'] = adata.obs.groupby(['leiden','pred_class'])['dpt_pseudotime'].mean()\n",
      " 16%|█▌        | 48/307 [01:16<10:52,  2.52s/it]"
     ]
    },
    {
     "name": "stdout",
     "output_type": "stream",
     "text": [
      "10127.svs_313cols_224rows.csv.h5ad speed :166337.0160812974\n",
      "11031.svs_274cols_207rows.csv.h5ad\n"
     ]
    },
    {
     "name": "stderr",
     "output_type": "stream",
     "text": [
      "/tmp/ipykernel_291422/3061493562.py:22: FutureWarning: The default of observed=False is deprecated and will be changed to True in a future version of pandas. Pass observed=False to retain current behavior or observed=True to adopt the future default and silence this warning.\n",
      "  df['norm_col'] = adata.obs.groupby(['leiden','pred_class'])['n_col'].mean()/n_cols\n",
      "/tmp/ipykernel_291422/3061493562.py:23: FutureWarning: The default of observed=False is deprecated and will be changed to True in a future version of pandas. Pass observed=False to retain current behavior or observed=True to adopt the future default and silence this warning.\n",
      "  df['norm_row'] = adata.obs.groupby(['leiden','pred_class'])['n_row'].mean()/n_rows\n",
      "/tmp/ipykernel_291422/3061493562.py:24: FutureWarning: The default of observed=False is deprecated and will be changed to True in a future version of pandas. Pass observed=False to retain current behavior or observed=True to adopt the future default and silence this warning.\n",
      "  df['dpt_pesudotime'] = adata.obs.groupby(['leiden','pred_class'])['dpt_pseudotime'].mean()\n",
      " 16%|█▌        | 49/307 [01:18<10:01,  2.33s/it]"
     ]
    },
    {
     "name": "stdout",
     "output_type": "stream",
     "text": [
      "11031.svs_274cols_207rows.csv.h5ad speed :12340.720104983313\n",
      "11105.svs_209cols_210rows.csv.h5ad\n"
     ]
    },
    {
     "name": "stderr",
     "output_type": "stream",
     "text": [
      "/tmp/ipykernel_291422/3061493562.py:22: FutureWarning: The default of observed=False is deprecated and will be changed to True in a future version of pandas. Pass observed=False to retain current behavior or observed=True to adopt the future default and silence this warning.\n",
      "  df['norm_col'] = adata.obs.groupby(['leiden','pred_class'])['n_col'].mean()/n_cols\n",
      "/tmp/ipykernel_291422/3061493562.py:23: FutureWarning: The default of observed=False is deprecated and will be changed to True in a future version of pandas. Pass observed=False to retain current behavior or observed=True to adopt the future default and silence this warning.\n",
      "  df['norm_row'] = adata.obs.groupby(['leiden','pred_class'])['n_row'].mean()/n_rows\n",
      "/tmp/ipykernel_291422/3061493562.py:24: FutureWarning: The default of observed=False is deprecated and will be changed to True in a future version of pandas. Pass observed=False to retain current behavior or observed=True to adopt the future default and silence this warning.\n",
      "  df['dpt_pesudotime'] = adata.obs.groupby(['leiden','pred_class'])['dpt_pseudotime'].mean()\n",
      " 16%|█▋        | 50/307 [01:19<09:14,  2.16s/it]"
     ]
    },
    {
     "name": "stdout",
     "output_type": "stream",
     "text": [
      "11105.svs_209cols_210rows.csv.h5ad speed :15002.908401852117\n",
      "NLSI0000126.svs_125cols_101rows.csv.h5ad\n"
     ]
    },
    {
     "name": "stderr",
     "output_type": "stream",
     "text": [
      "/tmp/ipykernel_291422/3061493562.py:22: FutureWarning: The default of observed=False is deprecated and will be changed to True in a future version of pandas. Pass observed=False to retain current behavior or observed=True to adopt the future default and silence this warning.\n",
      "  df['norm_col'] = adata.obs.groupby(['leiden','pred_class'])['n_col'].mean()/n_cols\n",
      "/tmp/ipykernel_291422/3061493562.py:23: FutureWarning: The default of observed=False is deprecated and will be changed to True in a future version of pandas. Pass observed=False to retain current behavior or observed=True to adopt the future default and silence this warning.\n",
      "  df['norm_row'] = adata.obs.groupby(['leiden','pred_class'])['n_row'].mean()/n_rows\n",
      "/tmp/ipykernel_291422/3061493562.py:24: FutureWarning: The default of observed=False is deprecated and will be changed to True in a future version of pandas. Pass observed=False to retain current behavior or observed=True to adopt the future default and silence this warning.\n",
      "  df['dpt_pesudotime'] = adata.obs.groupby(['leiden','pred_class'])['dpt_pseudotime'].mean()\n",
      " 17%|█▋        | 51/307 [01:21<08:06,  1.90s/it]"
     ]
    },
    {
     "name": "stdout",
     "output_type": "stream",
     "text": [
      "NLSI0000126.svs_125cols_101rows.csv.h5ad speed :17313.923793391372\n",
      "10878.svs_296cols_206rows.csv.h5ad\n"
     ]
    },
    {
     "name": "stderr",
     "output_type": "stream",
     "text": [
      "/tmp/ipykernel_291422/3061493562.py:22: FutureWarning: The default of observed=False is deprecated and will be changed to True in a future version of pandas. Pass observed=False to retain current behavior or observed=True to adopt the future default and silence this warning.\n",
      "  df['norm_col'] = adata.obs.groupby(['leiden','pred_class'])['n_col'].mean()/n_cols\n",
      "/tmp/ipykernel_291422/3061493562.py:23: FutureWarning: The default of observed=False is deprecated and will be changed to True in a future version of pandas. Pass observed=False to retain current behavior or observed=True to adopt the future default and silence this warning.\n",
      "  df['norm_row'] = adata.obs.groupby(['leiden','pred_class'])['n_row'].mean()/n_rows\n",
      "/tmp/ipykernel_291422/3061493562.py:24: FutureWarning: The default of observed=False is deprecated and will be changed to True in a future version of pandas. Pass observed=False to retain current behavior or observed=True to adopt the future default and silence this warning.\n",
      "  df['dpt_pesudotime'] = adata.obs.groupby(['leiden','pred_class'])['dpt_pseudotime'].mean()\n",
      " 17%|█▋        | 52/307 [01:23<08:01,  1.89s/it]"
     ]
    },
    {
     "name": "stdout",
     "output_type": "stream",
     "text": [
      "10878.svs_296cols_206rows.csv.h5ad speed :6173.509599535985\n",
      "9459.svs_250cols_203rows.csv.h5ad\n"
     ]
    },
    {
     "name": "stderr",
     "output_type": "stream",
     "text": [
      "/tmp/ipykernel_291422/3061493562.py:22: FutureWarning: The default of observed=False is deprecated and will be changed to True in a future version of pandas. Pass observed=False to retain current behavior or observed=True to adopt the future default and silence this warning.\n",
      "  df['norm_col'] = adata.obs.groupby(['leiden','pred_class'])['n_col'].mean()/n_cols\n",
      "/tmp/ipykernel_291422/3061493562.py:23: FutureWarning: The default of observed=False is deprecated and will be changed to True in a future version of pandas. Pass observed=False to retain current behavior or observed=True to adopt the future default and silence this warning.\n",
      "  df['norm_row'] = adata.obs.groupby(['leiden','pred_class'])['n_row'].mean()/n_rows\n",
      "/tmp/ipykernel_291422/3061493562.py:24: FutureWarning: The default of observed=False is deprecated and will be changed to True in a future version of pandas. Pass observed=False to retain current behavior or observed=True to adopt the future default and silence this warning.\n",
      "  df['dpt_pesudotime'] = adata.obs.groupby(['leiden','pred_class'])['dpt_pseudotime'].mean()\n",
      " 17%|█▋        | 53/307 [01:25<08:21,  1.97s/it]"
     ]
    },
    {
     "name": "stdout",
     "output_type": "stream",
     "text": [
      "9459.svs_250cols_203rows.csv.h5ad speed :15805.79880649019\n",
      "9946.svs_238cols_215rows.csv.h5ad\n"
     ]
    },
    {
     "name": "stderr",
     "output_type": "stream",
     "text": [
      "/tmp/ipykernel_291422/3061493562.py:22: FutureWarning: The default of observed=False is deprecated and will be changed to True in a future version of pandas. Pass observed=False to retain current behavior or observed=True to adopt the future default and silence this warning.\n",
      "  df['norm_col'] = adata.obs.groupby(['leiden','pred_class'])['n_col'].mean()/n_cols\n",
      "/tmp/ipykernel_291422/3061493562.py:23: FutureWarning: The default of observed=False is deprecated and will be changed to True in a future version of pandas. Pass observed=False to retain current behavior or observed=True to adopt the future default and silence this warning.\n",
      "  df['norm_row'] = adata.obs.groupby(['leiden','pred_class'])['n_row'].mean()/n_rows\n",
      "/tmp/ipykernel_291422/3061493562.py:24: FutureWarning: The default of observed=False is deprecated and will be changed to True in a future version of pandas. Pass observed=False to retain current behavior or observed=True to adopt the future default and silence this warning.\n",
      "  df['dpt_pesudotime'] = adata.obs.groupby(['leiden','pred_class'])['dpt_pseudotime'].mean()\n",
      " 18%|█▊        | 54/307 [01:27<08:28,  2.01s/it]"
     ]
    },
    {
     "name": "stdout",
     "output_type": "stream",
     "text": [
      "9946.svs_238cols_215rows.csv.h5ad speed :26069.2955076969\n",
      "10380.svs_327cols_224rows.csv.h5ad\n"
     ]
    },
    {
     "name": "stderr",
     "output_type": "stream",
     "text": [
      "/tmp/ipykernel_291422/3061493562.py:22: FutureWarning: The default of observed=False is deprecated and will be changed to True in a future version of pandas. Pass observed=False to retain current behavior or observed=True to adopt the future default and silence this warning.\n",
      "  df['norm_col'] = adata.obs.groupby(['leiden','pred_class'])['n_col'].mean()/n_cols\n",
      "/tmp/ipykernel_291422/3061493562.py:23: FutureWarning: The default of observed=False is deprecated and will be changed to True in a future version of pandas. Pass observed=False to retain current behavior or observed=True to adopt the future default and silence this warning.\n",
      "  df['norm_row'] = adata.obs.groupby(['leiden','pred_class'])['n_row'].mean()/n_rows\n",
      "/tmp/ipykernel_291422/3061493562.py:24: FutureWarning: The default of observed=False is deprecated and will be changed to True in a future version of pandas. Pass observed=False to retain current behavior or observed=True to adopt the future default and silence this warning.\n",
      "  df['dpt_pesudotime'] = adata.obs.groupby(['leiden','pred_class'])['dpt_pseudotime'].mean()\n",
      " 18%|█▊        | 55/307 [01:29<08:50,  2.10s/it]"
     ]
    },
    {
     "name": "stdout",
     "output_type": "stream",
     "text": [
      "10380.svs_327cols_224rows.csv.h5ad speed :37347.639739831095\n",
      "NLSI0000185.svs_110cols_88rows.csv.h5ad\n"
     ]
    },
    {
     "name": "stderr",
     "output_type": "stream",
     "text": [
      "/tmp/ipykernel_291422/3061493562.py:22: FutureWarning: The default of observed=False is deprecated and will be changed to True in a future version of pandas. Pass observed=False to retain current behavior or observed=True to adopt the future default and silence this warning.\n",
      "  df['norm_col'] = adata.obs.groupby(['leiden','pred_class'])['n_col'].mean()/n_cols\n",
      "/tmp/ipykernel_291422/3061493562.py:23: FutureWarning: The default of observed=False is deprecated and will be changed to True in a future version of pandas. Pass observed=False to retain current behavior or observed=True to adopt the future default and silence this warning.\n",
      "  df['norm_row'] = adata.obs.groupby(['leiden','pred_class'])['n_row'].mean()/n_rows\n",
      "/tmp/ipykernel_291422/3061493562.py:24: FutureWarning: The default of observed=False is deprecated and will be changed to True in a future version of pandas. Pass observed=False to retain current behavior or observed=True to adopt the future default and silence this warning.\n",
      "  df['dpt_pesudotime'] = adata.obs.groupby(['leiden','pred_class'])['dpt_pseudotime'].mean()\n",
      " 18%|█▊        | 56/307 [01:30<06:49,  1.63s/it]"
     ]
    },
    {
     "name": "stdout",
     "output_type": "stream",
     "text": [
      "NLSI0000185.svs_110cols_88rows.csv.h5ad speed :1370.0060957823575\n",
      "10851.svs_298cols_210rows.csv.h5ad\n"
     ]
    },
    {
     "name": "stderr",
     "output_type": "stream",
     "text": [
      "/tmp/ipykernel_291422/3061493562.py:22: FutureWarning: The default of observed=False is deprecated and will be changed to True in a future version of pandas. Pass observed=False to retain current behavior or observed=True to adopt the future default and silence this warning.\n",
      "  df['norm_col'] = adata.obs.groupby(['leiden','pred_class'])['n_col'].mean()/n_cols\n",
      "/tmp/ipykernel_291422/3061493562.py:23: FutureWarning: The default of observed=False is deprecated and will be changed to True in a future version of pandas. Pass observed=False to retain current behavior or observed=True to adopt the future default and silence this warning.\n",
      "  df['norm_row'] = adata.obs.groupby(['leiden','pred_class'])['n_row'].mean()/n_rows\n",
      "/tmp/ipykernel_291422/3061493562.py:24: FutureWarning: The default of observed=False is deprecated and will be changed to True in a future version of pandas. Pass observed=False to retain current behavior or observed=True to adopt the future default and silence this warning.\n",
      "  df['dpt_pesudotime'] = adata.obs.groupby(['leiden','pred_class'])['dpt_pseudotime'].mean()\n",
      " 19%|█▊        | 57/307 [01:32<07:53,  1.90s/it]"
     ]
    },
    {
     "name": "stdout",
     "output_type": "stream",
     "text": [
      "10851.svs_298cols_210rows.csv.h5ad speed :34705.43746272748\n",
      "11192.svs_291cols_210rows.csv.h5ad\n"
     ]
    },
    {
     "name": "stderr",
     "output_type": "stream",
     "text": [
      "/tmp/ipykernel_291422/3061493562.py:22: FutureWarning: The default of observed=False is deprecated and will be changed to True in a future version of pandas. Pass observed=False to retain current behavior or observed=True to adopt the future default and silence this warning.\n",
      "  df['norm_col'] = adata.obs.groupby(['leiden','pred_class'])['n_col'].mean()/n_cols\n",
      "/tmp/ipykernel_291422/3061493562.py:23: FutureWarning: The default of observed=False is deprecated and will be changed to True in a future version of pandas. Pass observed=False to retain current behavior or observed=True to adopt the future default and silence this warning.\n",
      "  df['norm_row'] = adata.obs.groupby(['leiden','pred_class'])['n_row'].mean()/n_rows\n",
      "/tmp/ipykernel_291422/3061493562.py:24: FutureWarning: The default of observed=False is deprecated and will be changed to True in a future version of pandas. Pass observed=False to retain current behavior or observed=True to adopt the future default and silence this warning.\n",
      "  df['dpt_pesudotime'] = adata.obs.groupby(['leiden','pred_class'])['dpt_pseudotime'].mean()\n",
      " 19%|█▉        | 58/307 [01:34<08:10,  1.97s/it]"
     ]
    },
    {
     "name": "stdout",
     "output_type": "stream",
     "text": [
      "11192.svs_291cols_210rows.csv.h5ad speed :10867.330007413915\n",
      "11323.svs_269cols_169rows.csv.h5ad\n"
     ]
    },
    {
     "name": "stderr",
     "output_type": "stream",
     "text": [
      "/tmp/ipykernel_291422/3061493562.py:22: FutureWarning: The default of observed=False is deprecated and will be changed to True in a future version of pandas. Pass observed=False to retain current behavior or observed=True to adopt the future default and silence this warning.\n",
      "  df['norm_col'] = adata.obs.groupby(['leiden','pred_class'])['n_col'].mean()/n_cols\n",
      "/tmp/ipykernel_291422/3061493562.py:23: FutureWarning: The default of observed=False is deprecated and will be changed to True in a future version of pandas. Pass observed=False to retain current behavior or observed=True to adopt the future default and silence this warning.\n",
      "  df['norm_row'] = adata.obs.groupby(['leiden','pred_class'])['n_row'].mean()/n_rows\n",
      "/tmp/ipykernel_291422/3061493562.py:24: FutureWarning: The default of observed=False is deprecated and will be changed to True in a future version of pandas. Pass observed=False to retain current behavior or observed=True to adopt the future default and silence this warning.\n",
      "  df['dpt_pesudotime'] = adata.obs.groupby(['leiden','pred_class'])['dpt_pseudotime'].mean()\n",
      " 19%|█▉        | 59/307 [01:36<07:49,  1.89s/it]"
     ]
    },
    {
     "name": "stdout",
     "output_type": "stream",
     "text": [
      "11323.svs_269cols_169rows.csv.h5ad speed :9785.967041326981\n",
      "11463.svs_135cols_124rows.csv.h5ad\n"
     ]
    },
    {
     "name": "stderr",
     "output_type": "stream",
     "text": [
      "/tmp/ipykernel_291422/3061493562.py:22: FutureWarning: The default of observed=False is deprecated and will be changed to True in a future version of pandas. Pass observed=False to retain current behavior or observed=True to adopt the future default and silence this warning.\n",
      "  df['norm_col'] = adata.obs.groupby(['leiden','pred_class'])['n_col'].mean()/n_cols\n",
      "/tmp/ipykernel_291422/3061493562.py:23: FutureWarning: The default of observed=False is deprecated and will be changed to True in a future version of pandas. Pass observed=False to retain current behavior or observed=True to adopt the future default and silence this warning.\n",
      "  df['norm_row'] = adata.obs.groupby(['leiden','pred_class'])['n_row'].mean()/n_rows\n",
      "/tmp/ipykernel_291422/3061493562.py:24: FutureWarning: The default of observed=False is deprecated and will be changed to True in a future version of pandas. Pass observed=False to retain current behavior or observed=True to adopt the future default and silence this warning.\n",
      "  df['dpt_pesudotime'] = adata.obs.groupby(['leiden','pred_class'])['dpt_pseudotime'].mean()\n",
      " 20%|█▉        | 60/307 [01:38<07:18,  1.78s/it]"
     ]
    },
    {
     "name": "stdout",
     "output_type": "stream",
     "text": [
      "11463.svs_135cols_124rows.csv.h5ad speed :14178.191305480088\n",
      "9723.svs_236cols_191rows.csv.h5ad\n"
     ]
    },
    {
     "name": "stderr",
     "output_type": "stream",
     "text": [
      "/tmp/ipykernel_291422/3061493562.py:22: FutureWarning: The default of observed=False is deprecated and will be changed to True in a future version of pandas. Pass observed=False to retain current behavior or observed=True to adopt the future default and silence this warning.\n",
      "  df['norm_col'] = adata.obs.groupby(['leiden','pred_class'])['n_col'].mean()/n_cols\n",
      "/tmp/ipykernel_291422/3061493562.py:23: FutureWarning: The default of observed=False is deprecated and will be changed to True in a future version of pandas. Pass observed=False to retain current behavior or observed=True to adopt the future default and silence this warning.\n",
      "  df['norm_row'] = adata.obs.groupby(['leiden','pred_class'])['n_row'].mean()/n_rows\n",
      "/tmp/ipykernel_291422/3061493562.py:24: FutureWarning: The default of observed=False is deprecated and will be changed to True in a future version of pandas. Pass observed=False to retain current behavior or observed=True to adopt the future default and silence this warning.\n",
      "  df['dpt_pesudotime'] = adata.obs.groupby(['leiden','pred_class'])['dpt_pseudotime'].mean()\n",
      " 20%|█▉        | 61/307 [01:39<06:49,  1.67s/it]"
     ]
    },
    {
     "name": "stdout",
     "output_type": "stream",
     "text": [
      "9723.svs_236cols_191rows.csv.h5ad speed :3680.9334690093283\n",
      "9738.svs_217cols_185rows.csv.h5ad\n"
     ]
    },
    {
     "name": "stderr",
     "output_type": "stream",
     "text": [
      "/tmp/ipykernel_291422/3061493562.py:22: FutureWarning: The default of observed=False is deprecated and will be changed to True in a future version of pandas. Pass observed=False to retain current behavior or observed=True to adopt the future default and silence this warning.\n",
      "  df['norm_col'] = adata.obs.groupby(['leiden','pred_class'])['n_col'].mean()/n_cols\n",
      "/tmp/ipykernel_291422/3061493562.py:23: FutureWarning: The default of observed=False is deprecated and will be changed to True in a future version of pandas. Pass observed=False to retain current behavior or observed=True to adopt the future default and silence this warning.\n",
      "  df['norm_row'] = adata.obs.groupby(['leiden','pred_class'])['n_row'].mean()/n_rows\n",
      "/tmp/ipykernel_291422/3061493562.py:24: FutureWarning: The default of observed=False is deprecated and will be changed to True in a future version of pandas. Pass observed=False to retain current behavior or observed=True to adopt the future default and silence this warning.\n",
      "  df['dpt_pesudotime'] = adata.obs.groupby(['leiden','pred_class'])['dpt_pseudotime'].mean()\n",
      " 20%|██        | 62/307 [01:40<06:34,  1.61s/it]"
     ]
    },
    {
     "name": "stdout",
     "output_type": "stream",
     "text": [
      "9738.svs_217cols_185rows.csv.h5ad speed :5049.215546774581\n",
      "11336.svs_207cols_151rows.csv.h5ad\n"
     ]
    },
    {
     "name": "stderr",
     "output_type": "stream",
     "text": [
      "/tmp/ipykernel_291422/3061493562.py:22: FutureWarning: The default of observed=False is deprecated and will be changed to True in a future version of pandas. Pass observed=False to retain current behavior or observed=True to adopt the future default and silence this warning.\n",
      "  df['norm_col'] = adata.obs.groupby(['leiden','pred_class'])['n_col'].mean()/n_cols\n",
      "/tmp/ipykernel_291422/3061493562.py:23: FutureWarning: The default of observed=False is deprecated and will be changed to True in a future version of pandas. Pass observed=False to retain current behavior or observed=True to adopt the future default and silence this warning.\n",
      "  df['norm_row'] = adata.obs.groupby(['leiden','pred_class'])['n_row'].mean()/n_rows\n",
      "/tmp/ipykernel_291422/3061493562.py:24: FutureWarning: The default of observed=False is deprecated and will be changed to True in a future version of pandas. Pass observed=False to retain current behavior or observed=True to adopt the future default and silence this warning.\n",
      "  df['dpt_pesudotime'] = adata.obs.groupby(['leiden','pred_class'])['dpt_pseudotime'].mean()\n",
      " 21%|██        | 63/307 [01:43<07:27,  1.84s/it]"
     ]
    },
    {
     "name": "stdout",
     "output_type": "stream",
     "text": [
      "11336.svs_207cols_151rows.csv.h5ad speed :5259.554129122237\n",
      "11036.svs_236cols_193rows.csv.h5ad\n"
     ]
    },
    {
     "name": "stderr",
     "output_type": "stream",
     "text": [
      "/tmp/ipykernel_291422/3061493562.py:22: FutureWarning: The default of observed=False is deprecated and will be changed to True in a future version of pandas. Pass observed=False to retain current behavior or observed=True to adopt the future default and silence this warning.\n",
      "  df['norm_col'] = adata.obs.groupby(['leiden','pred_class'])['n_col'].mean()/n_cols\n",
      "/tmp/ipykernel_291422/3061493562.py:23: FutureWarning: The default of observed=False is deprecated and will be changed to True in a future version of pandas. Pass observed=False to retain current behavior or observed=True to adopt the future default and silence this warning.\n",
      "  df['norm_row'] = adata.obs.groupby(['leiden','pred_class'])['n_row'].mean()/n_rows\n",
      "/tmp/ipykernel_291422/3061493562.py:24: FutureWarning: The default of observed=False is deprecated and will be changed to True in a future version of pandas. Pass observed=False to retain current behavior or observed=True to adopt the future default and silence this warning.\n",
      "  df['dpt_pesudotime'] = adata.obs.groupby(['leiden','pred_class'])['dpt_pseudotime'].mean()\n",
      " 21%|██        | 64/307 [01:45<07:27,  1.84s/it]"
     ]
    },
    {
     "name": "stdout",
     "output_type": "stream",
     "text": [
      "11036.svs_236cols_193rows.csv.h5ad speed :20022.163012570847\n",
      "NLSI0000156.svs_115cols_77rows.csv.h5ad\n"
     ]
    },
    {
     "name": "stderr",
     "output_type": "stream",
     "text": [
      "/tmp/ipykernel_291422/3061493562.py:22: FutureWarning: The default of observed=False is deprecated and will be changed to True in a future version of pandas. Pass observed=False to retain current behavior or observed=True to adopt the future default and silence this warning.\n",
      "  df['norm_col'] = adata.obs.groupby(['leiden','pred_class'])['n_col'].mean()/n_cols\n",
      "/tmp/ipykernel_291422/3061493562.py:23: FutureWarning: The default of observed=False is deprecated and will be changed to True in a future version of pandas. Pass observed=False to retain current behavior or observed=True to adopt the future default and silence this warning.\n",
      "  df['norm_row'] = adata.obs.groupby(['leiden','pred_class'])['n_row'].mean()/n_rows\n",
      "/tmp/ipykernel_291422/3061493562.py:24: FutureWarning: The default of observed=False is deprecated and will be changed to True in a future version of pandas. Pass observed=False to retain current behavior or observed=True to adopt the future default and silence this warning.\n",
      "  df['dpt_pesudotime'] = adata.obs.groupby(['leiden','pred_class'])['dpt_pseudotime'].mean()\n",
      " 21%|██        | 65/307 [01:45<05:55,  1.47s/it]"
     ]
    },
    {
     "name": "stdout",
     "output_type": "stream",
     "text": [
      "NLSI0000156.svs_115cols_77rows.csv.h5ad speed :4775.2965355027245\n",
      "NLSI0000120.svs_150cols_118rows.csv.h5ad\n"
     ]
    },
    {
     "name": "stderr",
     "output_type": "stream",
     "text": [
      "/tmp/ipykernel_291422/3061493562.py:22: FutureWarning: The default of observed=False is deprecated and will be changed to True in a future version of pandas. Pass observed=False to retain current behavior or observed=True to adopt the future default and silence this warning.\n",
      "  df['norm_col'] = adata.obs.groupby(['leiden','pred_class'])['n_col'].mean()/n_cols\n",
      "/tmp/ipykernel_291422/3061493562.py:23: FutureWarning: The default of observed=False is deprecated and will be changed to True in a future version of pandas. Pass observed=False to retain current behavior or observed=True to adopt the future default and silence this warning.\n",
      "  df['norm_row'] = adata.obs.groupby(['leiden','pred_class'])['n_row'].mean()/n_rows\n",
      "/tmp/ipykernel_291422/3061493562.py:24: FutureWarning: The default of observed=False is deprecated and will be changed to True in a future version of pandas. Pass observed=False to retain current behavior or observed=True to adopt the future default and silence this warning.\n",
      "  df['dpt_pesudotime'] = adata.obs.groupby(['leiden','pred_class'])['dpt_pseudotime'].mean()\n",
      " 21%|██▏       | 66/307 [01:47<06:12,  1.54s/it]"
     ]
    },
    {
     "name": "stdout",
     "output_type": "stream",
     "text": [
      "NLSI0000120.svs_150cols_118rows.csv.h5ad speed :0.0\n",
      "NLSI0000055.svs_145cols_89rows.csv.h5ad\n"
     ]
    },
    {
     "name": "stderr",
     "output_type": "stream",
     "text": [
      "/tmp/ipykernel_291422/3061493562.py:22: FutureWarning: The default of observed=False is deprecated and will be changed to True in a future version of pandas. Pass observed=False to retain current behavior or observed=True to adopt the future default and silence this warning.\n",
      "  df['norm_col'] = adata.obs.groupby(['leiden','pred_class'])['n_col'].mean()/n_cols\n",
      "/tmp/ipykernel_291422/3061493562.py:23: FutureWarning: The default of observed=False is deprecated and will be changed to True in a future version of pandas. Pass observed=False to retain current behavior or observed=True to adopt the future default and silence this warning.\n",
      "  df['norm_row'] = adata.obs.groupby(['leiden','pred_class'])['n_row'].mean()/n_rows\n",
      "/tmp/ipykernel_291422/3061493562.py:24: FutureWarning: The default of observed=False is deprecated and will be changed to True in a future version of pandas. Pass observed=False to retain current behavior or observed=True to adopt the future default and silence this warning.\n",
      "  df['dpt_pesudotime'] = adata.obs.groupby(['leiden','pred_class'])['dpt_pseudotime'].mean()\n",
      " 22%|██▏       | 67/307 [01:48<05:33,  1.39s/it]"
     ]
    },
    {
     "name": "stdout",
     "output_type": "stream",
     "text": [
      "NLSI0000055.svs_145cols_89rows.csv.h5ad speed :63317.43624079597\n",
      "9545.svs_133cols_132rows.csv.h5ad\n"
     ]
    },
    {
     "name": "stderr",
     "output_type": "stream",
     "text": [
      "/tmp/ipykernel_291422/3061493562.py:22: FutureWarning: The default of observed=False is deprecated and will be changed to True in a future version of pandas. Pass observed=False to retain current behavior or observed=True to adopt the future default and silence this warning.\n",
      "  df['norm_col'] = adata.obs.groupby(['leiden','pred_class'])['n_col'].mean()/n_cols\n",
      "/tmp/ipykernel_291422/3061493562.py:23: FutureWarning: The default of observed=False is deprecated and will be changed to True in a future version of pandas. Pass observed=False to retain current behavior or observed=True to adopt the future default and silence this warning.\n",
      "  df['norm_row'] = adata.obs.groupby(['leiden','pred_class'])['n_row'].mean()/n_rows\n",
      "/tmp/ipykernel_291422/3061493562.py:24: FutureWarning: The default of observed=False is deprecated and will be changed to True in a future version of pandas. Pass observed=False to retain current behavior or observed=True to adopt the future default and silence this warning.\n",
      "  df['dpt_pesudotime'] = adata.obs.groupby(['leiden','pred_class'])['dpt_pseudotime'].mean()\n",
      " 22%|██▏       | 68/307 [01:49<05:32,  1.39s/it]"
     ]
    },
    {
     "name": "stdout",
     "output_type": "stream",
     "text": [
      "9545.svs_133cols_132rows.csv.h5ad speed :4402.195042278901\n",
      "11240.svs_236cols_210rows.csv.h5ad\n"
     ]
    },
    {
     "name": "stderr",
     "output_type": "stream",
     "text": [
      "/tmp/ipykernel_291422/3061493562.py:22: FutureWarning: The default of observed=False is deprecated and will be changed to True in a future version of pandas. Pass observed=False to retain current behavior or observed=True to adopt the future default and silence this warning.\n",
      "  df['norm_col'] = adata.obs.groupby(['leiden','pred_class'])['n_col'].mean()/n_cols\n",
      "/tmp/ipykernel_291422/3061493562.py:23: FutureWarning: The default of observed=False is deprecated and will be changed to True in a future version of pandas. Pass observed=False to retain current behavior or observed=True to adopt the future default and silence this warning.\n",
      "  df['norm_row'] = adata.obs.groupby(['leiden','pred_class'])['n_row'].mean()/n_rows\n",
      "/tmp/ipykernel_291422/3061493562.py:24: FutureWarning: The default of observed=False is deprecated and will be changed to True in a future version of pandas. Pass observed=False to retain current behavior or observed=True to adopt the future default and silence this warning.\n",
      "  df['dpt_pesudotime'] = adata.obs.groupby(['leiden','pred_class'])['dpt_pseudotime'].mean()\n",
      " 22%|██▏       | 69/307 [01:52<06:35,  1.66s/it]"
     ]
    },
    {
     "name": "stdout",
     "output_type": "stream",
     "text": [
      "11240.svs_236cols_210rows.csv.h5ad speed :22249.859226528042\n",
      "10027.svs_87cols_71rows.csv.h5ad\n"
     ]
    },
    {
     "name": "stderr",
     "output_type": "stream",
     "text": [
      "/tmp/ipykernel_291422/3061493562.py:22: FutureWarning: The default of observed=False is deprecated and will be changed to True in a future version of pandas. Pass observed=False to retain current behavior or observed=True to adopt the future default and silence this warning.\n",
      "  df['norm_col'] = adata.obs.groupby(['leiden','pred_class'])['n_col'].mean()/n_cols\n",
      "/tmp/ipykernel_291422/3061493562.py:23: FutureWarning: The default of observed=False is deprecated and will be changed to True in a future version of pandas. Pass observed=False to retain current behavior or observed=True to adopt the future default and silence this warning.\n",
      "  df['norm_row'] = adata.obs.groupby(['leiden','pred_class'])['n_row'].mean()/n_rows\n",
      "/tmp/ipykernel_291422/3061493562.py:24: FutureWarning: The default of observed=False is deprecated and will be changed to True in a future version of pandas. Pass observed=False to retain current behavior or observed=True to adopt the future default and silence this warning.\n",
      "  df['dpt_pesudotime'] = adata.obs.groupby(['leiden','pred_class'])['dpt_pseudotime'].mean()\n",
      " 23%|██▎       | 70/307 [01:52<05:20,  1.35s/it]"
     ]
    },
    {
     "name": "stdout",
     "output_type": "stream",
     "text": [
      "10027.svs_87cols_71rows.csv.h5ad speed :3340.481627161247\n",
      "10417.svs_219cols_154rows.csv.h5ad\n"
     ]
    },
    {
     "name": "stderr",
     "output_type": "stream",
     "text": [
      "/tmp/ipykernel_291422/3061493562.py:22: FutureWarning: The default of observed=False is deprecated and will be changed to True in a future version of pandas. Pass observed=False to retain current behavior or observed=True to adopt the future default and silence this warning.\n",
      "  df['norm_col'] = adata.obs.groupby(['leiden','pred_class'])['n_col'].mean()/n_cols\n",
      "/tmp/ipykernel_291422/3061493562.py:23: FutureWarning: The default of observed=False is deprecated and will be changed to True in a future version of pandas. Pass observed=False to retain current behavior or observed=True to adopt the future default and silence this warning.\n",
      "  df['norm_row'] = adata.obs.groupby(['leiden','pred_class'])['n_row'].mean()/n_rows\n",
      "/tmp/ipykernel_291422/3061493562.py:24: FutureWarning: The default of observed=False is deprecated and will be changed to True in a future version of pandas. Pass observed=False to retain current behavior or observed=True to adopt the future default and silence this warning.\n",
      "  df['dpt_pesudotime'] = adata.obs.groupby(['leiden','pred_class'])['dpt_pseudotime'].mean()\n",
      " 23%|██▎       | 71/307 [01:54<05:20,  1.36s/it]"
     ]
    },
    {
     "name": "stdout",
     "output_type": "stream",
     "text": [
      "10417.svs_219cols_154rows.csv.h5ad speed :9374.992327307393\n",
      "NLSI0000293.svs_155cols_112rows.csv.h5ad\n"
     ]
    },
    {
     "name": "stderr",
     "output_type": "stream",
     "text": [
      "/tmp/ipykernel_291422/3061493562.py:22: FutureWarning: The default of observed=False is deprecated and will be changed to True in a future version of pandas. Pass observed=False to retain current behavior or observed=True to adopt the future default and silence this warning.\n",
      "  df['norm_col'] = adata.obs.groupby(['leiden','pred_class'])['n_col'].mean()/n_cols\n",
      "/tmp/ipykernel_291422/3061493562.py:23: FutureWarning: The default of observed=False is deprecated and will be changed to True in a future version of pandas. Pass observed=False to retain current behavior or observed=True to adopt the future default and silence this warning.\n",
      "  df['norm_row'] = adata.obs.groupby(['leiden','pred_class'])['n_row'].mean()/n_rows\n",
      "/tmp/ipykernel_291422/3061493562.py:24: FutureWarning: The default of observed=False is deprecated and will be changed to True in a future version of pandas. Pass observed=False to retain current behavior or observed=True to adopt the future default and silence this warning.\n",
      "  df['dpt_pesudotime'] = adata.obs.groupby(['leiden','pred_class'])['dpt_pseudotime'].mean()\n",
      " 23%|██▎       | 72/307 [01:55<05:24,  1.38s/it]"
     ]
    },
    {
     "name": "stdout",
     "output_type": "stream",
     "text": [
      "NLSI0000293.svs_155cols_112rows.csv.h5ad speed :13662.44130682081\n",
      "NLSI0000025.svs_125cols_106rows.csv.h5ad\n"
     ]
    },
    {
     "name": "stderr",
     "output_type": "stream",
     "text": [
      "/tmp/ipykernel_291422/3061493562.py:22: FutureWarning: The default of observed=False is deprecated and will be changed to True in a future version of pandas. Pass observed=False to retain current behavior or observed=True to adopt the future default and silence this warning.\n",
      "  df['norm_col'] = adata.obs.groupby(['leiden','pred_class'])['n_col'].mean()/n_cols\n",
      "/tmp/ipykernel_291422/3061493562.py:23: FutureWarning: The default of observed=False is deprecated and will be changed to True in a future version of pandas. Pass observed=False to retain current behavior or observed=True to adopt the future default and silence this warning.\n",
      "  df['norm_row'] = adata.obs.groupby(['leiden','pred_class'])['n_row'].mean()/n_rows\n",
      "/tmp/ipykernel_291422/3061493562.py:24: FutureWarning: The default of observed=False is deprecated and will be changed to True in a future version of pandas. Pass observed=False to retain current behavior or observed=True to adopt the future default and silence this warning.\n",
      "  df['dpt_pesudotime'] = adata.obs.groupby(['leiden','pred_class'])['dpt_pseudotime'].mean()\n",
      " 24%|██▍       | 73/307 [01:56<04:59,  1.28s/it]"
     ]
    },
    {
     "name": "stdout",
     "output_type": "stream",
     "text": [
      "NLSI0000025.svs_125cols_106rows.csv.h5ad speed :16407.543454694558\n",
      "NLSI0000269.svs_155cols_111rows.csv.h5ad\n"
     ]
    },
    {
     "name": "stderr",
     "output_type": "stream",
     "text": [
      "/tmp/ipykernel_291422/3061493562.py:22: FutureWarning: The default of observed=False is deprecated and will be changed to True in a future version of pandas. Pass observed=False to retain current behavior or observed=True to adopt the future default and silence this warning.\n",
      "  df['norm_col'] = adata.obs.groupby(['leiden','pred_class'])['n_col'].mean()/n_cols\n",
      "/tmp/ipykernel_291422/3061493562.py:23: FutureWarning: The default of observed=False is deprecated and will be changed to True in a future version of pandas. Pass observed=False to retain current behavior or observed=True to adopt the future default and silence this warning.\n",
      "  df['norm_row'] = adata.obs.groupby(['leiden','pred_class'])['n_row'].mean()/n_rows\n",
      "/tmp/ipykernel_291422/3061493562.py:24: FutureWarning: The default of observed=False is deprecated and will be changed to True in a future version of pandas. Pass observed=False to retain current behavior or observed=True to adopt the future default and silence this warning.\n",
      "  df['dpt_pesudotime'] = adata.obs.groupby(['leiden','pred_class'])['dpt_pseudotime'].mean()\n",
      " 24%|██▍       | 74/307 [01:58<05:23,  1.39s/it]"
     ]
    },
    {
     "name": "stdout",
     "output_type": "stream",
     "text": [
      "NLSI0000269.svs_155cols_111rows.csv.h5ad speed :17607.91320167273\n",
      "11786.svs_80cols_77rows.csv.h5ad\n"
     ]
    },
    {
     "name": "stderr",
     "output_type": "stream",
     "text": [
      "/tmp/ipykernel_291422/3061493562.py:22: FutureWarning: The default of observed=False is deprecated and will be changed to True in a future version of pandas. Pass observed=False to retain current behavior or observed=True to adopt the future default and silence this warning.\n",
      "  df['norm_col'] = adata.obs.groupby(['leiden','pred_class'])['n_col'].mean()/n_cols\n",
      "/tmp/ipykernel_291422/3061493562.py:23: FutureWarning: The default of observed=False is deprecated and will be changed to True in a future version of pandas. Pass observed=False to retain current behavior or observed=True to adopt the future default and silence this warning.\n",
      "  df['norm_row'] = adata.obs.groupby(['leiden','pred_class'])['n_row'].mean()/n_rows\n",
      "/tmp/ipykernel_291422/3061493562.py:24: FutureWarning: The default of observed=False is deprecated and will be changed to True in a future version of pandas. Pass observed=False to retain current behavior or observed=True to adopt the future default and silence this warning.\n",
      "  df['dpt_pesudotime'] = adata.obs.groupby(['leiden','pred_class'])['dpt_pseudotime'].mean()\n",
      " 24%|██▍       | 75/307 [01:59<04:37,  1.20s/it]"
     ]
    },
    {
     "name": "stdout",
     "output_type": "stream",
     "text": [
      "11786.svs_80cols_77rows.csv.h5ad speed :6347.071172775785\n",
      "NLSI0000166.svs_180cols_114rows.csv.h5ad\n"
     ]
    },
    {
     "name": "stderr",
     "output_type": "stream",
     "text": [
      "/tmp/ipykernel_291422/3061493562.py:22: FutureWarning: The default of observed=False is deprecated and will be changed to True in a future version of pandas. Pass observed=False to retain current behavior or observed=True to adopt the future default and silence this warning.\n",
      "  df['norm_col'] = adata.obs.groupby(['leiden','pred_class'])['n_col'].mean()/n_cols\n",
      "/tmp/ipykernel_291422/3061493562.py:23: FutureWarning: The default of observed=False is deprecated and will be changed to True in a future version of pandas. Pass observed=False to retain current behavior or observed=True to adopt the future default and silence this warning.\n",
      "  df['norm_row'] = adata.obs.groupby(['leiden','pred_class'])['n_row'].mean()/n_rows\n",
      "/tmp/ipykernel_291422/3061493562.py:24: FutureWarning: The default of observed=False is deprecated and will be changed to True in a future version of pandas. Pass observed=False to retain current behavior or observed=True to adopt the future default and silence this warning.\n",
      "  df['dpt_pesudotime'] = adata.obs.groupby(['leiden','pred_class'])['dpt_pseudotime'].mean()\n",
      " 25%|██▍       | 76/307 [02:00<05:16,  1.37s/it]"
     ]
    },
    {
     "name": "stdout",
     "output_type": "stream",
     "text": [
      "NLSI0000166.svs_180cols_114rows.csv.h5ad speed :44512.358127535284\n",
      "11458.svs_188cols_157rows.csv.h5ad\n"
     ]
    },
    {
     "name": "stderr",
     "output_type": "stream",
     "text": [
      "/tmp/ipykernel_291422/3061493562.py:22: FutureWarning: The default of observed=False is deprecated and will be changed to True in a future version of pandas. Pass observed=False to retain current behavior or observed=True to adopt the future default and silence this warning.\n",
      "  df['norm_col'] = adata.obs.groupby(['leiden','pred_class'])['n_col'].mean()/n_cols\n",
      "/tmp/ipykernel_291422/3061493562.py:23: FutureWarning: The default of observed=False is deprecated and will be changed to True in a future version of pandas. Pass observed=False to retain current behavior or observed=True to adopt the future default and silence this warning.\n",
      "  df['norm_row'] = adata.obs.groupby(['leiden','pred_class'])['n_row'].mean()/n_rows\n",
      "/tmp/ipykernel_291422/3061493562.py:24: FutureWarning: The default of observed=False is deprecated and will be changed to True in a future version of pandas. Pass observed=False to retain current behavior or observed=True to adopt the future default and silence this warning.\n",
      "  df['dpt_pesudotime'] = adata.obs.groupby(['leiden','pred_class'])['dpt_pseudotime'].mean()\n",
      " 25%|██▌       | 77/307 [02:02<05:06,  1.33s/it]"
     ]
    },
    {
     "name": "stdout",
     "output_type": "stream",
     "text": [
      "11458.svs_188cols_157rows.csv.h5ad speed :12408.236725410348\n",
      "9530.svs_356cols_215rows.csv.h5ad\n"
     ]
    },
    {
     "name": "stderr",
     "output_type": "stream",
     "text": [
      "/tmp/ipykernel_291422/3061493562.py:22: FutureWarning: The default of observed=False is deprecated and will be changed to True in a future version of pandas. Pass observed=False to retain current behavior or observed=True to adopt the future default and silence this warning.\n",
      "  df['norm_col'] = adata.obs.groupby(['leiden','pred_class'])['n_col'].mean()/n_cols\n",
      "/tmp/ipykernel_291422/3061493562.py:23: FutureWarning: The default of observed=False is deprecated and will be changed to True in a future version of pandas. Pass observed=False to retain current behavior or observed=True to adopt the future default and silence this warning.\n",
      "  df['norm_row'] = adata.obs.groupby(['leiden','pred_class'])['n_row'].mean()/n_rows\n",
      "/tmp/ipykernel_291422/3061493562.py:24: FutureWarning: The default of observed=False is deprecated and will be changed to True in a future version of pandas. Pass observed=False to retain current behavior or observed=True to adopt the future default and silence this warning.\n",
      "  df['dpt_pesudotime'] = adata.obs.groupby(['leiden','pred_class'])['dpt_pseudotime'].mean()\n",
      " 25%|██▌       | 78/307 [02:04<06:40,  1.75s/it]"
     ]
    },
    {
     "name": "stdout",
     "output_type": "stream",
     "text": [
      "9530.svs_356cols_215rows.csv.h5ad speed :14623.84960024629\n",
      "10499.svs_171cols_155rows.csv.h5ad\n"
     ]
    },
    {
     "name": "stderr",
     "output_type": "stream",
     "text": [
      "/tmp/ipykernel_291422/3061493562.py:22: FutureWarning: The default of observed=False is deprecated and will be changed to True in a future version of pandas. Pass observed=False to retain current behavior or observed=True to adopt the future default and silence this warning.\n",
      "  df['norm_col'] = adata.obs.groupby(['leiden','pred_class'])['n_col'].mean()/n_cols\n",
      "/tmp/ipykernel_291422/3061493562.py:23: FutureWarning: The default of observed=False is deprecated and will be changed to True in a future version of pandas. Pass observed=False to retain current behavior or observed=True to adopt the future default and silence this warning.\n",
      "  df['norm_row'] = adata.obs.groupby(['leiden','pred_class'])['n_row'].mean()/n_rows\n",
      "/tmp/ipykernel_291422/3061493562.py:24: FutureWarning: The default of observed=False is deprecated and will be changed to True in a future version of pandas. Pass observed=False to retain current behavior or observed=True to adopt the future default and silence this warning.\n",
      "  df['dpt_pesudotime'] = adata.obs.groupby(['leiden','pred_class'])['dpt_pseudotime'].mean()\n",
      " 26%|██▌       | 79/307 [02:07<07:18,  1.92s/it]"
     ]
    },
    {
     "name": "stdout",
     "output_type": "stream",
     "text": [
      "10499.svs_171cols_155rows.csv.h5ad speed :60606.72466030014\n",
      "11438.svs_293cols_210rows.csv.h5ad\n"
     ]
    },
    {
     "name": "stderr",
     "output_type": "stream",
     "text": [
      "/tmp/ipykernel_291422/3061493562.py:22: FutureWarning: The default of observed=False is deprecated and will be changed to True in a future version of pandas. Pass observed=False to retain current behavior or observed=True to adopt the future default and silence this warning.\n",
      "  df['norm_col'] = adata.obs.groupby(['leiden','pred_class'])['n_col'].mean()/n_cols\n",
      "/tmp/ipykernel_291422/3061493562.py:23: FutureWarning: The default of observed=False is deprecated and will be changed to True in a future version of pandas. Pass observed=False to retain current behavior or observed=True to adopt the future default and silence this warning.\n",
      "  df['norm_row'] = adata.obs.groupby(['leiden','pred_class'])['n_row'].mean()/n_rows\n",
      "/tmp/ipykernel_291422/3061493562.py:24: FutureWarning: The default of observed=False is deprecated and will be changed to True in a future version of pandas. Pass observed=False to retain current behavior or observed=True to adopt the future default and silence this warning.\n",
      "  df['dpt_pesudotime'] = adata.obs.groupby(['leiden','pred_class'])['dpt_pseudotime'].mean()\n",
      " 26%|██▌       | 80/307 [02:08<07:05,  1.88s/it]"
     ]
    },
    {
     "name": "stdout",
     "output_type": "stream",
     "text": [
      "11438.svs_293cols_210rows.csv.h5ad speed :5959.38017956644\n",
      "10506.svs_248cols_181rows.csv.h5ad\n"
     ]
    },
    {
     "name": "stderr",
     "output_type": "stream",
     "text": [
      "/tmp/ipykernel_291422/3061493562.py:22: FutureWarning: The default of observed=False is deprecated and will be changed to True in a future version of pandas. Pass observed=False to retain current behavior or observed=True to adopt the future default and silence this warning.\n",
      "  df['norm_col'] = adata.obs.groupby(['leiden','pred_class'])['n_col'].mean()/n_cols\n",
      "/tmp/ipykernel_291422/3061493562.py:23: FutureWarning: The default of observed=False is deprecated and will be changed to True in a future version of pandas. Pass observed=False to retain current behavior or observed=True to adopt the future default and silence this warning.\n",
      "  df['norm_row'] = adata.obs.groupby(['leiden','pred_class'])['n_row'].mean()/n_rows\n",
      "/tmp/ipykernel_291422/3061493562.py:24: FutureWarning: The default of observed=False is deprecated and will be changed to True in a future version of pandas. Pass observed=False to retain current behavior or observed=True to adopt the future default and silence this warning.\n",
      "  df['dpt_pesudotime'] = adata.obs.groupby(['leiden','pred_class'])['dpt_pseudotime'].mean()\n",
      " 26%|██▋       | 81/307 [02:11<07:19,  1.94s/it]"
     ]
    },
    {
     "name": "stdout",
     "output_type": "stream",
     "text": [
      "10506.svs_248cols_181rows.csv.h5ad speed :30942.31765127012\n",
      "11368.svs_260cols_194rows.csv.h5ad\n"
     ]
    },
    {
     "name": "stderr",
     "output_type": "stream",
     "text": [
      "/tmp/ipykernel_291422/3061493562.py:22: FutureWarning: The default of observed=False is deprecated and will be changed to True in a future version of pandas. Pass observed=False to retain current behavior or observed=True to adopt the future default and silence this warning.\n",
      "  df['norm_col'] = adata.obs.groupby(['leiden','pred_class'])['n_col'].mean()/n_cols\n",
      "/tmp/ipykernel_291422/3061493562.py:23: FutureWarning: The default of observed=False is deprecated and will be changed to True in a future version of pandas. Pass observed=False to retain current behavior or observed=True to adopt the future default and silence this warning.\n",
      "  df['norm_row'] = adata.obs.groupby(['leiden','pred_class'])['n_row'].mean()/n_rows\n",
      "/tmp/ipykernel_291422/3061493562.py:24: FutureWarning: The default of observed=False is deprecated and will be changed to True in a future version of pandas. Pass observed=False to retain current behavior or observed=True to adopt the future default and silence this warning.\n",
      "  df['dpt_pesudotime'] = adata.obs.groupby(['leiden','pred_class'])['dpt_pseudotime'].mean()\n",
      " 27%|██▋       | 82/307 [02:12<07:05,  1.89s/it]"
     ]
    },
    {
     "name": "stdout",
     "output_type": "stream",
     "text": [
      "11368.svs_260cols_194rows.csv.h5ad speed :30252.620702927714\n",
      "11454.svs_241cols_210rows.csv.h5ad\n"
     ]
    },
    {
     "name": "stderr",
     "output_type": "stream",
     "text": [
      "/tmp/ipykernel_291422/3061493562.py:22: FutureWarning: The default of observed=False is deprecated and will be changed to True in a future version of pandas. Pass observed=False to retain current behavior or observed=True to adopt the future default and silence this warning.\n",
      "  df['norm_col'] = adata.obs.groupby(['leiden','pred_class'])['n_col'].mean()/n_cols\n",
      "/tmp/ipykernel_291422/3061493562.py:23: FutureWarning: The default of observed=False is deprecated and will be changed to True in a future version of pandas. Pass observed=False to retain current behavior or observed=True to adopt the future default and silence this warning.\n",
      "  df['norm_row'] = adata.obs.groupby(['leiden','pred_class'])['n_row'].mean()/n_rows\n",
      "/tmp/ipykernel_291422/3061493562.py:24: FutureWarning: The default of observed=False is deprecated and will be changed to True in a future version of pandas. Pass observed=False to retain current behavior or observed=True to adopt the future default and silence this warning.\n",
      "  df['dpt_pesudotime'] = adata.obs.groupby(['leiden','pred_class'])['dpt_pseudotime'].mean()\n",
      " 27%|██▋       | 83/307 [02:14<07:17,  1.95s/it]"
     ]
    },
    {
     "name": "stdout",
     "output_type": "stream",
     "text": [
      "11454.svs_241cols_210rows.csv.h5ad speed :26750.190376062055\n",
      "9993.svs_286cols_213rows.csv.h5ad\n"
     ]
    },
    {
     "name": "stderr",
     "output_type": "stream",
     "text": [
      "/tmp/ipykernel_291422/3061493562.py:22: FutureWarning: The default of observed=False is deprecated and will be changed to True in a future version of pandas. Pass observed=False to retain current behavior or observed=True to adopt the future default and silence this warning.\n",
      "  df['norm_col'] = adata.obs.groupby(['leiden','pred_class'])['n_col'].mean()/n_cols\n",
      "/tmp/ipykernel_291422/3061493562.py:23: FutureWarning: The default of observed=False is deprecated and will be changed to True in a future version of pandas. Pass observed=False to retain current behavior or observed=True to adopt the future default and silence this warning.\n",
      "  df['norm_row'] = adata.obs.groupby(['leiden','pred_class'])['n_row'].mean()/n_rows\n",
      "/tmp/ipykernel_291422/3061493562.py:24: FutureWarning: The default of observed=False is deprecated and will be changed to True in a future version of pandas. Pass observed=False to retain current behavior or observed=True to adopt the future default and silence this warning.\n",
      "  df['dpt_pesudotime'] = adata.obs.groupby(['leiden','pred_class'])['dpt_pseudotime'].mean()\n",
      " 27%|██▋       | 84/307 [02:17<07:40,  2.06s/it]"
     ]
    },
    {
     "name": "stdout",
     "output_type": "stream",
     "text": [
      "9993.svs_286cols_213rows.csv.h5ad speed :21135.191620695554\n",
      "11127.svs_248cols_187rows.csv.h5ad\n"
     ]
    },
    {
     "name": "stderr",
     "output_type": "stream",
     "text": [
      "/tmp/ipykernel_291422/3061493562.py:22: FutureWarning: The default of observed=False is deprecated and will be changed to True in a future version of pandas. Pass observed=False to retain current behavior or observed=True to adopt the future default and silence this warning.\n",
      "  df['norm_col'] = adata.obs.groupby(['leiden','pred_class'])['n_col'].mean()/n_cols\n",
      "/tmp/ipykernel_291422/3061493562.py:23: FutureWarning: The default of observed=False is deprecated and will be changed to True in a future version of pandas. Pass observed=False to retain current behavior or observed=True to adopt the future default and silence this warning.\n",
      "  df['norm_row'] = adata.obs.groupby(['leiden','pred_class'])['n_row'].mean()/n_rows\n",
      "/tmp/ipykernel_291422/3061493562.py:24: FutureWarning: The default of observed=False is deprecated and will be changed to True in a future version of pandas. Pass observed=False to retain current behavior or observed=True to adopt the future default and silence this warning.\n",
      "  df['dpt_pesudotime'] = adata.obs.groupby(['leiden','pred_class'])['dpt_pseudotime'].mean()\n",
      " 28%|██▊       | 85/307 [02:19<07:28,  2.02s/it]"
     ]
    },
    {
     "name": "stdout",
     "output_type": "stream",
     "text": [
      "11127.svs_248cols_187rows.csv.h5ad speed :7971.034444541742\n",
      "NLSI0000277.svs_105cols_86rows.csv.h5ad\n"
     ]
    },
    {
     "name": "stderr",
     "output_type": "stream",
     "text": [
      "/tmp/ipykernel_291422/3061493562.py:22: FutureWarning: The default of observed=False is deprecated and will be changed to True in a future version of pandas. Pass observed=False to retain current behavior or observed=True to adopt the future default and silence this warning.\n",
      "  df['norm_col'] = adata.obs.groupby(['leiden','pred_class'])['n_col'].mean()/n_cols\n",
      "/tmp/ipykernel_291422/3061493562.py:23: FutureWarning: The default of observed=False is deprecated and will be changed to True in a future version of pandas. Pass observed=False to retain current behavior or observed=True to adopt the future default and silence this warning.\n",
      "  df['norm_row'] = adata.obs.groupby(['leiden','pred_class'])['n_row'].mean()/n_rows\n",
      "/tmp/ipykernel_291422/3061493562.py:24: FutureWarning: The default of observed=False is deprecated and will be changed to True in a future version of pandas. Pass observed=False to retain current behavior or observed=True to adopt the future default and silence this warning.\n",
      "  df['dpt_pesudotime'] = adata.obs.groupby(['leiden','pred_class'])['dpt_pseudotime'].mean()\n",
      " 28%|██▊       | 86/307 [02:19<06:00,  1.63s/it]"
     ]
    },
    {
     "name": "stdout",
     "output_type": "stream",
     "text": [
      "NLSI0000277.svs_105cols_86rows.csv.h5ad speed :15188.032383842283\n",
      "10131.svs_238cols_201rows.csv.h5ad\n"
     ]
    },
    {
     "name": "stderr",
     "output_type": "stream",
     "text": [
      "/tmp/ipykernel_291422/3061493562.py:22: FutureWarning: The default of observed=False is deprecated and will be changed to True in a future version of pandas. Pass observed=False to retain current behavior or observed=True to adopt the future default and silence this warning.\n",
      "  df['norm_col'] = adata.obs.groupby(['leiden','pred_class'])['n_col'].mean()/n_cols\n",
      "/tmp/ipykernel_291422/3061493562.py:23: FutureWarning: The default of observed=False is deprecated and will be changed to True in a future version of pandas. Pass observed=False to retain current behavior or observed=True to adopt the future default and silence this warning.\n",
      "  df['norm_row'] = adata.obs.groupby(['leiden','pred_class'])['n_row'].mean()/n_rows\n",
      "/tmp/ipykernel_291422/3061493562.py:24: FutureWarning: The default of observed=False is deprecated and will be changed to True in a future version of pandas. Pass observed=False to retain current behavior or observed=True to adopt the future default and silence this warning.\n",
      "  df['dpt_pesudotime'] = adata.obs.groupby(['leiden','pred_class'])['dpt_pseudotime'].mean()\n",
      " 28%|██▊       | 87/307 [02:21<05:32,  1.51s/it]"
     ]
    },
    {
     "name": "stdout",
     "output_type": "stream",
     "text": [
      "10131.svs_238cols_201rows.csv.h5ad speed :4342.145159964986\n",
      "10378.svs_224cols_185rows.csv.h5ad\n"
     ]
    },
    {
     "name": "stderr",
     "output_type": "stream",
     "text": [
      "/tmp/ipykernel_291422/3061493562.py:22: FutureWarning: The default of observed=False is deprecated and will be changed to True in a future version of pandas. Pass observed=False to retain current behavior or observed=True to adopt the future default and silence this warning.\n",
      "  df['norm_col'] = adata.obs.groupby(['leiden','pred_class'])['n_col'].mean()/n_cols\n",
      "/tmp/ipykernel_291422/3061493562.py:23: FutureWarning: The default of observed=False is deprecated and will be changed to True in a future version of pandas. Pass observed=False to retain current behavior or observed=True to adopt the future default and silence this warning.\n",
      "  df['norm_row'] = adata.obs.groupby(['leiden','pred_class'])['n_row'].mean()/n_rows\n",
      "/tmp/ipykernel_291422/3061493562.py:24: FutureWarning: The default of observed=False is deprecated and will be changed to True in a future version of pandas. Pass observed=False to retain current behavior or observed=True to adopt the future default and silence this warning.\n",
      "  df['dpt_pesudotime'] = adata.obs.groupby(['leiden','pred_class'])['dpt_pseudotime'].mean()\n",
      " 29%|██▊       | 88/307 [02:22<05:40,  1.55s/it]"
     ]
    },
    {
     "name": "stdout",
     "output_type": "stream",
     "text": [
      "10378.svs_224cols_185rows.csv.h5ad speed :6900.244782096344\n",
      "11249.svs_221cols_160rows.csv.h5ad\n"
     ]
    },
    {
     "name": "stderr",
     "output_type": "stream",
     "text": [
      "/tmp/ipykernel_291422/3061493562.py:22: FutureWarning: The default of observed=False is deprecated and will be changed to True in a future version of pandas. Pass observed=False to retain current behavior or observed=True to adopt the future default and silence this warning.\n",
      "  df['norm_col'] = adata.obs.groupby(['leiden','pred_class'])['n_col'].mean()/n_cols\n",
      "/tmp/ipykernel_291422/3061493562.py:23: FutureWarning: The default of observed=False is deprecated and will be changed to True in a future version of pandas. Pass observed=False to retain current behavior or observed=True to adopt the future default and silence this warning.\n",
      "  df['norm_row'] = adata.obs.groupby(['leiden','pred_class'])['n_row'].mean()/n_rows\n",
      "/tmp/ipykernel_291422/3061493562.py:24: FutureWarning: The default of observed=False is deprecated and will be changed to True in a future version of pandas. Pass observed=False to retain current behavior or observed=True to adopt the future default and silence this warning.\n",
      "  df['dpt_pesudotime'] = adata.obs.groupby(['leiden','pred_class'])['dpt_pseudotime'].mean()\n",
      " 29%|██▉       | 89/307 [02:24<05:20,  1.47s/it]"
     ]
    },
    {
     "name": "stdout",
     "output_type": "stream",
     "text": [
      "11249.svs_221cols_160rows.csv.h5ad speed :28094.900463534075\n",
      "9388.svs_281cols_177rows.csv.h5ad\n"
     ]
    },
    {
     "name": "stderr",
     "output_type": "stream",
     "text": [
      "/tmp/ipykernel_291422/3061493562.py:22: FutureWarning: The default of observed=False is deprecated and will be changed to True in a future version of pandas. Pass observed=False to retain current behavior or observed=True to adopt the future default and silence this warning.\n",
      "  df['norm_col'] = adata.obs.groupby(['leiden','pred_class'])['n_col'].mean()/n_cols\n",
      "/tmp/ipykernel_291422/3061493562.py:23: FutureWarning: The default of observed=False is deprecated and will be changed to True in a future version of pandas. Pass observed=False to retain current behavior or observed=True to adopt the future default and silence this warning.\n",
      "  df['norm_row'] = adata.obs.groupby(['leiden','pred_class'])['n_row'].mean()/n_rows\n",
      "/tmp/ipykernel_291422/3061493562.py:24: FutureWarning: The default of observed=False is deprecated and will be changed to True in a future version of pandas. Pass observed=False to retain current behavior or observed=True to adopt the future default and silence this warning.\n",
      "  df['dpt_pesudotime'] = adata.obs.groupby(['leiden','pred_class'])['dpt_pseudotime'].mean()\n",
      " 29%|██▉       | 90/307 [02:26<06:00,  1.66s/it]"
     ]
    },
    {
     "name": "stdout",
     "output_type": "stream",
     "text": [
      "9388.svs_281cols_177rows.csv.h5ad speed :7863.30702336814\n",
      "10500.svs_329cols_198rows.csv.h5ad\n"
     ]
    },
    {
     "name": "stderr",
     "output_type": "stream",
     "text": [
      "/tmp/ipykernel_291422/3061493562.py:22: FutureWarning: The default of observed=False is deprecated and will be changed to True in a future version of pandas. Pass observed=False to retain current behavior or observed=True to adopt the future default and silence this warning.\n",
      "  df['norm_col'] = adata.obs.groupby(['leiden','pred_class'])['n_col'].mean()/n_cols\n",
      "/tmp/ipykernel_291422/3061493562.py:23: FutureWarning: The default of observed=False is deprecated and will be changed to True in a future version of pandas. Pass observed=False to retain current behavior or observed=True to adopt the future default and silence this warning.\n",
      "  df['norm_row'] = adata.obs.groupby(['leiden','pred_class'])['n_row'].mean()/n_rows\n",
      "/tmp/ipykernel_291422/3061493562.py:24: FutureWarning: The default of observed=False is deprecated and will be changed to True in a future version of pandas. Pass observed=False to retain current behavior or observed=True to adopt the future default and silence this warning.\n",
      "  df['dpt_pesudotime'] = adata.obs.groupby(['leiden','pred_class'])['dpt_pseudotime'].mean()\n",
      " 30%|██▉       | 91/307 [02:28<06:13,  1.73s/it]"
     ]
    },
    {
     "name": "stdout",
     "output_type": "stream",
     "text": [
      "10500.svs_329cols_198rows.csv.h5ad speed :8881.940038311312\n",
      "11262.svs_181cols_208rows.csv.h5ad\n"
     ]
    },
    {
     "name": "stderr",
     "output_type": "stream",
     "text": [
      "/tmp/ipykernel_291422/3061493562.py:22: FutureWarning: The default of observed=False is deprecated and will be changed to True in a future version of pandas. Pass observed=False to retain current behavior or observed=True to adopt the future default and silence this warning.\n",
      "  df['norm_col'] = adata.obs.groupby(['leiden','pred_class'])['n_col'].mean()/n_cols\n",
      "/tmp/ipykernel_291422/3061493562.py:23: FutureWarning: The default of observed=False is deprecated and will be changed to True in a future version of pandas. Pass observed=False to retain current behavior or observed=True to adopt the future default and silence this warning.\n",
      "  df['norm_row'] = adata.obs.groupby(['leiden','pred_class'])['n_row'].mean()/n_rows\n",
      "/tmp/ipykernel_291422/3061493562.py:24: FutureWarning: The default of observed=False is deprecated and will be changed to True in a future version of pandas. Pass observed=False to retain current behavior or observed=True to adopt the future default and silence this warning.\n",
      "  df['dpt_pesudotime'] = adata.obs.groupby(['leiden','pred_class'])['dpt_pseudotime'].mean()\n",
      " 30%|██▉       | 92/307 [02:29<06:25,  1.79s/it]"
     ]
    },
    {
     "name": "stdout",
     "output_type": "stream",
     "text": [
      "11262.svs_181cols_208rows.csv.h5ad speed :8496.744257121883\n",
      "9706.svs_277cols_206rows.csv.h5ad\n"
     ]
    },
    {
     "name": "stderr",
     "output_type": "stream",
     "text": [
      "/tmp/ipykernel_291422/3061493562.py:22: FutureWarning: The default of observed=False is deprecated and will be changed to True in a future version of pandas. Pass observed=False to retain current behavior or observed=True to adopt the future default and silence this warning.\n",
      "  df['norm_col'] = adata.obs.groupby(['leiden','pred_class'])['n_col'].mean()/n_cols\n",
      "/tmp/ipykernel_291422/3061493562.py:23: FutureWarning: The default of observed=False is deprecated and will be changed to True in a future version of pandas. Pass observed=False to retain current behavior or observed=True to adopt the future default and silence this warning.\n",
      "  df['norm_row'] = adata.obs.groupby(['leiden','pred_class'])['n_row'].mean()/n_rows\n",
      "/tmp/ipykernel_291422/3061493562.py:24: FutureWarning: The default of observed=False is deprecated and will be changed to True in a future version of pandas. Pass observed=False to retain current behavior or observed=True to adopt the future default and silence this warning.\n",
      "  df['dpt_pesudotime'] = adata.obs.groupby(['leiden','pred_class'])['dpt_pseudotime'].mean()\n",
      " 30%|███       | 93/307 [02:32<06:41,  1.87s/it]"
     ]
    },
    {
     "name": "stdout",
     "output_type": "stream",
     "text": [
      "9706.svs_277cols_206rows.csv.h5ad speed :3787.2200065792363\n",
      "11295.svs_245cols_193rows.csv.h5ad\n"
     ]
    },
    {
     "name": "stderr",
     "output_type": "stream",
     "text": [
      "/tmp/ipykernel_291422/3061493562.py:22: FutureWarning: The default of observed=False is deprecated and will be changed to True in a future version of pandas. Pass observed=False to retain current behavior or observed=True to adopt the future default and silence this warning.\n",
      "  df['norm_col'] = adata.obs.groupby(['leiden','pred_class'])['n_col'].mean()/n_cols\n",
      "/tmp/ipykernel_291422/3061493562.py:23: FutureWarning: The default of observed=False is deprecated and will be changed to True in a future version of pandas. Pass observed=False to retain current behavior or observed=True to adopt the future default and silence this warning.\n",
      "  df['norm_row'] = adata.obs.groupby(['leiden','pred_class'])['n_row'].mean()/n_rows\n",
      "/tmp/ipykernel_291422/3061493562.py:24: FutureWarning: The default of observed=False is deprecated and will be changed to True in a future version of pandas. Pass observed=False to retain current behavior or observed=True to adopt the future default and silence this warning.\n",
      "  df['dpt_pesudotime'] = adata.obs.groupby(['leiden','pred_class'])['dpt_pseudotime'].mean()\n",
      " 31%|███       | 94/307 [02:33<06:33,  1.85s/it]"
     ]
    },
    {
     "name": "stdout",
     "output_type": "stream",
     "text": [
      "11295.svs_245cols_193rows.csv.h5ad speed :6596.075116121087\n",
      "10995.svs_238cols_196rows.csv.h5ad\n"
     ]
    },
    {
     "name": "stderr",
     "output_type": "stream",
     "text": [
      "/tmp/ipykernel_291422/3061493562.py:22: FutureWarning: The default of observed=False is deprecated and will be changed to True in a future version of pandas. Pass observed=False to retain current behavior or observed=True to adopt the future default and silence this warning.\n",
      "  df['norm_col'] = adata.obs.groupby(['leiden','pred_class'])['n_col'].mean()/n_cols\n",
      "/tmp/ipykernel_291422/3061493562.py:23: FutureWarning: The default of observed=False is deprecated and will be changed to True in a future version of pandas. Pass observed=False to retain current behavior or observed=True to adopt the future default and silence this warning.\n",
      "  df['norm_row'] = adata.obs.groupby(['leiden','pred_class'])['n_row'].mean()/n_rows\n",
      "/tmp/ipykernel_291422/3061493562.py:24: FutureWarning: The default of observed=False is deprecated and will be changed to True in a future version of pandas. Pass observed=False to retain current behavior or observed=True to adopt the future default and silence this warning.\n",
      "  df['dpt_pesudotime'] = adata.obs.groupby(['leiden','pred_class'])['dpt_pseudotime'].mean()\n",
      " 31%|███       | 95/307 [02:35<06:09,  1.74s/it]"
     ]
    },
    {
     "name": "stdout",
     "output_type": "stream",
     "text": [
      "10995.svs_238cols_196rows.csv.h5ad speed :2417.7706176606257\n",
      "11286.svs_291cols_203rows.csv.h5ad\n"
     ]
    },
    {
     "name": "stderr",
     "output_type": "stream",
     "text": [
      "/tmp/ipykernel_291422/3061493562.py:22: FutureWarning: The default of observed=False is deprecated and will be changed to True in a future version of pandas. Pass observed=False to retain current behavior or observed=True to adopt the future default and silence this warning.\n",
      "  df['norm_col'] = adata.obs.groupby(['leiden','pred_class'])['n_col'].mean()/n_cols\n",
      "/tmp/ipykernel_291422/3061493562.py:23: FutureWarning: The default of observed=False is deprecated and will be changed to True in a future version of pandas. Pass observed=False to retain current behavior or observed=True to adopt the future default and silence this warning.\n",
      "  df['norm_row'] = adata.obs.groupby(['leiden','pred_class'])['n_row'].mean()/n_rows\n",
      "/tmp/ipykernel_291422/3061493562.py:24: FutureWarning: The default of observed=False is deprecated and will be changed to True in a future version of pandas. Pass observed=False to retain current behavior or observed=True to adopt the future default and silence this warning.\n",
      "  df['dpt_pesudotime'] = adata.obs.groupby(['leiden','pred_class'])['dpt_pseudotime'].mean()\n",
      " 31%|███▏      | 96/307 [02:37<06:40,  1.90s/it]"
     ]
    },
    {
     "name": "stdout",
     "output_type": "stream",
     "text": [
      "11286.svs_291cols_203rows.csv.h5ad speed :18629.59977974705\n",
      "9776.svs_253cols_210rows.csv.h5ad\n"
     ]
    },
    {
     "name": "stderr",
     "output_type": "stream",
     "text": [
      "/tmp/ipykernel_291422/3061493562.py:22: FutureWarning: The default of observed=False is deprecated and will be changed to True in a future version of pandas. Pass observed=False to retain current behavior or observed=True to adopt the future default and silence this warning.\n",
      "  df['norm_col'] = adata.obs.groupby(['leiden','pred_class'])['n_col'].mean()/n_cols\n",
      "/tmp/ipykernel_291422/3061493562.py:23: FutureWarning: The default of observed=False is deprecated and will be changed to True in a future version of pandas. Pass observed=False to retain current behavior or observed=True to adopt the future default and silence this warning.\n",
      "  df['norm_row'] = adata.obs.groupby(['leiden','pred_class'])['n_row'].mean()/n_rows\n",
      "/tmp/ipykernel_291422/3061493562.py:24: FutureWarning: The default of observed=False is deprecated and will be changed to True in a future version of pandas. Pass observed=False to retain current behavior or observed=True to adopt the future default and silence this warning.\n",
      "  df['dpt_pesudotime'] = adata.obs.groupby(['leiden','pred_class'])['dpt_pseudotime'].mean()\n",
      " 32%|███▏      | 97/307 [02:39<06:30,  1.86s/it]"
     ]
    },
    {
     "name": "stdout",
     "output_type": "stream",
     "text": [
      "9776.svs_253cols_210rows.csv.h5ad speed :9477.380940809535\n",
      "9701.svs_212cols_205rows.csv.h5ad\n"
     ]
    },
    {
     "name": "stderr",
     "output_type": "stream",
     "text": [
      "/tmp/ipykernel_291422/3061493562.py:22: FutureWarning: The default of observed=False is deprecated and will be changed to True in a future version of pandas. Pass observed=False to retain current behavior or observed=True to adopt the future default and silence this warning.\n",
      "  df['norm_col'] = adata.obs.groupby(['leiden','pred_class'])['n_col'].mean()/n_cols\n",
      "/tmp/ipykernel_291422/3061493562.py:23: FutureWarning: The default of observed=False is deprecated and will be changed to True in a future version of pandas. Pass observed=False to retain current behavior or observed=True to adopt the future default and silence this warning.\n",
      "  df['norm_row'] = adata.obs.groupby(['leiden','pred_class'])['n_row'].mean()/n_rows\n",
      "/tmp/ipykernel_291422/3061493562.py:24: FutureWarning: The default of observed=False is deprecated and will be changed to True in a future version of pandas. Pass observed=False to retain current behavior or observed=True to adopt the future default and silence this warning.\n",
      "  df['dpt_pesudotime'] = adata.obs.groupby(['leiden','pred_class'])['dpt_pseudotime'].mean()\n",
      " 32%|███▏      | 98/307 [02:40<06:13,  1.79s/it]"
     ]
    },
    {
     "name": "stdout",
     "output_type": "stream",
     "text": [
      "9701.svs_212cols_205rows.csv.h5ad speed :3309.493204110852\n",
      "NLSI0000152.svs_115cols_76rows.csv.h5ad\n"
     ]
    },
    {
     "name": "stderr",
     "output_type": "stream",
     "text": [
      "/tmp/ipykernel_291422/3061493562.py:22: FutureWarning: The default of observed=False is deprecated and will be changed to True in a future version of pandas. Pass observed=False to retain current behavior or observed=True to adopt the future default and silence this warning.\n",
      "  df['norm_col'] = adata.obs.groupby(['leiden','pred_class'])['n_col'].mean()/n_cols\n",
      "/tmp/ipykernel_291422/3061493562.py:23: FutureWarning: The default of observed=False is deprecated and will be changed to True in a future version of pandas. Pass observed=False to retain current behavior or observed=True to adopt the future default and silence this warning.\n",
      "  df['norm_row'] = adata.obs.groupby(['leiden','pred_class'])['n_row'].mean()/n_rows\n",
      "/tmp/ipykernel_291422/3061493562.py:24: FutureWarning: The default of observed=False is deprecated and will be changed to True in a future version of pandas. Pass observed=False to retain current behavior or observed=True to adopt the future default and silence this warning.\n",
      "  df['dpt_pesudotime'] = adata.obs.groupby(['leiden','pred_class'])['dpt_pseudotime'].mean()\n",
      " 32%|███▏      | 99/307 [02:41<05:06,  1.47s/it]"
     ]
    },
    {
     "name": "stdout",
     "output_type": "stream",
     "text": [
      "NLSI0000152.svs_115cols_76rows.csv.h5ad speed :3159.3411973523\n",
      "NLSI0000091.svs_150cols_112rows.csv.h5ad\n"
     ]
    },
    {
     "name": "stderr",
     "output_type": "stream",
     "text": [
      "/tmp/ipykernel_291422/3061493562.py:22: FutureWarning: The default of observed=False is deprecated and will be changed to True in a future version of pandas. Pass observed=False to retain current behavior or observed=True to adopt the future default and silence this warning.\n",
      "  df['norm_col'] = adata.obs.groupby(['leiden','pred_class'])['n_col'].mean()/n_cols\n",
      "/tmp/ipykernel_291422/3061493562.py:23: FutureWarning: The default of observed=False is deprecated and will be changed to True in a future version of pandas. Pass observed=False to retain current behavior or observed=True to adopt the future default and silence this warning.\n",
      "  df['norm_row'] = adata.obs.groupby(['leiden','pred_class'])['n_row'].mean()/n_rows\n",
      "/tmp/ipykernel_291422/3061493562.py:24: FutureWarning: The default of observed=False is deprecated and will be changed to True in a future version of pandas. Pass observed=False to retain current behavior or observed=True to adopt the future default and silence this warning.\n",
      "  df['dpt_pesudotime'] = adata.obs.groupby(['leiden','pred_class'])['dpt_pseudotime'].mean()\n",
      " 33%|███▎      | 100/307 [02:44<05:56,  1.72s/it]"
     ]
    },
    {
     "name": "stdout",
     "output_type": "stream",
     "text": [
      "NLSI0000091.svs_150cols_112rows.csv.h5ad speed :37437.10553089613\n",
      "11113.svs_135cols_170rows.csv.h5ad\n"
     ]
    },
    {
     "name": "stderr",
     "output_type": "stream",
     "text": [
      "/tmp/ipykernel_291422/3061493562.py:22: FutureWarning: The default of observed=False is deprecated and will be changed to True in a future version of pandas. Pass observed=False to retain current behavior or observed=True to adopt the future default and silence this warning.\n",
      "  df['norm_col'] = adata.obs.groupby(['leiden','pred_class'])['n_col'].mean()/n_cols\n",
      "/tmp/ipykernel_291422/3061493562.py:23: FutureWarning: The default of observed=False is deprecated and will be changed to True in a future version of pandas. Pass observed=False to retain current behavior or observed=True to adopt the future default and silence this warning.\n",
      "  df['norm_row'] = adata.obs.groupby(['leiden','pred_class'])['n_row'].mean()/n_rows\n",
      "/tmp/ipykernel_291422/3061493562.py:24: FutureWarning: The default of observed=False is deprecated and will be changed to True in a future version of pandas. Pass observed=False to retain current behavior or observed=True to adopt the future default and silence this warning.\n",
      "  df['dpt_pesudotime'] = adata.obs.groupby(['leiden','pred_class'])['dpt_pseudotime'].mean()\n",
      " 33%|███▎      | 101/307 [02:45<05:44,  1.67s/it]"
     ]
    },
    {
     "name": "stdout",
     "output_type": "stream",
     "text": [
      "11113.svs_135cols_170rows.csv.h5ad speed :7934.597556355663\n",
      "11361.svs_286cols_210rows.csv.h5ad\n"
     ]
    },
    {
     "name": "stderr",
     "output_type": "stream",
     "text": [
      "/tmp/ipykernel_291422/3061493562.py:22: FutureWarning: The default of observed=False is deprecated and will be changed to True in a future version of pandas. Pass observed=False to retain current behavior or observed=True to adopt the future default and silence this warning.\n",
      "  df['norm_col'] = adata.obs.groupby(['leiden','pred_class'])['n_col'].mean()/n_cols\n",
      "/tmp/ipykernel_291422/3061493562.py:23: FutureWarning: The default of observed=False is deprecated and will be changed to True in a future version of pandas. Pass observed=False to retain current behavior or observed=True to adopt the future default and silence this warning.\n",
      "  df['norm_row'] = adata.obs.groupby(['leiden','pred_class'])['n_row'].mean()/n_rows\n",
      "/tmp/ipykernel_291422/3061493562.py:24: FutureWarning: The default of observed=False is deprecated and will be changed to True in a future version of pandas. Pass observed=False to retain current behavior or observed=True to adopt the future default and silence this warning.\n",
      "  df['dpt_pesudotime'] = adata.obs.groupby(['leiden','pred_class'])['dpt_pseudotime'].mean()\n",
      " 33%|███▎      | 102/307 [02:48<06:53,  2.02s/it]"
     ]
    },
    {
     "name": "stdout",
     "output_type": "stream",
     "text": [
      "11361.svs_286cols_210rows.csv.h5ad speed :4243.736933473766\n",
      "11377.svs_130cols_131rows.csv.h5ad\n"
     ]
    },
    {
     "name": "stderr",
     "output_type": "stream",
     "text": [
      "/tmp/ipykernel_291422/3061493562.py:22: FutureWarning: The default of observed=False is deprecated and will be changed to True in a future version of pandas. Pass observed=False to retain current behavior or observed=True to adopt the future default and silence this warning.\n",
      "  df['norm_col'] = adata.obs.groupby(['leiden','pred_class'])['n_col'].mean()/n_cols\n",
      "/tmp/ipykernel_291422/3061493562.py:23: FutureWarning: The default of observed=False is deprecated and will be changed to True in a future version of pandas. Pass observed=False to retain current behavior or observed=True to adopt the future default and silence this warning.\n",
      "  df['norm_row'] = adata.obs.groupby(['leiden','pred_class'])['n_row'].mean()/n_rows\n",
      "/tmp/ipykernel_291422/3061493562.py:24: FutureWarning: The default of observed=False is deprecated and will be changed to True in a future version of pandas. Pass observed=False to retain current behavior or observed=True to adopt the future default and silence this warning.\n",
      "  df['dpt_pesudotime'] = adata.obs.groupby(['leiden','pred_class'])['dpt_pseudotime'].mean()\n",
      " 34%|███▎      | 103/307 [02:50<06:32,  1.93s/it]"
     ]
    },
    {
     "name": "stdout",
     "output_type": "stream",
     "text": [
      "11377.svs_130cols_131rows.csv.h5ad speed :1667.154181395598\n",
      "NLSI0000086.svs_155cols_105rows.csv.h5ad\n"
     ]
    },
    {
     "name": "stderr",
     "output_type": "stream",
     "text": [
      "/tmp/ipykernel_291422/3061493562.py:22: FutureWarning: The default of observed=False is deprecated and will be changed to True in a future version of pandas. Pass observed=False to retain current behavior or observed=True to adopt the future default and silence this warning.\n",
      "  df['norm_col'] = adata.obs.groupby(['leiden','pred_class'])['n_col'].mean()/n_cols\n",
      "/tmp/ipykernel_291422/3061493562.py:23: FutureWarning: The default of observed=False is deprecated and will be changed to True in a future version of pandas. Pass observed=False to retain current behavior or observed=True to adopt the future default and silence this warning.\n",
      "  df['norm_row'] = adata.obs.groupby(['leiden','pred_class'])['n_row'].mean()/n_rows\n",
      "/tmp/ipykernel_291422/3061493562.py:24: FutureWarning: The default of observed=False is deprecated and will be changed to True in a future version of pandas. Pass observed=False to retain current behavior or observed=True to adopt the future default and silence this warning.\n",
      "  df['dpt_pesudotime'] = adata.obs.groupby(['leiden','pred_class'])['dpt_pseudotime'].mean()\n",
      " 34%|███▍      | 104/307 [02:51<05:48,  1.72s/it]"
     ]
    },
    {
     "name": "stdout",
     "output_type": "stream",
     "text": [
      "NLSI0000086.svs_155cols_105rows.csv.h5ad speed :0.0\n",
      "NLSI0000023.svs_145cols_95rows.csv.h5ad\n"
     ]
    },
    {
     "name": "stderr",
     "output_type": "stream",
     "text": [
      "/tmp/ipykernel_291422/3061493562.py:22: FutureWarning: The default of observed=False is deprecated and will be changed to True in a future version of pandas. Pass observed=False to retain current behavior or observed=True to adopt the future default and silence this warning.\n",
      "  df['norm_col'] = adata.obs.groupby(['leiden','pred_class'])['n_col'].mean()/n_cols\n",
      "/tmp/ipykernel_291422/3061493562.py:23: FutureWarning: The default of observed=False is deprecated and will be changed to True in a future version of pandas. Pass observed=False to retain current behavior or observed=True to adopt the future default and silence this warning.\n",
      "  df['norm_row'] = adata.obs.groupby(['leiden','pred_class'])['n_row'].mean()/n_rows\n",
      "/tmp/ipykernel_291422/3061493562.py:24: FutureWarning: The default of observed=False is deprecated and will be changed to True in a future version of pandas. Pass observed=False to retain current behavior or observed=True to adopt the future default and silence this warning.\n",
      "  df['dpt_pesudotime'] = adata.obs.groupby(['leiden','pred_class'])['dpt_pseudotime'].mean()\n",
      " 34%|███▍      | 105/307 [02:52<04:47,  1.43s/it]"
     ]
    },
    {
     "name": "stdout",
     "output_type": "stream",
     "text": [
      "NLSI0000023.svs_145cols_95rows.csv.h5ad speed :7286.784090821892\n",
      "10880.svs_265cols_210rows.csv.h5ad\n"
     ]
    },
    {
     "name": "stderr",
     "output_type": "stream",
     "text": [
      "/tmp/ipykernel_291422/3061493562.py:22: FutureWarning: The default of observed=False is deprecated and will be changed to True in a future version of pandas. Pass observed=False to retain current behavior or observed=True to adopt the future default and silence this warning.\n",
      "  df['norm_col'] = adata.obs.groupby(['leiden','pred_class'])['n_col'].mean()/n_cols\n",
      "/tmp/ipykernel_291422/3061493562.py:23: FutureWarning: The default of observed=False is deprecated and will be changed to True in a future version of pandas. Pass observed=False to retain current behavior or observed=True to adopt the future default and silence this warning.\n",
      "  df['norm_row'] = adata.obs.groupby(['leiden','pred_class'])['n_row'].mean()/n_rows\n",
      "/tmp/ipykernel_291422/3061493562.py:24: FutureWarning: The default of observed=False is deprecated and will be changed to True in a future version of pandas. Pass observed=False to retain current behavior or observed=True to adopt the future default and silence this warning.\n",
      "  df['dpt_pesudotime'] = adata.obs.groupby(['leiden','pred_class'])['dpt_pseudotime'].mean()\n",
      " 35%|███▍      | 106/307 [02:53<05:14,  1.57s/it]"
     ]
    },
    {
     "name": "stdout",
     "output_type": "stream",
     "text": [
      "10880.svs_265cols_210rows.csv.h5ad speed :1911.5639000493045\n",
      "11429.svs_130cols_176rows.csv.h5ad\n"
     ]
    },
    {
     "name": "stderr",
     "output_type": "stream",
     "text": [
      "/tmp/ipykernel_291422/3061493562.py:22: FutureWarning: The default of observed=False is deprecated and will be changed to True in a future version of pandas. Pass observed=False to retain current behavior or observed=True to adopt the future default and silence this warning.\n",
      "  df['norm_col'] = adata.obs.groupby(['leiden','pred_class'])['n_col'].mean()/n_cols\n",
      "/tmp/ipykernel_291422/3061493562.py:23: FutureWarning: The default of observed=False is deprecated and will be changed to True in a future version of pandas. Pass observed=False to retain current behavior or observed=True to adopt the future default and silence this warning.\n",
      "  df['norm_row'] = adata.obs.groupby(['leiden','pred_class'])['n_row'].mean()/n_rows\n",
      "/tmp/ipykernel_291422/3061493562.py:24: FutureWarning: The default of observed=False is deprecated and will be changed to True in a future version of pandas. Pass observed=False to retain current behavior or observed=True to adopt the future default and silence this warning.\n",
      "  df['dpt_pesudotime'] = adata.obs.groupby(['leiden','pred_class'])['dpt_pseudotime'].mean()\n",
      " 35%|███▍      | 107/307 [02:56<06:03,  1.82s/it]"
     ]
    },
    {
     "name": "stdout",
     "output_type": "stream",
     "text": [
      "11429.svs_130cols_176rows.csv.h5ad speed :30636.264154098088\n",
      "9462.svs_183cols_151rows.csv.h5ad\n"
     ]
    },
    {
     "name": "stderr",
     "output_type": "stream",
     "text": [
      "/tmp/ipykernel_291422/3061493562.py:22: FutureWarning: The default of observed=False is deprecated and will be changed to True in a future version of pandas. Pass observed=False to retain current behavior or observed=True to adopt the future default and silence this warning.\n",
      "  df['norm_col'] = adata.obs.groupby(['leiden','pred_class'])['n_col'].mean()/n_cols\n",
      "/tmp/ipykernel_291422/3061493562.py:23: FutureWarning: The default of observed=False is deprecated and will be changed to True in a future version of pandas. Pass observed=False to retain current behavior or observed=True to adopt the future default and silence this warning.\n",
      "  df['norm_row'] = adata.obs.groupby(['leiden','pred_class'])['n_row'].mean()/n_rows\n",
      "/tmp/ipykernel_291422/3061493562.py:24: FutureWarning: The default of observed=False is deprecated and will be changed to True in a future version of pandas. Pass observed=False to retain current behavior or observed=True to adopt the future default and silence this warning.\n",
      "  df['dpt_pesudotime'] = adata.obs.groupby(['leiden','pred_class'])['dpt_pseudotime'].mean()\n",
      " 35%|███▌      | 108/307 [02:58<06:21,  1.92s/it]"
     ]
    },
    {
     "name": "stdout",
     "output_type": "stream",
     "text": [
      "9462.svs_183cols_151rows.csv.h5ad speed :1862.509531005958\n",
      "11253.svs_212cols_185rows.csv.h5ad\n"
     ]
    },
    {
     "name": "stderr",
     "output_type": "stream",
     "text": [
      "/tmp/ipykernel_291422/3061493562.py:22: FutureWarning: The default of observed=False is deprecated and will be changed to True in a future version of pandas. Pass observed=False to retain current behavior or observed=True to adopt the future default and silence this warning.\n",
      "  df['norm_col'] = adata.obs.groupby(['leiden','pred_class'])['n_col'].mean()/n_cols\n",
      "/tmp/ipykernel_291422/3061493562.py:23: FutureWarning: The default of observed=False is deprecated and will be changed to True in a future version of pandas. Pass observed=False to retain current behavior or observed=True to adopt the future default and silence this warning.\n",
      "  df['norm_row'] = adata.obs.groupby(['leiden','pred_class'])['n_row'].mean()/n_rows\n",
      "/tmp/ipykernel_291422/3061493562.py:24: FutureWarning: The default of observed=False is deprecated and will be changed to True in a future version of pandas. Pass observed=False to retain current behavior or observed=True to adopt the future default and silence this warning.\n",
      "  df['dpt_pesudotime'] = adata.obs.groupby(['leiden','pred_class'])['dpt_pseudotime'].mean()\n",
      " 36%|███▌      | 109/307 [02:59<05:43,  1.74s/it]"
     ]
    },
    {
     "name": "stdout",
     "output_type": "stream",
     "text": [
      "11253.svs_212cols_185rows.csv.h5ad speed :2799.515803264481\n",
      "10024.svs_53cols_45rows.csv.h5ad\n"
     ]
    },
    {
     "name": "stderr",
     "output_type": "stream",
     "text": [
      "/tmp/ipykernel_291422/3061493562.py:22: FutureWarning: The default of observed=False is deprecated and will be changed to True in a future version of pandas. Pass observed=False to retain current behavior or observed=True to adopt the future default and silence this warning.\n",
      "  df['norm_col'] = adata.obs.groupby(['leiden','pred_class'])['n_col'].mean()/n_cols\n",
      "/tmp/ipykernel_291422/3061493562.py:23: FutureWarning: The default of observed=False is deprecated and will be changed to True in a future version of pandas. Pass observed=False to retain current behavior or observed=True to adopt the future default and silence this warning.\n",
      "  df['norm_row'] = adata.obs.groupby(['leiden','pred_class'])['n_row'].mean()/n_rows\n",
      "/tmp/ipykernel_291422/3061493562.py:24: FutureWarning: The default of observed=False is deprecated and will be changed to True in a future version of pandas. Pass observed=False to retain current behavior or observed=True to adopt the future default and silence this warning.\n",
      "  df['dpt_pesudotime'] = adata.obs.groupby(['leiden','pred_class'])['dpt_pseudotime'].mean()\n",
      " 36%|███▌      | 110/307 [03:00<04:12,  1.28s/it]"
     ]
    },
    {
     "name": "stdout",
     "output_type": "stream",
     "text": [
      "10024.svs_53cols_45rows.csv.h5ad speed :3714.7440277277638\n",
      "NLSI0000101.svs_130cols_105rows.csv.h5ad\n"
     ]
    },
    {
     "name": "stderr",
     "output_type": "stream",
     "text": [
      "/tmp/ipykernel_291422/3061493562.py:22: FutureWarning: The default of observed=False is deprecated and will be changed to True in a future version of pandas. Pass observed=False to retain current behavior or observed=True to adopt the future default and silence this warning.\n",
      "  df['norm_col'] = adata.obs.groupby(['leiden','pred_class'])['n_col'].mean()/n_cols\n",
      "/tmp/ipykernel_291422/3061493562.py:23: FutureWarning: The default of observed=False is deprecated and will be changed to True in a future version of pandas. Pass observed=False to retain current behavior or observed=True to adopt the future default and silence this warning.\n",
      "  df['norm_row'] = adata.obs.groupby(['leiden','pred_class'])['n_row'].mean()/n_rows\n",
      "/tmp/ipykernel_291422/3061493562.py:24: FutureWarning: The default of observed=False is deprecated and will be changed to True in a future version of pandas. Pass observed=False to retain current behavior or observed=True to adopt the future default and silence this warning.\n",
      "  df['dpt_pesudotime'] = adata.obs.groupby(['leiden','pred_class'])['dpt_pseudotime'].mean()\n",
      " 36%|███▌      | 111/307 [03:01<04:15,  1.30s/it]"
     ]
    },
    {
     "name": "stdout",
     "output_type": "stream",
     "text": [
      "NLSI0000101.svs_130cols_105rows.csv.h5ad speed :57137.89354417336\n",
      "9481.svs_243cols_176rows.csv.h5ad\n"
     ]
    },
    {
     "name": "stderr",
     "output_type": "stream",
     "text": [
      "/tmp/ipykernel_291422/3061493562.py:22: FutureWarning: The default of observed=False is deprecated and will be changed to True in a future version of pandas. Pass observed=False to retain current behavior or observed=True to adopt the future default and silence this warning.\n",
      "  df['norm_col'] = adata.obs.groupby(['leiden','pred_class'])['n_col'].mean()/n_cols\n",
      "/tmp/ipykernel_291422/3061493562.py:23: FutureWarning: The default of observed=False is deprecated and will be changed to True in a future version of pandas. Pass observed=False to retain current behavior or observed=True to adopt the future default and silence this warning.\n",
      "  df['norm_row'] = adata.obs.groupby(['leiden','pred_class'])['n_row'].mean()/n_rows\n",
      "/tmp/ipykernel_291422/3061493562.py:24: FutureWarning: The default of observed=False is deprecated and will be changed to True in a future version of pandas. Pass observed=False to retain current behavior or observed=True to adopt the future default and silence this warning.\n",
      "  df['dpt_pesudotime'] = adata.obs.groupby(['leiden','pred_class'])['dpt_pseudotime'].mean()\n",
      " 36%|███▋      | 112/307 [03:03<04:56,  1.52s/it]"
     ]
    },
    {
     "name": "stdout",
     "output_type": "stream",
     "text": [
      "9481.svs_243cols_176rows.csv.h5ad speed :30206.580441703234\n",
      "10992.svs_245cols_210rows.csv.h5ad\n"
     ]
    },
    {
     "name": "stderr",
     "output_type": "stream",
     "text": [
      "/tmp/ipykernel_291422/3061493562.py:22: FutureWarning: The default of observed=False is deprecated and will be changed to True in a future version of pandas. Pass observed=False to retain current behavior or observed=True to adopt the future default and silence this warning.\n",
      "  df['norm_col'] = adata.obs.groupby(['leiden','pred_class'])['n_col'].mean()/n_cols\n",
      "/tmp/ipykernel_291422/3061493562.py:23: FutureWarning: The default of observed=False is deprecated and will be changed to True in a future version of pandas. Pass observed=False to retain current behavior or observed=True to adopt the future default and silence this warning.\n",
      "  df['norm_row'] = adata.obs.groupby(['leiden','pred_class'])['n_row'].mean()/n_rows\n",
      "/tmp/ipykernel_291422/3061493562.py:24: FutureWarning: The default of observed=False is deprecated and will be changed to True in a future version of pandas. Pass observed=False to retain current behavior or observed=True to adopt the future default and silence this warning.\n",
      "  df['dpt_pesudotime'] = adata.obs.groupby(['leiden','pred_class'])['dpt_pseudotime'].mean()\n",
      " 37%|███▋      | 113/307 [03:05<05:07,  1.58s/it]"
     ]
    },
    {
     "name": "stdout",
     "output_type": "stream",
     "text": [
      "10992.svs_245cols_210rows.csv.h5ad speed :5685.633959552896\n",
      "10939.svs_277cols_209rows.csv.h5ad\n"
     ]
    },
    {
     "name": "stderr",
     "output_type": "stream",
     "text": [
      "/tmp/ipykernel_291422/3061493562.py:22: FutureWarning: The default of observed=False is deprecated and will be changed to True in a future version of pandas. Pass observed=False to retain current behavior or observed=True to adopt the future default and silence this warning.\n",
      "  df['norm_col'] = adata.obs.groupby(['leiden','pred_class'])['n_col'].mean()/n_cols\n",
      "/tmp/ipykernel_291422/3061493562.py:23: FutureWarning: The default of observed=False is deprecated and will be changed to True in a future version of pandas. Pass observed=False to retain current behavior or observed=True to adopt the future default and silence this warning.\n",
      "  df['norm_row'] = adata.obs.groupby(['leiden','pred_class'])['n_row'].mean()/n_rows\n",
      "/tmp/ipykernel_291422/3061493562.py:24: FutureWarning: The default of observed=False is deprecated and will be changed to True in a future version of pandas. Pass observed=False to retain current behavior or observed=True to adopt the future default and silence this warning.\n",
      "  df['dpt_pesudotime'] = adata.obs.groupby(['leiden','pred_class'])['dpt_pseudotime'].mean()\n",
      " 37%|███▋      | 114/307 [03:06<05:03,  1.57s/it]"
     ]
    },
    {
     "name": "stdout",
     "output_type": "stream",
     "text": [
      "10939.svs_277cols_209rows.csv.h5ad speed :5951.463759769752\n",
      "NLSI0000292.svs_160cols_117rows.csv.h5ad\n"
     ]
    },
    {
     "name": "stderr",
     "output_type": "stream",
     "text": [
      "/tmp/ipykernel_291422/3061493562.py:22: FutureWarning: The default of observed=False is deprecated and will be changed to True in a future version of pandas. Pass observed=False to retain current behavior or observed=True to adopt the future default and silence this warning.\n",
      "  df['norm_col'] = adata.obs.groupby(['leiden','pred_class'])['n_col'].mean()/n_cols\n",
      "/tmp/ipykernel_291422/3061493562.py:23: FutureWarning: The default of observed=False is deprecated and will be changed to True in a future version of pandas. Pass observed=False to retain current behavior or observed=True to adopt the future default and silence this warning.\n",
      "  df['norm_row'] = adata.obs.groupby(['leiden','pred_class'])['n_row'].mean()/n_rows\n",
      "/tmp/ipykernel_291422/3061493562.py:24: FutureWarning: The default of observed=False is deprecated and will be changed to True in a future version of pandas. Pass observed=False to retain current behavior or observed=True to adopt the future default and silence this warning.\n",
      "  df['dpt_pesudotime'] = adata.obs.groupby(['leiden','pred_class'])['dpt_pseudotime'].mean()\n",
      " 37%|███▋      | 115/307 [03:08<05:03,  1.58s/it]"
     ]
    },
    {
     "name": "stdout",
     "output_type": "stream",
     "text": [
      "NLSI0000292.svs_160cols_117rows.csv.h5ad speed :33067.64897738534\n",
      "9460.svs_255cols_187rows.csv.h5ad\n"
     ]
    },
    {
     "name": "stderr",
     "output_type": "stream",
     "text": [
      "/tmp/ipykernel_291422/3061493562.py:22: FutureWarning: The default of observed=False is deprecated and will be changed to True in a future version of pandas. Pass observed=False to retain current behavior or observed=True to adopt the future default and silence this warning.\n",
      "  df['norm_col'] = adata.obs.groupby(['leiden','pred_class'])['n_col'].mean()/n_cols\n",
      "/tmp/ipykernel_291422/3061493562.py:23: FutureWarning: The default of observed=False is deprecated and will be changed to True in a future version of pandas. Pass observed=False to retain current behavior or observed=True to adopt the future default and silence this warning.\n",
      "  df['norm_row'] = adata.obs.groupby(['leiden','pred_class'])['n_row'].mean()/n_rows\n",
      "/tmp/ipykernel_291422/3061493562.py:24: FutureWarning: The default of observed=False is deprecated and will be changed to True in a future version of pandas. Pass observed=False to retain current behavior or observed=True to adopt the future default and silence this warning.\n",
      "  df['dpt_pesudotime'] = adata.obs.groupby(['leiden','pred_class'])['dpt_pseudotime'].mean()\n",
      " 38%|███▊      | 116/307 [03:10<05:35,  1.76s/it]"
     ]
    },
    {
     "name": "stdout",
     "output_type": "stream",
     "text": [
      "9460.svs_255cols_187rows.csv.h5ad speed :8910.330643395198\n",
      "10619.svs_169cols_169rows.csv.h5ad\n"
     ]
    },
    {
     "name": "stderr",
     "output_type": "stream",
     "text": [
      "/tmp/ipykernel_291422/3061493562.py:22: FutureWarning: The default of observed=False is deprecated and will be changed to True in a future version of pandas. Pass observed=False to retain current behavior or observed=True to adopt the future default and silence this warning.\n",
      "  df['norm_col'] = adata.obs.groupby(['leiden','pred_class'])['n_col'].mean()/n_cols\n",
      "/tmp/ipykernel_291422/3061493562.py:23: FutureWarning: The default of observed=False is deprecated and will be changed to True in a future version of pandas. Pass observed=False to retain current behavior or observed=True to adopt the future default and silence this warning.\n",
      "  df['norm_row'] = adata.obs.groupby(['leiden','pred_class'])['n_row'].mean()/n_rows\n",
      "/tmp/ipykernel_291422/3061493562.py:24: FutureWarning: The default of observed=False is deprecated and will be changed to True in a future version of pandas. Pass observed=False to retain current behavior or observed=True to adopt the future default and silence this warning.\n",
      "  df['dpt_pesudotime'] = adata.obs.groupby(['leiden','pred_class'])['dpt_pseudotime'].mean()\n",
      " 38%|███▊      | 117/307 [03:11<04:51,  1.53s/it]"
     ]
    },
    {
     "name": "stdout",
     "output_type": "stream",
     "text": [
      "10619.svs_169cols_169rows.csv.h5ad speed :5566.86236679855\n",
      "10374.svs_334cols_188rows.csv.h5ad\n"
     ]
    },
    {
     "name": "stderr",
     "output_type": "stream",
     "text": [
      "/tmp/ipykernel_291422/3061493562.py:22: FutureWarning: The default of observed=False is deprecated and will be changed to True in a future version of pandas. Pass observed=False to retain current behavior or observed=True to adopt the future default and silence this warning.\n",
      "  df['norm_col'] = adata.obs.groupby(['leiden','pred_class'])['n_col'].mean()/n_cols\n",
      "/tmp/ipykernel_291422/3061493562.py:23: FutureWarning: The default of observed=False is deprecated and will be changed to True in a future version of pandas. Pass observed=False to retain current behavior or observed=True to adopt the future default and silence this warning.\n",
      "  df['norm_row'] = adata.obs.groupby(['leiden','pred_class'])['n_row'].mean()/n_rows\n",
      "/tmp/ipykernel_291422/3061493562.py:24: FutureWarning: The default of observed=False is deprecated and will be changed to True in a future version of pandas. Pass observed=False to retain current behavior or observed=True to adopt the future default and silence this warning.\n",
      "  df['dpt_pesudotime'] = adata.obs.groupby(['leiden','pred_class'])['dpt_pseudotime'].mean()\n",
      " 38%|███▊      | 118/307 [03:13<05:30,  1.75s/it]"
     ]
    },
    {
     "name": "stdout",
     "output_type": "stream",
     "text": [
      "10374.svs_334cols_188rows.csv.h5ad speed :1663.4639750337342\n",
      "11279.svs_188cols_196rows.csv.h5ad\n"
     ]
    },
    {
     "name": "stderr",
     "output_type": "stream",
     "text": [
      "/tmp/ipykernel_291422/3061493562.py:22: FutureWarning: The default of observed=False is deprecated and will be changed to True in a future version of pandas. Pass observed=False to retain current behavior or observed=True to adopt the future default and silence this warning.\n",
      "  df['norm_col'] = adata.obs.groupby(['leiden','pred_class'])['n_col'].mean()/n_cols\n",
      "/tmp/ipykernel_291422/3061493562.py:23: FutureWarning: The default of observed=False is deprecated and will be changed to True in a future version of pandas. Pass observed=False to retain current behavior or observed=True to adopt the future default and silence this warning.\n",
      "  df['norm_row'] = adata.obs.groupby(['leiden','pred_class'])['n_row'].mean()/n_rows\n",
      "/tmp/ipykernel_291422/3061493562.py:24: FutureWarning: The default of observed=False is deprecated and will be changed to True in a future version of pandas. Pass observed=False to retain current behavior or observed=True to adopt the future default and silence this warning.\n",
      "  df['dpt_pesudotime'] = adata.obs.groupby(['leiden','pred_class'])['dpt_pseudotime'].mean()\n",
      " 39%|███▉      | 119/307 [03:15<05:00,  1.60s/it]"
     ]
    },
    {
     "name": "stdout",
     "output_type": "stream",
     "text": [
      "11279.svs_188cols_196rows.csv.h5ad speed :8104.058988875773\n",
      "10862.svs_137cols_142rows.csv.h5ad\n"
     ]
    },
    {
     "name": "stderr",
     "output_type": "stream",
     "text": [
      "/tmp/ipykernel_291422/3061493562.py:22: FutureWarning: The default of observed=False is deprecated and will be changed to True in a future version of pandas. Pass observed=False to retain current behavior or observed=True to adopt the future default and silence this warning.\n",
      "  df['norm_col'] = adata.obs.groupby(['leiden','pred_class'])['n_col'].mean()/n_cols\n",
      "/tmp/ipykernel_291422/3061493562.py:23: FutureWarning: The default of observed=False is deprecated and will be changed to True in a future version of pandas. Pass observed=False to retain current behavior or observed=True to adopt the future default and silence this warning.\n",
      "  df['norm_row'] = adata.obs.groupby(['leiden','pred_class'])['n_row'].mean()/n_rows\n",
      "/tmp/ipykernel_291422/3061493562.py:24: FutureWarning: The default of observed=False is deprecated and will be changed to True in a future version of pandas. Pass observed=False to retain current behavior or observed=True to adopt the future default and silence this warning.\n",
      "  df['dpt_pesudotime'] = adata.obs.groupby(['leiden','pred_class'])['dpt_pseudotime'].mean()\n",
      " 39%|███▉      | 120/307 [03:16<04:50,  1.55s/it]"
     ]
    },
    {
     "name": "stdout",
     "output_type": "stream",
     "text": [
      "10862.svs_137cols_142rows.csv.h5ad speed :758.6849956231285\n",
      "11128.svs_245cols_175rows.csv.h5ad\n"
     ]
    },
    {
     "name": "stderr",
     "output_type": "stream",
     "text": [
      "/tmp/ipykernel_291422/3061493562.py:22: FutureWarning: The default of observed=False is deprecated and will be changed to True in a future version of pandas. Pass observed=False to retain current behavior or observed=True to adopt the future default and silence this warning.\n",
      "  df['norm_col'] = adata.obs.groupby(['leiden','pred_class'])['n_col'].mean()/n_cols\n",
      "/tmp/ipykernel_291422/3061493562.py:23: FutureWarning: The default of observed=False is deprecated and will be changed to True in a future version of pandas. Pass observed=False to retain current behavior or observed=True to adopt the future default and silence this warning.\n",
      "  df['norm_row'] = adata.obs.groupby(['leiden','pred_class'])['n_row'].mean()/n_rows\n",
      "/tmp/ipykernel_291422/3061493562.py:24: FutureWarning: The default of observed=False is deprecated and will be changed to True in a future version of pandas. Pass observed=False to retain current behavior or observed=True to adopt the future default and silence this warning.\n",
      "  df['dpt_pesudotime'] = adata.obs.groupby(['leiden','pred_class'])['dpt_pseudotime'].mean()\n",
      " 39%|███▉      | 121/307 [03:17<04:48,  1.55s/it]"
     ]
    },
    {
     "name": "stdout",
     "output_type": "stream",
     "text": [
      "11128.svs_245cols_175rows.csv.h5ad speed :11930.057529389203\n",
      "11217.svs_147cols_149rows.csv.h5ad\n"
     ]
    },
    {
     "name": "stderr",
     "output_type": "stream",
     "text": [
      "/tmp/ipykernel_291422/3061493562.py:22: FutureWarning: The default of observed=False is deprecated and will be changed to True in a future version of pandas. Pass observed=False to retain current behavior or observed=True to adopt the future default and silence this warning.\n",
      "  df['norm_col'] = adata.obs.groupby(['leiden','pred_class'])['n_col'].mean()/n_cols\n",
      "/tmp/ipykernel_291422/3061493562.py:23: FutureWarning: The default of observed=False is deprecated and will be changed to True in a future version of pandas. Pass observed=False to retain current behavior or observed=True to adopt the future default and silence this warning.\n",
      "  df['norm_row'] = adata.obs.groupby(['leiden','pred_class'])['n_row'].mean()/n_rows\n",
      "/tmp/ipykernel_291422/3061493562.py:24: FutureWarning: The default of observed=False is deprecated and will be changed to True in a future version of pandas. Pass observed=False to retain current behavior or observed=True to adopt the future default and silence this warning.\n",
      "  df['dpt_pesudotime'] = adata.obs.groupby(['leiden','pred_class'])['dpt_pseudotime'].mean()\n",
      " 40%|███▉      | 122/307 [03:19<04:41,  1.52s/it]"
     ]
    },
    {
     "name": "stdout",
     "output_type": "stream",
     "text": [
      "11217.svs_147cols_149rows.csv.h5ad speed :4722.685225362808\n",
      "11391.svs_169cols_190rows.csv.h5ad\n"
     ]
    },
    {
     "name": "stderr",
     "output_type": "stream",
     "text": [
      "/tmp/ipykernel_291422/3061493562.py:22: FutureWarning: The default of observed=False is deprecated and will be changed to True in a future version of pandas. Pass observed=False to retain current behavior or observed=True to adopt the future default and silence this warning.\n",
      "  df['norm_col'] = adata.obs.groupby(['leiden','pred_class'])['n_col'].mean()/n_cols\n",
      "/tmp/ipykernel_291422/3061493562.py:23: FutureWarning: The default of observed=False is deprecated and will be changed to True in a future version of pandas. Pass observed=False to retain current behavior or observed=True to adopt the future default and silence this warning.\n",
      "  df['norm_row'] = adata.obs.groupby(['leiden','pred_class'])['n_row'].mean()/n_rows\n",
      "/tmp/ipykernel_291422/3061493562.py:24: FutureWarning: The default of observed=False is deprecated and will be changed to True in a future version of pandas. Pass observed=False to retain current behavior or observed=True to adopt the future default and silence this warning.\n",
      "  df['dpt_pesudotime'] = adata.obs.groupby(['leiden','pred_class'])['dpt_pseudotime'].mean()\n",
      " 40%|████      | 123/307 [03:21<04:52,  1.59s/it]"
     ]
    },
    {
     "name": "stdout",
     "output_type": "stream",
     "text": [
      "11391.svs_169cols_190rows.csv.h5ad speed :6679.303517432674\n",
      "10860.svs_260cols_210rows.csv.h5ad\n"
     ]
    },
    {
     "name": "stderr",
     "output_type": "stream",
     "text": [
      "/tmp/ipykernel_291422/3061493562.py:22: FutureWarning: The default of observed=False is deprecated and will be changed to True in a future version of pandas. Pass observed=False to retain current behavior or observed=True to adopt the future default and silence this warning.\n",
      "  df['norm_col'] = adata.obs.groupby(['leiden','pred_class'])['n_col'].mean()/n_cols\n",
      "/tmp/ipykernel_291422/3061493562.py:23: FutureWarning: The default of observed=False is deprecated and will be changed to True in a future version of pandas. Pass observed=False to retain current behavior or observed=True to adopt the future default and silence this warning.\n",
      "  df['norm_row'] = adata.obs.groupby(['leiden','pred_class'])['n_row'].mean()/n_rows\n",
      "/tmp/ipykernel_291422/3061493562.py:24: FutureWarning: The default of observed=False is deprecated and will be changed to True in a future version of pandas. Pass observed=False to retain current behavior or observed=True to adopt the future default and silence this warning.\n",
      "  df['dpt_pesudotime'] = adata.obs.groupby(['leiden','pred_class'])['dpt_pseudotime'].mean()\n",
      " 40%|████      | 124/307 [03:23<05:42,  1.87s/it]"
     ]
    },
    {
     "name": "stdout",
     "output_type": "stream",
     "text": [
      "10860.svs_260cols_210rows.csv.h5ad speed :27985.03880280082\n",
      "10903.svs_293cols_205rows.csv.h5ad\n"
     ]
    },
    {
     "name": "stderr",
     "output_type": "stream",
     "text": [
      "/tmp/ipykernel_291422/3061493562.py:22: FutureWarning: The default of observed=False is deprecated and will be changed to True in a future version of pandas. Pass observed=False to retain current behavior or observed=True to adopt the future default and silence this warning.\n",
      "  df['norm_col'] = adata.obs.groupby(['leiden','pred_class'])['n_col'].mean()/n_cols\n",
      "/tmp/ipykernel_291422/3061493562.py:23: FutureWarning: The default of observed=False is deprecated and will be changed to True in a future version of pandas. Pass observed=False to retain current behavior or observed=True to adopt the future default and silence this warning.\n",
      "  df['norm_row'] = adata.obs.groupby(['leiden','pred_class'])['n_row'].mean()/n_rows\n",
      "/tmp/ipykernel_291422/3061493562.py:24: FutureWarning: The default of observed=False is deprecated and will be changed to True in a future version of pandas. Pass observed=False to retain current behavior or observed=True to adopt the future default and silence this warning.\n",
      "  df['dpt_pesudotime'] = adata.obs.groupby(['leiden','pred_class'])['dpt_pseudotime'].mean()\n",
      " 41%|████      | 125/307 [03:25<05:59,  1.97s/it]"
     ]
    },
    {
     "name": "stdout",
     "output_type": "stream",
     "text": [
      "10903.svs_293cols_205rows.csv.h5ad speed :4041.9319714500607\n",
      "NLSI0000154.svs_145cols_91rows.csv.h5ad\n"
     ]
    },
    {
     "name": "stderr",
     "output_type": "stream",
     "text": [
      "/tmp/ipykernel_291422/3061493562.py:22: FutureWarning: The default of observed=False is deprecated and will be changed to True in a future version of pandas. Pass observed=False to retain current behavior or observed=True to adopt the future default and silence this warning.\n",
      "  df['norm_col'] = adata.obs.groupby(['leiden','pred_class'])['n_col'].mean()/n_cols\n",
      "/tmp/ipykernel_291422/3061493562.py:23: FutureWarning: The default of observed=False is deprecated and will be changed to True in a future version of pandas. Pass observed=False to retain current behavior or observed=True to adopt the future default and silence this warning.\n",
      "  df['norm_row'] = adata.obs.groupby(['leiden','pred_class'])['n_row'].mean()/n_rows\n",
      "/tmp/ipykernel_291422/3061493562.py:24: FutureWarning: The default of observed=False is deprecated and will be changed to True in a future version of pandas. Pass observed=False to retain current behavior or observed=True to adopt the future default and silence this warning.\n",
      "  df['dpt_pesudotime'] = adata.obs.groupby(['leiden','pred_class'])['dpt_pseudotime'].mean()\n",
      " 41%|████      | 126/307 [03:27<05:21,  1.78s/it]"
     ]
    },
    {
     "name": "stdout",
     "output_type": "stream",
     "text": [
      "NLSI0000154.svs_145cols_91rows.csv.h5ad speed :15290.049402448254\n",
      "NLSI0000039.svs_100cols_90rows.csv.h5ad\n"
     ]
    },
    {
     "name": "stderr",
     "output_type": "stream",
     "text": [
      "/tmp/ipykernel_291422/3061493562.py:22: FutureWarning: The default of observed=False is deprecated and will be changed to True in a future version of pandas. Pass observed=False to retain current behavior or observed=True to adopt the future default and silence this warning.\n",
      "  df['norm_col'] = adata.obs.groupby(['leiden','pred_class'])['n_col'].mean()/n_cols\n",
      "/tmp/ipykernel_291422/3061493562.py:23: FutureWarning: The default of observed=False is deprecated and will be changed to True in a future version of pandas. Pass observed=False to retain current behavior or observed=True to adopt the future default and silence this warning.\n",
      "  df['norm_row'] = adata.obs.groupby(['leiden','pred_class'])['n_row'].mean()/n_rows\n",
      "/tmp/ipykernel_291422/3061493562.py:24: FutureWarning: The default of observed=False is deprecated and will be changed to True in a future version of pandas. Pass observed=False to retain current behavior or observed=True to adopt the future default and silence this warning.\n",
      "  df['dpt_pesudotime'] = adata.obs.groupby(['leiden','pred_class'])['dpt_pseudotime'].mean()\n",
      " 41%|████▏     | 127/307 [03:28<04:24,  1.47s/it]"
     ]
    },
    {
     "name": "stdout",
     "output_type": "stream",
     "text": [
      "NLSI0000039.svs_100cols_90rows.csv.h5ad speed :109624.35420563283\n",
      "9990.svs_308cols_205rows.csv.h5ad\n"
     ]
    },
    {
     "name": "stderr",
     "output_type": "stream",
     "text": [
      "/tmp/ipykernel_291422/3061493562.py:22: FutureWarning: The default of observed=False is deprecated and will be changed to True in a future version of pandas. Pass observed=False to retain current behavior or observed=True to adopt the future default and silence this warning.\n",
      "  df['norm_col'] = adata.obs.groupby(['leiden','pred_class'])['n_col'].mean()/n_cols\n",
      "/tmp/ipykernel_291422/3061493562.py:23: FutureWarning: The default of observed=False is deprecated and will be changed to True in a future version of pandas. Pass observed=False to retain current behavior or observed=True to adopt the future default and silence this warning.\n",
      "  df['norm_row'] = adata.obs.groupby(['leiden','pred_class'])['n_row'].mean()/n_rows\n",
      "/tmp/ipykernel_291422/3061493562.py:24: FutureWarning: The default of observed=False is deprecated and will be changed to True in a future version of pandas. Pass observed=False to retain current behavior or observed=True to adopt the future default and silence this warning.\n",
      "  df['dpt_pesudotime'] = adata.obs.groupby(['leiden','pred_class'])['dpt_pseudotime'].mean()\n",
      " 42%|████▏     | 128/307 [03:30<05:02,  1.69s/it]"
     ]
    },
    {
     "name": "stdout",
     "output_type": "stream",
     "text": [
      "9990.svs_308cols_205rows.csv.h5ad speed :66599.0537070242\n",
      "11218.svs_245cols_160rows.csv.h5ad\n"
     ]
    },
    {
     "name": "stderr",
     "output_type": "stream",
     "text": [
      "/tmp/ipykernel_291422/3061493562.py:22: FutureWarning: The default of observed=False is deprecated and will be changed to True in a future version of pandas. Pass observed=False to retain current behavior or observed=True to adopt the future default and silence this warning.\n",
      "  df['norm_col'] = adata.obs.groupby(['leiden','pred_class'])['n_col'].mean()/n_cols\n",
      "/tmp/ipykernel_291422/3061493562.py:23: FutureWarning: The default of observed=False is deprecated and will be changed to True in a future version of pandas. Pass observed=False to retain current behavior or observed=True to adopt the future default and silence this warning.\n",
      "  df['norm_row'] = adata.obs.groupby(['leiden','pred_class'])['n_row'].mean()/n_rows\n",
      "/tmp/ipykernel_291422/3061493562.py:24: FutureWarning: The default of observed=False is deprecated and will be changed to True in a future version of pandas. Pass observed=False to retain current behavior or observed=True to adopt the future default and silence this warning.\n",
      "  df['dpt_pesudotime'] = adata.obs.groupby(['leiden','pred_class'])['dpt_pseudotime'].mean()\n",
      " 42%|████▏     | 129/307 [03:31<04:54,  1.66s/it]"
     ]
    },
    {
     "name": "stdout",
     "output_type": "stream",
     "text": [
      "11218.svs_245cols_160rows.csv.h5ad speed :13884.091015660091\n",
      "NLSI0000291.svs_135cols_106rows.csv.h5ad\n"
     ]
    },
    {
     "name": "stderr",
     "output_type": "stream",
     "text": [
      "/tmp/ipykernel_291422/3061493562.py:22: FutureWarning: The default of observed=False is deprecated and will be changed to True in a future version of pandas. Pass observed=False to retain current behavior or observed=True to adopt the future default and silence this warning.\n",
      "  df['norm_col'] = adata.obs.groupby(['leiden','pred_class'])['n_col'].mean()/n_cols\n",
      "/tmp/ipykernel_291422/3061493562.py:23: FutureWarning: The default of observed=False is deprecated and will be changed to True in a future version of pandas. Pass observed=False to retain current behavior or observed=True to adopt the future default and silence this warning.\n",
      "  df['norm_row'] = adata.obs.groupby(['leiden','pred_class'])['n_row'].mean()/n_rows\n",
      "/tmp/ipykernel_291422/3061493562.py:24: FutureWarning: The default of observed=False is deprecated and will be changed to True in a future version of pandas. Pass observed=False to retain current behavior or observed=True to adopt the future default and silence this warning.\n",
      "  df['dpt_pesudotime'] = adata.obs.groupby(['leiden','pred_class'])['dpt_pseudotime'].mean()\n",
      " 42%|████▏     | 130/307 [03:32<03:58,  1.35s/it]"
     ]
    },
    {
     "name": "stdout",
     "output_type": "stream",
     "text": [
      "NLSI0000291.svs_135cols_106rows.csv.h5ad speed :4278.863609161371\n",
      "11229.svs_291cols_189rows.csv.h5ad\n"
     ]
    },
    {
     "name": "stderr",
     "output_type": "stream",
     "text": [
      "/tmp/ipykernel_291422/3061493562.py:22: FutureWarning: The default of observed=False is deprecated and will be changed to True in a future version of pandas. Pass observed=False to retain current behavior or observed=True to adopt the future default and silence this warning.\n",
      "  df['norm_col'] = adata.obs.groupby(['leiden','pred_class'])['n_col'].mean()/n_cols\n",
      "/tmp/ipykernel_291422/3061493562.py:23: FutureWarning: The default of observed=False is deprecated and will be changed to True in a future version of pandas. Pass observed=False to retain current behavior or observed=True to adopt the future default and silence this warning.\n",
      "  df['norm_row'] = adata.obs.groupby(['leiden','pred_class'])['n_row'].mean()/n_rows\n",
      "/tmp/ipykernel_291422/3061493562.py:24: FutureWarning: The default of observed=False is deprecated and will be changed to True in a future version of pandas. Pass observed=False to retain current behavior or observed=True to adopt the future default and silence this warning.\n",
      "  df['dpt_pesudotime'] = adata.obs.groupby(['leiden','pred_class'])['dpt_pseudotime'].mean()\n",
      " 43%|████▎     | 131/307 [03:34<04:30,  1.54s/it]"
     ]
    },
    {
     "name": "stdout",
     "output_type": "stream",
     "text": [
      "11229.svs_291cols_189rows.csv.h5ad speed :20705.527563552918\n",
      "11471.svs_260cols_197rows.csv.h5ad\n"
     ]
    },
    {
     "name": "stderr",
     "output_type": "stream",
     "text": [
      "/tmp/ipykernel_291422/3061493562.py:22: FutureWarning: The default of observed=False is deprecated and will be changed to True in a future version of pandas. Pass observed=False to retain current behavior or observed=True to adopt the future default and silence this warning.\n",
      "  df['norm_col'] = adata.obs.groupby(['leiden','pred_class'])['n_col'].mean()/n_cols\n",
      "/tmp/ipykernel_291422/3061493562.py:23: FutureWarning: The default of observed=False is deprecated and will be changed to True in a future version of pandas. Pass observed=False to retain current behavior or observed=True to adopt the future default and silence this warning.\n",
      "  df['norm_row'] = adata.obs.groupby(['leiden','pred_class'])['n_row'].mean()/n_rows\n",
      "/tmp/ipykernel_291422/3061493562.py:24: FutureWarning: The default of observed=False is deprecated and will be changed to True in a future version of pandas. Pass observed=False to retain current behavior or observed=True to adopt the future default and silence this warning.\n",
      "  df['dpt_pesudotime'] = adata.obs.groupby(['leiden','pred_class'])['dpt_pseudotime'].mean()\n",
      " 43%|████▎     | 132/307 [03:36<04:41,  1.61s/it]"
     ]
    },
    {
     "name": "stdout",
     "output_type": "stream",
     "text": [
      "11471.svs_260cols_197rows.csv.h5ad speed :72671.26850925536\n",
      "11432.svs_188cols_210rows.csv.h5ad\n"
     ]
    },
    {
     "name": "stderr",
     "output_type": "stream",
     "text": [
      "/tmp/ipykernel_291422/3061493562.py:22: FutureWarning: The default of observed=False is deprecated and will be changed to True in a future version of pandas. Pass observed=False to retain current behavior or observed=True to adopt the future default and silence this warning.\n",
      "  df['norm_col'] = adata.obs.groupby(['leiden','pred_class'])['n_col'].mean()/n_cols\n",
      "/tmp/ipykernel_291422/3061493562.py:23: FutureWarning: The default of observed=False is deprecated and will be changed to True in a future version of pandas. Pass observed=False to retain current behavior or observed=True to adopt the future default and silence this warning.\n",
      "  df['norm_row'] = adata.obs.groupby(['leiden','pred_class'])['n_row'].mean()/n_rows\n",
      "/tmp/ipykernel_291422/3061493562.py:24: FutureWarning: The default of observed=False is deprecated and will be changed to True in a future version of pandas. Pass observed=False to retain current behavior or observed=True to adopt the future default and silence this warning.\n",
      "  df['dpt_pesudotime'] = adata.obs.groupby(['leiden','pred_class'])['dpt_pseudotime'].mean()\n",
      " 43%|████▎     | 133/307 [03:37<04:41,  1.62s/it]"
     ]
    },
    {
     "name": "stdout",
     "output_type": "stream",
     "text": [
      "11432.svs_188cols_210rows.csv.h5ad speed :8640.450481666152\n",
      "9756.svs_238cols_171rows.csv.h5ad\n"
     ]
    },
    {
     "name": "stderr",
     "output_type": "stream",
     "text": [
      "/tmp/ipykernel_291422/3061493562.py:22: FutureWarning: The default of observed=False is deprecated and will be changed to True in a future version of pandas. Pass observed=False to retain current behavior or observed=True to adopt the future default and silence this warning.\n",
      "  df['norm_col'] = adata.obs.groupby(['leiden','pred_class'])['n_col'].mean()/n_cols\n",
      "/tmp/ipykernel_291422/3061493562.py:23: FutureWarning: The default of observed=False is deprecated and will be changed to True in a future version of pandas. Pass observed=False to retain current behavior or observed=True to adopt the future default and silence this warning.\n",
      "  df['norm_row'] = adata.obs.groupby(['leiden','pred_class'])['n_row'].mean()/n_rows\n",
      "/tmp/ipykernel_291422/3061493562.py:24: FutureWarning: The default of observed=False is deprecated and will be changed to True in a future version of pandas. Pass observed=False to retain current behavior or observed=True to adopt the future default and silence this warning.\n",
      "  df['dpt_pesudotime'] = adata.obs.groupby(['leiden','pred_class'])['dpt_pseudotime'].mean()\n",
      " 44%|████▎     | 134/307 [03:39<04:44,  1.65s/it]"
     ]
    },
    {
     "name": "stdout",
     "output_type": "stream",
     "text": [
      "9756.svs_238cols_171rows.csv.h5ad speed :26343.333166739474\n",
      "10640.svs_185cols_185rows.csv.h5ad\n"
     ]
    },
    {
     "name": "stderr",
     "output_type": "stream",
     "text": [
      "/tmp/ipykernel_291422/3061493562.py:22: FutureWarning: The default of observed=False is deprecated and will be changed to True in a future version of pandas. Pass observed=False to retain current behavior or observed=True to adopt the future default and silence this warning.\n",
      "  df['norm_col'] = adata.obs.groupby(['leiden','pred_class'])['n_col'].mean()/n_cols\n",
      "/tmp/ipykernel_291422/3061493562.py:23: FutureWarning: The default of observed=False is deprecated and will be changed to True in a future version of pandas. Pass observed=False to retain current behavior or observed=True to adopt the future default and silence this warning.\n",
      "  df['norm_row'] = adata.obs.groupby(['leiden','pred_class'])['n_row'].mean()/n_rows\n",
      "/tmp/ipykernel_291422/3061493562.py:24: FutureWarning: The default of observed=False is deprecated and will be changed to True in a future version of pandas. Pass observed=False to retain current behavior or observed=True to adopt the future default and silence this warning.\n",
      "  df['dpt_pesudotime'] = adata.obs.groupby(['leiden','pred_class'])['dpt_pseudotime'].mean()\n",
      " 44%|████▍     | 135/307 [03:42<05:45,  2.01s/it]"
     ]
    },
    {
     "name": "stdout",
     "output_type": "stream",
     "text": [
      "10640.svs_185cols_185rows.csv.h5ad speed :27836.670632142945\n",
      "NLSI0000029.svs_135cols_110rows.csv.h5ad\n"
     ]
    },
    {
     "name": "stderr",
     "output_type": "stream",
     "text": [
      "/tmp/ipykernel_291422/3061493562.py:22: FutureWarning: The default of observed=False is deprecated and will be changed to True in a future version of pandas. Pass observed=False to retain current behavior or observed=True to adopt the future default and silence this warning.\n",
      "  df['norm_col'] = adata.obs.groupby(['leiden','pred_class'])['n_col'].mean()/n_cols\n",
      "/tmp/ipykernel_291422/3061493562.py:23: FutureWarning: The default of observed=False is deprecated and will be changed to True in a future version of pandas. Pass observed=False to retain current behavior or observed=True to adopt the future default and silence this warning.\n",
      "  df['norm_row'] = adata.obs.groupby(['leiden','pred_class'])['n_row'].mean()/n_rows\n",
      "/tmp/ipykernel_291422/3061493562.py:24: FutureWarning: The default of observed=False is deprecated and will be changed to True in a future version of pandas. Pass observed=False to retain current behavior or observed=True to adopt the future default and silence this warning.\n",
      "  df['dpt_pesudotime'] = adata.obs.groupby(['leiden','pred_class'])['dpt_pseudotime'].mean()\n",
      " 44%|████▍     | 136/307 [03:43<05:05,  1.79s/it]"
     ]
    },
    {
     "name": "stdout",
     "output_type": "stream",
     "text": [
      "NLSI0000029.svs_135cols_110rows.csv.h5ad speed :83745.81347710417\n",
      "11296.svs_238cols_170rows.csv.h5ad\n"
     ]
    },
    {
     "name": "stderr",
     "output_type": "stream",
     "text": [
      "/tmp/ipykernel_291422/3061493562.py:22: FutureWarning: The default of observed=False is deprecated and will be changed to True in a future version of pandas. Pass observed=False to retain current behavior or observed=True to adopt the future default and silence this warning.\n",
      "  df['norm_col'] = adata.obs.groupby(['leiden','pred_class'])['n_col'].mean()/n_cols\n",
      "/tmp/ipykernel_291422/3061493562.py:23: FutureWarning: The default of observed=False is deprecated and will be changed to True in a future version of pandas. Pass observed=False to retain current behavior or observed=True to adopt the future default and silence this warning.\n",
      "  df['norm_row'] = adata.obs.groupby(['leiden','pred_class'])['n_row'].mean()/n_rows\n",
      "/tmp/ipykernel_291422/3061493562.py:24: FutureWarning: The default of observed=False is deprecated and will be changed to True in a future version of pandas. Pass observed=False to retain current behavior or observed=True to adopt the future default and silence this warning.\n",
      "  df['dpt_pesudotime'] = adata.obs.groupby(['leiden','pred_class'])['dpt_pseudotime'].mean()\n",
      " 45%|████▍     | 137/307 [03:45<05:11,  1.83s/it]"
     ]
    },
    {
     "name": "stdout",
     "output_type": "stream",
     "text": [
      "11296.svs_238cols_170rows.csv.h5ad speed :4883.895279095935\n",
      "9966.svs_286cols_209rows.csv.h5ad\n"
     ]
    },
    {
     "name": "stderr",
     "output_type": "stream",
     "text": [
      "/tmp/ipykernel_291422/3061493562.py:22: FutureWarning: The default of observed=False is deprecated and will be changed to True in a future version of pandas. Pass observed=False to retain current behavior or observed=True to adopt the future default and silence this warning.\n",
      "  df['norm_col'] = adata.obs.groupby(['leiden','pred_class'])['n_col'].mean()/n_cols\n",
      "/tmp/ipykernel_291422/3061493562.py:23: FutureWarning: The default of observed=False is deprecated and will be changed to True in a future version of pandas. Pass observed=False to retain current behavior or observed=True to adopt the future default and silence this warning.\n",
      "  df['norm_row'] = adata.obs.groupby(['leiden','pred_class'])['n_row'].mean()/n_rows\n",
      "/tmp/ipykernel_291422/3061493562.py:24: FutureWarning: The default of observed=False is deprecated and will be changed to True in a future version of pandas. Pass observed=False to retain current behavior or observed=True to adopt the future default and silence this warning.\n",
      "  df['dpt_pesudotime'] = adata.obs.groupby(['leiden','pred_class'])['dpt_pseudotime'].mean()\n",
      " 45%|████▍     | 138/307 [03:48<05:46,  2.05s/it]"
     ]
    },
    {
     "name": "stdout",
     "output_type": "stream",
     "text": [
      "9966.svs_286cols_209rows.csv.h5ad speed :36038.966483234275\n",
      "10988.svs_181cols_167rows.csv.h5ad\n"
     ]
    },
    {
     "name": "stderr",
     "output_type": "stream",
     "text": [
      "/tmp/ipykernel_291422/3061493562.py:22: FutureWarning: The default of observed=False is deprecated and will be changed to True in a future version of pandas. Pass observed=False to retain current behavior or observed=True to adopt the future default and silence this warning.\n",
      "  df['norm_col'] = adata.obs.groupby(['leiden','pred_class'])['n_col'].mean()/n_cols\n",
      "/tmp/ipykernel_291422/3061493562.py:23: FutureWarning: The default of observed=False is deprecated and will be changed to True in a future version of pandas. Pass observed=False to retain current behavior or observed=True to adopt the future default and silence this warning.\n",
      "  df['norm_row'] = adata.obs.groupby(['leiden','pred_class'])['n_row'].mean()/n_rows\n",
      "/tmp/ipykernel_291422/3061493562.py:24: FutureWarning: The default of observed=False is deprecated and will be changed to True in a future version of pandas. Pass observed=False to retain current behavior or observed=True to adopt the future default and silence this warning.\n",
      "  df['dpt_pesudotime'] = adata.obs.groupby(['leiden','pred_class'])['dpt_pseudotime'].mean()\n",
      " 45%|████▌     | 139/307 [03:49<05:11,  1.86s/it]"
     ]
    },
    {
     "name": "stdout",
     "output_type": "stream",
     "text": [
      "10988.svs_181cols_167rows.csv.h5ad speed :3457.911819032828\n",
      "11788.svs_303cols_210rows.csv.h5ad\n"
     ]
    },
    {
     "name": "stderr",
     "output_type": "stream",
     "text": [
      "/tmp/ipykernel_291422/3061493562.py:22: FutureWarning: The default of observed=False is deprecated and will be changed to True in a future version of pandas. Pass observed=False to retain current behavior or observed=True to adopt the future default and silence this warning.\n",
      "  df['norm_col'] = adata.obs.groupby(['leiden','pred_class'])['n_col'].mean()/n_cols\n",
      "/tmp/ipykernel_291422/3061493562.py:23: FutureWarning: The default of observed=False is deprecated and will be changed to True in a future version of pandas. Pass observed=False to retain current behavior or observed=True to adopt the future default and silence this warning.\n",
      "  df['norm_row'] = adata.obs.groupby(['leiden','pred_class'])['n_row'].mean()/n_rows\n",
      "/tmp/ipykernel_291422/3061493562.py:24: FutureWarning: The default of observed=False is deprecated and will be changed to True in a future version of pandas. Pass observed=False to retain current behavior or observed=True to adopt the future default and silence this warning.\n",
      "  df['dpt_pesudotime'] = adata.obs.groupby(['leiden','pred_class'])['dpt_pseudotime'].mean()\n",
      " 46%|████▌     | 140/307 [03:52<05:55,  2.13s/it]"
     ]
    },
    {
     "name": "stdout",
     "output_type": "stream",
     "text": [
      "11788.svs_303cols_210rows.csv.h5ad speed :7831.7739036479925\n",
      "11334.svs_217cols_210rows.csv.h5ad\n"
     ]
    },
    {
     "name": "stderr",
     "output_type": "stream",
     "text": [
      "/tmp/ipykernel_291422/3061493562.py:22: FutureWarning: The default of observed=False is deprecated and will be changed to True in a future version of pandas. Pass observed=False to retain current behavior or observed=True to adopt the future default and silence this warning.\n",
      "  df['norm_col'] = adata.obs.groupby(['leiden','pred_class'])['n_col'].mean()/n_cols\n",
      "/tmp/ipykernel_291422/3061493562.py:23: FutureWarning: The default of observed=False is deprecated and will be changed to True in a future version of pandas. Pass observed=False to retain current behavior or observed=True to adopt the future default and silence this warning.\n",
      "  df['norm_row'] = adata.obs.groupby(['leiden','pred_class'])['n_row'].mean()/n_rows\n",
      "/tmp/ipykernel_291422/3061493562.py:24: FutureWarning: The default of observed=False is deprecated and will be changed to True in a future version of pandas. Pass observed=False to retain current behavior or observed=True to adopt the future default and silence this warning.\n",
      "  df['dpt_pesudotime'] = adata.obs.groupby(['leiden','pred_class'])['dpt_pseudotime'].mean()\n",
      " 46%|████▌     | 141/307 [03:53<05:22,  1.94s/it]"
     ]
    },
    {
     "name": "stdout",
     "output_type": "stream",
     "text": [
      "11334.svs_217cols_210rows.csv.h5ad speed :1185.4921498487986\n",
      "NLSI0000111.svs_135cols_99rows.csv.h5ad\n"
     ]
    },
    {
     "name": "stderr",
     "output_type": "stream",
     "text": [
      "/tmp/ipykernel_291422/3061493562.py:22: FutureWarning: The default of observed=False is deprecated and will be changed to True in a future version of pandas. Pass observed=False to retain current behavior or observed=True to adopt the future default and silence this warning.\n",
      "  df['norm_col'] = adata.obs.groupby(['leiden','pred_class'])['n_col'].mean()/n_cols\n",
      "/tmp/ipykernel_291422/3061493562.py:23: FutureWarning: The default of observed=False is deprecated and will be changed to True in a future version of pandas. Pass observed=False to retain current behavior or observed=True to adopt the future default and silence this warning.\n",
      "  df['norm_row'] = adata.obs.groupby(['leiden','pred_class'])['n_row'].mean()/n_rows\n",
      "/tmp/ipykernel_291422/3061493562.py:24: FutureWarning: The default of observed=False is deprecated and will be changed to True in a future version of pandas. Pass observed=False to retain current behavior or observed=True to adopt the future default and silence this warning.\n",
      "  df['dpt_pesudotime'] = adata.obs.groupby(['leiden','pred_class'])['dpt_pseudotime'].mean()\n",
      " 46%|████▋     | 142/307 [03:55<04:48,  1.75s/it]"
     ]
    },
    {
     "name": "stdout",
     "output_type": "stream",
     "text": [
      "NLSI0000111.svs_135cols_99rows.csv.h5ad speed :3482.7139251659605\n",
      "10894.svs_197cols_201rows.csv.h5ad\n"
     ]
    },
    {
     "name": "stderr",
     "output_type": "stream",
     "text": [
      "/tmp/ipykernel_291422/3061493562.py:22: FutureWarning: The default of observed=False is deprecated and will be changed to True in a future version of pandas. Pass observed=False to retain current behavior or observed=True to adopt the future default and silence this warning.\n",
      "  df['norm_col'] = adata.obs.groupby(['leiden','pred_class'])['n_col'].mean()/n_cols\n",
      "/tmp/ipykernel_291422/3061493562.py:23: FutureWarning: The default of observed=False is deprecated and will be changed to True in a future version of pandas. Pass observed=False to retain current behavior or observed=True to adopt the future default and silence this warning.\n",
      "  df['norm_row'] = adata.obs.groupby(['leiden','pred_class'])['n_row'].mean()/n_rows\n",
      "/tmp/ipykernel_291422/3061493562.py:24: FutureWarning: The default of observed=False is deprecated and will be changed to True in a future version of pandas. Pass observed=False to retain current behavior or observed=True to adopt the future default and silence this warning.\n",
      "  df['dpt_pesudotime'] = adata.obs.groupby(['leiden','pred_class'])['dpt_pseudotime'].mean()\n",
      " 47%|████▋     | 143/307 [03:56<04:43,  1.73s/it]"
     ]
    },
    {
     "name": "stdout",
     "output_type": "stream",
     "text": [
      "10894.svs_197cols_201rows.csv.h5ad speed :6866.627336365723\n",
      "9778.svs_286cols_215rows.csv.h5ad\n"
     ]
    },
    {
     "name": "stderr",
     "output_type": "stream",
     "text": [
      "/tmp/ipykernel_291422/3061493562.py:22: FutureWarning: The default of observed=False is deprecated and will be changed to True in a future version of pandas. Pass observed=False to retain current behavior or observed=True to adopt the future default and silence this warning.\n",
      "  df['norm_col'] = adata.obs.groupby(['leiden','pred_class'])['n_col'].mean()/n_cols\n",
      "/tmp/ipykernel_291422/3061493562.py:23: FutureWarning: The default of observed=False is deprecated and will be changed to True in a future version of pandas. Pass observed=False to retain current behavior or observed=True to adopt the future default and silence this warning.\n",
      "  df['norm_row'] = adata.obs.groupby(['leiden','pred_class'])['n_row'].mean()/n_rows\n",
      "/tmp/ipykernel_291422/3061493562.py:24: FutureWarning: The default of observed=False is deprecated and will be changed to True in a future version of pandas. Pass observed=False to retain current behavior or observed=True to adopt the future default and silence this warning.\n",
      "  df['dpt_pesudotime'] = adata.obs.groupby(['leiden','pred_class'])['dpt_pseudotime'].mean()\n",
      " 47%|████▋     | 144/307 [04:00<06:03,  2.23s/it]"
     ]
    },
    {
     "name": "stdout",
     "output_type": "stream",
     "text": [
      "9778.svs_286cols_215rows.csv.h5ad speed :29581.99054894648\n",
      "10484.svs_200cols_183rows.csv.h5ad\n"
     ]
    },
    {
     "name": "stderr",
     "output_type": "stream",
     "text": [
      "/tmp/ipykernel_291422/3061493562.py:22: FutureWarning: The default of observed=False is deprecated and will be changed to True in a future version of pandas. Pass observed=False to retain current behavior or observed=True to adopt the future default and silence this warning.\n",
      "  df['norm_col'] = adata.obs.groupby(['leiden','pred_class'])['n_col'].mean()/n_cols\n",
      "/tmp/ipykernel_291422/3061493562.py:23: FutureWarning: The default of observed=False is deprecated and will be changed to True in a future version of pandas. Pass observed=False to retain current behavior or observed=True to adopt the future default and silence this warning.\n",
      "  df['norm_row'] = adata.obs.groupby(['leiden','pred_class'])['n_row'].mean()/n_rows\n",
      "/tmp/ipykernel_291422/3061493562.py:24: FutureWarning: The default of observed=False is deprecated and will be changed to True in a future version of pandas. Pass observed=False to retain current behavior or observed=True to adopt the future default and silence this warning.\n",
      "  df['dpt_pesudotime'] = adata.obs.groupby(['leiden','pred_class'])['dpt_pseudotime'].mean()\n",
      " 47%|████▋     | 145/307 [04:02<05:48,  2.15s/it]"
     ]
    },
    {
     "name": "stdout",
     "output_type": "stream",
     "text": [
      "10484.svs_200cols_183rows.csv.h5ad speed :13554.846930535137\n",
      "NLSI0000259.svs_150cols_65rows.csv.h5ad\n"
     ]
    },
    {
     "name": "stderr",
     "output_type": "stream",
     "text": [
      "/tmp/ipykernel_291422/3061493562.py:22: FutureWarning: The default of observed=False is deprecated and will be changed to True in a future version of pandas. Pass observed=False to retain current behavior or observed=True to adopt the future default and silence this warning.\n",
      "  df['norm_col'] = adata.obs.groupby(['leiden','pred_class'])['n_col'].mean()/n_cols\n",
      "/tmp/ipykernel_291422/3061493562.py:23: FutureWarning: The default of observed=False is deprecated and will be changed to True in a future version of pandas. Pass observed=False to retain current behavior or observed=True to adopt the future default and silence this warning.\n",
      "  df['norm_row'] = adata.obs.groupby(['leiden','pred_class'])['n_row'].mean()/n_rows\n",
      "/tmp/ipykernel_291422/3061493562.py:24: FutureWarning: The default of observed=False is deprecated and will be changed to True in a future version of pandas. Pass observed=False to retain current behavior or observed=True to adopt the future default and silence this warning.\n",
      "  df['dpt_pesudotime'] = adata.obs.groupby(['leiden','pred_class'])['dpt_pseudotime'].mean()\n",
      " 48%|████▊     | 146/307 [04:03<05:02,  1.88s/it]"
     ]
    },
    {
     "name": "stdout",
     "output_type": "stream",
     "text": [
      "NLSI0000259.svs_150cols_65rows.csv.h5ad speed :62588.54246482327\n",
      "11326.svs_229cols_208rows.csv.h5ad\n"
     ]
    },
    {
     "name": "stderr",
     "output_type": "stream",
     "text": [
      "/tmp/ipykernel_291422/3061493562.py:22: FutureWarning: The default of observed=False is deprecated and will be changed to True in a future version of pandas. Pass observed=False to retain current behavior or observed=True to adopt the future default and silence this warning.\n",
      "  df['norm_col'] = adata.obs.groupby(['leiden','pred_class'])['n_col'].mean()/n_cols\n",
      "/tmp/ipykernel_291422/3061493562.py:23: FutureWarning: The default of observed=False is deprecated and will be changed to True in a future version of pandas. Pass observed=False to retain current behavior or observed=True to adopt the future default and silence this warning.\n",
      "  df['norm_row'] = adata.obs.groupby(['leiden','pred_class'])['n_row'].mean()/n_rows\n",
      "/tmp/ipykernel_291422/3061493562.py:24: FutureWarning: The default of observed=False is deprecated and will be changed to True in a future version of pandas. Pass observed=False to retain current behavior or observed=True to adopt the future default and silence this warning.\n",
      "  df['dpt_pesudotime'] = adata.obs.groupby(['leiden','pred_class'])['dpt_pseudotime'].mean()\n",
      " 48%|████▊     | 147/307 [04:05<05:07,  1.92s/it]"
     ]
    },
    {
     "name": "stdout",
     "output_type": "stream",
     "text": [
      "11326.svs_229cols_208rows.csv.h5ad speed :1539.7128175218672\n",
      "11030.svs_291cols_210rows.csv.h5ad\n"
     ]
    },
    {
     "name": "stderr",
     "output_type": "stream",
     "text": [
      "/tmp/ipykernel_291422/3061493562.py:22: FutureWarning: The default of observed=False is deprecated and will be changed to True in a future version of pandas. Pass observed=False to retain current behavior or observed=True to adopt the future default and silence this warning.\n",
      "  df['norm_col'] = adata.obs.groupby(['leiden','pred_class'])['n_col'].mean()/n_cols\n",
      "/tmp/ipykernel_291422/3061493562.py:23: FutureWarning: The default of observed=False is deprecated and will be changed to True in a future version of pandas. Pass observed=False to retain current behavior or observed=True to adopt the future default and silence this warning.\n",
      "  df['norm_row'] = adata.obs.groupby(['leiden','pred_class'])['n_row'].mean()/n_rows\n",
      "/tmp/ipykernel_291422/3061493562.py:24: FutureWarning: The default of observed=False is deprecated and will be changed to True in a future version of pandas. Pass observed=False to retain current behavior or observed=True to adopt the future default and silence this warning.\n",
      "  df['dpt_pesudotime'] = adata.obs.groupby(['leiden','pred_class'])['dpt_pseudotime'].mean()\n",
      " 48%|████▊     | 148/307 [04:07<05:23,  2.04s/it]"
     ]
    },
    {
     "name": "stdout",
     "output_type": "stream",
     "text": [
      "11030.svs_291cols_210rows.csv.h5ad speed :31344.51424253698\n",
      "10420.svs_236cols_163rows.csv.h5ad\n"
     ]
    },
    {
     "name": "stderr",
     "output_type": "stream",
     "text": [
      "/tmp/ipykernel_291422/3061493562.py:22: FutureWarning: The default of observed=False is deprecated and will be changed to True in a future version of pandas. Pass observed=False to retain current behavior or observed=True to adopt the future default and silence this warning.\n",
      "  df['norm_col'] = adata.obs.groupby(['leiden','pred_class'])['n_col'].mean()/n_cols\n",
      "/tmp/ipykernel_291422/3061493562.py:23: FutureWarning: The default of observed=False is deprecated and will be changed to True in a future version of pandas. Pass observed=False to retain current behavior or observed=True to adopt the future default and silence this warning.\n",
      "  df['norm_row'] = adata.obs.groupby(['leiden','pred_class'])['n_row'].mean()/n_rows\n",
      "/tmp/ipykernel_291422/3061493562.py:24: FutureWarning: The default of observed=False is deprecated and will be changed to True in a future version of pandas. Pass observed=False to retain current behavior or observed=True to adopt the future default and silence this warning.\n",
      "  df['dpt_pesudotime'] = adata.obs.groupby(['leiden','pred_class'])['dpt_pseudotime'].mean()\n",
      " 49%|████▊     | 149/307 [04:09<05:25,  2.06s/it]"
     ]
    },
    {
     "name": "stdout",
     "output_type": "stream",
     "text": [
      "10420.svs_236cols_163rows.csv.h5ad speed :14258.055865358385\n",
      "9813.svs_181cols_212rows.csv.h5ad\n"
     ]
    },
    {
     "name": "stderr",
     "output_type": "stream",
     "text": [
      "/tmp/ipykernel_291422/3061493562.py:22: FutureWarning: The default of observed=False is deprecated and will be changed to True in a future version of pandas. Pass observed=False to retain current behavior or observed=True to adopt the future default and silence this warning.\n",
      "  df['norm_col'] = adata.obs.groupby(['leiden','pred_class'])['n_col'].mean()/n_cols\n",
      "/tmp/ipykernel_291422/3061493562.py:23: FutureWarning: The default of observed=False is deprecated and will be changed to True in a future version of pandas. Pass observed=False to retain current behavior or observed=True to adopt the future default and silence this warning.\n",
      "  df['norm_row'] = adata.obs.groupby(['leiden','pred_class'])['n_row'].mean()/n_rows\n",
      "/tmp/ipykernel_291422/3061493562.py:24: FutureWarning: The default of observed=False is deprecated and will be changed to True in a future version of pandas. Pass observed=False to retain current behavior or observed=True to adopt the future default and silence this warning.\n",
      "  df['dpt_pesudotime'] = adata.obs.groupby(['leiden','pred_class'])['dpt_pseudotime'].mean()\n",
      " 49%|████▉     | 150/307 [04:11<05:20,  2.04s/it]"
     ]
    },
    {
     "name": "stdout",
     "output_type": "stream",
     "text": [
      "9813.svs_181cols_212rows.csv.h5ad speed :12410.262926757929\n",
      "9548.svs_190cols_187rows.csv.h5ad\n"
     ]
    },
    {
     "name": "stderr",
     "output_type": "stream",
     "text": [
      "/tmp/ipykernel_291422/3061493562.py:22: FutureWarning: The default of observed=False is deprecated and will be changed to True in a future version of pandas. Pass observed=False to retain current behavior or observed=True to adopt the future default and silence this warning.\n",
      "  df['norm_col'] = adata.obs.groupby(['leiden','pred_class'])['n_col'].mean()/n_cols\n",
      "/tmp/ipykernel_291422/3061493562.py:23: FutureWarning: The default of observed=False is deprecated and will be changed to True in a future version of pandas. Pass observed=False to retain current behavior or observed=True to adopt the future default and silence this warning.\n",
      "  df['norm_row'] = adata.obs.groupby(['leiden','pred_class'])['n_row'].mean()/n_rows\n",
      "/tmp/ipykernel_291422/3061493562.py:24: FutureWarning: The default of observed=False is deprecated and will be changed to True in a future version of pandas. Pass observed=False to retain current behavior or observed=True to adopt the future default and silence this warning.\n",
      "  df['dpt_pesudotime'] = adata.obs.groupby(['leiden','pred_class'])['dpt_pseudotime'].mean()\n",
      " 49%|████▉     | 151/307 [04:13<04:55,  1.89s/it]"
     ]
    },
    {
     "name": "stdout",
     "output_type": "stream",
     "text": [
      "9548.svs_190cols_187rows.csv.h5ad speed :8993.858852051435\n",
      "10025.svs_188cols_198rows.csv.h5ad\n"
     ]
    },
    {
     "name": "stderr",
     "output_type": "stream",
     "text": [
      "/tmp/ipykernel_291422/3061493562.py:22: FutureWarning: The default of observed=False is deprecated and will be changed to True in a future version of pandas. Pass observed=False to retain current behavior or observed=True to adopt the future default and silence this warning.\n",
      "  df['norm_col'] = adata.obs.groupby(['leiden','pred_class'])['n_col'].mean()/n_cols\n",
      "/tmp/ipykernel_291422/3061493562.py:23: FutureWarning: The default of observed=False is deprecated and will be changed to True in a future version of pandas. Pass observed=False to retain current behavior or observed=True to adopt the future default and silence this warning.\n",
      "  df['norm_row'] = adata.obs.groupby(['leiden','pred_class'])['n_row'].mean()/n_rows\n",
      "/tmp/ipykernel_291422/3061493562.py:24: FutureWarning: The default of observed=False is deprecated and will be changed to True in a future version of pandas. Pass observed=False to retain current behavior or observed=True to adopt the future default and silence this warning.\n",
      "  df['dpt_pesudotime'] = adata.obs.groupby(['leiden','pred_class'])['dpt_pseudotime'].mean()\n",
      " 50%|████▉     | 152/307 [04:15<04:56,  1.91s/it]"
     ]
    },
    {
     "name": "stdout",
     "output_type": "stream",
     "text": [
      "10025.svs_188cols_198rows.csv.h5ad speed :7394.970916368883\n",
      "10872.svs_164cols_158rows.csv.h5ad\n"
     ]
    },
    {
     "name": "stderr",
     "output_type": "stream",
     "text": [
      "/tmp/ipykernel_291422/3061493562.py:22: FutureWarning: The default of observed=False is deprecated and will be changed to True in a future version of pandas. Pass observed=False to retain current behavior or observed=True to adopt the future default and silence this warning.\n",
      "  df['norm_col'] = adata.obs.groupby(['leiden','pred_class'])['n_col'].mean()/n_cols\n",
      "/tmp/ipykernel_291422/3061493562.py:23: FutureWarning: The default of observed=False is deprecated and will be changed to True in a future version of pandas. Pass observed=False to retain current behavior or observed=True to adopt the future default and silence this warning.\n",
      "  df['norm_row'] = adata.obs.groupby(['leiden','pred_class'])['n_row'].mean()/n_rows\n",
      "/tmp/ipykernel_291422/3061493562.py:24: FutureWarning: The default of observed=False is deprecated and will be changed to True in a future version of pandas. Pass observed=False to retain current behavior or observed=True to adopt the future default and silence this warning.\n",
      "  df['dpt_pesudotime'] = adata.obs.groupby(['leiden','pred_class'])['dpt_pseudotime'].mean()\n",
      " 50%|████▉     | 153/307 [04:19<06:37,  2.58s/it]"
     ]
    },
    {
     "name": "stdout",
     "output_type": "stream",
     "text": [
      "10872.svs_164cols_158rows.csv.h5ad speed :10393.527965543553\n",
      "10901.svs_157cols_131rows.csv.h5ad\n"
     ]
    },
    {
     "name": "stderr",
     "output_type": "stream",
     "text": [
      "/tmp/ipykernel_291422/3061493562.py:22: FutureWarning: The default of observed=False is deprecated and will be changed to True in a future version of pandas. Pass observed=False to retain current behavior or observed=True to adopt the future default and silence this warning.\n",
      "  df['norm_col'] = adata.obs.groupby(['leiden','pred_class'])['n_col'].mean()/n_cols\n",
      "/tmp/ipykernel_291422/3061493562.py:23: FutureWarning: The default of observed=False is deprecated and will be changed to True in a future version of pandas. Pass observed=False to retain current behavior or observed=True to adopt the future default and silence this warning.\n",
      "  df['norm_row'] = adata.obs.groupby(['leiden','pred_class'])['n_row'].mean()/n_rows\n",
      "/tmp/ipykernel_291422/3061493562.py:24: FutureWarning: The default of observed=False is deprecated and will be changed to True in a future version of pandas. Pass observed=False to retain current behavior or observed=True to adopt the future default and silence this warning.\n",
      "  df['dpt_pesudotime'] = adata.obs.groupby(['leiden','pred_class'])['dpt_pseudotime'].mean()\n",
      " 50%|█████     | 154/307 [04:21<05:47,  2.27s/it]"
     ]
    },
    {
     "name": "stdout",
     "output_type": "stream",
     "text": [
      "10901.svs_157cols_131rows.csv.h5ad speed :1022.0748422211063\n",
      "10492.svs_169cols_194rows.csv.h5ad\n"
     ]
    },
    {
     "name": "stderr",
     "output_type": "stream",
     "text": [
      "/tmp/ipykernel_291422/3061493562.py:22: FutureWarning: The default of observed=False is deprecated and will be changed to True in a future version of pandas. Pass observed=False to retain current behavior or observed=True to adopt the future default and silence this warning.\n",
      "  df['norm_col'] = adata.obs.groupby(['leiden','pred_class'])['n_col'].mean()/n_cols\n",
      "/tmp/ipykernel_291422/3061493562.py:23: FutureWarning: The default of observed=False is deprecated and will be changed to True in a future version of pandas. Pass observed=False to retain current behavior or observed=True to adopt the future default and silence this warning.\n",
      "  df['norm_row'] = adata.obs.groupby(['leiden','pred_class'])['n_row'].mean()/n_rows\n",
      "/tmp/ipykernel_291422/3061493562.py:24: FutureWarning: The default of observed=False is deprecated and will be changed to True in a future version of pandas. Pass observed=False to retain current behavior or observed=True to adopt the future default and silence this warning.\n",
      "  df['dpt_pesudotime'] = adata.obs.groupby(['leiden','pred_class'])['dpt_pseudotime'].mean()\n",
      " 50%|█████     | 155/307 [04:23<05:59,  2.37s/it]"
     ]
    },
    {
     "name": "stdout",
     "output_type": "stream",
     "text": [
      "10492.svs_169cols_194rows.csv.h5ad speed :45358.22846955519\n",
      "9747.svs_370cols_215rows.csv.h5ad\n"
     ]
    },
    {
     "name": "stderr",
     "output_type": "stream",
     "text": [
      "/tmp/ipykernel_291422/3061493562.py:22: FutureWarning: The default of observed=False is deprecated and will be changed to True in a future version of pandas. Pass observed=False to retain current behavior or observed=True to adopt the future default and silence this warning.\n",
      "  df['norm_col'] = adata.obs.groupby(['leiden','pred_class'])['n_col'].mean()/n_cols\n",
      "/tmp/ipykernel_291422/3061493562.py:23: FutureWarning: The default of observed=False is deprecated and will be changed to True in a future version of pandas. Pass observed=False to retain current behavior or observed=True to adopt the future default and silence this warning.\n",
      "  df['norm_row'] = adata.obs.groupby(['leiden','pred_class'])['n_row'].mean()/n_rows\n",
      "/tmp/ipykernel_291422/3061493562.py:24: FutureWarning: The default of observed=False is deprecated and will be changed to True in a future version of pandas. Pass observed=False to retain current behavior or observed=True to adopt the future default and silence this warning.\n",
      "  df['dpt_pesudotime'] = adata.obs.groupby(['leiden','pred_class'])['dpt_pseudotime'].mean()\n",
      " 51%|█████     | 156/307 [04:26<06:01,  2.40s/it]"
     ]
    },
    {
     "name": "stdout",
     "output_type": "stream",
     "text": [
      "9747.svs_370cols_215rows.csv.h5ad speed :inf\n",
      "9684.svs_308cols_215rows.csv.h5ad\n"
     ]
    },
    {
     "name": "stderr",
     "output_type": "stream",
     "text": [
      "/tmp/ipykernel_291422/3061493562.py:22: FutureWarning: The default of observed=False is deprecated and will be changed to True in a future version of pandas. Pass observed=False to retain current behavior or observed=True to adopt the future default and silence this warning.\n",
      "  df['norm_col'] = adata.obs.groupby(['leiden','pred_class'])['n_col'].mean()/n_cols\n",
      "/tmp/ipykernel_291422/3061493562.py:23: FutureWarning: The default of observed=False is deprecated and will be changed to True in a future version of pandas. Pass observed=False to retain current behavior or observed=True to adopt the future default and silence this warning.\n",
      "  df['norm_row'] = adata.obs.groupby(['leiden','pred_class'])['n_row'].mean()/n_rows\n",
      "/tmp/ipykernel_291422/3061493562.py:24: FutureWarning: The default of observed=False is deprecated and will be changed to True in a future version of pandas. Pass observed=False to retain current behavior or observed=True to adopt the future default and silence this warning.\n",
      "  df['dpt_pesudotime'] = adata.obs.groupby(['leiden','pred_class'])['dpt_pseudotime'].mean()\n",
      " 51%|█████     | 157/307 [04:30<07:09,  2.87s/it]"
     ]
    },
    {
     "name": "stdout",
     "output_type": "stream",
     "text": [
      "9684.svs_308cols_215rows.csv.h5ad speed :18222.443701464133\n",
      "11321.svs_257cols_193rows.csv.h5ad\n"
     ]
    },
    {
     "name": "stderr",
     "output_type": "stream",
     "text": [
      "/tmp/ipykernel_291422/3061493562.py:22: FutureWarning: The default of observed=False is deprecated and will be changed to True in a future version of pandas. Pass observed=False to retain current behavior or observed=True to adopt the future default and silence this warning.\n",
      "  df['norm_col'] = adata.obs.groupby(['leiden','pred_class'])['n_col'].mean()/n_cols\n",
      "/tmp/ipykernel_291422/3061493562.py:23: FutureWarning: The default of observed=False is deprecated and will be changed to True in a future version of pandas. Pass observed=False to retain current behavior or observed=True to adopt the future default and silence this warning.\n",
      "  df['norm_row'] = adata.obs.groupby(['leiden','pred_class'])['n_row'].mean()/n_rows\n",
      "/tmp/ipykernel_291422/3061493562.py:24: FutureWarning: The default of observed=False is deprecated and will be changed to True in a future version of pandas. Pass observed=False to retain current behavior or observed=True to adopt the future default and silence this warning.\n",
      "  df['dpt_pesudotime'] = adata.obs.groupby(['leiden','pred_class'])['dpt_pseudotime'].mean()\n",
      " 51%|█████▏    | 158/307 [04:31<06:20,  2.55s/it]"
     ]
    },
    {
     "name": "stdout",
     "output_type": "stream",
     "text": [
      "11321.svs_257cols_193rows.csv.h5ad speed :8221.294575556834\n",
      "10171.svs_164cols_105rows.csv.h5ad\n"
     ]
    },
    {
     "name": "stderr",
     "output_type": "stream",
     "text": [
      "/tmp/ipykernel_291422/3061493562.py:22: FutureWarning: The default of observed=False is deprecated and will be changed to True in a future version of pandas. Pass observed=False to retain current behavior or observed=True to adopt the future default and silence this warning.\n",
      "  df['norm_col'] = adata.obs.groupby(['leiden','pred_class'])['n_col'].mean()/n_cols\n",
      "/tmp/ipykernel_291422/3061493562.py:23: FutureWarning: The default of observed=False is deprecated and will be changed to True in a future version of pandas. Pass observed=False to retain current behavior or observed=True to adopt the future default and silence this warning.\n",
      "  df['norm_row'] = adata.obs.groupby(['leiden','pred_class'])['n_row'].mean()/n_rows\n",
      "/tmp/ipykernel_291422/3061493562.py:24: FutureWarning: The default of observed=False is deprecated and will be changed to True in a future version of pandas. Pass observed=False to retain current behavior or observed=True to adopt the future default and silence this warning.\n",
      "  df['dpt_pesudotime'] = adata.obs.groupby(['leiden','pred_class'])['dpt_pseudotime'].mean()\n",
      " 52%|█████▏    | 159/307 [04:33<05:38,  2.29s/it]"
     ]
    },
    {
     "name": "stdout",
     "output_type": "stream",
     "text": [
      "10171.svs_164cols_105rows.csv.h5ad speed :7960.044592310017\n",
      "10460.svs_286cols_224rows.csv.h5ad\n"
     ]
    },
    {
     "name": "stderr",
     "output_type": "stream",
     "text": [
      "/tmp/ipykernel_291422/3061493562.py:22: FutureWarning: The default of observed=False is deprecated and will be changed to True in a future version of pandas. Pass observed=False to retain current behavior or observed=True to adopt the future default and silence this warning.\n",
      "  df['norm_col'] = adata.obs.groupby(['leiden','pred_class'])['n_col'].mean()/n_cols\n",
      "/tmp/ipykernel_291422/3061493562.py:23: FutureWarning: The default of observed=False is deprecated and will be changed to True in a future version of pandas. Pass observed=False to retain current behavior or observed=True to adopt the future default and silence this warning.\n",
      "  df['norm_row'] = adata.obs.groupby(['leiden','pred_class'])['n_row'].mean()/n_rows\n",
      "/tmp/ipykernel_291422/3061493562.py:24: FutureWarning: The default of observed=False is deprecated and will be changed to True in a future version of pandas. Pass observed=False to retain current behavior or observed=True to adopt the future default and silence this warning.\n",
      "  df['dpt_pesudotime'] = adata.obs.groupby(['leiden','pred_class'])['dpt_pseudotime'].mean()\n",
      " 52%|█████▏    | 160/307 [04:36<05:53,  2.41s/it]"
     ]
    },
    {
     "name": "stdout",
     "output_type": "stream",
     "text": [
      "10460.svs_286cols_224rows.csv.h5ad speed :25004.051995005128\n",
      "NLSI0000104.svs_130cols_89rows.csv.h5ad\n"
     ]
    },
    {
     "name": "stderr",
     "output_type": "stream",
     "text": [
      "/tmp/ipykernel_291422/3061493562.py:22: FutureWarning: The default of observed=False is deprecated and will be changed to True in a future version of pandas. Pass observed=False to retain current behavior or observed=True to adopt the future default and silence this warning.\n",
      "  df['norm_col'] = adata.obs.groupby(['leiden','pred_class'])['n_col'].mean()/n_cols\n",
      "/tmp/ipykernel_291422/3061493562.py:23: FutureWarning: The default of observed=False is deprecated and will be changed to True in a future version of pandas. Pass observed=False to retain current behavior or observed=True to adopt the future default and silence this warning.\n",
      "  df['norm_row'] = adata.obs.groupby(['leiden','pred_class'])['n_row'].mean()/n_rows\n",
      "/tmp/ipykernel_291422/3061493562.py:24: FutureWarning: The default of observed=False is deprecated and will be changed to True in a future version of pandas. Pass observed=False to retain current behavior or observed=True to adopt the future default and silence this warning.\n",
      "  df['dpt_pesudotime'] = adata.obs.groupby(['leiden','pred_class'])['dpt_pseudotime'].mean()\n",
      " 52%|█████▏    | 161/307 [04:37<04:39,  1.92s/it]"
     ]
    },
    {
     "name": "stdout",
     "output_type": "stream",
     "text": [
      "NLSI0000104.svs_130cols_89rows.csv.h5ad speed :4692.74946710449\n",
      "9401.svs_159cols_178rows.csv.h5ad\n"
     ]
    },
    {
     "name": "stderr",
     "output_type": "stream",
     "text": [
      "/tmp/ipykernel_291422/3061493562.py:22: FutureWarning: The default of observed=False is deprecated and will be changed to True in a future version of pandas. Pass observed=False to retain current behavior or observed=True to adopt the future default and silence this warning.\n",
      "  df['norm_col'] = adata.obs.groupby(['leiden','pred_class'])['n_col'].mean()/n_cols\n",
      "/tmp/ipykernel_291422/3061493562.py:23: FutureWarning: The default of observed=False is deprecated and will be changed to True in a future version of pandas. Pass observed=False to retain current behavior or observed=True to adopt the future default and silence this warning.\n",
      "  df['norm_row'] = adata.obs.groupby(['leiden','pred_class'])['n_row'].mean()/n_rows\n",
      "/tmp/ipykernel_291422/3061493562.py:24: FutureWarning: The default of observed=False is deprecated and will be changed to True in a future version of pandas. Pass observed=False to retain current behavior or observed=True to adopt the future default and silence this warning.\n",
      "  df['dpt_pesudotime'] = adata.obs.groupby(['leiden','pred_class'])['dpt_pseudotime'].mean()\n",
      " 53%|█████▎    | 162/307 [04:39<04:59,  2.06s/it]"
     ]
    },
    {
     "name": "stdout",
     "output_type": "stream",
     "text": [
      "9401.svs_159cols_178rows.csv.h5ad speed :1458.029296302241\n",
      "NLSI0000077.svs_140cols_98rows.csv.h5ad\n"
     ]
    },
    {
     "name": "stderr",
     "output_type": "stream",
     "text": [
      "/tmp/ipykernel_291422/3061493562.py:22: FutureWarning: The default of observed=False is deprecated and will be changed to True in a future version of pandas. Pass observed=False to retain current behavior or observed=True to adopt the future default and silence this warning.\n",
      "  df['norm_col'] = adata.obs.groupby(['leiden','pred_class'])['n_col'].mean()/n_cols\n",
      "/tmp/ipykernel_291422/3061493562.py:23: FutureWarning: The default of observed=False is deprecated and will be changed to True in a future version of pandas. Pass observed=False to retain current behavior or observed=True to adopt the future default and silence this warning.\n",
      "  df['norm_row'] = adata.obs.groupby(['leiden','pred_class'])['n_row'].mean()/n_rows\n",
      "/tmp/ipykernel_291422/3061493562.py:24: FutureWarning: The default of observed=False is deprecated and will be changed to True in a future version of pandas. Pass observed=False to retain current behavior or observed=True to adopt the future default and silence this warning.\n",
      "  df['dpt_pesudotime'] = adata.obs.groupby(['leiden','pred_class'])['dpt_pseudotime'].mean()\n",
      " 53%|█████▎    | 163/307 [04:40<04:30,  1.88s/it]"
     ]
    },
    {
     "name": "stdout",
     "output_type": "stream",
     "text": [
      "NLSI0000077.svs_140cols_98rows.csv.h5ad speed :20352.113625562382\n",
      "11191.svs_303cols_210rows.csv.h5ad\n"
     ]
    },
    {
     "name": "stderr",
     "output_type": "stream",
     "text": [
      "/tmp/ipykernel_291422/3061493562.py:22: FutureWarning: The default of observed=False is deprecated and will be changed to True in a future version of pandas. Pass observed=False to retain current behavior or observed=True to adopt the future default and silence this warning.\n",
      "  df['norm_col'] = adata.obs.groupby(['leiden','pred_class'])['n_col'].mean()/n_cols\n",
      "/tmp/ipykernel_291422/3061493562.py:23: FutureWarning: The default of observed=False is deprecated and will be changed to True in a future version of pandas. Pass observed=False to retain current behavior or observed=True to adopt the future default and silence this warning.\n",
      "  df['norm_row'] = adata.obs.groupby(['leiden','pred_class'])['n_row'].mean()/n_rows\n",
      "/tmp/ipykernel_291422/3061493562.py:24: FutureWarning: The default of observed=False is deprecated and will be changed to True in a future version of pandas. Pass observed=False to retain current behavior or observed=True to adopt the future default and silence this warning.\n",
      "  df['dpt_pesudotime'] = adata.obs.groupby(['leiden','pred_class'])['dpt_pseudotime'].mean()\n",
      " 53%|█████▎    | 164/307 [04:43<05:07,  2.15s/it]"
     ]
    },
    {
     "name": "stdout",
     "output_type": "stream",
     "text": [
      "11191.svs_303cols_210rows.csv.h5ad speed :15421.173793387874\n",
      "9692.svs_308cols_215rows.csv.h5ad\n"
     ]
    },
    {
     "name": "stderr",
     "output_type": "stream",
     "text": [
      "/tmp/ipykernel_291422/3061493562.py:22: FutureWarning: The default of observed=False is deprecated and will be changed to True in a future version of pandas. Pass observed=False to retain current behavior or observed=True to adopt the future default and silence this warning.\n",
      "  df['norm_col'] = adata.obs.groupby(['leiden','pred_class'])['n_col'].mean()/n_cols\n",
      "/tmp/ipykernel_291422/3061493562.py:23: FutureWarning: The default of observed=False is deprecated and will be changed to True in a future version of pandas. Pass observed=False to retain current behavior or observed=True to adopt the future default and silence this warning.\n",
      "  df['norm_row'] = adata.obs.groupby(['leiden','pred_class'])['n_row'].mean()/n_rows\n",
      "/tmp/ipykernel_291422/3061493562.py:24: FutureWarning: The default of observed=False is deprecated and will be changed to True in a future version of pandas. Pass observed=False to retain current behavior or observed=True to adopt the future default and silence this warning.\n",
      "  df['dpt_pesudotime'] = adata.obs.groupby(['leiden','pred_class'])['dpt_pseudotime'].mean()\n",
      " 54%|█████▎    | 165/307 [04:46<05:48,  2.45s/it]"
     ]
    },
    {
     "name": "stdout",
     "output_type": "stream",
     "text": [
      "9692.svs_308cols_215rows.csv.h5ad speed :5343.688832840441\n",
      "11389.svs_193cols_178rows.csv.h5ad\n"
     ]
    },
    {
     "name": "stderr",
     "output_type": "stream",
     "text": [
      "/tmp/ipykernel_291422/3061493562.py:22: FutureWarning: The default of observed=False is deprecated and will be changed to True in a future version of pandas. Pass observed=False to retain current behavior or observed=True to adopt the future default and silence this warning.\n",
      "  df['norm_col'] = adata.obs.groupby(['leiden','pred_class'])['n_col'].mean()/n_cols\n",
      "/tmp/ipykernel_291422/3061493562.py:23: FutureWarning: The default of observed=False is deprecated and will be changed to True in a future version of pandas. Pass observed=False to retain current behavior or observed=True to adopt the future default and silence this warning.\n",
      "  df['norm_row'] = adata.obs.groupby(['leiden','pred_class'])['n_row'].mean()/n_rows\n",
      "/tmp/ipykernel_291422/3061493562.py:24: FutureWarning: The default of observed=False is deprecated and will be changed to True in a future version of pandas. Pass observed=False to retain current behavior or observed=True to adopt the future default and silence this warning.\n",
      "  df['dpt_pesudotime'] = adata.obs.groupby(['leiden','pred_class'])['dpt_pseudotime'].mean()\n",
      " 54%|█████▍    | 166/307 [04:48<05:18,  2.26s/it]"
     ]
    },
    {
     "name": "stdout",
     "output_type": "stream",
     "text": [
      "11389.svs_193cols_178rows.csv.h5ad speed :3702.1485130037468\n",
      "10886.svs_260cols_185rows.csv.h5ad\n"
     ]
    },
    {
     "name": "stderr",
     "output_type": "stream",
     "text": [
      "/tmp/ipykernel_291422/3061493562.py:22: FutureWarning: The default of observed=False is deprecated and will be changed to True in a future version of pandas. Pass observed=False to retain current behavior or observed=True to adopt the future default and silence this warning.\n",
      "  df['norm_col'] = adata.obs.groupby(['leiden','pred_class'])['n_col'].mean()/n_cols\n",
      "/tmp/ipykernel_291422/3061493562.py:23: FutureWarning: The default of observed=False is deprecated and will be changed to True in a future version of pandas. Pass observed=False to retain current behavior or observed=True to adopt the future default and silence this warning.\n",
      "  df['norm_row'] = adata.obs.groupby(['leiden','pred_class'])['n_row'].mean()/n_rows\n",
      "/tmp/ipykernel_291422/3061493562.py:24: FutureWarning: The default of observed=False is deprecated and will be changed to True in a future version of pandas. Pass observed=False to retain current behavior or observed=True to adopt the future default and silence this warning.\n",
      "  df['dpt_pesudotime'] = adata.obs.groupby(['leiden','pred_class'])['dpt_pseudotime'].mean()\n",
      " 54%|█████▍    | 167/307 [04:50<05:00,  2.15s/it]"
     ]
    },
    {
     "name": "stdout",
     "output_type": "stream",
     "text": [
      "10886.svs_260cols_185rows.csv.h5ad speed :3885.8041145598986\n",
      "NLSI0000030.svs_70cols_75rows.csv.h5ad\n"
     ]
    },
    {
     "name": "stderr",
     "output_type": "stream",
     "text": [
      "/tmp/ipykernel_291422/3061493562.py:22: FutureWarning: The default of observed=False is deprecated and will be changed to True in a future version of pandas. Pass observed=False to retain current behavior or observed=True to adopt the future default and silence this warning.\n",
      "  df['norm_col'] = adata.obs.groupby(['leiden','pred_class'])['n_col'].mean()/n_cols\n",
      "/tmp/ipykernel_291422/3061493562.py:23: FutureWarning: The default of observed=False is deprecated and will be changed to True in a future version of pandas. Pass observed=False to retain current behavior or observed=True to adopt the future default and silence this warning.\n",
      "  df['norm_row'] = adata.obs.groupby(['leiden','pred_class'])['n_row'].mean()/n_rows\n",
      "/tmp/ipykernel_291422/3061493562.py:24: FutureWarning: The default of observed=False is deprecated and will be changed to True in a future version of pandas. Pass observed=False to retain current behavior or observed=True to adopt the future default and silence this warning.\n",
      "  df['dpt_pesudotime'] = adata.obs.groupby(['leiden','pred_class'])['dpt_pseudotime'].mean()\n",
      " 55%|█████▍    | 168/307 [04:50<03:46,  1.63s/it]"
     ]
    },
    {
     "name": "stdout",
     "output_type": "stream",
     "text": [
      "NLSI0000030.svs_70cols_75rows.csv.h5ad speed :8846.198992768846\n",
      "9469.svs_284cols_196rows.csv.h5ad\n"
     ]
    },
    {
     "name": "stderr",
     "output_type": "stream",
     "text": [
      "/tmp/ipykernel_291422/3061493562.py:22: FutureWarning: The default of observed=False is deprecated and will be changed to True in a future version of pandas. Pass observed=False to retain current behavior or observed=True to adopt the future default and silence this warning.\n",
      "  df['norm_col'] = adata.obs.groupby(['leiden','pred_class'])['n_col'].mean()/n_cols\n",
      "/tmp/ipykernel_291422/3061493562.py:23: FutureWarning: The default of observed=False is deprecated and will be changed to True in a future version of pandas. Pass observed=False to retain current behavior or observed=True to adopt the future default and silence this warning.\n",
      "  df['norm_row'] = adata.obs.groupby(['leiden','pred_class'])['n_row'].mean()/n_rows\n",
      "/tmp/ipykernel_291422/3061493562.py:24: FutureWarning: The default of observed=False is deprecated and will be changed to True in a future version of pandas. Pass observed=False to retain current behavior or observed=True to adopt the future default and silence this warning.\n",
      "  df['dpt_pesudotime'] = adata.obs.groupby(['leiden','pred_class'])['dpt_pseudotime'].mean()\n",
      " 55%|█████▌    | 169/307 [04:52<03:59,  1.74s/it]"
     ]
    },
    {
     "name": "stdout",
     "output_type": "stream",
     "text": [
      "9469.svs_284cols_196rows.csv.h5ad speed :4990.67286130721\n",
      "9757.svs_197cols_188rows.csv.h5ad\n"
     ]
    },
    {
     "name": "stderr",
     "output_type": "stream",
     "text": [
      "/tmp/ipykernel_291422/3061493562.py:22: FutureWarning: The default of observed=False is deprecated and will be changed to True in a future version of pandas. Pass observed=False to retain current behavior or observed=True to adopt the future default and silence this warning.\n",
      "  df['norm_col'] = adata.obs.groupby(['leiden','pred_class'])['n_col'].mean()/n_cols\n",
      "/tmp/ipykernel_291422/3061493562.py:23: FutureWarning: The default of observed=False is deprecated and will be changed to True in a future version of pandas. Pass observed=False to retain current behavior or observed=True to adopt the future default and silence this warning.\n",
      "  df['norm_row'] = adata.obs.groupby(['leiden','pred_class'])['n_row'].mean()/n_rows\n",
      "/tmp/ipykernel_291422/3061493562.py:24: FutureWarning: The default of observed=False is deprecated and will be changed to True in a future version of pandas. Pass observed=False to retain current behavior or observed=True to adopt the future default and silence this warning.\n",
      "  df['dpt_pesudotime'] = adata.obs.groupby(['leiden','pred_class'])['dpt_pseudotime'].mean()\n",
      " 55%|█████▌    | 170/307 [04:55<04:33,  2.00s/it]"
     ]
    },
    {
     "name": "stdout",
     "output_type": "stream",
     "text": [
      "9757.svs_197cols_188rows.csv.h5ad speed :14711.150946593358\n",
      "9707.svs_238cols_194rows.csv.h5ad\n"
     ]
    },
    {
     "name": "stderr",
     "output_type": "stream",
     "text": [
      "/tmp/ipykernel_291422/3061493562.py:22: FutureWarning: The default of observed=False is deprecated and will be changed to True in a future version of pandas. Pass observed=False to retain current behavior or observed=True to adopt the future default and silence this warning.\n",
      "  df['norm_col'] = adata.obs.groupby(['leiden','pred_class'])['n_col'].mean()/n_cols\n",
      "/tmp/ipykernel_291422/3061493562.py:23: FutureWarning: The default of observed=False is deprecated and will be changed to True in a future version of pandas. Pass observed=False to retain current behavior or observed=True to adopt the future default and silence this warning.\n",
      "  df['norm_row'] = adata.obs.groupby(['leiden','pred_class'])['n_row'].mean()/n_rows\n",
      "/tmp/ipykernel_291422/3061493562.py:24: FutureWarning: The default of observed=False is deprecated and will be changed to True in a future version of pandas. Pass observed=False to retain current behavior or observed=True to adopt the future default and silence this warning.\n",
      "  df['dpt_pesudotime'] = adata.obs.groupby(['leiden','pred_class'])['dpt_pseudotime'].mean()\n",
      " 56%|█████▌    | 171/307 [04:57<04:39,  2.06s/it]"
     ]
    },
    {
     "name": "stdout",
     "output_type": "stream",
     "text": [
      "9707.svs_238cols_194rows.csv.h5ad speed :6124.1830944482645\n",
      "NLSI0000267.svs_155cols_105rows.csv.h5ad\n"
     ]
    },
    {
     "name": "stderr",
     "output_type": "stream",
     "text": [
      "/tmp/ipykernel_291422/3061493562.py:22: FutureWarning: The default of observed=False is deprecated and will be changed to True in a future version of pandas. Pass observed=False to retain current behavior or observed=True to adopt the future default and silence this warning.\n",
      "  df['norm_col'] = adata.obs.groupby(['leiden','pred_class'])['n_col'].mean()/n_cols\n",
      "/tmp/ipykernel_291422/3061493562.py:23: FutureWarning: The default of observed=False is deprecated and will be changed to True in a future version of pandas. Pass observed=False to retain current behavior or observed=True to adopt the future default and silence this warning.\n",
      "  df['norm_row'] = adata.obs.groupby(['leiden','pred_class'])['n_row'].mean()/n_rows\n",
      "/tmp/ipykernel_291422/3061493562.py:24: FutureWarning: The default of observed=False is deprecated and will be changed to True in a future version of pandas. Pass observed=False to retain current behavior or observed=True to adopt the future default and silence this warning.\n",
      "  df['dpt_pesudotime'] = adata.obs.groupby(['leiden','pred_class'])['dpt_pseudotime'].mean()\n",
      " 56%|█████▌    | 172/307 [04:59<04:20,  1.93s/it]"
     ]
    },
    {
     "name": "stdout",
     "output_type": "stream",
     "text": [
      "NLSI0000267.svs_155cols_105rows.csv.h5ad speed :131551.04023151382\n",
      "10136.svs_142cols_163rows.csv.h5ad\n"
     ]
    },
    {
     "name": "stderr",
     "output_type": "stream",
     "text": [
      "/tmp/ipykernel_291422/3061493562.py:22: FutureWarning: The default of observed=False is deprecated and will be changed to True in a future version of pandas. Pass observed=False to retain current behavior or observed=True to adopt the future default and silence this warning.\n",
      "  df['norm_col'] = adata.obs.groupby(['leiden','pred_class'])['n_col'].mean()/n_cols\n",
      "/tmp/ipykernel_291422/3061493562.py:23: FutureWarning: The default of observed=False is deprecated and will be changed to True in a future version of pandas. Pass observed=False to retain current behavior or observed=True to adopt the future default and silence this warning.\n",
      "  df['norm_row'] = adata.obs.groupby(['leiden','pred_class'])['n_row'].mean()/n_rows\n",
      "/tmp/ipykernel_291422/3061493562.py:24: FutureWarning: The default of observed=False is deprecated and will be changed to True in a future version of pandas. Pass observed=False to retain current behavior or observed=True to adopt the future default and silence this warning.\n",
      "  df['dpt_pesudotime'] = adata.obs.groupby(['leiden','pred_class'])['dpt_pseudotime'].mean()\n",
      " 56%|█████▋    | 173/307 [05:01<04:31,  2.02s/it]"
     ]
    },
    {
     "name": "stdout",
     "output_type": "stream",
     "text": [
      "10136.svs_142cols_163rows.csv.h5ad speed :4024.9899248430024\n",
      "9497.svs_248cols_209rows.csv.h5ad\n"
     ]
    },
    {
     "name": "stderr",
     "output_type": "stream",
     "text": [
      "/tmp/ipykernel_291422/3061493562.py:22: FutureWarning: The default of observed=False is deprecated and will be changed to True in a future version of pandas. Pass observed=False to retain current behavior or observed=True to adopt the future default and silence this warning.\n",
      "  df['norm_col'] = adata.obs.groupby(['leiden','pred_class'])['n_col'].mean()/n_cols\n",
      "/tmp/ipykernel_291422/3061493562.py:23: FutureWarning: The default of observed=False is deprecated and will be changed to True in a future version of pandas. Pass observed=False to retain current behavior or observed=True to adopt the future default and silence this warning.\n",
      "  df['norm_row'] = adata.obs.groupby(['leiden','pred_class'])['n_row'].mean()/n_rows\n",
      "/tmp/ipykernel_291422/3061493562.py:24: FutureWarning: The default of observed=False is deprecated and will be changed to True in a future version of pandas. Pass observed=False to retain current behavior or observed=True to adopt the future default and silence this warning.\n",
      "  df['dpt_pesudotime'] = adata.obs.groupby(['leiden','pred_class'])['dpt_pseudotime'].mean()\n",
      " 57%|█████▋    | 174/307 [05:04<04:47,  2.16s/it]"
     ]
    },
    {
     "name": "stdout",
     "output_type": "stream",
     "text": [
      "9497.svs_248cols_209rows.csv.h5ad speed :3127.2360769907054\n",
      "9965.svs_243cols_177rows.csv.h5ad\n"
     ]
    },
    {
     "name": "stderr",
     "output_type": "stream",
     "text": [
      "/tmp/ipykernel_291422/3061493562.py:22: FutureWarning: The default of observed=False is deprecated and will be changed to True in a future version of pandas. Pass observed=False to retain current behavior or observed=True to adopt the future default and silence this warning.\n",
      "  df['norm_col'] = adata.obs.groupby(['leiden','pred_class'])['n_col'].mean()/n_cols\n",
      "/tmp/ipykernel_291422/3061493562.py:23: FutureWarning: The default of observed=False is deprecated and will be changed to True in a future version of pandas. Pass observed=False to retain current behavior or observed=True to adopt the future default and silence this warning.\n",
      "  df['norm_row'] = adata.obs.groupby(['leiden','pred_class'])['n_row'].mean()/n_rows\n",
      "/tmp/ipykernel_291422/3061493562.py:24: FutureWarning: The default of observed=False is deprecated and will be changed to True in a future version of pandas. Pass observed=False to retain current behavior or observed=True to adopt the future default and silence this warning.\n",
      "  df['dpt_pesudotime'] = adata.obs.groupby(['leiden','pred_class'])['dpt_pseudotime'].mean()\n",
      " 57%|█████▋    | 175/307 [05:06<05:06,  2.32s/it]"
     ]
    },
    {
     "name": "stdout",
     "output_type": "stream",
     "text": [
      "9965.svs_243cols_177rows.csv.h5ad speed :2708.0862185525866\n",
      "9550.svs_277cols_202rows.csv.h5ad\n"
     ]
    },
    {
     "name": "stderr",
     "output_type": "stream",
     "text": [
      "/tmp/ipykernel_291422/3061493562.py:22: FutureWarning: The default of observed=False is deprecated and will be changed to True in a future version of pandas. Pass observed=False to retain current behavior or observed=True to adopt the future default and silence this warning.\n",
      "  df['norm_col'] = adata.obs.groupby(['leiden','pred_class'])['n_col'].mean()/n_cols\n",
      "/tmp/ipykernel_291422/3061493562.py:23: FutureWarning: The default of observed=False is deprecated and will be changed to True in a future version of pandas. Pass observed=False to retain current behavior or observed=True to adopt the future default and silence this warning.\n",
      "  df['norm_row'] = adata.obs.groupby(['leiden','pred_class'])['n_row'].mean()/n_rows\n",
      "/tmp/ipykernel_291422/3061493562.py:24: FutureWarning: The default of observed=False is deprecated and will be changed to True in a future version of pandas. Pass observed=False to retain current behavior or observed=True to adopt the future default and silence this warning.\n",
      "  df['dpt_pesudotime'] = adata.obs.groupby(['leiden','pred_class'])['dpt_pseudotime'].mean()\n",
      " 57%|█████▋    | 176/307 [05:09<05:15,  2.40s/it]"
     ]
    },
    {
     "name": "stdout",
     "output_type": "stream",
     "text": [
      "9550.svs_277cols_202rows.csv.h5ad speed :12335.792644773243\n",
      "11364.svs_238cols_168rows.csv.h5ad\n"
     ]
    },
    {
     "name": "stderr",
     "output_type": "stream",
     "text": [
      "/tmp/ipykernel_291422/3061493562.py:22: FutureWarning: The default of observed=False is deprecated and will be changed to True in a future version of pandas. Pass observed=False to retain current behavior or observed=True to adopt the future default and silence this warning.\n",
      "  df['norm_col'] = adata.obs.groupby(['leiden','pred_class'])['n_col'].mean()/n_cols\n",
      "/tmp/ipykernel_291422/3061493562.py:23: FutureWarning: The default of observed=False is deprecated and will be changed to True in a future version of pandas. Pass observed=False to retain current behavior or observed=True to adopt the future default and silence this warning.\n",
      "  df['norm_row'] = adata.obs.groupby(['leiden','pred_class'])['n_row'].mean()/n_rows\n",
      "/tmp/ipykernel_291422/3061493562.py:24: FutureWarning: The default of observed=False is deprecated and will be changed to True in a future version of pandas. Pass observed=False to retain current behavior or observed=True to adopt the future default and silence this warning.\n",
      "  df['dpt_pesudotime'] = adata.obs.groupby(['leiden','pred_class'])['dpt_pseudotime'].mean()\n",
      " 58%|█████▊    | 177/307 [05:10<04:40,  2.16s/it]"
     ]
    },
    {
     "name": "stdout",
     "output_type": "stream",
     "text": [
      "11364.svs_238cols_168rows.csv.h5ad speed :4591.501266198825\n",
      "11186.svs_207cols_203rows.csv.h5ad\n"
     ]
    },
    {
     "name": "stderr",
     "output_type": "stream",
     "text": [
      "/tmp/ipykernel_291422/3061493562.py:22: FutureWarning: The default of observed=False is deprecated and will be changed to True in a future version of pandas. Pass observed=False to retain current behavior or observed=True to adopt the future default and silence this warning.\n",
      "  df['norm_col'] = adata.obs.groupby(['leiden','pred_class'])['n_col'].mean()/n_cols\n",
      "/tmp/ipykernel_291422/3061493562.py:23: FutureWarning: The default of observed=False is deprecated and will be changed to True in a future version of pandas. Pass observed=False to retain current behavior or observed=True to adopt the future default and silence this warning.\n",
      "  df['norm_row'] = adata.obs.groupby(['leiden','pred_class'])['n_row'].mean()/n_rows\n",
      "/tmp/ipykernel_291422/3061493562.py:24: FutureWarning: The default of observed=False is deprecated and will be changed to True in a future version of pandas. Pass observed=False to retain current behavior or observed=True to adopt the future default and silence this warning.\n",
      "  df['dpt_pesudotime'] = adata.obs.groupby(['leiden','pred_class'])['dpt_pseudotime'].mean()\n",
      " 58%|█████▊    | 178/307 [05:12<04:17,  2.00s/it]"
     ]
    },
    {
     "name": "stdout",
     "output_type": "stream",
     "text": [
      "11186.svs_207cols_203rows.csv.h5ad speed :2926.9534550054823\n",
      "NLSI0000131.svs_140cols_95rows.csv.h5ad\n"
     ]
    },
    {
     "name": "stderr",
     "output_type": "stream",
     "text": [
      "/tmp/ipykernel_291422/3061493562.py:22: FutureWarning: The default of observed=False is deprecated and will be changed to True in a future version of pandas. Pass observed=False to retain current behavior or observed=True to adopt the future default and silence this warning.\n",
      "  df['norm_col'] = adata.obs.groupby(['leiden','pred_class'])['n_col'].mean()/n_cols\n",
      "/tmp/ipykernel_291422/3061493562.py:23: FutureWarning: The default of observed=False is deprecated and will be changed to True in a future version of pandas. Pass observed=False to retain current behavior or observed=True to adopt the future default and silence this warning.\n",
      "  df['norm_row'] = adata.obs.groupby(['leiden','pred_class'])['n_row'].mean()/n_rows\n",
      "/tmp/ipykernel_291422/3061493562.py:24: FutureWarning: The default of observed=False is deprecated and will be changed to True in a future version of pandas. Pass observed=False to retain current behavior or observed=True to adopt the future default and silence this warning.\n",
      "  df['dpt_pesudotime'] = adata.obs.groupby(['leiden','pred_class'])['dpt_pseudotime'].mean()\n",
      " 58%|█████▊    | 179/307 [05:13<03:31,  1.65s/it]"
     ]
    },
    {
     "name": "stdout",
     "output_type": "stream",
     "text": [
      "NLSI0000131.svs_140cols_95rows.csv.h5ad speed :7366.450760139217\n",
      "NLSI0000134.svs_145cols_74rows.csv.h5ad\n"
     ]
    },
    {
     "name": "stderr",
     "output_type": "stream",
     "text": [
      "/tmp/ipykernel_291422/3061493562.py:22: FutureWarning: The default of observed=False is deprecated and will be changed to True in a future version of pandas. Pass observed=False to retain current behavior or observed=True to adopt the future default and silence this warning.\n",
      "  df['norm_col'] = adata.obs.groupby(['leiden','pred_class'])['n_col'].mean()/n_cols\n",
      "/tmp/ipykernel_291422/3061493562.py:23: FutureWarning: The default of observed=False is deprecated and will be changed to True in a future version of pandas. Pass observed=False to retain current behavior or observed=True to adopt the future default and silence this warning.\n",
      "  df['norm_row'] = adata.obs.groupby(['leiden','pred_class'])['n_row'].mean()/n_rows\n",
      "/tmp/ipykernel_291422/3061493562.py:24: FutureWarning: The default of observed=False is deprecated and will be changed to True in a future version of pandas. Pass observed=False to retain current behavior or observed=True to adopt the future default and silence this warning.\n",
      "  df['dpt_pesudotime'] = adata.obs.groupby(['leiden','pred_class'])['dpt_pseudotime'].mean()\n",
      " 59%|█████▊    | 180/307 [05:14<03:12,  1.51s/it]"
     ]
    },
    {
     "name": "stdout",
     "output_type": "stream",
     "text": [
      "NLSI0000134.svs_145cols_74rows.csv.h5ad speed :4336.8445349351305\n",
      "NLSI0000197.svs_145cols_94rows.csv.h5ad\n"
     ]
    },
    {
     "name": "stderr",
     "output_type": "stream",
     "text": [
      "/tmp/ipykernel_291422/3061493562.py:22: FutureWarning: The default of observed=False is deprecated and will be changed to True in a future version of pandas. Pass observed=False to retain current behavior or observed=True to adopt the future default and silence this warning.\n",
      "  df['norm_col'] = adata.obs.groupby(['leiden','pred_class'])['n_col'].mean()/n_cols\n",
      "/tmp/ipykernel_291422/3061493562.py:23: FutureWarning: The default of observed=False is deprecated and will be changed to True in a future version of pandas. Pass observed=False to retain current behavior or observed=True to adopt the future default and silence this warning.\n",
      "  df['norm_row'] = adata.obs.groupby(['leiden','pred_class'])['n_row'].mean()/n_rows\n",
      "/tmp/ipykernel_291422/3061493562.py:24: FutureWarning: The default of observed=False is deprecated and will be changed to True in a future version of pandas. Pass observed=False to retain current behavior or observed=True to adopt the future default and silence this warning.\n",
      "  df['dpt_pesudotime'] = adata.obs.groupby(['leiden','pred_class'])['dpt_pseudotime'].mean()\n",
      " 59%|█████▉    | 181/307 [05:15<03:04,  1.46s/it]"
     ]
    },
    {
     "name": "stdout",
     "output_type": "stream",
     "text": [
      "NLSI0000197.svs_145cols_94rows.csv.h5ad speed :6621.962364128423\n",
      "11427.svs_245cols_152rows.csv.h5ad\n"
     ]
    },
    {
     "name": "stderr",
     "output_type": "stream",
     "text": [
      "/tmp/ipykernel_291422/3061493562.py:22: FutureWarning: The default of observed=False is deprecated and will be changed to True in a future version of pandas. Pass observed=False to retain current behavior or observed=True to adopt the future default and silence this warning.\n",
      "  df['norm_col'] = adata.obs.groupby(['leiden','pred_class'])['n_col'].mean()/n_cols\n",
      "/tmp/ipykernel_291422/3061493562.py:23: FutureWarning: The default of observed=False is deprecated and will be changed to True in a future version of pandas. Pass observed=False to retain current behavior or observed=True to adopt the future default and silence this warning.\n",
      "  df['norm_row'] = adata.obs.groupby(['leiden','pred_class'])['n_row'].mean()/n_rows\n",
      "/tmp/ipykernel_291422/3061493562.py:24: FutureWarning: The default of observed=False is deprecated and will be changed to True in a future version of pandas. Pass observed=False to retain current behavior or observed=True to adopt the future default and silence this warning.\n",
      "  df['dpt_pesudotime'] = adata.obs.groupby(['leiden','pred_class'])['dpt_pseudotime'].mean()\n",
      " 59%|█████▉    | 182/307 [05:17<03:09,  1.51s/it]"
     ]
    },
    {
     "name": "stdout",
     "output_type": "stream",
     "text": [
      "11427.svs_245cols_152rows.csv.h5ad speed :4579.531786334499\n",
      "11185.svs_202cols_194rows.csv.h5ad\n"
     ]
    },
    {
     "name": "stderr",
     "output_type": "stream",
     "text": [
      "/tmp/ipykernel_291422/3061493562.py:22: FutureWarning: The default of observed=False is deprecated and will be changed to True in a future version of pandas. Pass observed=False to retain current behavior or observed=True to adopt the future default and silence this warning.\n",
      "  df['norm_col'] = adata.obs.groupby(['leiden','pred_class'])['n_col'].mean()/n_cols\n",
      "/tmp/ipykernel_291422/3061493562.py:23: FutureWarning: The default of observed=False is deprecated and will be changed to True in a future version of pandas. Pass observed=False to retain current behavior or observed=True to adopt the future default and silence this warning.\n",
      "  df['norm_row'] = adata.obs.groupby(['leiden','pred_class'])['n_row'].mean()/n_rows\n",
      "/tmp/ipykernel_291422/3061493562.py:24: FutureWarning: The default of observed=False is deprecated and will be changed to True in a future version of pandas. Pass observed=False to retain current behavior or observed=True to adopt the future default and silence this warning.\n",
      "  df['dpt_pesudotime'] = adata.obs.groupby(['leiden','pred_class'])['dpt_pseudotime'].mean()\n",
      " 60%|█████▉    | 183/307 [05:19<03:14,  1.57s/it]"
     ]
    },
    {
     "name": "stdout",
     "output_type": "stream",
     "text": [
      "11185.svs_202cols_194rows.csv.h5ad speed :15782.43331291093\n",
      "11313.svs_185cols_127rows.csv.h5ad\n"
     ]
    },
    {
     "name": "stderr",
     "output_type": "stream",
     "text": [
      "/tmp/ipykernel_291422/3061493562.py:22: FutureWarning: The default of observed=False is deprecated and will be changed to True in a future version of pandas. Pass observed=False to retain current behavior or observed=True to adopt the future default and silence this warning.\n",
      "  df['norm_col'] = adata.obs.groupby(['leiden','pred_class'])['n_col'].mean()/n_cols\n",
      "/tmp/ipykernel_291422/3061493562.py:23: FutureWarning: The default of observed=False is deprecated and will be changed to True in a future version of pandas. Pass observed=False to retain current behavior or observed=True to adopt the future default and silence this warning.\n",
      "  df['norm_row'] = adata.obs.groupby(['leiden','pred_class'])['n_row'].mean()/n_rows\n",
      "/tmp/ipykernel_291422/3061493562.py:24: FutureWarning: The default of observed=False is deprecated and will be changed to True in a future version of pandas. Pass observed=False to retain current behavior or observed=True to adopt the future default and silence this warning.\n",
      "  df['dpt_pesudotime'] = adata.obs.groupby(['leiden','pred_class'])['dpt_pseudotime'].mean()\n",
      " 60%|█████▉    | 184/307 [05:20<03:03,  1.49s/it]"
     ]
    },
    {
     "name": "stdout",
     "output_type": "stream",
     "text": [
      "11313.svs_185cols_127rows.csv.h5ad speed :3979.1851911800454\n",
      "9475.svs_241cols_205rows.csv.h5ad\n"
     ]
    },
    {
     "name": "stderr",
     "output_type": "stream",
     "text": [
      "/tmp/ipykernel_291422/3061493562.py:22: FutureWarning: The default of observed=False is deprecated and will be changed to True in a future version of pandas. Pass observed=False to retain current behavior or observed=True to adopt the future default and silence this warning.\n",
      "  df['norm_col'] = adata.obs.groupby(['leiden','pred_class'])['n_col'].mean()/n_cols\n",
      "/tmp/ipykernel_291422/3061493562.py:23: FutureWarning: The default of observed=False is deprecated and will be changed to True in a future version of pandas. Pass observed=False to retain current behavior or observed=True to adopt the future default and silence this warning.\n",
      "  df['norm_row'] = adata.obs.groupby(['leiden','pred_class'])['n_row'].mean()/n_rows\n",
      "/tmp/ipykernel_291422/3061493562.py:24: FutureWarning: The default of observed=False is deprecated and will be changed to True in a future version of pandas. Pass observed=False to retain current behavior or observed=True to adopt the future default and silence this warning.\n",
      "  df['dpt_pesudotime'] = adata.obs.groupby(['leiden','pred_class'])['dpt_pseudotime'].mean()\n",
      " 60%|██████    | 185/307 [05:22<03:33,  1.75s/it]"
     ]
    },
    {
     "name": "stdout",
     "output_type": "stream",
     "text": [
      "9475.svs_241cols_205rows.csv.h5ad speed :12322.238775232088\n",
      "9947.svs_224cols_188rows.csv.h5ad\n"
     ]
    },
    {
     "name": "stderr",
     "output_type": "stream",
     "text": [
      "/tmp/ipykernel_291422/3061493562.py:22: FutureWarning: The default of observed=False is deprecated and will be changed to True in a future version of pandas. Pass observed=False to retain current behavior or observed=True to adopt the future default and silence this warning.\n",
      "  df['norm_col'] = adata.obs.groupby(['leiden','pred_class'])['n_col'].mean()/n_cols\n",
      "/tmp/ipykernel_291422/3061493562.py:23: FutureWarning: The default of observed=False is deprecated and will be changed to True in a future version of pandas. Pass observed=False to retain current behavior or observed=True to adopt the future default and silence this warning.\n",
      "  df['norm_row'] = adata.obs.groupby(['leiden','pred_class'])['n_row'].mean()/n_rows\n",
      "/tmp/ipykernel_291422/3061493562.py:24: FutureWarning: The default of observed=False is deprecated and will be changed to True in a future version of pandas. Pass observed=False to retain current behavior or observed=True to adopt the future default and silence this warning.\n",
      "  df['dpt_pesudotime'] = adata.obs.groupby(['leiden','pred_class'])['dpt_pseudotime'].mean()\n",
      " 61%|██████    | 186/307 [05:24<03:33,  1.77s/it]"
     ]
    },
    {
     "name": "stdout",
     "output_type": "stream",
     "text": [
      "9947.svs_224cols_188rows.csv.h5ad speed :3579.29155328721\n",
      "10443.svs_221cols_224rows.csv.h5ad\n"
     ]
    },
    {
     "name": "stderr",
     "output_type": "stream",
     "text": [
      "/tmp/ipykernel_291422/3061493562.py:22: FutureWarning: The default of observed=False is deprecated and will be changed to True in a future version of pandas. Pass observed=False to retain current behavior or observed=True to adopt the future default and silence this warning.\n",
      "  df['norm_col'] = adata.obs.groupby(['leiden','pred_class'])['n_col'].mean()/n_cols\n",
      "/tmp/ipykernel_291422/3061493562.py:23: FutureWarning: The default of observed=False is deprecated and will be changed to True in a future version of pandas. Pass observed=False to retain current behavior or observed=True to adopt the future default and silence this warning.\n",
      "  df['norm_row'] = adata.obs.groupby(['leiden','pred_class'])['n_row'].mean()/n_rows\n",
      "/tmp/ipykernel_291422/3061493562.py:24: FutureWarning: The default of observed=False is deprecated and will be changed to True in a future version of pandas. Pass observed=False to retain current behavior or observed=True to adopt the future default and silence this warning.\n",
      "  df['dpt_pesudotime'] = adata.obs.groupby(['leiden','pred_class'])['dpt_pseudotime'].mean()\n",
      " 61%|██████    | 187/307 [05:27<04:01,  2.01s/it]"
     ]
    },
    {
     "name": "stdout",
     "output_type": "stream",
     "text": [
      "10443.svs_221cols_224rows.csv.h5ad speed :4395.366765139847\n",
      "9746.svs_267cols_209rows.csv.h5ad\n"
     ]
    },
    {
     "name": "stderr",
     "output_type": "stream",
     "text": [
      "/tmp/ipykernel_291422/3061493562.py:22: FutureWarning: The default of observed=False is deprecated and will be changed to True in a future version of pandas. Pass observed=False to retain current behavior or observed=True to adopt the future default and silence this warning.\n",
      "  df['norm_col'] = adata.obs.groupby(['leiden','pred_class'])['n_col'].mean()/n_cols\n",
      "/tmp/ipykernel_291422/3061493562.py:23: FutureWarning: The default of observed=False is deprecated and will be changed to True in a future version of pandas. Pass observed=False to retain current behavior or observed=True to adopt the future default and silence this warning.\n",
      "  df['norm_row'] = adata.obs.groupby(['leiden','pred_class'])['n_row'].mean()/n_rows\n",
      "/tmp/ipykernel_291422/3061493562.py:24: FutureWarning: The default of observed=False is deprecated and will be changed to True in a future version of pandas. Pass observed=False to retain current behavior or observed=True to adopt the future default and silence this warning.\n",
      "  df['dpt_pesudotime'] = adata.obs.groupby(['leiden','pred_class'])['dpt_pseudotime'].mean()\n",
      " 61%|██████    | 188/307 [05:29<04:15,  2.15s/it]"
     ]
    },
    {
     "name": "stdout",
     "output_type": "stream",
     "text": [
      "9746.svs_267cols_209rows.csv.h5ad speed :25166.366837551443\n",
      "10384.svs_137cols_109rows.csv.h5ad\n"
     ]
    },
    {
     "name": "stderr",
     "output_type": "stream",
     "text": [
      "/tmp/ipykernel_291422/3061493562.py:22: FutureWarning: The default of observed=False is deprecated and will be changed to True in a future version of pandas. Pass observed=False to retain current behavior or observed=True to adopt the future default and silence this warning.\n",
      "  df['norm_col'] = adata.obs.groupby(['leiden','pred_class'])['n_col'].mean()/n_cols\n",
      "/tmp/ipykernel_291422/3061493562.py:23: FutureWarning: The default of observed=False is deprecated and will be changed to True in a future version of pandas. Pass observed=False to retain current behavior or observed=True to adopt the future default and silence this warning.\n",
      "  df['norm_row'] = adata.obs.groupby(['leiden','pred_class'])['n_row'].mean()/n_rows\n",
      "/tmp/ipykernel_291422/3061493562.py:24: FutureWarning: The default of observed=False is deprecated and will be changed to True in a future version of pandas. Pass observed=False to retain current behavior or observed=True to adopt the future default and silence this warning.\n",
      "  df['dpt_pesudotime'] = adata.obs.groupby(['leiden','pred_class'])['dpt_pseudotime'].mean()\n",
      " 62%|██████▏   | 189/307 [05:31<03:46,  1.92s/it]"
     ]
    },
    {
     "name": "stdout",
     "output_type": "stream",
     "text": [
      "10384.svs_137cols_109rows.csv.h5ad speed :3683.167389770574\n",
      "NLSI0000155.svs_130cols_77rows.csv.h5ad\n"
     ]
    },
    {
     "name": "stderr",
     "output_type": "stream",
     "text": [
      "/tmp/ipykernel_291422/3061493562.py:22: FutureWarning: The default of observed=False is deprecated and will be changed to True in a future version of pandas. Pass observed=False to retain current behavior or observed=True to adopt the future default and silence this warning.\n",
      "  df['norm_col'] = adata.obs.groupby(['leiden','pred_class'])['n_col'].mean()/n_cols\n",
      "/tmp/ipykernel_291422/3061493562.py:23: FutureWarning: The default of observed=False is deprecated and will be changed to True in a future version of pandas. Pass observed=False to retain current behavior or observed=True to adopt the future default and silence this warning.\n",
      "  df['norm_row'] = adata.obs.groupby(['leiden','pred_class'])['n_row'].mean()/n_rows\n",
      "/tmp/ipykernel_291422/3061493562.py:24: FutureWarning: The default of observed=False is deprecated and will be changed to True in a future version of pandas. Pass observed=False to retain current behavior or observed=True to adopt the future default and silence this warning.\n",
      "  df['dpt_pesudotime'] = adata.obs.groupby(['leiden','pred_class'])['dpt_pseudotime'].mean()\n",
      " 62%|██████▏   | 190/307 [05:31<03:04,  1.58s/it]"
     ]
    },
    {
     "name": "stdout",
     "output_type": "stream",
     "text": [
      "NLSI0000155.svs_130cols_77rows.csv.h5ad speed :5981.704979302195\n",
      "10381.svs_226cols_204rows.csv.h5ad\n"
     ]
    },
    {
     "name": "stderr",
     "output_type": "stream",
     "text": [
      "/tmp/ipykernel_291422/3061493562.py:22: FutureWarning: The default of observed=False is deprecated and will be changed to True in a future version of pandas. Pass observed=False to retain current behavior or observed=True to adopt the future default and silence this warning.\n",
      "  df['norm_col'] = adata.obs.groupby(['leiden','pred_class'])['n_col'].mean()/n_cols\n",
      "/tmp/ipykernel_291422/3061493562.py:23: FutureWarning: The default of observed=False is deprecated and will be changed to True in a future version of pandas. Pass observed=False to retain current behavior or observed=True to adopt the future default and silence this warning.\n",
      "  df['norm_row'] = adata.obs.groupby(['leiden','pred_class'])['n_row'].mean()/n_rows\n",
      "/tmp/ipykernel_291422/3061493562.py:24: FutureWarning: The default of observed=False is deprecated and will be changed to True in a future version of pandas. Pass observed=False to retain current behavior or observed=True to adopt the future default and silence this warning.\n",
      "  df['dpt_pesudotime'] = adata.obs.groupby(['leiden','pred_class'])['dpt_pseudotime'].mean()\n",
      " 62%|██████▏   | 191/307 [05:33<03:13,  1.67s/it]"
     ]
    },
    {
     "name": "stdout",
     "output_type": "stream",
     "text": [
      "10381.svs_226cols_204rows.csv.h5ad speed :4379.634151396181\n",
      "11033.svs_212cols_152rows.csv.h5ad\n"
     ]
    },
    {
     "name": "stderr",
     "output_type": "stream",
     "text": [
      "/tmp/ipykernel_291422/3061493562.py:22: FutureWarning: The default of observed=False is deprecated and will be changed to True in a future version of pandas. Pass observed=False to retain current behavior or observed=True to adopt the future default and silence this warning.\n",
      "  df['norm_col'] = adata.obs.groupby(['leiden','pred_class'])['n_col'].mean()/n_cols\n",
      "/tmp/ipykernel_291422/3061493562.py:23: FutureWarning: The default of observed=False is deprecated and will be changed to True in a future version of pandas. Pass observed=False to retain current behavior or observed=True to adopt the future default and silence this warning.\n",
      "  df['norm_row'] = adata.obs.groupby(['leiden','pred_class'])['n_row'].mean()/n_rows\n",
      "/tmp/ipykernel_291422/3061493562.py:24: FutureWarning: The default of observed=False is deprecated and will be changed to True in a future version of pandas. Pass observed=False to retain current behavior or observed=True to adopt the future default and silence this warning.\n",
      "  df['dpt_pesudotime'] = adata.obs.groupby(['leiden','pred_class'])['dpt_pseudotime'].mean()\n",
      " 63%|██████▎   | 192/307 [05:36<03:41,  1.93s/it]"
     ]
    },
    {
     "name": "stdout",
     "output_type": "stream",
     "text": [
      "11033.svs_212cols_152rows.csv.h5ad speed :6983.222509394389\n",
      "10497.svs_181cols_192rows.csv.h5ad\n"
     ]
    },
    {
     "name": "stderr",
     "output_type": "stream",
     "text": [
      "/tmp/ipykernel_291422/3061493562.py:22: FutureWarning: The default of observed=False is deprecated and will be changed to True in a future version of pandas. Pass observed=False to retain current behavior or observed=True to adopt the future default and silence this warning.\n",
      "  df['norm_col'] = adata.obs.groupby(['leiden','pred_class'])['n_col'].mean()/n_cols\n",
      "/tmp/ipykernel_291422/3061493562.py:23: FutureWarning: The default of observed=False is deprecated and will be changed to True in a future version of pandas. Pass observed=False to retain current behavior or observed=True to adopt the future default and silence this warning.\n",
      "  df['norm_row'] = adata.obs.groupby(['leiden','pred_class'])['n_row'].mean()/n_rows\n",
      "/tmp/ipykernel_291422/3061493562.py:24: FutureWarning: The default of observed=False is deprecated and will be changed to True in a future version of pandas. Pass observed=False to retain current behavior or observed=True to adopt the future default and silence this warning.\n",
      "  df['dpt_pesudotime'] = adata.obs.groupby(['leiden','pred_class'])['dpt_pseudotime'].mean()\n",
      " 63%|██████▎   | 193/307 [05:37<03:29,  1.83s/it]"
     ]
    },
    {
     "name": "stdout",
     "output_type": "stream",
     "text": [
      "10497.svs_181cols_192rows.csv.h5ad speed :3536.5607335345458\n",
      "NLSI0000151.svs_125cols_83rows.csv.h5ad\n"
     ]
    },
    {
     "name": "stderr",
     "output_type": "stream",
     "text": [
      "/tmp/ipykernel_291422/3061493562.py:22: FutureWarning: The default of observed=False is deprecated and will be changed to True in a future version of pandas. Pass observed=False to retain current behavior or observed=True to adopt the future default and silence this warning.\n",
      "  df['norm_col'] = adata.obs.groupby(['leiden','pred_class'])['n_col'].mean()/n_cols\n",
      "/tmp/ipykernel_291422/3061493562.py:23: FutureWarning: The default of observed=False is deprecated and will be changed to True in a future version of pandas. Pass observed=False to retain current behavior or observed=True to adopt the future default and silence this warning.\n",
      "  df['norm_row'] = adata.obs.groupby(['leiden','pred_class'])['n_row'].mean()/n_rows\n",
      "/tmp/ipykernel_291422/3061493562.py:24: FutureWarning: The default of observed=False is deprecated and will be changed to True in a future version of pandas. Pass observed=False to retain current behavior or observed=True to adopt the future default and silence this warning.\n",
      "  df['dpt_pesudotime'] = adata.obs.groupby(['leiden','pred_class'])['dpt_pseudotime'].mean()\n",
      " 63%|██████▎   | 194/307 [05:39<03:04,  1.64s/it]"
     ]
    },
    {
     "name": "stdout",
     "output_type": "stream",
     "text": [
      "NLSI0000151.svs_125cols_83rows.csv.h5ad speed :3934.482033037626\n",
      "9740.svs_281cols_215rows.csv.h5ad\n"
     ]
    },
    {
     "name": "stderr",
     "output_type": "stream",
     "text": [
      "/tmp/ipykernel_291422/3061493562.py:22: FutureWarning: The default of observed=False is deprecated and will be changed to True in a future version of pandas. Pass observed=False to retain current behavior or observed=True to adopt the future default and silence this warning.\n",
      "  df['norm_col'] = adata.obs.groupby(['leiden','pred_class'])['n_col'].mean()/n_cols\n",
      "/tmp/ipykernel_291422/3061493562.py:23: FutureWarning: The default of observed=False is deprecated and will be changed to True in a future version of pandas. Pass observed=False to retain current behavior or observed=True to adopt the future default and silence this warning.\n",
      "  df['norm_row'] = adata.obs.groupby(['leiden','pred_class'])['n_row'].mean()/n_rows\n",
      "/tmp/ipykernel_291422/3061493562.py:24: FutureWarning: The default of observed=False is deprecated and will be changed to True in a future version of pandas. Pass observed=False to retain current behavior or observed=True to adopt the future default and silence this warning.\n",
      "  df['dpt_pesudotime'] = adata.obs.groupby(['leiden','pred_class'])['dpt_pseudotime'].mean()\n",
      " 64%|██████▎   | 195/307 [05:41<03:18,  1.77s/it]"
     ]
    },
    {
     "name": "stdout",
     "output_type": "stream",
     "text": [
      "9740.svs_281cols_215rows.csv.h5ad speed :5991.632551226017\n",
      "9390.svs_301cols_215rows.csv.h5ad\n"
     ]
    },
    {
     "name": "stderr",
     "output_type": "stream",
     "text": [
      "/tmp/ipykernel_291422/3061493562.py:22: FutureWarning: The default of observed=False is deprecated and will be changed to True in a future version of pandas. Pass observed=False to retain current behavior or observed=True to adopt the future default and silence this warning.\n",
      "  df['norm_col'] = adata.obs.groupby(['leiden','pred_class'])['n_col'].mean()/n_cols\n",
      "/tmp/ipykernel_291422/3061493562.py:23: FutureWarning: The default of observed=False is deprecated and will be changed to True in a future version of pandas. Pass observed=False to retain current behavior or observed=True to adopt the future default and silence this warning.\n",
      "  df['norm_row'] = adata.obs.groupby(['leiden','pred_class'])['n_row'].mean()/n_rows\n",
      "/tmp/ipykernel_291422/3061493562.py:24: FutureWarning: The default of observed=False is deprecated and will be changed to True in a future version of pandas. Pass observed=False to retain current behavior or observed=True to adopt the future default and silence this warning.\n",
      "  df['dpt_pesudotime'] = adata.obs.groupby(['leiden','pred_class'])['dpt_pseudotime'].mean()\n",
      " 64%|██████▍   | 196/307 [05:43<03:21,  1.81s/it]"
     ]
    },
    {
     "name": "stdout",
     "output_type": "stream",
     "text": [
      "9390.svs_301cols_215rows.csv.h5ad speed :5115.516403774297\n",
      "NLSI0000026.svs_105cols_98rows.csv.h5ad\n"
     ]
    },
    {
     "name": "stderr",
     "output_type": "stream",
     "text": [
      "/tmp/ipykernel_291422/3061493562.py:22: FutureWarning: The default of observed=False is deprecated and will be changed to True in a future version of pandas. Pass observed=False to retain current behavior or observed=True to adopt the future default and silence this warning.\n",
      "  df['norm_col'] = adata.obs.groupby(['leiden','pred_class'])['n_col'].mean()/n_cols\n",
      "/tmp/ipykernel_291422/3061493562.py:23: FutureWarning: The default of observed=False is deprecated and will be changed to True in a future version of pandas. Pass observed=False to retain current behavior or observed=True to adopt the future default and silence this warning.\n",
      "  df['norm_row'] = adata.obs.groupby(['leiden','pred_class'])['n_row'].mean()/n_rows\n",
      "/tmp/ipykernel_291422/3061493562.py:24: FutureWarning: The default of observed=False is deprecated and will be changed to True in a future version of pandas. Pass observed=False to retain current behavior or observed=True to adopt the future default and silence this warning.\n",
      "  df['dpt_pesudotime'] = adata.obs.groupby(['leiden','pred_class'])['dpt_pseudotime'].mean()\n",
      " 64%|██████▍   | 197/307 [05:43<02:43,  1.49s/it]"
     ]
    },
    {
     "name": "stdout",
     "output_type": "stream",
     "text": [
      "NLSI0000026.svs_105cols_98rows.csv.h5ad speed :13907.961235622262\n",
      "9689.svs_229cols_155rows.csv.h5ad\n"
     ]
    },
    {
     "name": "stderr",
     "output_type": "stream",
     "text": [
      "/tmp/ipykernel_291422/3061493562.py:22: FutureWarning: The default of observed=False is deprecated and will be changed to True in a future version of pandas. Pass observed=False to retain current behavior or observed=True to adopt the future default and silence this warning.\n",
      "  df['norm_col'] = adata.obs.groupby(['leiden','pred_class'])['n_col'].mean()/n_cols\n",
      "/tmp/ipykernel_291422/3061493562.py:23: FutureWarning: The default of observed=False is deprecated and will be changed to True in a future version of pandas. Pass observed=False to retain current behavior or observed=True to adopt the future default and silence this warning.\n",
      "  df['norm_row'] = adata.obs.groupby(['leiden','pred_class'])['n_row'].mean()/n_rows\n",
      "/tmp/ipykernel_291422/3061493562.py:24: FutureWarning: The default of observed=False is deprecated and will be changed to True in a future version of pandas. Pass observed=False to retain current behavior or observed=True to adopt the future default and silence this warning.\n",
      "  df['dpt_pesudotime'] = adata.obs.groupby(['leiden','pred_class'])['dpt_pseudotime'].mean()\n",
      " 64%|██████▍   | 198/307 [05:46<03:12,  1.77s/it]"
     ]
    },
    {
     "name": "stdout",
     "output_type": "stream",
     "text": [
      "9689.svs_229cols_155rows.csv.h5ad speed :11255.896222556956\n",
      "10931.svs_217cols_185rows.csv.h5ad\n"
     ]
    },
    {
     "name": "stderr",
     "output_type": "stream",
     "text": [
      "/tmp/ipykernel_291422/3061493562.py:22: FutureWarning: The default of observed=False is deprecated and will be changed to True in a future version of pandas. Pass observed=False to retain current behavior or observed=True to adopt the future default and silence this warning.\n",
      "  df['norm_col'] = adata.obs.groupby(['leiden','pred_class'])['n_col'].mean()/n_cols\n",
      "/tmp/ipykernel_291422/3061493562.py:23: FutureWarning: The default of observed=False is deprecated and will be changed to True in a future version of pandas. Pass observed=False to retain current behavior or observed=True to adopt the future default and silence this warning.\n",
      "  df['norm_row'] = adata.obs.groupby(['leiden','pred_class'])['n_row'].mean()/n_rows\n",
      "/tmp/ipykernel_291422/3061493562.py:24: FutureWarning: The default of observed=False is deprecated and will be changed to True in a future version of pandas. Pass observed=False to retain current behavior or observed=True to adopt the future default and silence this warning.\n",
      "  df['dpt_pesudotime'] = adata.obs.groupby(['leiden','pred_class'])['dpt_pseudotime'].mean()\n",
      " 65%|██████▍   | 199/307 [05:48<03:09,  1.75s/it]"
     ]
    },
    {
     "name": "stdout",
     "output_type": "stream",
     "text": [
      "10931.svs_217cols_185rows.csv.h5ad speed :138847.70112883355\n",
      "11122.svs_243cols_158rows.csv.h5ad\n"
     ]
    },
    {
     "name": "stderr",
     "output_type": "stream",
     "text": [
      "/tmp/ipykernel_291422/3061493562.py:22: FutureWarning: The default of observed=False is deprecated and will be changed to True in a future version of pandas. Pass observed=False to retain current behavior or observed=True to adopt the future default and silence this warning.\n",
      "  df['norm_col'] = adata.obs.groupby(['leiden','pred_class'])['n_col'].mean()/n_cols\n",
      "/tmp/ipykernel_291422/3061493562.py:23: FutureWarning: The default of observed=False is deprecated and will be changed to True in a future version of pandas. Pass observed=False to retain current behavior or observed=True to adopt the future default and silence this warning.\n",
      "  df['norm_row'] = adata.obs.groupby(['leiden','pred_class'])['n_row'].mean()/n_rows\n",
      "/tmp/ipykernel_291422/3061493562.py:24: FutureWarning: The default of observed=False is deprecated and will be changed to True in a future version of pandas. Pass observed=False to retain current behavior or observed=True to adopt the future default and silence this warning.\n",
      "  df['dpt_pesudotime'] = adata.obs.groupby(['leiden','pred_class'])['dpt_pseudotime'].mean()\n",
      " 65%|██████▌   | 200/307 [05:49<02:59,  1.68s/it]"
     ]
    },
    {
     "name": "stdout",
     "output_type": "stream",
     "text": [
      "11122.svs_243cols_158rows.csv.h5ad speed :1168.6368309682073\n",
      "NLSI0000136.svs_140cols_91rows.csv.h5ad\n"
     ]
    },
    {
     "name": "stderr",
     "output_type": "stream",
     "text": [
      "/tmp/ipykernel_291422/3061493562.py:22: FutureWarning: The default of observed=False is deprecated and will be changed to True in a future version of pandas. Pass observed=False to retain current behavior or observed=True to adopt the future default and silence this warning.\n",
      "  df['norm_col'] = adata.obs.groupby(['leiden','pred_class'])['n_col'].mean()/n_cols\n",
      "/tmp/ipykernel_291422/3061493562.py:23: FutureWarning: The default of observed=False is deprecated and will be changed to True in a future version of pandas. Pass observed=False to retain current behavior or observed=True to adopt the future default and silence this warning.\n",
      "  df['norm_row'] = adata.obs.groupby(['leiden','pred_class'])['n_row'].mean()/n_rows\n",
      "/tmp/ipykernel_291422/3061493562.py:24: FutureWarning: The default of observed=False is deprecated and will be changed to True in a future version of pandas. Pass observed=False to retain current behavior or observed=True to adopt the future default and silence this warning.\n",
      "  df['dpt_pesudotime'] = adata.obs.groupby(['leiden','pred_class'])['dpt_pseudotime'].mean()\n",
      " 65%|██████▌   | 201/307 [05:50<02:50,  1.61s/it]"
     ]
    },
    {
     "name": "stdout",
     "output_type": "stream",
     "text": [
      "NLSI0000136.svs_140cols_91rows.csv.h5ad speed :3631.4039198276155\n",
      "11312.svs_226cols_127rows.csv.h5ad\n"
     ]
    },
    {
     "name": "stderr",
     "output_type": "stream",
     "text": [
      "/tmp/ipykernel_291422/3061493562.py:22: FutureWarning: The default of observed=False is deprecated and will be changed to True in a future version of pandas. Pass observed=False to retain current behavior or observed=True to adopt the future default and silence this warning.\n",
      "  df['norm_col'] = adata.obs.groupby(['leiden','pred_class'])['n_col'].mean()/n_cols\n",
      "/tmp/ipykernel_291422/3061493562.py:23: FutureWarning: The default of observed=False is deprecated and will be changed to True in a future version of pandas. Pass observed=False to retain current behavior or observed=True to adopt the future default and silence this warning.\n",
      "  df['norm_row'] = adata.obs.groupby(['leiden','pred_class'])['n_row'].mean()/n_rows\n",
      "/tmp/ipykernel_291422/3061493562.py:24: FutureWarning: The default of observed=False is deprecated and will be changed to True in a future version of pandas. Pass observed=False to retain current behavior or observed=True to adopt the future default and silence this warning.\n",
      "  df['dpt_pesudotime'] = adata.obs.groupby(['leiden','pred_class'])['dpt_pseudotime'].mean()\n",
      " 66%|██████▌   | 202/307 [05:52<02:35,  1.48s/it]"
     ]
    },
    {
     "name": "stdout",
     "output_type": "stream",
     "text": [
      "11312.svs_226cols_127rows.csv.h5ad speed :8341.868506477816\n",
      "11388.svs_178cols_190rows.csv.h5ad\n"
     ]
    },
    {
     "name": "stderr",
     "output_type": "stream",
     "text": [
      "/tmp/ipykernel_291422/3061493562.py:22: FutureWarning: The default of observed=False is deprecated and will be changed to True in a future version of pandas. Pass observed=False to retain current behavior or observed=True to adopt the future default and silence this warning.\n",
      "  df['norm_col'] = adata.obs.groupby(['leiden','pred_class'])['n_col'].mean()/n_cols\n",
      "/tmp/ipykernel_291422/3061493562.py:23: FutureWarning: The default of observed=False is deprecated and will be changed to True in a future version of pandas. Pass observed=False to retain current behavior or observed=True to adopt the future default and silence this warning.\n",
      "  df['norm_row'] = adata.obs.groupby(['leiden','pred_class'])['n_row'].mean()/n_rows\n",
      "/tmp/ipykernel_291422/3061493562.py:24: FutureWarning: The default of observed=False is deprecated and will be changed to True in a future version of pandas. Pass observed=False to retain current behavior or observed=True to adopt the future default and silence this warning.\n",
      "  df['dpt_pesudotime'] = adata.obs.groupby(['leiden','pred_class'])['dpt_pseudotime'].mean()\n",
      " 66%|██████▌   | 203/307 [05:54<03:12,  1.85s/it]"
     ]
    },
    {
     "name": "stdout",
     "output_type": "stream",
     "text": [
      "11388.svs_178cols_190rows.csv.h5ad speed :3369.881654930973\n",
      "11462.svs_272cols_173rows.csv.h5ad\n"
     ]
    },
    {
     "name": "stderr",
     "output_type": "stream",
     "text": [
      "/tmp/ipykernel_291422/3061493562.py:22: FutureWarning: The default of observed=False is deprecated and will be changed to True in a future version of pandas. Pass observed=False to retain current behavior or observed=True to adopt the future default and silence this warning.\n",
      "  df['norm_col'] = adata.obs.groupby(['leiden','pred_class'])['n_col'].mean()/n_cols\n",
      "/tmp/ipykernel_291422/3061493562.py:23: FutureWarning: The default of observed=False is deprecated and will be changed to True in a future version of pandas. Pass observed=False to retain current behavior or observed=True to adopt the future default and silence this warning.\n",
      "  df['norm_row'] = adata.obs.groupby(['leiden','pred_class'])['n_row'].mean()/n_rows\n",
      "/tmp/ipykernel_291422/3061493562.py:24: FutureWarning: The default of observed=False is deprecated and will be changed to True in a future version of pandas. Pass observed=False to retain current behavior or observed=True to adopt the future default and silence this warning.\n",
      "  df['dpt_pesudotime'] = adata.obs.groupby(['leiden','pred_class'])['dpt_pseudotime'].mean()\n",
      " 66%|██████▋   | 204/307 [05:56<03:08,  1.83s/it]"
     ]
    },
    {
     "name": "stdout",
     "output_type": "stream",
     "text": [
      "11462.svs_272cols_173rows.csv.h5ad speed :3309.5503977251274\n",
      "9737.svs_221cols_186rows.csv.h5ad\n"
     ]
    },
    {
     "name": "stderr",
     "output_type": "stream",
     "text": [
      "/tmp/ipykernel_291422/3061493562.py:22: FutureWarning: The default of observed=False is deprecated and will be changed to True in a future version of pandas. Pass observed=False to retain current behavior or observed=True to adopt the future default and silence this warning.\n",
      "  df['norm_col'] = adata.obs.groupby(['leiden','pred_class'])['n_col'].mean()/n_cols\n",
      "/tmp/ipykernel_291422/3061493562.py:23: FutureWarning: The default of observed=False is deprecated and will be changed to True in a future version of pandas. Pass observed=False to retain current behavior or observed=True to adopt the future default and silence this warning.\n",
      "  df['norm_row'] = adata.obs.groupby(['leiden','pred_class'])['n_row'].mean()/n_rows\n",
      "/tmp/ipykernel_291422/3061493562.py:24: FutureWarning: The default of observed=False is deprecated and will be changed to True in a future version of pandas. Pass observed=False to retain current behavior or observed=True to adopt the future default and silence this warning.\n",
      "  df['dpt_pesudotime'] = adata.obs.groupby(['leiden','pred_class'])['dpt_pseudotime'].mean()\n",
      " 67%|██████▋   | 205/307 [05:58<02:55,  1.73s/it]"
     ]
    },
    {
     "name": "stdout",
     "output_type": "stream",
     "text": [
      "9737.svs_221cols_186rows.csv.h5ad speed :2958.8513815999722\n",
      "11358.svs_238cols_191rows.csv.h5ad\n"
     ]
    },
    {
     "name": "stderr",
     "output_type": "stream",
     "text": [
      "/tmp/ipykernel_291422/3061493562.py:22: FutureWarning: The default of observed=False is deprecated and will be changed to True in a future version of pandas. Pass observed=False to retain current behavior or observed=True to adopt the future default and silence this warning.\n",
      "  df['norm_col'] = adata.obs.groupby(['leiden','pred_class'])['n_col'].mean()/n_cols\n",
      "/tmp/ipykernel_291422/3061493562.py:23: FutureWarning: The default of observed=False is deprecated and will be changed to True in a future version of pandas. Pass observed=False to retain current behavior or observed=True to adopt the future default and silence this warning.\n",
      "  df['norm_row'] = adata.obs.groupby(['leiden','pred_class'])['n_row'].mean()/n_rows\n",
      "/tmp/ipykernel_291422/3061493562.py:24: FutureWarning: The default of observed=False is deprecated and will be changed to True in a future version of pandas. Pass observed=False to retain current behavior or observed=True to adopt the future default and silence this warning.\n",
      "  df['dpt_pesudotime'] = adata.obs.groupby(['leiden','pred_class'])['dpt_pseudotime'].mean()\n",
      " 67%|██████▋   | 206/307 [06:00<03:17,  1.96s/it]"
     ]
    },
    {
     "name": "stdout",
     "output_type": "stream",
     "text": [
      "11358.svs_238cols_191rows.csv.h5ad speed :17978.69257398865\n",
      "10503.svs_236cols_224rows.csv.h5ad\n"
     ]
    },
    {
     "name": "stderr",
     "output_type": "stream",
     "text": [
      "/tmp/ipykernel_291422/3061493562.py:22: FutureWarning: The default of observed=False is deprecated and will be changed to True in a future version of pandas. Pass observed=False to retain current behavior or observed=True to adopt the future default and silence this warning.\n",
      "  df['norm_col'] = adata.obs.groupby(['leiden','pred_class'])['n_col'].mean()/n_cols\n",
      "/tmp/ipykernel_291422/3061493562.py:23: FutureWarning: The default of observed=False is deprecated and will be changed to True in a future version of pandas. Pass observed=False to retain current behavior or observed=True to adopt the future default and silence this warning.\n",
      "  df['norm_row'] = adata.obs.groupby(['leiden','pred_class'])['n_row'].mean()/n_rows\n",
      "/tmp/ipykernel_291422/3061493562.py:24: FutureWarning: The default of observed=False is deprecated and will be changed to True in a future version of pandas. Pass observed=False to retain current behavior or observed=True to adopt the future default and silence this warning.\n",
      "  df['dpt_pesudotime'] = adata.obs.groupby(['leiden','pred_class'])['dpt_pseudotime'].mean()\n",
      " 67%|██████▋   | 207/307 [06:03<03:36,  2.16s/it]"
     ]
    },
    {
     "name": "stdout",
     "output_type": "stream",
     "text": [
      "10503.svs_236cols_224rows.csv.h5ad speed :7150.710101826025\n",
      "10999.svs_267cols_210rows.csv.h5ad\n"
     ]
    },
    {
     "name": "stderr",
     "output_type": "stream",
     "text": [
      "/tmp/ipykernel_291422/3061493562.py:22: FutureWarning: The default of observed=False is deprecated and will be changed to True in a future version of pandas. Pass observed=False to retain current behavior or observed=True to adopt the future default and silence this warning.\n",
      "  df['norm_col'] = adata.obs.groupby(['leiden','pred_class'])['n_col'].mean()/n_cols\n",
      "/tmp/ipykernel_291422/3061493562.py:23: FutureWarning: The default of observed=False is deprecated and will be changed to True in a future version of pandas. Pass observed=False to retain current behavior or observed=True to adopt the future default and silence this warning.\n",
      "  df['norm_row'] = adata.obs.groupby(['leiden','pred_class'])['n_row'].mean()/n_rows\n",
      "/tmp/ipykernel_291422/3061493562.py:24: FutureWarning: The default of observed=False is deprecated and will be changed to True in a future version of pandas. Pass observed=False to retain current behavior or observed=True to adopt the future default and silence this warning.\n",
      "  df['dpt_pesudotime'] = adata.obs.groupby(['leiden','pred_class'])['dpt_pseudotime'].mean()\n",
      " 68%|██████▊   | 208/307 [06:05<03:42,  2.24s/it]"
     ]
    },
    {
     "name": "stdout",
     "output_type": "stream",
     "text": [
      "10999.svs_267cols_210rows.csv.h5ad speed :4508.254389419526\n",
      "11345.svs_274cols_210rows.csv.h5ad\n"
     ]
    },
    {
     "name": "stderr",
     "output_type": "stream",
     "text": [
      "/tmp/ipykernel_291422/3061493562.py:22: FutureWarning: The default of observed=False is deprecated and will be changed to True in a future version of pandas. Pass observed=False to retain current behavior or observed=True to adopt the future default and silence this warning.\n",
      "  df['norm_col'] = adata.obs.groupby(['leiden','pred_class'])['n_col'].mean()/n_cols\n",
      "/tmp/ipykernel_291422/3061493562.py:23: FutureWarning: The default of observed=False is deprecated and will be changed to True in a future version of pandas. Pass observed=False to retain current behavior or observed=True to adopt the future default and silence this warning.\n",
      "  df['norm_row'] = adata.obs.groupby(['leiden','pred_class'])['n_row'].mean()/n_rows\n",
      "/tmp/ipykernel_291422/3061493562.py:24: FutureWarning: The default of observed=False is deprecated and will be changed to True in a future version of pandas. Pass observed=False to retain current behavior or observed=True to adopt the future default and silence this warning.\n",
      "  df['dpt_pesudotime'] = adata.obs.groupby(['leiden','pred_class'])['dpt_pseudotime'].mean()\n",
      " 68%|██████▊   | 209/307 [06:08<03:48,  2.33s/it]"
     ]
    },
    {
     "name": "stdout",
     "output_type": "stream",
     "text": [
      "11345.svs_274cols_210rows.csv.h5ad speed :12195.769849060078\n",
      "NLSI0000143.svs_130cols_107rows.csv.h5ad\n"
     ]
    },
    {
     "name": "stderr",
     "output_type": "stream",
     "text": [
      "/tmp/ipykernel_291422/3061493562.py:22: FutureWarning: The default of observed=False is deprecated and will be changed to True in a future version of pandas. Pass observed=False to retain current behavior or observed=True to adopt the future default and silence this warning.\n",
      "  df['norm_col'] = adata.obs.groupby(['leiden','pred_class'])['n_col'].mean()/n_cols\n",
      "/tmp/ipykernel_291422/3061493562.py:23: FutureWarning: The default of observed=False is deprecated and will be changed to True in a future version of pandas. Pass observed=False to retain current behavior or observed=True to adopt the future default and silence this warning.\n",
      "  df['norm_row'] = adata.obs.groupby(['leiden','pred_class'])['n_row'].mean()/n_rows\n",
      "/tmp/ipykernel_291422/3061493562.py:24: FutureWarning: The default of observed=False is deprecated and will be changed to True in a future version of pandas. Pass observed=False to retain current behavior or observed=True to adopt the future default and silence this warning.\n",
      "  df['dpt_pesudotime'] = adata.obs.groupby(['leiden','pred_class'])['dpt_pseudotime'].mean()\n",
      " 68%|██████▊   | 210/307 [06:09<03:22,  2.09s/it]"
     ]
    },
    {
     "name": "stdout",
     "output_type": "stream",
     "text": [
      "NLSI0000143.svs_130cols_107rows.csv.h5ad speed :28512.054055303634\n",
      "9544.svs_265cols_215rows.csv.h5ad\n"
     ]
    },
    {
     "name": "stderr",
     "output_type": "stream",
     "text": [
      "/tmp/ipykernel_291422/3061493562.py:22: FutureWarning: The default of observed=False is deprecated and will be changed to True in a future version of pandas. Pass observed=False to retain current behavior or observed=True to adopt the future default and silence this warning.\n",
      "  df['norm_col'] = adata.obs.groupby(['leiden','pred_class'])['n_col'].mean()/n_cols\n",
      "/tmp/ipykernel_291422/3061493562.py:23: FutureWarning: The default of observed=False is deprecated and will be changed to True in a future version of pandas. Pass observed=False to retain current behavior or observed=True to adopt the future default and silence this warning.\n",
      "  df['norm_row'] = adata.obs.groupby(['leiden','pred_class'])['n_row'].mean()/n_rows\n",
      "/tmp/ipykernel_291422/3061493562.py:24: FutureWarning: The default of observed=False is deprecated and will be changed to True in a future version of pandas. Pass observed=False to retain current behavior or observed=True to adopt the future default and silence this warning.\n",
      "  df['dpt_pesudotime'] = adata.obs.groupby(['leiden','pred_class'])['dpt_pseudotime'].mean()\n",
      " 69%|██████▊   | 211/307 [06:11<03:14,  2.03s/it]"
     ]
    },
    {
     "name": "stdout",
     "output_type": "stream",
     "text": [
      "9544.svs_265cols_215rows.csv.h5ad speed :6391.505754870111\n",
      "11248.svs_269cols_193rows.csv.h5ad\n"
     ]
    },
    {
     "name": "stderr",
     "output_type": "stream",
     "text": [
      "/tmp/ipykernel_291422/3061493562.py:22: FutureWarning: The default of observed=False is deprecated and will be changed to True in a future version of pandas. Pass observed=False to retain current behavior or observed=True to adopt the future default and silence this warning.\n",
      "  df['norm_col'] = adata.obs.groupby(['leiden','pred_class'])['n_col'].mean()/n_cols\n",
      "/tmp/ipykernel_291422/3061493562.py:23: FutureWarning: The default of observed=False is deprecated and will be changed to True in a future version of pandas. Pass observed=False to retain current behavior or observed=True to adopt the future default and silence this warning.\n",
      "  df['norm_row'] = adata.obs.groupby(['leiden','pred_class'])['n_row'].mean()/n_rows\n",
      "/tmp/ipykernel_291422/3061493562.py:24: FutureWarning: The default of observed=False is deprecated and will be changed to True in a future version of pandas. Pass observed=False to retain current behavior or observed=True to adopt the future default and silence this warning.\n",
      "  df['dpt_pesudotime'] = adata.obs.groupby(['leiden','pred_class'])['dpt_pseudotime'].mean()\n",
      " 69%|██████▉   | 212/307 [06:13<03:16,  2.07s/it]"
     ]
    },
    {
     "name": "stdout",
     "output_type": "stream",
     "text": [
      "11248.svs_269cols_193rows.csv.h5ad speed :4258.932644189504\n",
      "NLSI0000100.svs_50cols_62rows.csv.h5ad\n"
     ]
    },
    {
     "name": "stderr",
     "output_type": "stream",
     "text": [
      "/tmp/ipykernel_291422/3061493562.py:22: FutureWarning: The default of observed=False is deprecated and will be changed to True in a future version of pandas. Pass observed=False to retain current behavior or observed=True to adopt the future default and silence this warning.\n",
      "  df['norm_col'] = adata.obs.groupby(['leiden','pred_class'])['n_col'].mean()/n_cols\n",
      "/tmp/ipykernel_291422/3061493562.py:23: FutureWarning: The default of observed=False is deprecated and will be changed to True in a future version of pandas. Pass observed=False to retain current behavior or observed=True to adopt the future default and silence this warning.\n",
      "  df['norm_row'] = adata.obs.groupby(['leiden','pred_class'])['n_row'].mean()/n_rows\n",
      "/tmp/ipykernel_291422/3061493562.py:24: FutureWarning: The default of observed=False is deprecated and will be changed to True in a future version of pandas. Pass observed=False to retain current behavior or observed=True to adopt the future default and silence this warning.\n",
      "  df['dpt_pesudotime'] = adata.obs.groupby(['leiden','pred_class'])['dpt_pseudotime'].mean()\n",
      " 69%|██████▉   | 213/307 [06:14<02:24,  1.54s/it]"
     ]
    },
    {
     "name": "stdout",
     "output_type": "stream",
     "text": [
      "NLSI0000100.svs_50cols_62rows.csv.h5ad speed :567.942119854961\n",
      "11351.svs_277cols_210rows.csv.h5ad\n"
     ]
    },
    {
     "name": "stderr",
     "output_type": "stream",
     "text": [
      "/tmp/ipykernel_291422/3061493562.py:22: FutureWarning: The default of observed=False is deprecated and will be changed to True in a future version of pandas. Pass observed=False to retain current behavior or observed=True to adopt the future default and silence this warning.\n",
      "  df['norm_col'] = adata.obs.groupby(['leiden','pred_class'])['n_col'].mean()/n_cols\n",
      "/tmp/ipykernel_291422/3061493562.py:23: FutureWarning: The default of observed=False is deprecated and will be changed to True in a future version of pandas. Pass observed=False to retain current behavior or observed=True to adopt the future default and silence this warning.\n",
      "  df['norm_row'] = adata.obs.groupby(['leiden','pred_class'])['n_row'].mean()/n_rows\n",
      "/tmp/ipykernel_291422/3061493562.py:24: FutureWarning: The default of observed=False is deprecated and will be changed to True in a future version of pandas. Pass observed=False to retain current behavior or observed=True to adopt the future default and silence this warning.\n",
      "  df['dpt_pesudotime'] = adata.obs.groupby(['leiden','pred_class'])['dpt_pseudotime'].mean()\n",
      " 70%|██████▉   | 214/307 [06:16<02:54,  1.88s/it]"
     ]
    },
    {
     "name": "stdout",
     "output_type": "stream",
     "text": [
      "11351.svs_277cols_210rows.csv.h5ad speed :9251.550000229352\n",
      "9468.svs_241cols_158rows.csv.h5ad\n"
     ]
    },
    {
     "name": "stderr",
     "output_type": "stream",
     "text": [
      "/tmp/ipykernel_291422/3061493562.py:22: FutureWarning: The default of observed=False is deprecated and will be changed to True in a future version of pandas. Pass observed=False to retain current behavior or observed=True to adopt the future default and silence this warning.\n",
      "  df['norm_col'] = adata.obs.groupby(['leiden','pred_class'])['n_col'].mean()/n_cols\n",
      "/tmp/ipykernel_291422/3061493562.py:23: FutureWarning: The default of observed=False is deprecated and will be changed to True in a future version of pandas. Pass observed=False to retain current behavior or observed=True to adopt the future default and silence this warning.\n",
      "  df['norm_row'] = adata.obs.groupby(['leiden','pred_class'])['n_row'].mean()/n_rows\n",
      "/tmp/ipykernel_291422/3061493562.py:24: FutureWarning: The default of observed=False is deprecated and will be changed to True in a future version of pandas. Pass observed=False to retain current behavior or observed=True to adopt the future default and silence this warning.\n",
      "  df['dpt_pesudotime'] = adata.obs.groupby(['leiden','pred_class'])['dpt_pseudotime'].mean()\n",
      " 70%|███████   | 215/307 [06:18<02:49,  1.84s/it]"
     ]
    },
    {
     "name": "stdout",
     "output_type": "stream",
     "text": [
      "9468.svs_241cols_158rows.csv.h5ad speed :10901.026116934143\n",
      "NLSI0000224.svs_105cols_105rows.csv.h5ad\n"
     ]
    },
    {
     "name": "stderr",
     "output_type": "stream",
     "text": [
      "/tmp/ipykernel_291422/3061493562.py:22: FutureWarning: The default of observed=False is deprecated and will be changed to True in a future version of pandas. Pass observed=False to retain current behavior or observed=True to adopt the future default and silence this warning.\n",
      "  df['norm_col'] = adata.obs.groupby(['leiden','pred_class'])['n_col'].mean()/n_cols\n",
      "/tmp/ipykernel_291422/3061493562.py:23: FutureWarning: The default of observed=False is deprecated and will be changed to True in a future version of pandas. Pass observed=False to retain current behavior or observed=True to adopt the future default and silence this warning.\n",
      "  df['norm_row'] = adata.obs.groupby(['leiden','pred_class'])['n_row'].mean()/n_rows\n",
      "/tmp/ipykernel_291422/3061493562.py:24: FutureWarning: The default of observed=False is deprecated and will be changed to True in a future version of pandas. Pass observed=False to retain current behavior or observed=True to adopt the future default and silence this warning.\n",
      "  df['dpt_pesudotime'] = adata.obs.groupby(['leiden','pred_class'])['dpt_pseudotime'].mean()\n",
      " 70%|███████   | 216/307 [06:19<02:33,  1.68s/it]"
     ]
    },
    {
     "name": "stdout",
     "output_type": "stream",
     "text": [
      "NLSI0000224.svs_105cols_105rows.csv.h5ad speed :12248.86734496806\n",
      "NLSI0000105.svs_45cols_34rows.csv.h5ad\n"
     ]
    },
    {
     "name": "stderr",
     "output_type": "stream",
     "text": [
      "/tmp/ipykernel_291422/3061493562.py:22: FutureWarning: The default of observed=False is deprecated and will be changed to True in a future version of pandas. Pass observed=False to retain current behavior or observed=True to adopt the future default and silence this warning.\n",
      "  df['norm_col'] = adata.obs.groupby(['leiden','pred_class'])['n_col'].mean()/n_cols\n",
      "/tmp/ipykernel_291422/3061493562.py:23: FutureWarning: The default of observed=False is deprecated and will be changed to True in a future version of pandas. Pass observed=False to retain current behavior or observed=True to adopt the future default and silence this warning.\n",
      "  df['norm_row'] = adata.obs.groupby(['leiden','pred_class'])['n_row'].mean()/n_rows\n",
      "/tmp/ipykernel_291422/3061493562.py:24: FutureWarning: The default of observed=False is deprecated and will be changed to True in a future version of pandas. Pass observed=False to retain current behavior or observed=True to adopt the future default and silence this warning.\n",
      "  df['dpt_pesudotime'] = adata.obs.groupby(['leiden','pred_class'])['dpt_pseudotime'].mean()\n",
      " 71%|███████   | 217/307 [06:20<01:53,  1.26s/it]"
     ]
    },
    {
     "name": "stdout",
     "output_type": "stream",
     "text": [
      "NLSI0000105.svs_45cols_34rows.csv.h5ad speed :25475.84262589923\n",
      "10989.svs_207cols_168rows.csv.h5ad\n"
     ]
    },
    {
     "name": "stderr",
     "output_type": "stream",
     "text": [
      "/tmp/ipykernel_291422/3061493562.py:22: FutureWarning: The default of observed=False is deprecated and will be changed to True in a future version of pandas. Pass observed=False to retain current behavior or observed=True to adopt the future default and silence this warning.\n",
      "  df['norm_col'] = adata.obs.groupby(['leiden','pred_class'])['n_col'].mean()/n_cols\n",
      "/tmp/ipykernel_291422/3061493562.py:23: FutureWarning: The default of observed=False is deprecated and will be changed to True in a future version of pandas. Pass observed=False to retain current behavior or observed=True to adopt the future default and silence this warning.\n",
      "  df['norm_row'] = adata.obs.groupby(['leiden','pred_class'])['n_row'].mean()/n_rows\n",
      "/tmp/ipykernel_291422/3061493562.py:24: FutureWarning: The default of observed=False is deprecated and will be changed to True in a future version of pandas. Pass observed=False to retain current behavior or observed=True to adopt the future default and silence this warning.\n",
      "  df['dpt_pesudotime'] = adata.obs.groupby(['leiden','pred_class'])['dpt_pseudotime'].mean()\n",
      " 71%|███████   | 218/307 [06:21<01:58,  1.33s/it]"
     ]
    },
    {
     "name": "stdout",
     "output_type": "stream",
     "text": [
      "10989.svs_207cols_168rows.csv.h5ad speed :39761.62007007084\n",
      "10994.svs_269cols_143rows.csv.h5ad\n"
     ]
    },
    {
     "name": "stderr",
     "output_type": "stream",
     "text": [
      "/tmp/ipykernel_291422/3061493562.py:22: FutureWarning: The default of observed=False is deprecated and will be changed to True in a future version of pandas. Pass observed=False to retain current behavior or observed=True to adopt the future default and silence this warning.\n",
      "  df['norm_col'] = adata.obs.groupby(['leiden','pred_class'])['n_col'].mean()/n_cols\n",
      "/tmp/ipykernel_291422/3061493562.py:23: FutureWarning: The default of observed=False is deprecated and will be changed to True in a future version of pandas. Pass observed=False to retain current behavior or observed=True to adopt the future default and silence this warning.\n",
      "  df['norm_row'] = adata.obs.groupby(['leiden','pred_class'])['n_row'].mean()/n_rows\n",
      "/tmp/ipykernel_291422/3061493562.py:24: FutureWarning: The default of observed=False is deprecated and will be changed to True in a future version of pandas. Pass observed=False to retain current behavior or observed=True to adopt the future default and silence this warning.\n",
      "  df['dpt_pesudotime'] = adata.obs.groupby(['leiden','pred_class'])['dpt_pseudotime'].mean()\n",
      " 71%|███████▏  | 219/307 [06:23<02:08,  1.46s/it]"
     ]
    },
    {
     "name": "stdout",
     "output_type": "stream",
     "text": [
      "10994.svs_269cols_143rows.csv.h5ad speed :3078.190648980723\n",
      "9549.svs_257cols_215rows.csv.h5ad\n"
     ]
    },
    {
     "name": "stderr",
     "output_type": "stream",
     "text": [
      "/tmp/ipykernel_291422/3061493562.py:22: FutureWarning: The default of observed=False is deprecated and will be changed to True in a future version of pandas. Pass observed=False to retain current behavior or observed=True to adopt the future default and silence this warning.\n",
      "  df['norm_col'] = adata.obs.groupby(['leiden','pred_class'])['n_col'].mean()/n_cols\n",
      "/tmp/ipykernel_291422/3061493562.py:23: FutureWarning: The default of observed=False is deprecated and will be changed to True in a future version of pandas. Pass observed=False to retain current behavior or observed=True to adopt the future default and silence this warning.\n",
      "  df['norm_row'] = adata.obs.groupby(['leiden','pred_class'])['n_row'].mean()/n_rows\n",
      "/tmp/ipykernel_291422/3061493562.py:24: FutureWarning: The default of observed=False is deprecated and will be changed to True in a future version of pandas. Pass observed=False to retain current behavior or observed=True to adopt the future default and silence this warning.\n",
      "  df['dpt_pesudotime'] = adata.obs.groupby(['leiden','pred_class'])['dpt_pseudotime'].mean()\n",
      " 72%|███████▏  | 220/307 [06:25<02:32,  1.75s/it]"
     ]
    },
    {
     "name": "stdout",
     "output_type": "stream",
     "text": [
      "9549.svs_257cols_215rows.csv.h5ad speed :24886.013631062222\n",
      "10998.svs_317cols_210rows.csv.h5ad\n"
     ]
    },
    {
     "name": "stderr",
     "output_type": "stream",
     "text": [
      "/tmp/ipykernel_291422/3061493562.py:22: FutureWarning: The default of observed=False is deprecated and will be changed to True in a future version of pandas. Pass observed=False to retain current behavior or observed=True to adopt the future default and silence this warning.\n",
      "  df['norm_col'] = adata.obs.groupby(['leiden','pred_class'])['n_col'].mean()/n_cols\n",
      "/tmp/ipykernel_291422/3061493562.py:23: FutureWarning: The default of observed=False is deprecated and will be changed to True in a future version of pandas. Pass observed=False to retain current behavior or observed=True to adopt the future default and silence this warning.\n",
      "  df['norm_row'] = adata.obs.groupby(['leiden','pred_class'])['n_row'].mean()/n_rows\n",
      "/tmp/ipykernel_291422/3061493562.py:24: FutureWarning: The default of observed=False is deprecated and will be changed to True in a future version of pandas. Pass observed=False to retain current behavior or observed=True to adopt the future default and silence this warning.\n",
      "  df['dpt_pesudotime'] = adata.obs.groupby(['leiden','pred_class'])['dpt_pseudotime'].mean()\n",
      " 72%|███████▏  | 221/307 [06:28<03:01,  2.11s/it]"
     ]
    },
    {
     "name": "stdout",
     "output_type": "stream",
     "text": [
      "10998.svs_317cols_210rows.csv.h5ad speed :2388.4998659013086\n",
      "9741.svs_322cols_215rows.csv.h5ad\n"
     ]
    },
    {
     "name": "stderr",
     "output_type": "stream",
     "text": [
      "/tmp/ipykernel_291422/3061493562.py:22: FutureWarning: The default of observed=False is deprecated and will be changed to True in a future version of pandas. Pass observed=False to retain current behavior or observed=True to adopt the future default and silence this warning.\n",
      "  df['norm_col'] = adata.obs.groupby(['leiden','pred_class'])['n_col'].mean()/n_cols\n",
      "/tmp/ipykernel_291422/3061493562.py:23: FutureWarning: The default of observed=False is deprecated and will be changed to True in a future version of pandas. Pass observed=False to retain current behavior or observed=True to adopt the future default and silence this warning.\n",
      "  df['norm_row'] = adata.obs.groupby(['leiden','pred_class'])['n_row'].mean()/n_rows\n",
      "/tmp/ipykernel_291422/3061493562.py:24: FutureWarning: The default of observed=False is deprecated and will be changed to True in a future version of pandas. Pass observed=False to retain current behavior or observed=True to adopt the future default and silence this warning.\n",
      "  df['dpt_pesudotime'] = adata.obs.groupby(['leiden','pred_class'])['dpt_pseudotime'].mean()\n",
      " 72%|███████▏  | 222/307 [06:31<03:08,  2.22s/it]"
     ]
    },
    {
     "name": "stdout",
     "output_type": "stream",
     "text": [
      "9741.svs_322cols_215rows.csv.h5ad speed :4631.815119999975\n",
      "11446.svs_221cols_159rows.csv.h5ad\n"
     ]
    },
    {
     "name": "stderr",
     "output_type": "stream",
     "text": [
      "/tmp/ipykernel_291422/3061493562.py:22: FutureWarning: The default of observed=False is deprecated and will be changed to True in a future version of pandas. Pass observed=False to retain current behavior or observed=True to adopt the future default and silence this warning.\n",
      "  df['norm_col'] = adata.obs.groupby(['leiden','pred_class'])['n_col'].mean()/n_cols\n",
      "/tmp/ipykernel_291422/3061493562.py:23: FutureWarning: The default of observed=False is deprecated and will be changed to True in a future version of pandas. Pass observed=False to retain current behavior or observed=True to adopt the future default and silence this warning.\n",
      "  df['norm_row'] = adata.obs.groupby(['leiden','pred_class'])['n_row'].mean()/n_rows\n",
      "/tmp/ipykernel_291422/3061493562.py:24: FutureWarning: The default of observed=False is deprecated and will be changed to True in a future version of pandas. Pass observed=False to retain current behavior or observed=True to adopt the future default and silence this warning.\n",
      "  df['dpt_pesudotime'] = adata.obs.groupby(['leiden','pred_class'])['dpt_pseudotime'].mean()\n",
      " 73%|███████▎  | 223/307 [06:32<02:47,  2.00s/it]"
     ]
    },
    {
     "name": "stdout",
     "output_type": "stream",
     "text": [
      "11446.svs_221cols_159rows.csv.h5ad speed :16719.97312113882\n",
      "NLSI0000045.svs_135cols_78rows.csv.h5ad\n"
     ]
    },
    {
     "name": "stderr",
     "output_type": "stream",
     "text": [
      "/tmp/ipykernel_291422/3061493562.py:22: FutureWarning: The default of observed=False is deprecated and will be changed to True in a future version of pandas. Pass observed=False to retain current behavior or observed=True to adopt the future default and silence this warning.\n",
      "  df['norm_col'] = adata.obs.groupby(['leiden','pred_class'])['n_col'].mean()/n_cols\n",
      "/tmp/ipykernel_291422/3061493562.py:23: FutureWarning: The default of observed=False is deprecated and will be changed to True in a future version of pandas. Pass observed=False to retain current behavior or observed=True to adopt the future default and silence this warning.\n",
      "  df['norm_row'] = adata.obs.groupby(['leiden','pred_class'])['n_row'].mean()/n_rows\n",
      "/tmp/ipykernel_291422/3061493562.py:24: FutureWarning: The default of observed=False is deprecated and will be changed to True in a future version of pandas. Pass observed=False to retain current behavior or observed=True to adopt the future default and silence this warning.\n",
      "  df['dpt_pesudotime'] = adata.obs.groupby(['leiden','pred_class'])['dpt_pseudotime'].mean()\n",
      " 73%|███████▎  | 224/307 [06:33<02:19,  1.68s/it]"
     ]
    },
    {
     "name": "stdout",
     "output_type": "stream",
     "text": [
      "NLSI0000045.svs_135cols_78rows.csv.h5ad speed :2358.9966573588054\n",
      "10401.svs_272cols_205rows.csv.h5ad\n"
     ]
    },
    {
     "name": "stderr",
     "output_type": "stream",
     "text": [
      "/tmp/ipykernel_291422/3061493562.py:22: FutureWarning: The default of observed=False is deprecated and will be changed to True in a future version of pandas. Pass observed=False to retain current behavior or observed=True to adopt the future default and silence this warning.\n",
      "  df['norm_col'] = adata.obs.groupby(['leiden','pred_class'])['n_col'].mean()/n_cols\n",
      "/tmp/ipykernel_291422/3061493562.py:23: FutureWarning: The default of observed=False is deprecated and will be changed to True in a future version of pandas. Pass observed=False to retain current behavior or observed=True to adopt the future default and silence this warning.\n",
      "  df['norm_row'] = adata.obs.groupby(['leiden','pred_class'])['n_row'].mean()/n_rows\n",
      "/tmp/ipykernel_291422/3061493562.py:24: FutureWarning: The default of observed=False is deprecated and will be changed to True in a future version of pandas. Pass observed=False to retain current behavior or observed=True to adopt the future default and silence this warning.\n",
      "  df['dpt_pesudotime'] = adata.obs.groupby(['leiden','pred_class'])['dpt_pseudotime'].mean()\n",
      " 73%|███████▎  | 225/307 [06:35<02:26,  1.79s/it]"
     ]
    },
    {
     "name": "stdout",
     "output_type": "stream",
     "text": [
      "10401.svs_272cols_205rows.csv.h5ad speed :27012.61157326701\n",
      "NLSI0000046.svs_155cols_111rows.csv.h5ad\n"
     ]
    },
    {
     "name": "stderr",
     "output_type": "stream",
     "text": [
      "/tmp/ipykernel_291422/3061493562.py:22: FutureWarning: The default of observed=False is deprecated and will be changed to True in a future version of pandas. Pass observed=False to retain current behavior or observed=True to adopt the future default and silence this warning.\n",
      "  df['norm_col'] = adata.obs.groupby(['leiden','pred_class'])['n_col'].mean()/n_cols\n",
      "/tmp/ipykernel_291422/3061493562.py:23: FutureWarning: The default of observed=False is deprecated and will be changed to True in a future version of pandas. Pass observed=False to retain current behavior or observed=True to adopt the future default and silence this warning.\n",
      "  df['norm_row'] = adata.obs.groupby(['leiden','pred_class'])['n_row'].mean()/n_rows\n",
      "/tmp/ipykernel_291422/3061493562.py:24: FutureWarning: The default of observed=False is deprecated and will be changed to True in a future version of pandas. Pass observed=False to retain current behavior or observed=True to adopt the future default and silence this warning.\n",
      "  df['dpt_pesudotime'] = adata.obs.groupby(['leiden','pred_class'])['dpt_pseudotime'].mean()\n",
      " 74%|███████▎  | 226/307 [06:37<02:21,  1.75s/it]"
     ]
    },
    {
     "name": "stdout",
     "output_type": "stream",
     "text": [
      "NLSI0000046.svs_155cols_111rows.csv.h5ad speed :61683.38275100864\n",
      "11436.svs_202cols_178rows.csv.h5ad\n"
     ]
    },
    {
     "name": "stderr",
     "output_type": "stream",
     "text": [
      "/tmp/ipykernel_291422/3061493562.py:22: FutureWarning: The default of observed=False is deprecated and will be changed to True in a future version of pandas. Pass observed=False to retain current behavior or observed=True to adopt the future default and silence this warning.\n",
      "  df['norm_col'] = adata.obs.groupby(['leiden','pred_class'])['n_col'].mean()/n_cols\n",
      "/tmp/ipykernel_291422/3061493562.py:23: FutureWarning: The default of observed=False is deprecated and will be changed to True in a future version of pandas. Pass observed=False to retain current behavior or observed=True to adopt the future default and silence this warning.\n",
      "  df['norm_row'] = adata.obs.groupby(['leiden','pred_class'])['n_row'].mean()/n_rows\n",
      "/tmp/ipykernel_291422/3061493562.py:24: FutureWarning: The default of observed=False is deprecated and will be changed to True in a future version of pandas. Pass observed=False to retain current behavior or observed=True to adopt the future default and silence this warning.\n",
      "  df['dpt_pesudotime'] = adata.obs.groupby(['leiden','pred_class'])['dpt_pseudotime'].mean()\n",
      " 74%|███████▍  | 227/307 [06:38<02:11,  1.65s/it]"
     ]
    },
    {
     "name": "stdout",
     "output_type": "stream",
     "text": [
      "11436.svs_202cols_178rows.csv.h5ad speed :3170.295663720744\n",
      "11372.svs_267cols_210rows.csv.h5ad\n"
     ]
    },
    {
     "name": "stderr",
     "output_type": "stream",
     "text": [
      "/tmp/ipykernel_291422/3061493562.py:22: FutureWarning: The default of observed=False is deprecated and will be changed to True in a future version of pandas. Pass observed=False to retain current behavior or observed=True to adopt the future default and silence this warning.\n",
      "  df['norm_col'] = adata.obs.groupby(['leiden','pred_class'])['n_col'].mean()/n_cols\n",
      "/tmp/ipykernel_291422/3061493562.py:23: FutureWarning: The default of observed=False is deprecated and will be changed to True in a future version of pandas. Pass observed=False to retain current behavior or observed=True to adopt the future default and silence this warning.\n",
      "  df['norm_row'] = adata.obs.groupby(['leiden','pred_class'])['n_row'].mean()/n_rows\n",
      "/tmp/ipykernel_291422/3061493562.py:24: FutureWarning: The default of observed=False is deprecated and will be changed to True in a future version of pandas. Pass observed=False to retain current behavior or observed=True to adopt the future default and silence this warning.\n",
      "  df['dpt_pesudotime'] = adata.obs.groupby(['leiden','pred_class'])['dpt_pseudotime'].mean()\n",
      " 74%|███████▍  | 228/307 [06:40<02:19,  1.77s/it]"
     ]
    },
    {
     "name": "stdout",
     "output_type": "stream",
     "text": [
      "11372.svs_267cols_210rows.csv.h5ad speed :22450.677048584443\n",
      "11398.svs_293cols_210rows.csv.h5ad\n"
     ]
    },
    {
     "name": "stderr",
     "output_type": "stream",
     "text": [
      "/tmp/ipykernel_291422/3061493562.py:22: FutureWarning: The default of observed=False is deprecated and will be changed to True in a future version of pandas. Pass observed=False to retain current behavior or observed=True to adopt the future default and silence this warning.\n",
      "  df['norm_col'] = adata.obs.groupby(['leiden','pred_class'])['n_col'].mean()/n_cols\n",
      "/tmp/ipykernel_291422/3061493562.py:23: FutureWarning: The default of observed=False is deprecated and will be changed to True in a future version of pandas. Pass observed=False to retain current behavior or observed=True to adopt the future default and silence this warning.\n",
      "  df['norm_row'] = adata.obs.groupby(['leiden','pred_class'])['n_row'].mean()/n_rows\n",
      "/tmp/ipykernel_291422/3061493562.py:24: FutureWarning: The default of observed=False is deprecated and will be changed to True in a future version of pandas. Pass observed=False to retain current behavior or observed=True to adopt the future default and silence this warning.\n",
      "  df['dpt_pesudotime'] = adata.obs.groupby(['leiden','pred_class'])['dpt_pseudotime'].mean()\n",
      " 75%|███████▍  | 229/307 [06:43<02:35,  2.00s/it]"
     ]
    },
    {
     "name": "stdout",
     "output_type": "stream",
     "text": [
      "11398.svs_293cols_210rows.csv.h5ad speed :4420.4706767557545\n",
      "11293.svs_221cols_175rows.csv.h5ad\n"
     ]
    },
    {
     "name": "stderr",
     "output_type": "stream",
     "text": [
      "/tmp/ipykernel_291422/3061493562.py:22: FutureWarning: The default of observed=False is deprecated and will be changed to True in a future version of pandas. Pass observed=False to retain current behavior or observed=True to adopt the future default and silence this warning.\n",
      "  df['norm_col'] = adata.obs.groupby(['leiden','pred_class'])['n_col'].mean()/n_cols\n",
      "/tmp/ipykernel_291422/3061493562.py:23: FutureWarning: The default of observed=False is deprecated and will be changed to True in a future version of pandas. Pass observed=False to retain current behavior or observed=True to adopt the future default and silence this warning.\n",
      "  df['norm_row'] = adata.obs.groupby(['leiden','pred_class'])['n_row'].mean()/n_rows\n",
      "/tmp/ipykernel_291422/3061493562.py:24: FutureWarning: The default of observed=False is deprecated and will be changed to True in a future version of pandas. Pass observed=False to retain current behavior or observed=True to adopt the future default and silence this warning.\n",
      "  df['dpt_pesudotime'] = adata.obs.groupby(['leiden','pred_class'])['dpt_pseudotime'].mean()\n",
      " 75%|███████▍  | 230/307 [06:44<02:13,  1.74s/it]"
     ]
    },
    {
     "name": "stdout",
     "output_type": "stream",
     "text": [
      "11293.svs_221cols_175rows.csv.h5ad speed :20276.66122348095\n",
      "NLSI0000098.svs_100cols_102rows.csv.h5ad\n"
     ]
    },
    {
     "name": "stderr",
     "output_type": "stream",
     "text": [
      "/tmp/ipykernel_291422/3061493562.py:22: FutureWarning: The default of observed=False is deprecated and will be changed to True in a future version of pandas. Pass observed=False to retain current behavior or observed=True to adopt the future default and silence this warning.\n",
      "  df['norm_col'] = adata.obs.groupby(['leiden','pred_class'])['n_col'].mean()/n_cols\n",
      "/tmp/ipykernel_291422/3061493562.py:23: FutureWarning: The default of observed=False is deprecated and will be changed to True in a future version of pandas. Pass observed=False to retain current behavior or observed=True to adopt the future default and silence this warning.\n",
      "  df['norm_row'] = adata.obs.groupby(['leiden','pred_class'])['n_row'].mean()/n_rows\n",
      "/tmp/ipykernel_291422/3061493562.py:24: FutureWarning: The default of observed=False is deprecated and will be changed to True in a future version of pandas. Pass observed=False to retain current behavior or observed=True to adopt the future default and silence this warning.\n",
      "  df['dpt_pesudotime'] = adata.obs.groupby(['leiden','pred_class'])['dpt_pseudotime'].mean()\n",
      " 75%|███████▌  | 231/307 [06:45<01:50,  1.45s/it]"
     ]
    },
    {
     "name": "stdout",
     "output_type": "stream",
     "text": [
      "NLSI0000098.svs_100cols_102rows.csv.h5ad speed :38230.15719240616\n",
      "11280.svs_169cols_206rows.csv.h5ad\n"
     ]
    },
    {
     "name": "stderr",
     "output_type": "stream",
     "text": [
      "/tmp/ipykernel_291422/3061493562.py:22: FutureWarning: The default of observed=False is deprecated and will be changed to True in a future version of pandas. Pass observed=False to retain current behavior or observed=True to adopt the future default and silence this warning.\n",
      "  df['norm_col'] = adata.obs.groupby(['leiden','pred_class'])['n_col'].mean()/n_cols\n",
      "/tmp/ipykernel_291422/3061493562.py:23: FutureWarning: The default of observed=False is deprecated and will be changed to True in a future version of pandas. Pass observed=False to retain current behavior or observed=True to adopt the future default and silence this warning.\n",
      "  df['norm_row'] = adata.obs.groupby(['leiden','pred_class'])['n_row'].mean()/n_rows\n",
      "/tmp/ipykernel_291422/3061493562.py:24: FutureWarning: The default of observed=False is deprecated and will be changed to True in a future version of pandas. Pass observed=False to retain current behavior or observed=True to adopt the future default and silence this warning.\n",
      "  df['dpt_pesudotime'] = adata.obs.groupby(['leiden','pred_class'])['dpt_pseudotime'].mean()\n",
      " 76%|███████▌  | 232/307 [06:46<01:41,  1.35s/it]"
     ]
    },
    {
     "name": "stdout",
     "output_type": "stream",
     "text": [
      "11280.svs_169cols_206rows.csv.h5ad speed :5986.912612066177\n",
      "NLSI0000090.svs_130cols_99rows.csv.h5ad\n"
     ]
    },
    {
     "name": "stderr",
     "output_type": "stream",
     "text": [
      "/tmp/ipykernel_291422/3061493562.py:22: FutureWarning: The default of observed=False is deprecated and will be changed to True in a future version of pandas. Pass observed=False to retain current behavior or observed=True to adopt the future default and silence this warning.\n",
      "  df['norm_col'] = adata.obs.groupby(['leiden','pred_class'])['n_col'].mean()/n_cols\n",
      "/tmp/ipykernel_291422/3061493562.py:23: FutureWarning: The default of observed=False is deprecated and will be changed to True in a future version of pandas. Pass observed=False to retain current behavior or observed=True to adopt the future default and silence this warning.\n",
      "  df['norm_row'] = adata.obs.groupby(['leiden','pred_class'])['n_row'].mean()/n_rows\n",
      "/tmp/ipykernel_291422/3061493562.py:24: FutureWarning: The default of observed=False is deprecated and will be changed to True in a future version of pandas. Pass observed=False to retain current behavior or observed=True to adopt the future default and silence this warning.\n",
      "  df['dpt_pesudotime'] = adata.obs.groupby(['leiden','pred_class'])['dpt_pseudotime'].mean()\n",
      " 76%|███████▌  | 233/307 [06:47<01:36,  1.30s/it]"
     ]
    },
    {
     "name": "stdout",
     "output_type": "stream",
     "text": [
      "NLSI0000090.svs_130cols_99rows.csv.h5ad speed :215623.07635920838\n",
      "NLSI0000186.svs_115cols_81rows.csv.h5ad\n"
     ]
    },
    {
     "name": "stderr",
     "output_type": "stream",
     "text": [
      "/tmp/ipykernel_291422/3061493562.py:22: FutureWarning: The default of observed=False is deprecated and will be changed to True in a future version of pandas. Pass observed=False to retain current behavior or observed=True to adopt the future default and silence this warning.\n",
      "  df['norm_col'] = adata.obs.groupby(['leiden','pred_class'])['n_col'].mean()/n_cols\n",
      "/tmp/ipykernel_291422/3061493562.py:23: FutureWarning: The default of observed=False is deprecated and will be changed to True in a future version of pandas. Pass observed=False to retain current behavior or observed=True to adopt the future default and silence this warning.\n",
      "  df['norm_row'] = adata.obs.groupby(['leiden','pred_class'])['n_row'].mean()/n_rows\n",
      "/tmp/ipykernel_291422/3061493562.py:24: FutureWarning: The default of observed=False is deprecated and will be changed to True in a future version of pandas. Pass observed=False to retain current behavior or observed=True to adopt the future default and silence this warning.\n",
      "  df['dpt_pesudotime'] = adata.obs.groupby(['leiden','pred_class'])['dpt_pseudotime'].mean()\n",
      " 76%|███████▌  | 234/307 [06:48<01:17,  1.06s/it]"
     ]
    },
    {
     "name": "stdout",
     "output_type": "stream",
     "text": [
      "NLSI0000186.svs_115cols_81rows.csv.h5ad speed :49322.32258006784\n",
      "10409.svs_349cols_204rows.csv.h5ad\n"
     ]
    },
    {
     "name": "stderr",
     "output_type": "stream",
     "text": [
      "/tmp/ipykernel_291422/3061493562.py:22: FutureWarning: The default of observed=False is deprecated and will be changed to True in a future version of pandas. Pass observed=False to retain current behavior or observed=True to adopt the future default and silence this warning.\n",
      "  df['norm_col'] = adata.obs.groupby(['leiden','pred_class'])['n_col'].mean()/n_cols\n",
      "/tmp/ipykernel_291422/3061493562.py:23: FutureWarning: The default of observed=False is deprecated and will be changed to True in a future version of pandas. Pass observed=False to retain current behavior or observed=True to adopt the future default and silence this warning.\n",
      "  df['norm_row'] = adata.obs.groupby(['leiden','pred_class'])['n_row'].mean()/n_rows\n",
      "/tmp/ipykernel_291422/3061493562.py:24: FutureWarning: The default of observed=False is deprecated and will be changed to True in a future version of pandas. Pass observed=False to retain current behavior or observed=True to adopt the future default and silence this warning.\n",
      "  df['dpt_pesudotime'] = adata.obs.groupby(['leiden','pred_class'])['dpt_pseudotime'].mean()\n",
      " 77%|███████▋  | 235/307 [06:50<01:50,  1.53s/it]"
     ]
    },
    {
     "name": "stdout",
     "output_type": "stream",
     "text": [
      "10409.svs_349cols_204rows.csv.h5ad speed :36262.64096738892\n",
      "NLSI0000024.svs_125cols_84rows.csv.h5ad\n"
     ]
    },
    {
     "name": "stderr",
     "output_type": "stream",
     "text": [
      "/tmp/ipykernel_291422/3061493562.py:22: FutureWarning: The default of observed=False is deprecated and will be changed to True in a future version of pandas. Pass observed=False to retain current behavior or observed=True to adopt the future default and silence this warning.\n",
      "  df['norm_col'] = adata.obs.groupby(['leiden','pred_class'])['n_col'].mean()/n_cols\n",
      "/tmp/ipykernel_291422/3061493562.py:23: FutureWarning: The default of observed=False is deprecated and will be changed to True in a future version of pandas. Pass observed=False to retain current behavior or observed=True to adopt the future default and silence this warning.\n",
      "  df['norm_row'] = adata.obs.groupby(['leiden','pred_class'])['n_row'].mean()/n_rows\n",
      "/tmp/ipykernel_291422/3061493562.py:24: FutureWarning: The default of observed=False is deprecated and will be changed to True in a future version of pandas. Pass observed=False to retain current behavior or observed=True to adopt the future default and silence this warning.\n",
      "  df['dpt_pesudotime'] = adata.obs.groupby(['leiden','pred_class'])['dpt_pseudotime'].mean()\n",
      " 77%|███████▋  | 236/307 [06:51<01:28,  1.25s/it]"
     ]
    },
    {
     "name": "stdout",
     "output_type": "stream",
     "text": [
      "NLSI0000024.svs_125cols_84rows.csv.h5ad speed :21814.911198134974\n",
      "10876.svs_313cols_209rows.csv.h5ad\n"
     ]
    },
    {
     "name": "stderr",
     "output_type": "stream",
     "text": [
      "/tmp/ipykernel_291422/3061493562.py:22: FutureWarning: The default of observed=False is deprecated and will be changed to True in a future version of pandas. Pass observed=False to retain current behavior or observed=True to adopt the future default and silence this warning.\n",
      "  df['norm_col'] = adata.obs.groupby(['leiden','pred_class'])['n_col'].mean()/n_cols\n",
      "/tmp/ipykernel_291422/3061493562.py:23: FutureWarning: The default of observed=False is deprecated and will be changed to True in a future version of pandas. Pass observed=False to retain current behavior or observed=True to adopt the future default and silence this warning.\n",
      "  df['norm_row'] = adata.obs.groupby(['leiden','pred_class'])['n_row'].mean()/n_rows\n",
      "/tmp/ipykernel_291422/3061493562.py:24: FutureWarning: The default of observed=False is deprecated and will be changed to True in a future version of pandas. Pass observed=False to retain current behavior or observed=True to adopt the future default and silence this warning.\n",
      "  df['dpt_pesudotime'] = adata.obs.groupby(['leiden','pred_class'])['dpt_pseudotime'].mean()\n",
      " 77%|███████▋  | 237/307 [06:54<02:08,  1.83s/it]"
     ]
    },
    {
     "name": "stdout",
     "output_type": "stream",
     "text": [
      "10876.svs_313cols_209rows.csv.h5ad speed :50747.006813467204\n",
      "10887.svs_274cols_196rows.csv.h5ad\n"
     ]
    },
    {
     "name": "stderr",
     "output_type": "stream",
     "text": [
      "/tmp/ipykernel_291422/3061493562.py:22: FutureWarning: The default of observed=False is deprecated and will be changed to True in a future version of pandas. Pass observed=False to retain current behavior or observed=True to adopt the future default and silence this warning.\n",
      "  df['norm_col'] = adata.obs.groupby(['leiden','pred_class'])['n_col'].mean()/n_cols\n",
      "/tmp/ipykernel_291422/3061493562.py:23: FutureWarning: The default of observed=False is deprecated and will be changed to True in a future version of pandas. Pass observed=False to retain current behavior or observed=True to adopt the future default and silence this warning.\n",
      "  df['norm_row'] = adata.obs.groupby(['leiden','pred_class'])['n_row'].mean()/n_rows\n",
      "/tmp/ipykernel_291422/3061493562.py:24: FutureWarning: The default of observed=False is deprecated and will be changed to True in a future version of pandas. Pass observed=False to retain current behavior or observed=True to adopt the future default and silence this warning.\n",
      "  df['dpt_pesudotime'] = adata.obs.groupby(['leiden','pred_class'])['dpt_pseudotime'].mean()\n",
      " 78%|███████▊  | 238/307 [06:56<02:10,  1.89s/it]"
     ]
    },
    {
     "name": "stdout",
     "output_type": "stream",
     "text": [
      "10887.svs_274cols_196rows.csv.h5ad speed :10537.756081438825\n",
      "NLSI0000227.svs_120cols_85rows.csv.h5ad\n"
     ]
    },
    {
     "name": "stderr",
     "output_type": "stream",
     "text": [
      "/tmp/ipykernel_291422/3061493562.py:22: FutureWarning: The default of observed=False is deprecated and will be changed to True in a future version of pandas. Pass observed=False to retain current behavior or observed=True to adopt the future default and silence this warning.\n",
      "  df['norm_col'] = adata.obs.groupby(['leiden','pred_class'])['n_col'].mean()/n_cols\n",
      "/tmp/ipykernel_291422/3061493562.py:23: FutureWarning: The default of observed=False is deprecated and will be changed to True in a future version of pandas. Pass observed=False to retain current behavior or observed=True to adopt the future default and silence this warning.\n",
      "  df['norm_row'] = adata.obs.groupby(['leiden','pred_class'])['n_row'].mean()/n_rows\n",
      "/tmp/ipykernel_291422/3061493562.py:24: FutureWarning: The default of observed=False is deprecated and will be changed to True in a future version of pandas. Pass observed=False to retain current behavior or observed=True to adopt the future default and silence this warning.\n",
      "  df['dpt_pesudotime'] = adata.obs.groupby(['leiden','pred_class'])['dpt_pseudotime'].mean()\n",
      " 78%|███████▊  | 239/307 [06:57<01:53,  1.67s/it]"
     ]
    },
    {
     "name": "stdout",
     "output_type": "stream",
     "text": [
      "NLSI0000227.svs_120cols_85rows.csv.h5ad speed :13805.133676091984\n",
      "10675.svs_260cols_210rows.csv.h5ad\n"
     ]
    },
    {
     "name": "stderr",
     "output_type": "stream",
     "text": [
      "/tmp/ipykernel_291422/3061493562.py:22: FutureWarning: The default of observed=False is deprecated and will be changed to True in a future version of pandas. Pass observed=False to retain current behavior or observed=True to adopt the future default and silence this warning.\n",
      "  df['norm_col'] = adata.obs.groupby(['leiden','pred_class'])['n_col'].mean()/n_cols\n",
      "/tmp/ipykernel_291422/3061493562.py:23: FutureWarning: The default of observed=False is deprecated and will be changed to True in a future version of pandas. Pass observed=False to retain current behavior or observed=True to adopt the future default and silence this warning.\n",
      "  df['norm_row'] = adata.obs.groupby(['leiden','pred_class'])['n_row'].mean()/n_rows\n",
      "/tmp/ipykernel_291422/3061493562.py:24: FutureWarning: The default of observed=False is deprecated and will be changed to True in a future version of pandas. Pass observed=False to retain current behavior or observed=True to adopt the future default and silence this warning.\n",
      "  df['dpt_pesudotime'] = adata.obs.groupby(['leiden','pred_class'])['dpt_pseudotime'].mean()\n",
      " 78%|███████▊  | 240/307 [06:59<02:03,  1.84s/it]"
     ]
    },
    {
     "name": "stdout",
     "output_type": "stream",
     "text": [
      "10675.svs_260cols_210rows.csv.h5ad speed :3716.4613130022217\n",
      "11043.svs_301cols_202rows.csv.h5ad\n"
     ]
    },
    {
     "name": "stderr",
     "output_type": "stream",
     "text": [
      "/tmp/ipykernel_291422/3061493562.py:22: FutureWarning: The default of observed=False is deprecated and will be changed to True in a future version of pandas. Pass observed=False to retain current behavior or observed=True to adopt the future default and silence this warning.\n",
      "  df['norm_col'] = adata.obs.groupby(['leiden','pred_class'])['n_col'].mean()/n_cols\n",
      "/tmp/ipykernel_291422/3061493562.py:23: FutureWarning: The default of observed=False is deprecated and will be changed to True in a future version of pandas. Pass observed=False to retain current behavior or observed=True to adopt the future default and silence this warning.\n",
      "  df['norm_row'] = adata.obs.groupby(['leiden','pred_class'])['n_row'].mean()/n_rows\n",
      "/tmp/ipykernel_291422/3061493562.py:24: FutureWarning: The default of observed=False is deprecated and will be changed to True in a future version of pandas. Pass observed=False to retain current behavior or observed=True to adopt the future default and silence this warning.\n",
      "  df['dpt_pesudotime'] = adata.obs.groupby(['leiden','pred_class'])['dpt_pseudotime'].mean()\n",
      " 79%|███████▊  | 241/307 [07:02<02:09,  1.96s/it]"
     ]
    },
    {
     "name": "stdout",
     "output_type": "stream",
     "text": [
      "11043.svs_301cols_202rows.csv.h5ad speed :3804.300458184465\n",
      "10461.svs_289cols_223rows.csv.h5ad\n"
     ]
    },
    {
     "name": "stderr",
     "output_type": "stream",
     "text": [
      "/tmp/ipykernel_291422/3061493562.py:22: FutureWarning: The default of observed=False is deprecated and will be changed to True in a future version of pandas. Pass observed=False to retain current behavior or observed=True to adopt the future default and silence this warning.\n",
      "  df['norm_col'] = adata.obs.groupby(['leiden','pred_class'])['n_col'].mean()/n_cols\n",
      "/tmp/ipykernel_291422/3061493562.py:23: FutureWarning: The default of observed=False is deprecated and will be changed to True in a future version of pandas. Pass observed=False to retain current behavior or observed=True to adopt the future default and silence this warning.\n",
      "  df['norm_row'] = adata.obs.groupby(['leiden','pred_class'])['n_row'].mean()/n_rows\n",
      "/tmp/ipykernel_291422/3061493562.py:24: FutureWarning: The default of observed=False is deprecated and will be changed to True in a future version of pandas. Pass observed=False to retain current behavior or observed=True to adopt the future default and silence this warning.\n",
      "  df['dpt_pesudotime'] = adata.obs.groupby(['leiden','pred_class'])['dpt_pseudotime'].mean()\n",
      " 79%|███████▉  | 242/307 [07:04<02:13,  2.06s/it]"
     ]
    },
    {
     "name": "stdout",
     "output_type": "stream",
     "text": [
      "10461.svs_289cols_223rows.csv.h5ad speed :10431.0312203684\n",
      "NLSI0000270.svs_120cols_119rows.csv.h5ad\n"
     ]
    },
    {
     "name": "stderr",
     "output_type": "stream",
     "text": [
      "/tmp/ipykernel_291422/3061493562.py:22: FutureWarning: The default of observed=False is deprecated and will be changed to True in a future version of pandas. Pass observed=False to retain current behavior or observed=True to adopt the future default and silence this warning.\n",
      "  df['norm_col'] = adata.obs.groupby(['leiden','pred_class'])['n_col'].mean()/n_cols\n",
      "/tmp/ipykernel_291422/3061493562.py:23: FutureWarning: The default of observed=False is deprecated and will be changed to True in a future version of pandas. Pass observed=False to retain current behavior or observed=True to adopt the future default and silence this warning.\n",
      "  df['norm_row'] = adata.obs.groupby(['leiden','pred_class'])['n_row'].mean()/n_rows\n",
      "/tmp/ipykernel_291422/3061493562.py:24: FutureWarning: The default of observed=False is deprecated and will be changed to True in a future version of pandas. Pass observed=False to retain current behavior or observed=True to adopt the future default and silence this warning.\n",
      "  df['dpt_pesudotime'] = adata.obs.groupby(['leiden','pred_class'])['dpt_pseudotime'].mean()\n",
      " 79%|███████▉  | 243/307 [07:05<02:01,  1.89s/it]"
     ]
    },
    {
     "name": "stdout",
     "output_type": "stream",
     "text": [
      "NLSI0000270.svs_120cols_119rows.csv.h5ad speed :38778.71639956619\n",
      "11042.svs_327cols_205rows.csv.h5ad\n"
     ]
    },
    {
     "name": "stderr",
     "output_type": "stream",
     "text": [
      "/tmp/ipykernel_291422/3061493562.py:22: FutureWarning: The default of observed=False is deprecated and will be changed to True in a future version of pandas. Pass observed=False to retain current behavior or observed=True to adopt the future default and silence this warning.\n",
      "  df['norm_col'] = adata.obs.groupby(['leiden','pred_class'])['n_col'].mean()/n_cols\n",
      "/tmp/ipykernel_291422/3061493562.py:23: FutureWarning: The default of observed=False is deprecated and will be changed to True in a future version of pandas. Pass observed=False to retain current behavior or observed=True to adopt the future default and silence this warning.\n",
      "  df['norm_row'] = adata.obs.groupby(['leiden','pred_class'])['n_row'].mean()/n_rows\n",
      "/tmp/ipykernel_291422/3061493562.py:24: FutureWarning: The default of observed=False is deprecated and will be changed to True in a future version of pandas. Pass observed=False to retain current behavior or observed=True to adopt the future default and silence this warning.\n",
      "  df['dpt_pesudotime'] = adata.obs.groupby(['leiden','pred_class'])['dpt_pseudotime'].mean()\n",
      " 79%|███████▉  | 244/307 [07:08<02:13,  2.12s/it]"
     ]
    },
    {
     "name": "stdout",
     "output_type": "stream",
     "text": [
      "11042.svs_327cols_205rows.csv.h5ad speed :126098.35641570922\n",
      "NLSI0000083.svs_100cols_83rows.csv.h5ad\n"
     ]
    },
    {
     "name": "stderr",
     "output_type": "stream",
     "text": [
      "/tmp/ipykernel_291422/3061493562.py:22: FutureWarning: The default of observed=False is deprecated and will be changed to True in a future version of pandas. Pass observed=False to retain current behavior or observed=True to adopt the future default and silence this warning.\n",
      "  df['norm_col'] = adata.obs.groupby(['leiden','pred_class'])['n_col'].mean()/n_cols\n",
      "/tmp/ipykernel_291422/3061493562.py:23: FutureWarning: The default of observed=False is deprecated and will be changed to True in a future version of pandas. Pass observed=False to retain current behavior or observed=True to adopt the future default and silence this warning.\n",
      "  df['norm_row'] = adata.obs.groupby(['leiden','pred_class'])['n_row'].mean()/n_rows\n",
      "/tmp/ipykernel_291422/3061493562.py:24: FutureWarning: The default of observed=False is deprecated and will be changed to True in a future version of pandas. Pass observed=False to retain current behavior or observed=True to adopt the future default and silence this warning.\n",
      "  df['dpt_pesudotime'] = adata.obs.groupby(['leiden','pred_class'])['dpt_pseudotime'].mean()\n",
      " 80%|███████▉  | 245/307 [07:09<01:45,  1.71s/it]"
     ]
    },
    {
     "name": "stdout",
     "output_type": "stream",
     "text": [
      "NLSI0000083.svs_100cols_83rows.csv.h5ad speed :15440.374613431932\n",
      "11233.svs_250cols_205rows.csv.h5ad\n"
     ]
    },
    {
     "name": "stderr",
     "output_type": "stream",
     "text": [
      "/tmp/ipykernel_291422/3061493562.py:22: FutureWarning: The default of observed=False is deprecated and will be changed to True in a future version of pandas. Pass observed=False to retain current behavior or observed=True to adopt the future default and silence this warning.\n",
      "  df['norm_col'] = adata.obs.groupby(['leiden','pred_class'])['n_col'].mean()/n_cols\n",
      "/tmp/ipykernel_291422/3061493562.py:23: FutureWarning: The default of observed=False is deprecated and will be changed to True in a future version of pandas. Pass observed=False to retain current behavior or observed=True to adopt the future default and silence this warning.\n",
      "  df['norm_row'] = adata.obs.groupby(['leiden','pred_class'])['n_row'].mean()/n_rows\n",
      "/tmp/ipykernel_291422/3061493562.py:24: FutureWarning: The default of observed=False is deprecated and will be changed to True in a future version of pandas. Pass observed=False to retain current behavior or observed=True to adopt the future default and silence this warning.\n",
      "  df['dpt_pesudotime'] = adata.obs.groupby(['leiden','pred_class'])['dpt_pseudotime'].mean()\n",
      " 80%|████████  | 246/307 [07:10<01:36,  1.58s/it]"
     ]
    },
    {
     "name": "stdout",
     "output_type": "stream",
     "text": [
      "11233.svs_250cols_205rows.csv.h5ad speed :3851.038859737839\n",
      "11004.svs_317cols_202rows.csv.h5ad\n"
     ]
    },
    {
     "name": "stderr",
     "output_type": "stream",
     "text": [
      "/tmp/ipykernel_291422/3061493562.py:22: FutureWarning: The default of observed=False is deprecated and will be changed to True in a future version of pandas. Pass observed=False to retain current behavior or observed=True to adopt the future default and silence this warning.\n",
      "  df['norm_col'] = adata.obs.groupby(['leiden','pred_class'])['n_col'].mean()/n_cols\n",
      "/tmp/ipykernel_291422/3061493562.py:23: FutureWarning: The default of observed=False is deprecated and will be changed to True in a future version of pandas. Pass observed=False to retain current behavior or observed=True to adopt the future default and silence this warning.\n",
      "  df['norm_row'] = adata.obs.groupby(['leiden','pred_class'])['n_row'].mean()/n_rows\n",
      "/tmp/ipykernel_291422/3061493562.py:24: FutureWarning: The default of observed=False is deprecated and will be changed to True in a future version of pandas. Pass observed=False to retain current behavior or observed=True to adopt the future default and silence this warning.\n",
      "  df['dpt_pesudotime'] = adata.obs.groupby(['leiden','pred_class'])['dpt_pseudotime'].mean()\n",
      " 80%|████████  | 247/307 [07:13<01:58,  1.98s/it]"
     ]
    },
    {
     "name": "stdout",
     "output_type": "stream",
     "text": [
      "11004.svs_317cols_202rows.csv.h5ad speed :2942.1730851164807\n",
      "10508.svs_250cols_198rows.csv.h5ad\n"
     ]
    },
    {
     "name": "stderr",
     "output_type": "stream",
     "text": [
      "/tmp/ipykernel_291422/3061493562.py:22: FutureWarning: The default of observed=False is deprecated and will be changed to True in a future version of pandas. Pass observed=False to retain current behavior or observed=True to adopt the future default and silence this warning.\n",
      "  df['norm_col'] = adata.obs.groupby(['leiden','pred_class'])['n_col'].mean()/n_cols\n",
      "/tmp/ipykernel_291422/3061493562.py:23: FutureWarning: The default of observed=False is deprecated and will be changed to True in a future version of pandas. Pass observed=False to retain current behavior or observed=True to adopt the future default and silence this warning.\n",
      "  df['norm_row'] = adata.obs.groupby(['leiden','pred_class'])['n_row'].mean()/n_rows\n",
      "/tmp/ipykernel_291422/3061493562.py:24: FutureWarning: The default of observed=False is deprecated and will be changed to True in a future version of pandas. Pass observed=False to retain current behavior or observed=True to adopt the future default and silence this warning.\n",
      "  df['dpt_pesudotime'] = adata.obs.groupby(['leiden','pred_class'])['dpt_pseudotime'].mean()\n",
      " 81%|████████  | 248/307 [07:15<01:59,  2.03s/it]"
     ]
    },
    {
     "name": "stdout",
     "output_type": "stream",
     "text": [
      "10508.svs_250cols_198rows.csv.h5ad speed :22920.1843731297\n",
      "11342.svs_116cols_176rows.csv.h5ad\n"
     ]
    },
    {
     "name": "stderr",
     "output_type": "stream",
     "text": [
      "/tmp/ipykernel_291422/3061493562.py:22: FutureWarning: The default of observed=False is deprecated and will be changed to True in a future version of pandas. Pass observed=False to retain current behavior or observed=True to adopt the future default and silence this warning.\n",
      "  df['norm_col'] = adata.obs.groupby(['leiden','pred_class'])['n_col'].mean()/n_cols\n",
      "/tmp/ipykernel_291422/3061493562.py:23: FutureWarning: The default of observed=False is deprecated and will be changed to True in a future version of pandas. Pass observed=False to retain current behavior or observed=True to adopt the future default and silence this warning.\n",
      "  df['norm_row'] = adata.obs.groupby(['leiden','pred_class'])['n_row'].mean()/n_rows\n",
      "/tmp/ipykernel_291422/3061493562.py:24: FutureWarning: The default of observed=False is deprecated and will be changed to True in a future version of pandas. Pass observed=False to retain current behavior or observed=True to adopt the future default and silence this warning.\n",
      "  df['dpt_pesudotime'] = adata.obs.groupby(['leiden','pred_class'])['dpt_pseudotime'].mean()\n",
      " 81%|████████  | 249/307 [07:17<01:55,  1.99s/it]"
     ]
    },
    {
     "name": "stdout",
     "output_type": "stream",
     "text": [
      "11342.svs_116cols_176rows.csv.h5ad speed :8465.68358933562\n",
      "11456.svs_197cols_186rows.csv.h5ad\n"
     ]
    },
    {
     "name": "stderr",
     "output_type": "stream",
     "text": [
      "/tmp/ipykernel_291422/3061493562.py:22: FutureWarning: The default of observed=False is deprecated and will be changed to True in a future version of pandas. Pass observed=False to retain current behavior or observed=True to adopt the future default and silence this warning.\n",
      "  df['norm_col'] = adata.obs.groupby(['leiden','pred_class'])['n_col'].mean()/n_cols\n",
      "/tmp/ipykernel_291422/3061493562.py:23: FutureWarning: The default of observed=False is deprecated and will be changed to True in a future version of pandas. Pass observed=False to retain current behavior or observed=True to adopt the future default and silence this warning.\n",
      "  df['norm_row'] = adata.obs.groupby(['leiden','pred_class'])['n_row'].mean()/n_rows\n",
      "/tmp/ipykernel_291422/3061493562.py:24: FutureWarning: The default of observed=False is deprecated and will be changed to True in a future version of pandas. Pass observed=False to retain current behavior or observed=True to adopt the future default and silence this warning.\n",
      "  df['dpt_pesudotime'] = adata.obs.groupby(['leiden','pred_class'])['dpt_pseudotime'].mean()\n",
      " 81%|████████▏ | 250/307 [07:19<01:44,  1.83s/it]"
     ]
    },
    {
     "name": "stdout",
     "output_type": "stream",
     "text": [
      "11456.svs_197cols_186rows.csv.h5ad speed :2069.1050642375585\n",
      "NLSI0000015.svs_135cols_77rows.csv.h5ad\n"
     ]
    },
    {
     "name": "stderr",
     "output_type": "stream",
     "text": [
      "/tmp/ipykernel_291422/3061493562.py:22: FutureWarning: The default of observed=False is deprecated and will be changed to True in a future version of pandas. Pass observed=False to retain current behavior or observed=True to adopt the future default and silence this warning.\n",
      "  df['norm_col'] = adata.obs.groupby(['leiden','pred_class'])['n_col'].mean()/n_cols\n",
      "/tmp/ipykernel_291422/3061493562.py:23: FutureWarning: The default of observed=False is deprecated and will be changed to True in a future version of pandas. Pass observed=False to retain current behavior or observed=True to adopt the future default and silence this warning.\n",
      "  df['norm_row'] = adata.obs.groupby(['leiden','pred_class'])['n_row'].mean()/n_rows\n",
      "/tmp/ipykernel_291422/3061493562.py:24: FutureWarning: The default of observed=False is deprecated and will be changed to True in a future version of pandas. Pass observed=False to retain current behavior or observed=True to adopt the future default and silence this warning.\n",
      "  df['dpt_pesudotime'] = adata.obs.groupby(['leiden','pred_class'])['dpt_pseudotime'].mean()\n",
      " 82%|████████▏ | 251/307 [07:19<01:24,  1.51s/it]"
     ]
    },
    {
     "name": "stdout",
     "output_type": "stream",
     "text": [
      "NLSI0000015.svs_135cols_77rows.csv.h5ad speed :1.7803470342699392\n",
      "11787.svs_349cols_203rows.csv.h5ad\n"
     ]
    },
    {
     "name": "stderr",
     "output_type": "stream",
     "text": [
      "/tmp/ipykernel_291422/3061493562.py:22: FutureWarning: The default of observed=False is deprecated and will be changed to True in a future version of pandas. Pass observed=False to retain current behavior or observed=True to adopt the future default and silence this warning.\n",
      "  df['norm_col'] = adata.obs.groupby(['leiden','pred_class'])['n_col'].mean()/n_cols\n",
      "/tmp/ipykernel_291422/3061493562.py:23: FutureWarning: The default of observed=False is deprecated and will be changed to True in a future version of pandas. Pass observed=False to retain current behavior or observed=True to adopt the future default and silence this warning.\n",
      "  df['norm_row'] = adata.obs.groupby(['leiden','pred_class'])['n_row'].mean()/n_rows\n",
      "/tmp/ipykernel_291422/3061493562.py:24: FutureWarning: The default of observed=False is deprecated and will be changed to True in a future version of pandas. Pass observed=False to retain current behavior or observed=True to adopt the future default and silence this warning.\n",
      "  df['dpt_pesudotime'] = adata.obs.groupby(['leiden','pred_class'])['dpt_pseudotime'].mean()\n",
      " 82%|████████▏ | 252/307 [07:21<01:30,  1.64s/it]"
     ]
    },
    {
     "name": "stdout",
     "output_type": "stream",
     "text": [
      "11787.svs_349cols_203rows.csv.h5ad speed :1899.718229082939\n",
      "10905.svs_277cols_206rows.csv.h5ad\n"
     ]
    },
    {
     "name": "stderr",
     "output_type": "stream",
     "text": [
      "/tmp/ipykernel_291422/3061493562.py:22: FutureWarning: The default of observed=False is deprecated and will be changed to True in a future version of pandas. Pass observed=False to retain current behavior or observed=True to adopt the future default and silence this warning.\n",
      "  df['norm_col'] = adata.obs.groupby(['leiden','pred_class'])['n_col'].mean()/n_cols\n",
      "/tmp/ipykernel_291422/3061493562.py:23: FutureWarning: The default of observed=False is deprecated and will be changed to True in a future version of pandas. Pass observed=False to retain current behavior or observed=True to adopt the future default and silence this warning.\n",
      "  df['norm_row'] = adata.obs.groupby(['leiden','pred_class'])['n_row'].mean()/n_rows\n",
      "/tmp/ipykernel_291422/3061493562.py:24: FutureWarning: The default of observed=False is deprecated and will be changed to True in a future version of pandas. Pass observed=False to retain current behavior or observed=True to adopt the future default and silence this warning.\n",
      "  df['dpt_pesudotime'] = adata.obs.groupby(['leiden','pred_class'])['dpt_pseudotime'].mean()\n",
      " 82%|████████▏ | 253/307 [07:23<01:33,  1.72s/it]"
     ]
    },
    {
     "name": "stdout",
     "output_type": "stream",
     "text": [
      "10905.svs_277cols_206rows.csv.h5ad speed :9225.21072319284\n",
      "11435.svs_298cols_210rows.csv.h5ad\n"
     ]
    },
    {
     "name": "stderr",
     "output_type": "stream",
     "text": [
      "/tmp/ipykernel_291422/3061493562.py:22: FutureWarning: The default of observed=False is deprecated and will be changed to True in a future version of pandas. Pass observed=False to retain current behavior or observed=True to adopt the future default and silence this warning.\n",
      "  df['norm_col'] = adata.obs.groupby(['leiden','pred_class'])['n_col'].mean()/n_cols\n",
      "/tmp/ipykernel_291422/3061493562.py:23: FutureWarning: The default of observed=False is deprecated and will be changed to True in a future version of pandas. Pass observed=False to retain current behavior or observed=True to adopt the future default and silence this warning.\n",
      "  df['norm_row'] = adata.obs.groupby(['leiden','pred_class'])['n_row'].mean()/n_rows\n",
      "/tmp/ipykernel_291422/3061493562.py:24: FutureWarning: The default of observed=False is deprecated and will be changed to True in a future version of pandas. Pass observed=False to retain current behavior or observed=True to adopt the future default and silence this warning.\n",
      "  df['dpt_pesudotime'] = adata.obs.groupby(['leiden','pred_class'])['dpt_pseudotime'].mean()\n",
      " 83%|████████▎ | 254/307 [07:26<01:45,  1.99s/it]"
     ]
    },
    {
     "name": "stdout",
     "output_type": "stream",
     "text": [
      "11435.svs_298cols_210rows.csv.h5ad speed :7826.922512493076\n",
      "10987.svs_197cols_160rows.csv.h5ad\n"
     ]
    },
    {
     "name": "stderr",
     "output_type": "stream",
     "text": [
      "/tmp/ipykernel_291422/3061493562.py:22: FutureWarning: The default of observed=False is deprecated and will be changed to True in a future version of pandas. Pass observed=False to retain current behavior or observed=True to adopt the future default and silence this warning.\n",
      "  df['norm_col'] = adata.obs.groupby(['leiden','pred_class'])['n_col'].mean()/n_cols\n",
      "/tmp/ipykernel_291422/3061493562.py:23: FutureWarning: The default of observed=False is deprecated and will be changed to True in a future version of pandas. Pass observed=False to retain current behavior or observed=True to adopt the future default and silence this warning.\n",
      "  df['norm_row'] = adata.obs.groupby(['leiden','pred_class'])['n_row'].mean()/n_rows\n",
      "/tmp/ipykernel_291422/3061493562.py:24: FutureWarning: The default of observed=False is deprecated and will be changed to True in a future version of pandas. Pass observed=False to retain current behavior or observed=True to adopt the future default and silence this warning.\n",
      "  df['dpt_pesudotime'] = adata.obs.groupby(['leiden','pred_class'])['dpt_pseudotime'].mean()\n",
      " 83%|████████▎ | 255/307 [07:27<01:32,  1.78s/it]"
     ]
    },
    {
     "name": "stdout",
     "output_type": "stream",
     "text": [
      "10987.svs_197cols_160rows.csv.h5ad speed :8054.241634946255\n",
      "11048.svs_286cols_210rows.csv.h5ad\n"
     ]
    },
    {
     "name": "stderr",
     "output_type": "stream",
     "text": [
      "/tmp/ipykernel_291422/3061493562.py:22: FutureWarning: The default of observed=False is deprecated and will be changed to True in a future version of pandas. Pass observed=False to retain current behavior or observed=True to adopt the future default and silence this warning.\n",
      "  df['norm_col'] = adata.obs.groupby(['leiden','pred_class'])['n_col'].mean()/n_cols\n",
      "/tmp/ipykernel_291422/3061493562.py:23: FutureWarning: The default of observed=False is deprecated and will be changed to True in a future version of pandas. Pass observed=False to retain current behavior or observed=True to adopt the future default and silence this warning.\n",
      "  df['norm_row'] = adata.obs.groupby(['leiden','pred_class'])['n_row'].mean()/n_rows\n",
      "/tmp/ipykernel_291422/3061493562.py:24: FutureWarning: The default of observed=False is deprecated and will be changed to True in a future version of pandas. Pass observed=False to retain current behavior or observed=True to adopt the future default and silence this warning.\n",
      "  df['dpt_pesudotime'] = adata.obs.groupby(['leiden','pred_class'])['dpt_pseudotime'].mean()\n",
      " 83%|████████▎ | 256/307 [07:30<01:56,  2.28s/it]"
     ]
    },
    {
     "name": "stdout",
     "output_type": "stream",
     "text": [
      "11048.svs_286cols_210rows.csv.h5ad speed :36174.95616218862\n",
      "11112.svs_169cols_164rows.csv.h5ad\n"
     ]
    },
    {
     "name": "stderr",
     "output_type": "stream",
     "text": [
      "/tmp/ipykernel_291422/3061493562.py:22: FutureWarning: The default of observed=False is deprecated and will be changed to True in a future version of pandas. Pass observed=False to retain current behavior or observed=True to adopt the future default and silence this warning.\n",
      "  df['norm_col'] = adata.obs.groupby(['leiden','pred_class'])['n_col'].mean()/n_cols\n",
      "/tmp/ipykernel_291422/3061493562.py:23: FutureWarning: The default of observed=False is deprecated and will be changed to True in a future version of pandas. Pass observed=False to retain current behavior or observed=True to adopt the future default and silence this warning.\n",
      "  df['norm_row'] = adata.obs.groupby(['leiden','pred_class'])['n_row'].mean()/n_rows\n",
      "/tmp/ipykernel_291422/3061493562.py:24: FutureWarning: The default of observed=False is deprecated and will be changed to True in a future version of pandas. Pass observed=False to retain current behavior or observed=True to adopt the future default and silence this warning.\n",
      "  df['dpt_pesudotime'] = adata.obs.groupby(['leiden','pred_class'])['dpt_pseudotime'].mean()\n",
      " 84%|████████▎ | 257/307 [07:33<01:49,  2.20s/it]"
     ]
    },
    {
     "name": "stdout",
     "output_type": "stream",
     "text": [
      "11112.svs_169cols_164rows.csv.h5ad speed :1927.7890800790879\n",
      "11234.svs_277cols_193rows.csv.h5ad\n"
     ]
    },
    {
     "name": "stderr",
     "output_type": "stream",
     "text": [
      "/tmp/ipykernel_291422/3061493562.py:22: FutureWarning: The default of observed=False is deprecated and will be changed to True in a future version of pandas. Pass observed=False to retain current behavior or observed=True to adopt the future default and silence this warning.\n",
      "  df['norm_col'] = adata.obs.groupby(['leiden','pred_class'])['n_col'].mean()/n_cols\n",
      "/tmp/ipykernel_291422/3061493562.py:23: FutureWarning: The default of observed=False is deprecated and will be changed to True in a future version of pandas. Pass observed=False to retain current behavior or observed=True to adopt the future default and silence this warning.\n",
      "  df['norm_row'] = adata.obs.groupby(['leiden','pred_class'])['n_row'].mean()/n_rows\n",
      "/tmp/ipykernel_291422/3061493562.py:24: FutureWarning: The default of observed=False is deprecated and will be changed to True in a future version of pandas. Pass observed=False to retain current behavior or observed=True to adopt the future default and silence this warning.\n",
      "  df['dpt_pesudotime'] = adata.obs.groupby(['leiden','pred_class'])['dpt_pseudotime'].mean()\n",
      " 84%|████████▍ | 258/307 [07:34<01:42,  2.09s/it]"
     ]
    },
    {
     "name": "stdout",
     "output_type": "stream",
     "text": [
      "11234.svs_277cols_193rows.csv.h5ad speed :15922.622086635269\n",
      "9972.svs_200cols_109rows.csv.h5ad\n"
     ]
    },
    {
     "name": "stderr",
     "output_type": "stream",
     "text": [
      "/tmp/ipykernel_291422/3061493562.py:22: FutureWarning: The default of observed=False is deprecated and will be changed to True in a future version of pandas. Pass observed=False to retain current behavior or observed=True to adopt the future default and silence this warning.\n",
      "  df['norm_col'] = adata.obs.groupby(['leiden','pred_class'])['n_col'].mean()/n_cols\n",
      "/tmp/ipykernel_291422/3061493562.py:23: FutureWarning: The default of observed=False is deprecated and will be changed to True in a future version of pandas. Pass observed=False to retain current behavior or observed=True to adopt the future default and silence this warning.\n",
      "  df['norm_row'] = adata.obs.groupby(['leiden','pred_class'])['n_row'].mean()/n_rows\n",
      "/tmp/ipykernel_291422/3061493562.py:24: FutureWarning: The default of observed=False is deprecated and will be changed to True in a future version of pandas. Pass observed=False to retain current behavior or observed=True to adopt the future default and silence this warning.\n",
      "  df['dpt_pesudotime'] = adata.obs.groupby(['leiden','pred_class'])['dpt_pseudotime'].mean()\n",
      " 84%|████████▍ | 259/307 [07:36<01:35,  1.99s/it]"
     ]
    },
    {
     "name": "stdout",
     "output_type": "stream",
     "text": [
      "9972.svs_200cols_109rows.csv.h5ad speed :20878.393051269577\n",
      "10505.svs_281cols_175rows.csv.h5ad\n"
     ]
    },
    {
     "name": "stderr",
     "output_type": "stream",
     "text": [
      "/tmp/ipykernel_291422/3061493562.py:22: FutureWarning: The default of observed=False is deprecated and will be changed to True in a future version of pandas. Pass observed=False to retain current behavior or observed=True to adopt the future default and silence this warning.\n",
      "  df['norm_col'] = adata.obs.groupby(['leiden','pred_class'])['n_col'].mean()/n_cols\n",
      "/tmp/ipykernel_291422/3061493562.py:23: FutureWarning: The default of observed=False is deprecated and will be changed to True in a future version of pandas. Pass observed=False to retain current behavior or observed=True to adopt the future default and silence this warning.\n",
      "  df['norm_row'] = adata.obs.groupby(['leiden','pred_class'])['n_row'].mean()/n_rows\n",
      "/tmp/ipykernel_291422/3061493562.py:24: FutureWarning: The default of observed=False is deprecated and will be changed to True in a future version of pandas. Pass observed=False to retain current behavior or observed=True to adopt the future default and silence this warning.\n",
      "  df['dpt_pesudotime'] = adata.obs.groupby(['leiden','pred_class'])['dpt_pseudotime'].mean()\n",
      " 85%|████████▍ | 260/307 [07:38<01:30,  1.92s/it]"
     ]
    },
    {
     "name": "stdout",
     "output_type": "stream",
     "text": [
      "10505.svs_281cols_175rows.csv.h5ad speed :12619.588381432484\n",
      "NLSI0000107.svs_100cols_81rows.csv.h5ad\n"
     ]
    },
    {
     "name": "stderr",
     "output_type": "stream",
     "text": [
      "/tmp/ipykernel_291422/3061493562.py:22: FutureWarning: The default of observed=False is deprecated and will be changed to True in a future version of pandas. Pass observed=False to retain current behavior or observed=True to adopt the future default and silence this warning.\n",
      "  df['norm_col'] = adata.obs.groupby(['leiden','pred_class'])['n_col'].mean()/n_cols\n",
      "/tmp/ipykernel_291422/3061493562.py:23: FutureWarning: The default of observed=False is deprecated and will be changed to True in a future version of pandas. Pass observed=False to retain current behavior or observed=True to adopt the future default and silence this warning.\n",
      "  df['norm_row'] = adata.obs.groupby(['leiden','pred_class'])['n_row'].mean()/n_rows\n",
      "/tmp/ipykernel_291422/3061493562.py:24: FutureWarning: The default of observed=False is deprecated and will be changed to True in a future version of pandas. Pass observed=False to retain current behavior or observed=True to adopt the future default and silence this warning.\n",
      "  df['dpt_pesudotime'] = adata.obs.groupby(['leiden','pred_class'])['dpt_pseudotime'].mean()\n",
      " 85%|████████▌ | 261/307 [07:39<01:11,  1.56s/it]"
     ]
    },
    {
     "name": "stdout",
     "output_type": "stream",
     "text": [
      "NLSI0000107.svs_100cols_81rows.csv.h5ad speed :44004.99977814848\n",
      "NLSI0000075.svs_105cols_97rows.csv.h5ad\n"
     ]
    },
    {
     "name": "stderr",
     "output_type": "stream",
     "text": [
      "/tmp/ipykernel_291422/3061493562.py:22: FutureWarning: The default of observed=False is deprecated and will be changed to True in a future version of pandas. Pass observed=False to retain current behavior or observed=True to adopt the future default and silence this warning.\n",
      "  df['norm_col'] = adata.obs.groupby(['leiden','pred_class'])['n_col'].mean()/n_cols\n",
      "/tmp/ipykernel_291422/3061493562.py:23: FutureWarning: The default of observed=False is deprecated and will be changed to True in a future version of pandas. Pass observed=False to retain current behavior or observed=True to adopt the future default and silence this warning.\n",
      "  df['norm_row'] = adata.obs.groupby(['leiden','pred_class'])['n_row'].mean()/n_rows\n",
      "/tmp/ipykernel_291422/3061493562.py:24: FutureWarning: The default of observed=False is deprecated and will be changed to True in a future version of pandas. Pass observed=False to retain current behavior or observed=True to adopt the future default and silence this warning.\n",
      "  df['dpt_pesudotime'] = adata.obs.groupby(['leiden','pred_class'])['dpt_pseudotime'].mean()\n",
      " 85%|████████▌ | 262/307 [07:39<00:59,  1.32s/it]"
     ]
    },
    {
     "name": "stdout",
     "output_type": "stream",
     "text": [
      "NLSI0000075.svs_105cols_97rows.csv.h5ad speed :14454.820141658769\n",
      "10400.svs_248cols_159rows.csv.h5ad\n"
     ]
    },
    {
     "name": "stderr",
     "output_type": "stream",
     "text": [
      "/tmp/ipykernel_291422/3061493562.py:22: FutureWarning: The default of observed=False is deprecated and will be changed to True in a future version of pandas. Pass observed=False to retain current behavior or observed=True to adopt the future default and silence this warning.\n",
      "  df['norm_col'] = adata.obs.groupby(['leiden','pred_class'])['n_col'].mean()/n_cols\n",
      "/tmp/ipykernel_291422/3061493562.py:23: FutureWarning: The default of observed=False is deprecated and will be changed to True in a future version of pandas. Pass observed=False to retain current behavior or observed=True to adopt the future default and silence this warning.\n",
      "  df['norm_row'] = adata.obs.groupby(['leiden','pred_class'])['n_row'].mean()/n_rows\n",
      "/tmp/ipykernel_291422/3061493562.py:24: FutureWarning: The default of observed=False is deprecated and will be changed to True in a future version of pandas. Pass observed=False to retain current behavior or observed=True to adopt the future default and silence this warning.\n",
      "  df['dpt_pesudotime'] = adata.obs.groupby(['leiden','pred_class'])['dpt_pseudotime'].mean()\n",
      " 86%|████████▌ | 263/307 [07:41<01:07,  1.54s/it]"
     ]
    },
    {
     "name": "stdout",
     "output_type": "stream",
     "text": [
      "10400.svs_248cols_159rows.csv.h5ad speed :25914.07860417054\n",
      "10128.svs_178cols_57rows.csv.h5ad\n"
     ]
    },
    {
     "name": "stderr",
     "output_type": "stream",
     "text": [
      "/tmp/ipykernel_291422/3061493562.py:22: FutureWarning: The default of observed=False is deprecated and will be changed to True in a future version of pandas. Pass observed=False to retain current behavior or observed=True to adopt the future default and silence this warning.\n",
      "  df['norm_col'] = adata.obs.groupby(['leiden','pred_class'])['n_col'].mean()/n_cols\n",
      "/tmp/ipykernel_291422/3061493562.py:23: FutureWarning: The default of observed=False is deprecated and will be changed to True in a future version of pandas. Pass observed=False to retain current behavior or observed=True to adopt the future default and silence this warning.\n",
      "  df['norm_row'] = adata.obs.groupby(['leiden','pred_class'])['n_row'].mean()/n_rows\n",
      "/tmp/ipykernel_291422/3061493562.py:24: FutureWarning: The default of observed=False is deprecated and will be changed to True in a future version of pandas. Pass observed=False to retain current behavior or observed=True to adopt the future default and silence this warning.\n",
      "  df['dpt_pesudotime'] = adata.obs.groupby(['leiden','pred_class'])['dpt_pseudotime'].mean()\n",
      " 86%|████████▌ | 264/307 [07:42<00:54,  1.26s/it]"
     ]
    },
    {
     "name": "stdout",
     "output_type": "stream",
     "text": [
      "10128.svs_178cols_57rows.csv.h5ad speed :11216.017742494952\n",
      "NLSI0000110.svs_145cols_95rows.csv.h5ad\n"
     ]
    },
    {
     "name": "stderr",
     "output_type": "stream",
     "text": [
      "/tmp/ipykernel_291422/3061493562.py:22: FutureWarning: The default of observed=False is deprecated and will be changed to True in a future version of pandas. Pass observed=False to retain current behavior or observed=True to adopt the future default and silence this warning.\n",
      "  df['norm_col'] = adata.obs.groupby(['leiden','pred_class'])['n_col'].mean()/n_cols\n",
      "/tmp/ipykernel_291422/3061493562.py:23: FutureWarning: The default of observed=False is deprecated and will be changed to True in a future version of pandas. Pass observed=False to retain current behavior or observed=True to adopt the future default and silence this warning.\n",
      "  df['norm_row'] = adata.obs.groupby(['leiden','pred_class'])['n_row'].mean()/n_rows\n",
      "/tmp/ipykernel_291422/3061493562.py:24: FutureWarning: The default of observed=False is deprecated and will be changed to True in a future version of pandas. Pass observed=False to retain current behavior or observed=True to adopt the future default and silence this warning.\n",
      "  df['dpt_pesudotime'] = adata.obs.groupby(['leiden','pred_class'])['dpt_pseudotime'].mean()\n",
      " 86%|████████▋ | 265/307 [07:43<00:52,  1.26s/it]"
     ]
    },
    {
     "name": "stdout",
     "output_type": "stream",
     "text": [
      "NLSI0000110.svs_145cols_95rows.csv.h5ad speed :6235.526116217494\n",
      "10046.svs_257cols_214rows.csv.h5ad\n"
     ]
    },
    {
     "name": "stderr",
     "output_type": "stream",
     "text": [
      "/tmp/ipykernel_291422/3061493562.py:22: FutureWarning: The default of observed=False is deprecated and will be changed to True in a future version of pandas. Pass observed=False to retain current behavior or observed=True to adopt the future default and silence this warning.\n",
      "  df['norm_col'] = adata.obs.groupby(['leiden','pred_class'])['n_col'].mean()/n_cols\n",
      "/tmp/ipykernel_291422/3061493562.py:23: FutureWarning: The default of observed=False is deprecated and will be changed to True in a future version of pandas. Pass observed=False to retain current behavior or observed=True to adopt the future default and silence this warning.\n",
      "  df['norm_row'] = adata.obs.groupby(['leiden','pred_class'])['n_row'].mean()/n_rows\n",
      "/tmp/ipykernel_291422/3061493562.py:24: FutureWarning: The default of observed=False is deprecated and will be changed to True in a future version of pandas. Pass observed=False to retain current behavior or observed=True to adopt the future default and silence this warning.\n",
      "  df['dpt_pesudotime'] = adata.obs.groupby(['leiden','pred_class'])['dpt_pseudotime'].mean()\n",
      " 87%|████████▋ | 266/307 [07:45<01:00,  1.47s/it]"
     ]
    },
    {
     "name": "stdout",
     "output_type": "stream",
     "text": [
      "10046.svs_257cols_214rows.csv.h5ad speed :7366.729888879474\n",
      "10485.svs_238cols_171rows.csv.h5ad\n"
     ]
    },
    {
     "name": "stderr",
     "output_type": "stream",
     "text": [
      "/tmp/ipykernel_291422/3061493562.py:22: FutureWarning: The default of observed=False is deprecated and will be changed to True in a future version of pandas. Pass observed=False to retain current behavior or observed=True to adopt the future default and silence this warning.\n",
      "  df['norm_col'] = adata.obs.groupby(['leiden','pred_class'])['n_col'].mean()/n_cols\n",
      "/tmp/ipykernel_291422/3061493562.py:23: FutureWarning: The default of observed=False is deprecated and will be changed to True in a future version of pandas. Pass observed=False to retain current behavior or observed=True to adopt the future default and silence this warning.\n",
      "  df['norm_row'] = adata.obs.groupby(['leiden','pred_class'])['n_row'].mean()/n_rows\n",
      "/tmp/ipykernel_291422/3061493562.py:24: FutureWarning: The default of observed=False is deprecated and will be changed to True in a future version of pandas. Pass observed=False to retain current behavior or observed=True to adopt the future default and silence this warning.\n",
      "  df['dpt_pesudotime'] = adata.obs.groupby(['leiden','pred_class'])['dpt_pseudotime'].mean()\n",
      " 87%|████████▋ | 267/307 [07:47<01:01,  1.53s/it]"
     ]
    },
    {
     "name": "stdout",
     "output_type": "stream",
     "text": [
      "10485.svs_238cols_171rows.csv.h5ad speed :16753.650101052528\n",
      "9532.svs_358cols_215rows.csv.h5ad\n"
     ]
    },
    {
     "name": "stderr",
     "output_type": "stream",
     "text": [
      "/tmp/ipykernel_291422/3061493562.py:22: FutureWarning: The default of observed=False is deprecated and will be changed to True in a future version of pandas. Pass observed=False to retain current behavior or observed=True to adopt the future default and silence this warning.\n",
      "  df['norm_col'] = adata.obs.groupby(['leiden','pred_class'])['n_col'].mean()/n_cols\n",
      "/tmp/ipykernel_291422/3061493562.py:23: FutureWarning: The default of observed=False is deprecated and will be changed to True in a future version of pandas. Pass observed=False to retain current behavior or observed=True to adopt the future default and silence this warning.\n",
      "  df['norm_row'] = adata.obs.groupby(['leiden','pred_class'])['n_row'].mean()/n_rows\n",
      "/tmp/ipykernel_291422/3061493562.py:24: FutureWarning: The default of observed=False is deprecated and will be changed to True in a future version of pandas. Pass observed=False to retain current behavior or observed=True to adopt the future default and silence this warning.\n",
      "  df['dpt_pesudotime'] = adata.obs.groupby(['leiden','pred_class'])['dpt_pseudotime'].mean()\n",
      " 87%|████████▋ | 268/307 [07:50<01:18,  2.01s/it]"
     ]
    },
    {
     "name": "stdout",
     "output_type": "stream",
     "text": [
      "9532.svs_358cols_215rows.csv.h5ad speed :16462.530782060225\n",
      "10938.svs_260cols_177rows.csv.h5ad\n"
     ]
    },
    {
     "name": "stderr",
     "output_type": "stream",
     "text": [
      "/tmp/ipykernel_291422/3061493562.py:22: FutureWarning: The default of observed=False is deprecated and will be changed to True in a future version of pandas. Pass observed=False to retain current behavior or observed=True to adopt the future default and silence this warning.\n",
      "  df['norm_col'] = adata.obs.groupby(['leiden','pred_class'])['n_col'].mean()/n_cols\n",
      "/tmp/ipykernel_291422/3061493562.py:23: FutureWarning: The default of observed=False is deprecated and will be changed to True in a future version of pandas. Pass observed=False to retain current behavior or observed=True to adopt the future default and silence this warning.\n",
      "  df['norm_row'] = adata.obs.groupby(['leiden','pred_class'])['n_row'].mean()/n_rows\n",
      "/tmp/ipykernel_291422/3061493562.py:24: FutureWarning: The default of observed=False is deprecated and will be changed to True in a future version of pandas. Pass observed=False to retain current behavior or observed=True to adopt the future default and silence this warning.\n",
      "  df['dpt_pesudotime'] = adata.obs.groupby(['leiden','pred_class'])['dpt_pseudotime'].mean()\n",
      " 88%|████████▊ | 269/307 [07:51<01:10,  1.84s/it]"
     ]
    },
    {
     "name": "stdout",
     "output_type": "stream",
     "text": [
      "10938.svs_260cols_177rows.csv.h5ad speed :6242.706746354536\n",
      "NLSI0000069.svs_155cols_115rows.csv.h5ad\n"
     ]
    },
    {
     "name": "stderr",
     "output_type": "stream",
     "text": [
      "/tmp/ipykernel_291422/3061493562.py:22: FutureWarning: The default of observed=False is deprecated and will be changed to True in a future version of pandas. Pass observed=False to retain current behavior or observed=True to adopt the future default and silence this warning.\n",
      "  df['norm_col'] = adata.obs.groupby(['leiden','pred_class'])['n_col'].mean()/n_cols\n",
      "/tmp/ipykernel_291422/3061493562.py:23: FutureWarning: The default of observed=False is deprecated and will be changed to True in a future version of pandas. Pass observed=False to retain current behavior or observed=True to adopt the future default and silence this warning.\n",
      "  df['norm_row'] = adata.obs.groupby(['leiden','pred_class'])['n_row'].mean()/n_rows\n",
      "/tmp/ipykernel_291422/3061493562.py:24: FutureWarning: The default of observed=False is deprecated and will be changed to True in a future version of pandas. Pass observed=False to retain current behavior or observed=True to adopt the future default and silence this warning.\n",
      "  df['dpt_pesudotime'] = adata.obs.groupby(['leiden','pred_class'])['dpt_pseudotime'].mean()\n",
      " 88%|████████▊ | 270/307 [07:53<01:07,  1.83s/it]"
     ]
    },
    {
     "name": "stdout",
     "output_type": "stream",
     "text": [
      "NLSI0000069.svs_155cols_115rows.csv.h5ad speed :150967.56946324898\n",
      "9463.svs_260cols_180rows.csv.h5ad\n"
     ]
    },
    {
     "name": "stderr",
     "output_type": "stream",
     "text": [
      "/tmp/ipykernel_291422/3061493562.py:22: FutureWarning: The default of observed=False is deprecated and will be changed to True in a future version of pandas. Pass observed=False to retain current behavior or observed=True to adopt the future default and silence this warning.\n",
      "  df['norm_col'] = adata.obs.groupby(['leiden','pred_class'])['n_col'].mean()/n_cols\n",
      "/tmp/ipykernel_291422/3061493562.py:23: FutureWarning: The default of observed=False is deprecated and will be changed to True in a future version of pandas. Pass observed=False to retain current behavior or observed=True to adopt the future default and silence this warning.\n",
      "  df['norm_row'] = adata.obs.groupby(['leiden','pred_class'])['n_row'].mean()/n_rows\n",
      "/tmp/ipykernel_291422/3061493562.py:24: FutureWarning: The default of observed=False is deprecated and will be changed to True in a future version of pandas. Pass observed=False to retain current behavior or observed=True to adopt the future default and silence this warning.\n",
      "  df['dpt_pesudotime'] = adata.obs.groupby(['leiden','pred_class'])['dpt_pseudotime'].mean()\n",
      " 88%|████████▊ | 271/307 [07:55<01:03,  1.76s/it]"
     ]
    },
    {
     "name": "stdout",
     "output_type": "stream",
     "text": [
      "9463.svs_260cols_180rows.csv.h5ad speed :3995.8490356465854\n",
      "11003.svs_267cols_184rows.csv.h5ad\n"
     ]
    },
    {
     "name": "stderr",
     "output_type": "stream",
     "text": [
      "/tmp/ipykernel_291422/3061493562.py:22: FutureWarning: The default of observed=False is deprecated and will be changed to True in a future version of pandas. Pass observed=False to retain current behavior or observed=True to adopt the future default and silence this warning.\n",
      "  df['norm_col'] = adata.obs.groupby(['leiden','pred_class'])['n_col'].mean()/n_cols\n",
      "/tmp/ipykernel_291422/3061493562.py:23: FutureWarning: The default of observed=False is deprecated and will be changed to True in a future version of pandas. Pass observed=False to retain current behavior or observed=True to adopt the future default and silence this warning.\n",
      "  df['norm_row'] = adata.obs.groupby(['leiden','pred_class'])['n_row'].mean()/n_rows\n",
      "/tmp/ipykernel_291422/3061493562.py:24: FutureWarning: The default of observed=False is deprecated and will be changed to True in a future version of pandas. Pass observed=False to retain current behavior or observed=True to adopt the future default and silence this warning.\n",
      "  df['dpt_pesudotime'] = adata.obs.groupby(['leiden','pred_class'])['dpt_pseudotime'].mean()\n",
      " 89%|████████▊ | 272/307 [07:57<01:05,  1.86s/it]"
     ]
    },
    {
     "name": "stdout",
     "output_type": "stream",
     "text": [
      "11003.svs_267cols_184rows.csv.h5ad speed :7258.007258367784\n",
      "9777.svs_272cols_215rows.csv.h5ad\n"
     ]
    },
    {
     "name": "stderr",
     "output_type": "stream",
     "text": [
      "/tmp/ipykernel_291422/3061493562.py:22: FutureWarning: The default of observed=False is deprecated and will be changed to True in a future version of pandas. Pass observed=False to retain current behavior or observed=True to adopt the future default and silence this warning.\n",
      "  df['norm_col'] = adata.obs.groupby(['leiden','pred_class'])['n_col'].mean()/n_cols\n",
      "/tmp/ipykernel_291422/3061493562.py:23: FutureWarning: The default of observed=False is deprecated and will be changed to True in a future version of pandas. Pass observed=False to retain current behavior or observed=True to adopt the future default and silence this warning.\n",
      "  df['norm_row'] = adata.obs.groupby(['leiden','pred_class'])['n_row'].mean()/n_rows\n",
      "/tmp/ipykernel_291422/3061493562.py:24: FutureWarning: The default of observed=False is deprecated and will be changed to True in a future version of pandas. Pass observed=False to retain current behavior or observed=True to adopt the future default and silence this warning.\n",
      "  df['dpt_pesudotime'] = adata.obs.groupby(['leiden','pred_class'])['dpt_pseudotime'].mean()\n",
      " 89%|████████▉ | 273/307 [08:00<01:12,  2.15s/it]"
     ]
    },
    {
     "name": "stdout",
     "output_type": "stream",
     "text": [
      "9777.svs_272cols_215rows.csv.h5ad speed :42755.51600603422\n",
      "10514.svs_217cols_196rows.csv.h5ad\n"
     ]
    },
    {
     "name": "stderr",
     "output_type": "stream",
     "text": [
      "/tmp/ipykernel_291422/3061493562.py:22: FutureWarning: The default of observed=False is deprecated and will be changed to True in a future version of pandas. Pass observed=False to retain current behavior or observed=True to adopt the future default and silence this warning.\n",
      "  df['norm_col'] = adata.obs.groupby(['leiden','pred_class'])['n_col'].mean()/n_cols\n",
      "/tmp/ipykernel_291422/3061493562.py:23: FutureWarning: The default of observed=False is deprecated and will be changed to True in a future version of pandas. Pass observed=False to retain current behavior or observed=True to adopt the future default and silence this warning.\n",
      "  df['norm_row'] = adata.obs.groupby(['leiden','pred_class'])['n_row'].mean()/n_rows\n",
      "/tmp/ipykernel_291422/3061493562.py:24: FutureWarning: The default of observed=False is deprecated and will be changed to True in a future version of pandas. Pass observed=False to retain current behavior or observed=True to adopt the future default and silence this warning.\n",
      "  df['dpt_pesudotime'] = adata.obs.groupby(['leiden','pred_class'])['dpt_pseudotime'].mean()\n",
      " 89%|████████▉ | 274/307 [08:01<01:05,  1.98s/it]"
     ]
    },
    {
     "name": "stdout",
     "output_type": "stream",
     "text": [
      "10514.svs_217cols_196rows.csv.h5ad speed :8901.654089912166\n",
      "11188.svs_310cols_210rows.csv.h5ad\n"
     ]
    },
    {
     "name": "stderr",
     "output_type": "stream",
     "text": [
      "/tmp/ipykernel_291422/3061493562.py:22: FutureWarning: The default of observed=False is deprecated and will be changed to True in a future version of pandas. Pass observed=False to retain current behavior or observed=True to adopt the future default and silence this warning.\n",
      "  df['norm_col'] = adata.obs.groupby(['leiden','pred_class'])['n_col'].mean()/n_cols\n",
      "/tmp/ipykernel_291422/3061493562.py:23: FutureWarning: The default of observed=False is deprecated and will be changed to True in a future version of pandas. Pass observed=False to retain current behavior or observed=True to adopt the future default and silence this warning.\n",
      "  df['norm_row'] = adata.obs.groupby(['leiden','pred_class'])['n_row'].mean()/n_rows\n",
      "/tmp/ipykernel_291422/3061493562.py:24: FutureWarning: The default of observed=False is deprecated and will be changed to True in a future version of pandas. Pass observed=False to retain current behavior or observed=True to adopt the future default and silence this warning.\n",
      "  df['dpt_pesudotime'] = adata.obs.groupby(['leiden','pred_class'])['dpt_pseudotime'].mean()\n",
      " 90%|████████▉ | 275/307 [08:04<01:10,  2.21s/it]"
     ]
    },
    {
     "name": "stdout",
     "output_type": "stream",
     "text": [
      "11188.svs_310cols_210rows.csv.h5ad speed :16896.725393215685\n",
      "NLSI0000290.svs_130cols_96rows.csv.h5ad\n"
     ]
    },
    {
     "name": "stderr",
     "output_type": "stream",
     "text": [
      "/tmp/ipykernel_291422/3061493562.py:22: FutureWarning: The default of observed=False is deprecated and will be changed to True in a future version of pandas. Pass observed=False to retain current behavior or observed=True to adopt the future default and silence this warning.\n",
      "  df['norm_col'] = adata.obs.groupby(['leiden','pred_class'])['n_col'].mean()/n_cols\n",
      "/tmp/ipykernel_291422/3061493562.py:23: FutureWarning: The default of observed=False is deprecated and will be changed to True in a future version of pandas. Pass observed=False to retain current behavior or observed=True to adopt the future default and silence this warning.\n",
      "  df['norm_row'] = adata.obs.groupby(['leiden','pred_class'])['n_row'].mean()/n_rows\n",
      "/tmp/ipykernel_291422/3061493562.py:24: FutureWarning: The default of observed=False is deprecated and will be changed to True in a future version of pandas. Pass observed=False to retain current behavior or observed=True to adopt the future default and silence this warning.\n",
      "  df['dpt_pesudotime'] = adata.obs.groupby(['leiden','pred_class'])['dpt_pseudotime'].mean()\n",
      " 90%|████████▉ | 276/307 [08:06<01:01,  1.98s/it]"
     ]
    },
    {
     "name": "stdout",
     "output_type": "stream",
     "text": [
      "NLSI0000290.svs_130cols_96rows.csv.h5ad speed :20303.117770931956\n",
      "9529.svs_265cols_205rows.csv.h5ad\n"
     ]
    },
    {
     "name": "stderr",
     "output_type": "stream",
     "text": [
      "/tmp/ipykernel_291422/3061493562.py:22: FutureWarning: The default of observed=False is deprecated and will be changed to True in a future version of pandas. Pass observed=False to retain current behavior or observed=True to adopt the future default and silence this warning.\n",
      "  df['norm_col'] = adata.obs.groupby(['leiden','pred_class'])['n_col'].mean()/n_cols\n",
      "/tmp/ipykernel_291422/3061493562.py:23: FutureWarning: The default of observed=False is deprecated and will be changed to True in a future version of pandas. Pass observed=False to retain current behavior or observed=True to adopt the future default and silence this warning.\n",
      "  df['norm_row'] = adata.obs.groupby(['leiden','pred_class'])['n_row'].mean()/n_rows\n",
      "/tmp/ipykernel_291422/3061493562.py:24: FutureWarning: The default of observed=False is deprecated and will be changed to True in a future version of pandas. Pass observed=False to retain current behavior or observed=True to adopt the future default and silence this warning.\n",
      "  df['dpt_pesudotime'] = adata.obs.groupby(['leiden','pred_class'])['dpt_pseudotime'].mean()\n",
      " 90%|█████████ | 277/307 [08:07<00:58,  1.93s/it]"
     ]
    },
    {
     "name": "stdout",
     "output_type": "stream",
     "text": [
      "9529.svs_265cols_205rows.csv.h5ad speed :10982.111520123524\n",
      "NLSI0000161.svs_145cols_87rows.csv.h5ad\n"
     ]
    },
    {
     "name": "stderr",
     "output_type": "stream",
     "text": [
      "/tmp/ipykernel_291422/3061493562.py:22: FutureWarning: The default of observed=False is deprecated and will be changed to True in a future version of pandas. Pass observed=False to retain current behavior or observed=True to adopt the future default and silence this warning.\n",
      "  df['norm_col'] = adata.obs.groupby(['leiden','pred_class'])['n_col'].mean()/n_cols\n",
      "/tmp/ipykernel_291422/3061493562.py:23: FutureWarning: The default of observed=False is deprecated and will be changed to True in a future version of pandas. Pass observed=False to retain current behavior or observed=True to adopt the future default and silence this warning.\n",
      "  df['norm_row'] = adata.obs.groupby(['leiden','pred_class'])['n_row'].mean()/n_rows\n",
      "/tmp/ipykernel_291422/3061493562.py:24: FutureWarning: The default of observed=False is deprecated and will be changed to True in a future version of pandas. Pass observed=False to retain current behavior or observed=True to adopt the future default and silence this warning.\n",
      "  df['dpt_pesudotime'] = adata.obs.groupby(['leiden','pred_class'])['dpt_pseudotime'].mean()\n",
      " 91%|█████████ | 278/307 [08:09<00:49,  1.72s/it]"
     ]
    },
    {
     "name": "stdout",
     "output_type": "stream",
     "text": [
      "NLSI0000161.svs_145cols_87rows.csv.h5ad speed :4791.530553112842\n",
      "10904.svs_269cols_209rows.csv.h5ad\n"
     ]
    },
    {
     "name": "stderr",
     "output_type": "stream",
     "text": [
      "/tmp/ipykernel_291422/3061493562.py:22: FutureWarning: The default of observed=False is deprecated and will be changed to True in a future version of pandas. Pass observed=False to retain current behavior or observed=True to adopt the future default and silence this warning.\n",
      "  df['norm_col'] = adata.obs.groupby(['leiden','pred_class'])['n_col'].mean()/n_cols\n",
      "/tmp/ipykernel_291422/3061493562.py:23: FutureWarning: The default of observed=False is deprecated and will be changed to True in a future version of pandas. Pass observed=False to retain current behavior or observed=True to adopt the future default and silence this warning.\n",
      "  df['norm_row'] = adata.obs.groupby(['leiden','pred_class'])['n_row'].mean()/n_rows\n",
      "/tmp/ipykernel_291422/3061493562.py:24: FutureWarning: The default of observed=False is deprecated and will be changed to True in a future version of pandas. Pass observed=False to retain current behavior or observed=True to adopt the future default and silence this warning.\n",
      "  df['dpt_pesudotime'] = adata.obs.groupby(['leiden','pred_class'])['dpt_pseudotime'].mean()\n",
      " 91%|█████████ | 279/307 [08:11<00:50,  1.79s/it]"
     ]
    },
    {
     "name": "stdout",
     "output_type": "stream",
     "text": [
      "10904.svs_269cols_209rows.csv.h5ad speed :3761.500029264584\n",
      "9461.svs_147cols_77rows.csv.h5ad\n"
     ]
    },
    {
     "name": "stderr",
     "output_type": "stream",
     "text": [
      "/tmp/ipykernel_291422/3061493562.py:22: FutureWarning: The default of observed=False is deprecated and will be changed to True in a future version of pandas. Pass observed=False to retain current behavior or observed=True to adopt the future default and silence this warning.\n",
      "  df['norm_col'] = adata.obs.groupby(['leiden','pred_class'])['n_col'].mean()/n_cols\n",
      "/tmp/ipykernel_291422/3061493562.py:23: FutureWarning: The default of observed=False is deprecated and will be changed to True in a future version of pandas. Pass observed=False to retain current behavior or observed=True to adopt the future default and silence this warning.\n",
      "  df['norm_row'] = adata.obs.groupby(['leiden','pred_class'])['n_row'].mean()/n_rows\n",
      "/tmp/ipykernel_291422/3061493562.py:24: FutureWarning: The default of observed=False is deprecated and will be changed to True in a future version of pandas. Pass observed=False to retain current behavior or observed=True to adopt the future default and silence this warning.\n",
      "  df['dpt_pesudotime'] = adata.obs.groupby(['leiden','pred_class'])['dpt_pseudotime'].mean()\n",
      " 91%|█████████ | 280/307 [08:11<00:41,  1.52s/it]"
     ]
    },
    {
     "name": "stdout",
     "output_type": "stream",
     "text": [
      "9461.svs_147cols_77rows.csv.h5ad speed :2399.3655393021536\n",
      "NLSI0000132.svs_175cols_114rows.csv.h5ad\n"
     ]
    },
    {
     "name": "stderr",
     "output_type": "stream",
     "text": [
      "/tmp/ipykernel_291422/3061493562.py:22: FutureWarning: The default of observed=False is deprecated and will be changed to True in a future version of pandas. Pass observed=False to retain current behavior or observed=True to adopt the future default and silence this warning.\n",
      "  df['norm_col'] = adata.obs.groupby(['leiden','pred_class'])['n_col'].mean()/n_cols\n",
      "/tmp/ipykernel_291422/3061493562.py:23: FutureWarning: The default of observed=False is deprecated and will be changed to True in a future version of pandas. Pass observed=False to retain current behavior or observed=True to adopt the future default and silence this warning.\n",
      "  df['norm_row'] = adata.obs.groupby(['leiden','pred_class'])['n_row'].mean()/n_rows\n",
      "/tmp/ipykernel_291422/3061493562.py:24: FutureWarning: The default of observed=False is deprecated and will be changed to True in a future version of pandas. Pass observed=False to retain current behavior or observed=True to adopt the future default and silence this warning.\n",
      "  df['dpt_pesudotime'] = adata.obs.groupby(['leiden','pred_class'])['dpt_pseudotime'].mean()\n",
      " 92%|█████████▏| 281/307 [08:13<00:43,  1.67s/it]"
     ]
    },
    {
     "name": "stdout",
     "output_type": "stream",
     "text": [
      "NLSI0000132.svs_175cols_114rows.csv.h5ad speed :12934.500547408175\n",
      "11005.svs_277cols_205rows.csv.h5ad\n"
     ]
    },
    {
     "name": "stderr",
     "output_type": "stream",
     "text": [
      "/tmp/ipykernel_291422/3061493562.py:22: FutureWarning: The default of observed=False is deprecated and will be changed to True in a future version of pandas. Pass observed=False to retain current behavior or observed=True to adopt the future default and silence this warning.\n",
      "  df['norm_col'] = adata.obs.groupby(['leiden','pred_class'])['n_col'].mean()/n_cols\n",
      "/tmp/ipykernel_291422/3061493562.py:23: FutureWarning: The default of observed=False is deprecated and will be changed to True in a future version of pandas. Pass observed=False to retain current behavior or observed=True to adopt the future default and silence this warning.\n",
      "  df['norm_row'] = adata.obs.groupby(['leiden','pred_class'])['n_row'].mean()/n_rows\n",
      "/tmp/ipykernel_291422/3061493562.py:24: FutureWarning: The default of observed=False is deprecated and will be changed to True in a future version of pandas. Pass observed=False to retain current behavior or observed=True to adopt the future default and silence this warning.\n",
      "  df['dpt_pesudotime'] = adata.obs.groupby(['leiden','pred_class'])['dpt_pseudotime'].mean()\n",
      " 92%|█████████▏| 282/307 [08:15<00:41,  1.67s/it]"
     ]
    },
    {
     "name": "stdout",
     "output_type": "stream",
     "text": [
      "11005.svs_277cols_205rows.csv.h5ad speed :3775.268506591624\n",
      "9808.svs_291cols_214rows.csv.h5ad\n"
     ]
    },
    {
     "name": "stderr",
     "output_type": "stream",
     "text": [
      "/tmp/ipykernel_291422/3061493562.py:22: FutureWarning: The default of observed=False is deprecated and will be changed to True in a future version of pandas. Pass observed=False to retain current behavior or observed=True to adopt the future default and silence this warning.\n",
      "  df['norm_col'] = adata.obs.groupby(['leiden','pred_class'])['n_col'].mean()/n_cols\n",
      "/tmp/ipykernel_291422/3061493562.py:23: FutureWarning: The default of observed=False is deprecated and will be changed to True in a future version of pandas. Pass observed=False to retain current behavior or observed=True to adopt the future default and silence this warning.\n",
      "  df['norm_row'] = adata.obs.groupby(['leiden','pred_class'])['n_row'].mean()/n_rows\n",
      "/tmp/ipykernel_291422/3061493562.py:24: FutureWarning: The default of observed=False is deprecated and will be changed to True in a future version of pandas. Pass observed=False to retain current behavior or observed=True to adopt the future default and silence this warning.\n",
      "  df['dpt_pesudotime'] = adata.obs.groupby(['leiden','pred_class'])['dpt_pseudotime'].mean()\n",
      " 92%|█████████▏| 283/307 [08:18<00:48,  2.00s/it]"
     ]
    },
    {
     "name": "stdout",
     "output_type": "stream",
     "text": [
      "9808.svs_291cols_214rows.csv.h5ad speed :59949.26723684801\n",
      "10620.svs_265cols_215rows.csv.h5ad\n"
     ]
    },
    {
     "name": "stderr",
     "output_type": "stream",
     "text": [
      "/tmp/ipykernel_291422/3061493562.py:22: FutureWarning: The default of observed=False is deprecated and will be changed to True in a future version of pandas. Pass observed=False to retain current behavior or observed=True to adopt the future default and silence this warning.\n",
      "  df['norm_col'] = adata.obs.groupby(['leiden','pred_class'])['n_col'].mean()/n_cols\n",
      "/tmp/ipykernel_291422/3061493562.py:23: FutureWarning: The default of observed=False is deprecated and will be changed to True in a future version of pandas. Pass observed=False to retain current behavior or observed=True to adopt the future default and silence this warning.\n",
      "  df['norm_row'] = adata.obs.groupby(['leiden','pred_class'])['n_row'].mean()/n_rows\n",
      "/tmp/ipykernel_291422/3061493562.py:24: FutureWarning: The default of observed=False is deprecated and will be changed to True in a future version of pandas. Pass observed=False to retain current behavior or observed=True to adopt the future default and silence this warning.\n",
      "  df['dpt_pesudotime'] = adata.obs.groupby(['leiden','pred_class'])['dpt_pseudotime'].mean()\n",
      " 93%|█████████▎| 284/307 [08:20<00:46,  2.01s/it]"
     ]
    },
    {
     "name": "stdout",
     "output_type": "stream",
     "text": [
      "10620.svs_265cols_215rows.csv.h5ad speed :3518.067991894176\n",
      "11010.svs_209cols_182rows.csv.h5ad\n"
     ]
    },
    {
     "name": "stderr",
     "output_type": "stream",
     "text": [
      "/tmp/ipykernel_291422/3061493562.py:22: FutureWarning: The default of observed=False is deprecated and will be changed to True in a future version of pandas. Pass observed=False to retain current behavior or observed=True to adopt the future default and silence this warning.\n",
      "  df['norm_col'] = adata.obs.groupby(['leiden','pred_class'])['n_col'].mean()/n_cols\n",
      "/tmp/ipykernel_291422/3061493562.py:23: FutureWarning: The default of observed=False is deprecated and will be changed to True in a future version of pandas. Pass observed=False to retain current behavior or observed=True to adopt the future default and silence this warning.\n",
      "  df['norm_row'] = adata.obs.groupby(['leiden','pred_class'])['n_row'].mean()/n_rows\n",
      "/tmp/ipykernel_291422/3061493562.py:24: FutureWarning: The default of observed=False is deprecated and will be changed to True in a future version of pandas. Pass observed=False to retain current behavior or observed=True to adopt the future default and silence this warning.\n",
      "  df['dpt_pesudotime'] = adata.obs.groupby(['leiden','pred_class'])['dpt_pseudotime'].mean()\n",
      " 93%|█████████▎| 285/307 [08:21<00:40,  1.85s/it]"
     ]
    },
    {
     "name": "stdout",
     "output_type": "stream",
     "text": [
      "11010.svs_209cols_182rows.csv.h5ad speed :16711.57633904855\n",
      "11252.svs_70cols_65rows.csv.h5ad\n"
     ]
    },
    {
     "name": "stderr",
     "output_type": "stream",
     "text": [
      "/tmp/ipykernel_291422/3061493562.py:22: FutureWarning: The default of observed=False is deprecated and will be changed to True in a future version of pandas. Pass observed=False to retain current behavior or observed=True to adopt the future default and silence this warning.\n",
      "  df['norm_col'] = adata.obs.groupby(['leiden','pred_class'])['n_col'].mean()/n_cols\n",
      "/tmp/ipykernel_291422/3061493562.py:23: FutureWarning: The default of observed=False is deprecated and will be changed to True in a future version of pandas. Pass observed=False to retain current behavior or observed=True to adopt the future default and silence this warning.\n",
      "  df['norm_row'] = adata.obs.groupby(['leiden','pred_class'])['n_row'].mean()/n_rows\n",
      "/tmp/ipykernel_291422/3061493562.py:24: FutureWarning: The default of observed=False is deprecated and will be changed to True in a future version of pandas. Pass observed=False to retain current behavior or observed=True to adopt the future default and silence this warning.\n",
      "  df['dpt_pesudotime'] = adata.obs.groupby(['leiden','pred_class'])['dpt_pseudotime'].mean()\n",
      " 93%|█████████▎| 286/307 [08:22<00:31,  1.48s/it]"
     ]
    },
    {
     "name": "stdout",
     "output_type": "stream",
     "text": [
      "11252.svs_70cols_65rows.csv.h5ad speed :139466.5587905173\n",
      "11292.svs_193cols_190rows.csv.h5ad\n"
     ]
    },
    {
     "name": "stderr",
     "output_type": "stream",
     "text": [
      "/tmp/ipykernel_291422/3061493562.py:22: FutureWarning: The default of observed=False is deprecated and will be changed to True in a future version of pandas. Pass observed=False to retain current behavior or observed=True to adopt the future default and silence this warning.\n",
      "  df['norm_col'] = adata.obs.groupby(['leiden','pred_class'])['n_col'].mean()/n_cols\n",
      "/tmp/ipykernel_291422/3061493562.py:23: FutureWarning: The default of observed=False is deprecated and will be changed to True in a future version of pandas. Pass observed=False to retain current behavior or observed=True to adopt the future default and silence this warning.\n",
      "  df['norm_row'] = adata.obs.groupby(['leiden','pred_class'])['n_row'].mean()/n_rows\n",
      "/tmp/ipykernel_291422/3061493562.py:24: FutureWarning: The default of observed=False is deprecated and will be changed to True in a future version of pandas. Pass observed=False to retain current behavior or observed=True to adopt the future default and silence this warning.\n",
      "  df['dpt_pesudotime'] = adata.obs.groupby(['leiden','pred_class'])['dpt_pseudotime'].mean()\n",
      " 93%|█████████▎| 287/307 [08:23<00:28,  1.44s/it]"
     ]
    },
    {
     "name": "stdout",
     "output_type": "stream",
     "text": [
      "11292.svs_193cols_190rows.csv.h5ad speed :8656.950516342065\n",
      "10881.svs_281cols_194rows.csv.h5ad\n"
     ]
    },
    {
     "name": "stderr",
     "output_type": "stream",
     "text": [
      "/tmp/ipykernel_291422/3061493562.py:22: FutureWarning: The default of observed=False is deprecated and will be changed to True in a future version of pandas. Pass observed=False to retain current behavior or observed=True to adopt the future default and silence this warning.\n",
      "  df['norm_col'] = adata.obs.groupby(['leiden','pred_class'])['n_col'].mean()/n_cols\n",
      "/tmp/ipykernel_291422/3061493562.py:23: FutureWarning: The default of observed=False is deprecated and will be changed to True in a future version of pandas. Pass observed=False to retain current behavior or observed=True to adopt the future default and silence this warning.\n",
      "  df['norm_row'] = adata.obs.groupby(['leiden','pred_class'])['n_row'].mean()/n_rows\n",
      "/tmp/ipykernel_291422/3061493562.py:24: FutureWarning: The default of observed=False is deprecated and will be changed to True in a future version of pandas. Pass observed=False to retain current behavior or observed=True to adopt the future default and silence this warning.\n",
      "  df['dpt_pesudotime'] = adata.obs.groupby(['leiden','pred_class'])['dpt_pseudotime'].mean()\n",
      " 94%|█████████▍| 288/307 [08:25<00:30,  1.61s/it]"
     ]
    },
    {
     "name": "stdout",
     "output_type": "stream",
     "text": [
      "10881.svs_281cols_194rows.csv.h5ad speed :4046.1269370737105\n",
      "9402.svs_243cols_198rows.csv.h5ad\n"
     ]
    },
    {
     "name": "stderr",
     "output_type": "stream",
     "text": [
      "/tmp/ipykernel_291422/3061493562.py:22: FutureWarning: The default of observed=False is deprecated and will be changed to True in a future version of pandas. Pass observed=False to retain current behavior or observed=True to adopt the future default and silence this warning.\n",
      "  df['norm_col'] = adata.obs.groupby(['leiden','pred_class'])['n_col'].mean()/n_cols\n",
      "/tmp/ipykernel_291422/3061493562.py:23: FutureWarning: The default of observed=False is deprecated and will be changed to True in a future version of pandas. Pass observed=False to retain current behavior or observed=True to adopt the future default and silence this warning.\n",
      "  df['norm_row'] = adata.obs.groupby(['leiden','pred_class'])['n_row'].mean()/n_rows\n",
      "/tmp/ipykernel_291422/3061493562.py:24: FutureWarning: The default of observed=False is deprecated and will be changed to True in a future version of pandas. Pass observed=False to retain current behavior or observed=True to adopt the future default and silence this warning.\n",
      "  df['dpt_pesudotime'] = adata.obs.groupby(['leiden','pred_class'])['dpt_pseudotime'].mean()\n",
      " 94%|█████████▍| 289/307 [08:27<00:27,  1.55s/it]"
     ]
    },
    {
     "name": "stdout",
     "output_type": "stream",
     "text": [
      "9402.svs_243cols_198rows.csv.h5ad speed :4896.654510144106\n",
      "10130.svs_274cols_224rows.csv.h5ad\n"
     ]
    },
    {
     "name": "stderr",
     "output_type": "stream",
     "text": [
      "/tmp/ipykernel_291422/3061493562.py:22: FutureWarning: The default of observed=False is deprecated and will be changed to True in a future version of pandas. Pass observed=False to retain current behavior or observed=True to adopt the future default and silence this warning.\n",
      "  df['norm_col'] = adata.obs.groupby(['leiden','pred_class'])['n_col'].mean()/n_cols\n",
      "/tmp/ipykernel_291422/3061493562.py:23: FutureWarning: The default of observed=False is deprecated and will be changed to True in a future version of pandas. Pass observed=False to retain current behavior or observed=True to adopt the future default and silence this warning.\n",
      "  df['norm_row'] = adata.obs.groupby(['leiden','pred_class'])['n_row'].mean()/n_rows\n",
      "/tmp/ipykernel_291422/3061493562.py:24: FutureWarning: The default of observed=False is deprecated and will be changed to True in a future version of pandas. Pass observed=False to retain current behavior or observed=True to adopt the future default and silence this warning.\n",
      "  df['dpt_pesudotime'] = adata.obs.groupby(['leiden','pred_class'])['dpt_pseudotime'].mean()\n",
      " 94%|█████████▍| 290/307 [08:30<00:32,  1.93s/it]"
     ]
    },
    {
     "name": "stdout",
     "output_type": "stream",
     "text": [
      "10130.svs_274cols_224rows.csv.h5ad speed :128838.70121723521\n",
      "10509.svs_202cols_149rows.csv.h5ad\n"
     ]
    },
    {
     "name": "stderr",
     "output_type": "stream",
     "text": [
      "/tmp/ipykernel_291422/3061493562.py:22: FutureWarning: The default of observed=False is deprecated and will be changed to True in a future version of pandas. Pass observed=False to retain current behavior or observed=True to adopt the future default and silence this warning.\n",
      "  df['norm_col'] = adata.obs.groupby(['leiden','pred_class'])['n_col'].mean()/n_cols\n",
      "/tmp/ipykernel_291422/3061493562.py:23: FutureWarning: The default of observed=False is deprecated and will be changed to True in a future version of pandas. Pass observed=False to retain current behavior or observed=True to adopt the future default and silence this warning.\n",
      "  df['norm_row'] = adata.obs.groupby(['leiden','pred_class'])['n_row'].mean()/n_rows\n",
      "/tmp/ipykernel_291422/3061493562.py:24: FutureWarning: The default of observed=False is deprecated and will be changed to True in a future version of pandas. Pass observed=False to retain current behavior or observed=True to adopt the future default and silence this warning.\n",
      "  df['dpt_pesudotime'] = adata.obs.groupby(['leiden','pred_class'])['dpt_pseudotime'].mean()\n",
      " 95%|█████████▍| 291/307 [08:32<00:33,  2.09s/it]"
     ]
    },
    {
     "name": "stdout",
     "output_type": "stream",
     "text": [
      "10509.svs_202cols_149rows.csv.h5ad speed :16155.677618125072\n",
      "10028.svs_154cols_92rows.csv.h5ad\n"
     ]
    },
    {
     "name": "stderr",
     "output_type": "stream",
     "text": [
      "/tmp/ipykernel_291422/3061493562.py:22: FutureWarning: The default of observed=False is deprecated and will be changed to True in a future version of pandas. Pass observed=False to retain current behavior or observed=True to adopt the future default and silence this warning.\n",
      "  df['norm_col'] = adata.obs.groupby(['leiden','pred_class'])['n_col'].mean()/n_cols\n",
      "/tmp/ipykernel_291422/3061493562.py:23: FutureWarning: The default of observed=False is deprecated and will be changed to True in a future version of pandas. Pass observed=False to retain current behavior or observed=True to adopt the future default and silence this warning.\n",
      "  df['norm_row'] = adata.obs.groupby(['leiden','pred_class'])['n_row'].mean()/n_rows\n",
      "/tmp/ipykernel_291422/3061493562.py:24: FutureWarning: The default of observed=False is deprecated and will be changed to True in a future version of pandas. Pass observed=False to retain current behavior or observed=True to adopt the future default and silence this warning.\n",
      "  df['dpt_pesudotime'] = adata.obs.groupby(['leiden','pred_class'])['dpt_pseudotime'].mean()\n",
      " 95%|█████████▌| 292/307 [08:33<00:27,  1.85s/it]"
     ]
    },
    {
     "name": "stdout",
     "output_type": "stream",
     "text": [
      "10028.svs_154cols_92rows.csv.h5ad speed :19988.50133415052\n",
      "9967.svs_241cols_192rows.csv.h5ad\n"
     ]
    },
    {
     "name": "stderr",
     "output_type": "stream",
     "text": [
      "/tmp/ipykernel_291422/3061493562.py:22: FutureWarning: The default of observed=False is deprecated and will be changed to True in a future version of pandas. Pass observed=False to retain current behavior or observed=True to adopt the future default and silence this warning.\n",
      "  df['norm_col'] = adata.obs.groupby(['leiden','pred_class'])['n_col'].mean()/n_cols\n",
      "/tmp/ipykernel_291422/3061493562.py:23: FutureWarning: The default of observed=False is deprecated and will be changed to True in a future version of pandas. Pass observed=False to retain current behavior or observed=True to adopt the future default and silence this warning.\n",
      "  df['norm_row'] = adata.obs.groupby(['leiden','pred_class'])['n_row'].mean()/n_rows\n",
      "/tmp/ipykernel_291422/3061493562.py:24: FutureWarning: The default of observed=False is deprecated and will be changed to True in a future version of pandas. Pass observed=False to retain current behavior or observed=True to adopt the future default and silence this warning.\n",
      "  df['dpt_pesudotime'] = adata.obs.groupby(['leiden','pred_class'])['dpt_pseudotime'].mean()\n",
      " 95%|█████████▌| 293/307 [08:36<00:28,  2.04s/it]"
     ]
    },
    {
     "name": "stdout",
     "output_type": "stream",
     "text": [
      "9967.svs_241cols_192rows.csv.h5ad speed :64233.87296592456\n",
      "10837.svs_197cols_178rows.csv.h5ad\n"
     ]
    },
    {
     "name": "stderr",
     "output_type": "stream",
     "text": [
      "/tmp/ipykernel_291422/3061493562.py:22: FutureWarning: The default of observed=False is deprecated and will be changed to True in a future version of pandas. Pass observed=False to retain current behavior or observed=True to adopt the future default and silence this warning.\n",
      "  df['norm_col'] = adata.obs.groupby(['leiden','pred_class'])['n_col'].mean()/n_cols\n",
      "/tmp/ipykernel_291422/3061493562.py:23: FutureWarning: The default of observed=False is deprecated and will be changed to True in a future version of pandas. Pass observed=False to retain current behavior or observed=True to adopt the future default and silence this warning.\n",
      "  df['norm_row'] = adata.obs.groupby(['leiden','pred_class'])['n_row'].mean()/n_rows\n",
      "/tmp/ipykernel_291422/3061493562.py:24: FutureWarning: The default of observed=False is deprecated and will be changed to True in a future version of pandas. Pass observed=False to retain current behavior or observed=True to adopt the future default and silence this warning.\n",
      "  df['dpt_pesudotime'] = adata.obs.groupby(['leiden','pred_class'])['dpt_pseudotime'].mean()\n",
      " 96%|█████████▌| 294/307 [08:37<00:23,  1.84s/it]"
     ]
    },
    {
     "name": "stdout",
     "output_type": "stream",
     "text": [
      "10837.svs_197cols_178rows.csv.h5ad speed :21517.342323323574\n",
      "9389.svs_171cols_100rows.csv.h5ad\n"
     ]
    },
    {
     "name": "stderr",
     "output_type": "stream",
     "text": [
      "/tmp/ipykernel_291422/3061493562.py:22: FutureWarning: The default of observed=False is deprecated and will be changed to True in a future version of pandas. Pass observed=False to retain current behavior or observed=True to adopt the future default and silence this warning.\n",
      "  df['norm_col'] = adata.obs.groupby(['leiden','pred_class'])['n_col'].mean()/n_cols\n",
      "/tmp/ipykernel_291422/3061493562.py:23: FutureWarning: The default of observed=False is deprecated and will be changed to True in a future version of pandas. Pass observed=False to retain current behavior or observed=True to adopt the future default and silence this warning.\n",
      "  df['norm_row'] = adata.obs.groupby(['leiden','pred_class'])['n_row'].mean()/n_rows\n",
      "/tmp/ipykernel_291422/3061493562.py:24: FutureWarning: The default of observed=False is deprecated and will be changed to True in a future version of pandas. Pass observed=False to retain current behavior or observed=True to adopt the future default and silence this warning.\n",
      "  df['dpt_pesudotime'] = adata.obs.groupby(['leiden','pred_class'])['dpt_pseudotime'].mean()\n",
      " 96%|█████████▌| 295/307 [08:39<00:20,  1.73s/it]"
     ]
    },
    {
     "name": "stdout",
     "output_type": "stream",
     "text": [
      "9389.svs_171cols_100rows.csv.h5ad speed :9442.767922232066\n",
      "11106.svs_171cols_196rows.csv.h5ad\n"
     ]
    },
    {
     "name": "stderr",
     "output_type": "stream",
     "text": [
      "/tmp/ipykernel_291422/3061493562.py:22: FutureWarning: The default of observed=False is deprecated and will be changed to True in a future version of pandas. Pass observed=False to retain current behavior or observed=True to adopt the future default and silence this warning.\n",
      "  df['norm_col'] = adata.obs.groupby(['leiden','pred_class'])['n_col'].mean()/n_cols\n",
      "/tmp/ipykernel_291422/3061493562.py:23: FutureWarning: The default of observed=False is deprecated and will be changed to True in a future version of pandas. Pass observed=False to retain current behavior or observed=True to adopt the future default and silence this warning.\n",
      "  df['norm_row'] = adata.obs.groupby(['leiden','pred_class'])['n_row'].mean()/n_rows\n",
      "/tmp/ipykernel_291422/3061493562.py:24: FutureWarning: The default of observed=False is deprecated and will be changed to True in a future version of pandas. Pass observed=False to retain current behavior or observed=True to adopt the future default and silence this warning.\n",
      "  df['dpt_pesudotime'] = adata.obs.groupby(['leiden','pred_class'])['dpt_pseudotime'].mean()\n",
      " 96%|█████████▋| 296/307 [08:40<00:18,  1.71s/it]"
     ]
    },
    {
     "name": "stdout",
     "output_type": "stream",
     "text": [
      "11106.svs_171cols_196rows.csv.h5ad speed :3358.3381994629954\n",
      "NLSI0000294.svs_135cols_78rows.csv.h5ad\n"
     ]
    },
    {
     "name": "stderr",
     "output_type": "stream",
     "text": [
      "/tmp/ipykernel_291422/3061493562.py:22: FutureWarning: The default of observed=False is deprecated and will be changed to True in a future version of pandas. Pass observed=False to retain current behavior or observed=True to adopt the future default and silence this warning.\n",
      "  df['norm_col'] = adata.obs.groupby(['leiden','pred_class'])['n_col'].mean()/n_cols\n",
      "/tmp/ipykernel_291422/3061493562.py:23: FutureWarning: The default of observed=False is deprecated and will be changed to True in a future version of pandas. Pass observed=False to retain current behavior or observed=True to adopt the future default and silence this warning.\n",
      "  df['norm_row'] = adata.obs.groupby(['leiden','pred_class'])['n_row'].mean()/n_rows\n",
      "/tmp/ipykernel_291422/3061493562.py:24: FutureWarning: The default of observed=False is deprecated and will be changed to True in a future version of pandas. Pass observed=False to retain current behavior or observed=True to adopt the future default and silence this warning.\n",
      "  df['dpt_pesudotime'] = adata.obs.groupby(['leiden','pred_class'])['dpt_pseudotime'].mean()\n",
      " 97%|█████████▋| 297/307 [08:41<00:13,  1.39s/it]"
     ]
    },
    {
     "name": "stdout",
     "output_type": "stream",
     "text": [
      "NLSI0000294.svs_135cols_78rows.csv.h5ad speed :3470.8926882494898\n",
      "10494.svs_171cols_123rows.csv.h5ad\n"
     ]
    },
    {
     "name": "stderr",
     "output_type": "stream",
     "text": [
      "/tmp/ipykernel_291422/3061493562.py:22: FutureWarning: The default of observed=False is deprecated and will be changed to True in a future version of pandas. Pass observed=False to retain current behavior or observed=True to adopt the future default and silence this warning.\n",
      "  df['norm_col'] = adata.obs.groupby(['leiden','pred_class'])['n_col'].mean()/n_cols\n",
      "/tmp/ipykernel_291422/3061493562.py:23: FutureWarning: The default of observed=False is deprecated and will be changed to True in a future version of pandas. Pass observed=False to retain current behavior or observed=True to adopt the future default and silence this warning.\n",
      "  df['norm_row'] = adata.obs.groupby(['leiden','pred_class'])['n_row'].mean()/n_rows\n",
      "/tmp/ipykernel_291422/3061493562.py:24: FutureWarning: The default of observed=False is deprecated and will be changed to True in a future version of pandas. Pass observed=False to retain current behavior or observed=True to adopt the future default and silence this warning.\n",
      "  df['dpt_pesudotime'] = adata.obs.groupby(['leiden','pred_class'])['dpt_pseudotime'].mean()\n",
      " 97%|█████████▋| 298/307 [08:43<00:14,  1.59s/it]"
     ]
    },
    {
     "name": "stdout",
     "output_type": "stream",
     "text": [
      "10494.svs_171cols_123rows.csv.h5ad speed :40850.83548723039\n",
      "11445.svs_221cols_208rows.csv.h5ad\n"
     ]
    },
    {
     "name": "stderr",
     "output_type": "stream",
     "text": [
      "/tmp/ipykernel_291422/3061493562.py:22: FutureWarning: The default of observed=False is deprecated and will be changed to True in a future version of pandas. Pass observed=False to retain current behavior or observed=True to adopt the future default and silence this warning.\n",
      "  df['norm_col'] = adata.obs.groupby(['leiden','pred_class'])['n_col'].mean()/n_cols\n",
      "/tmp/ipykernel_291422/3061493562.py:23: FutureWarning: The default of observed=False is deprecated and will be changed to True in a future version of pandas. Pass observed=False to retain current behavior or observed=True to adopt the future default and silence this warning.\n",
      "  df['norm_row'] = adata.obs.groupby(['leiden','pred_class'])['n_row'].mean()/n_rows\n",
      "/tmp/ipykernel_291422/3061493562.py:24: FutureWarning: The default of observed=False is deprecated and will be changed to True in a future version of pandas. Pass observed=False to retain current behavior or observed=True to adopt the future default and silence this warning.\n",
      "  df['dpt_pesudotime'] = adata.obs.groupby(['leiden','pred_class'])['dpt_pseudotime'].mean()\n",
      " 97%|█████████▋| 299/307 [08:45<00:13,  1.71s/it]"
     ]
    },
    {
     "name": "stdout",
     "output_type": "stream",
     "text": [
      "11445.svs_221cols_208rows.csv.h5ad speed :1224.3382829249542\n",
      "10636.svs_147cols_123rows.csv.h5ad\n"
     ]
    },
    {
     "name": "stderr",
     "output_type": "stream",
     "text": [
      "/tmp/ipykernel_291422/3061493562.py:22: FutureWarning: The default of observed=False is deprecated and will be changed to True in a future version of pandas. Pass observed=False to retain current behavior or observed=True to adopt the future default and silence this warning.\n",
      "  df['norm_col'] = adata.obs.groupby(['leiden','pred_class'])['n_col'].mean()/n_cols\n",
      "/tmp/ipykernel_291422/3061493562.py:23: FutureWarning: The default of observed=False is deprecated and will be changed to True in a future version of pandas. Pass observed=False to retain current behavior or observed=True to adopt the future default and silence this warning.\n",
      "  df['norm_row'] = adata.obs.groupby(['leiden','pred_class'])['n_row'].mean()/n_rows\n",
      "/tmp/ipykernel_291422/3061493562.py:24: FutureWarning: The default of observed=False is deprecated and will be changed to True in a future version of pandas. Pass observed=False to retain current behavior or observed=True to adopt the future default and silence this warning.\n",
      "  df['dpt_pesudotime'] = adata.obs.groupby(['leiden','pred_class'])['dpt_pseudotime'].mean()\n",
      " 98%|█████████▊| 300/307 [08:46<00:11,  1.62s/it]"
     ]
    },
    {
     "name": "stdout",
     "output_type": "stream",
     "text": [
      "10636.svs_147cols_123rows.csv.h5ad speed :807.3926973185593\n",
      "9465.svs_207cols_180rows.csv.h5ad\n"
     ]
    },
    {
     "name": "stderr",
     "output_type": "stream",
     "text": [
      "/tmp/ipykernel_291422/3061493562.py:22: FutureWarning: The default of observed=False is deprecated and will be changed to True in a future version of pandas. Pass observed=False to retain current behavior or observed=True to adopt the future default and silence this warning.\n",
      "  df['norm_col'] = adata.obs.groupby(['leiden','pred_class'])['n_col'].mean()/n_cols\n",
      "/tmp/ipykernel_291422/3061493562.py:23: FutureWarning: The default of observed=False is deprecated and will be changed to True in a future version of pandas. Pass observed=False to retain current behavior or observed=True to adopt the future default and silence this warning.\n",
      "  df['norm_row'] = adata.obs.groupby(['leiden','pred_class'])['n_row'].mean()/n_rows\n",
      "/tmp/ipykernel_291422/3061493562.py:24: FutureWarning: The default of observed=False is deprecated and will be changed to True in a future version of pandas. Pass observed=False to retain current behavior or observed=True to adopt the future default and silence this warning.\n",
      "  df['dpt_pesudotime'] = adata.obs.groupby(['leiden','pred_class'])['dpt_pseudotime'].mean()\n",
      " 98%|█████████▊| 301/307 [08:48<00:10,  1.70s/it]"
     ]
    },
    {
     "name": "stdout",
     "output_type": "stream",
     "text": [
      "9465.svs_207cols_180rows.csv.h5ad speed :45448.8325952376\n",
      "10504.svs_106cols_75rows.csv.h5ad\n"
     ]
    },
    {
     "name": "stderr",
     "output_type": "stream",
     "text": [
      "/tmp/ipykernel_291422/3061493562.py:22: FutureWarning: The default of observed=False is deprecated and will be changed to True in a future version of pandas. Pass observed=False to retain current behavior or observed=True to adopt the future default and silence this warning.\n",
      "  df['norm_col'] = adata.obs.groupby(['leiden','pred_class'])['n_col'].mean()/n_cols\n",
      "/tmp/ipykernel_291422/3061493562.py:23: FutureWarning: The default of observed=False is deprecated and will be changed to True in a future version of pandas. Pass observed=False to retain current behavior or observed=True to adopt the future default and silence this warning.\n",
      "  df['norm_row'] = adata.obs.groupby(['leiden','pred_class'])['n_row'].mean()/n_rows\n",
      "/tmp/ipykernel_291422/3061493562.py:24: FutureWarning: The default of observed=False is deprecated and will be changed to True in a future version of pandas. Pass observed=False to retain current behavior or observed=True to adopt the future default and silence this warning.\n",
      "  df['dpt_pesudotime'] = adata.obs.groupby(['leiden','pred_class'])['dpt_pseudotime'].mean()\n",
      " 98%|█████████▊| 302/307 [08:49<00:06,  1.31s/it]"
     ]
    },
    {
     "name": "stdout",
     "output_type": "stream",
     "text": [
      "10504.svs_106cols_75rows.csv.h5ad speed :707.9410130918662\n",
      "9474.svs_248cols_153rows.csv.h5ad\n"
     ]
    },
    {
     "name": "stderr",
     "output_type": "stream",
     "text": [
      "/tmp/ipykernel_291422/3061493562.py:22: FutureWarning: The default of observed=False is deprecated and will be changed to True in a future version of pandas. Pass observed=False to retain current behavior or observed=True to adopt the future default and silence this warning.\n",
      "  df['norm_col'] = adata.obs.groupby(['leiden','pred_class'])['n_col'].mean()/n_cols\n",
      "/tmp/ipykernel_291422/3061493562.py:23: FutureWarning: The default of observed=False is deprecated and will be changed to True in a future version of pandas. Pass observed=False to retain current behavior or observed=True to adopt the future default and silence this warning.\n",
      "  df['norm_row'] = adata.obs.groupby(['leiden','pred_class'])['n_row'].mean()/n_rows\n",
      "/tmp/ipykernel_291422/3061493562.py:24: FutureWarning: The default of observed=False is deprecated and will be changed to True in a future version of pandas. Pass observed=False to retain current behavior or observed=True to adopt the future default and silence this warning.\n",
      "  df['dpt_pesudotime'] = adata.obs.groupby(['leiden','pred_class'])['dpt_pseudotime'].mean()\n",
      " 99%|█████████▊| 303/307 [08:50<00:05,  1.44s/it]"
     ]
    },
    {
     "name": "stdout",
     "output_type": "stream",
     "text": [
      "9474.svs_248cols_153rows.csv.h5ad speed :9417.387443469577\n",
      "NLSI0000253.svs_155cols_116rows.csv.h5ad\n"
     ]
    },
    {
     "name": "stderr",
     "output_type": "stream",
     "text": [
      "/tmp/ipykernel_291422/3061493562.py:22: FutureWarning: The default of observed=False is deprecated and will be changed to True in a future version of pandas. Pass observed=False to retain current behavior or observed=True to adopt the future default and silence this warning.\n",
      "  df['norm_col'] = adata.obs.groupby(['leiden','pred_class'])['n_col'].mean()/n_cols\n",
      "/tmp/ipykernel_291422/3061493562.py:23: FutureWarning: The default of observed=False is deprecated and will be changed to True in a future version of pandas. Pass observed=False to retain current behavior or observed=True to adopt the future default and silence this warning.\n",
      "  df['norm_row'] = adata.obs.groupby(['leiden','pred_class'])['n_row'].mean()/n_rows\n",
      "/tmp/ipykernel_291422/3061493562.py:24: FutureWarning: The default of observed=False is deprecated and will be changed to True in a future version of pandas. Pass observed=False to retain current behavior or observed=True to adopt the future default and silence this warning.\n",
      "  df['dpt_pesudotime'] = adata.obs.groupby(['leiden','pred_class'])['dpt_pseudotime'].mean()\n",
      " 99%|█████████▉| 304/307 [08:52<00:04,  1.49s/it]"
     ]
    },
    {
     "name": "stdout",
     "output_type": "stream",
     "text": [
      "NLSI0000253.svs_155cols_116rows.csv.h5ad speed :8349.642405596574\n",
      "10934.svs_229cols_168rows.csv.h5ad\n"
     ]
    },
    {
     "name": "stderr",
     "output_type": "stream",
     "text": [
      "/tmp/ipykernel_291422/3061493562.py:22: FutureWarning: The default of observed=False is deprecated and will be changed to True in a future version of pandas. Pass observed=False to retain current behavior or observed=True to adopt the future default and silence this warning.\n",
      "  df['norm_col'] = adata.obs.groupby(['leiden','pred_class'])['n_col'].mean()/n_cols\n",
      "/tmp/ipykernel_291422/3061493562.py:23: FutureWarning: The default of observed=False is deprecated and will be changed to True in a future version of pandas. Pass observed=False to retain current behavior or observed=True to adopt the future default and silence this warning.\n",
      "  df['norm_row'] = adata.obs.groupby(['leiden','pred_class'])['n_row'].mean()/n_rows\n",
      "/tmp/ipykernel_291422/3061493562.py:24: FutureWarning: The default of observed=False is deprecated and will be changed to True in a future version of pandas. Pass observed=False to retain current behavior or observed=True to adopt the future default and silence this warning.\n",
      "  df['dpt_pesudotime'] = adata.obs.groupby(['leiden','pred_class'])['dpt_pseudotime'].mean()\n",
      " 99%|█████████▉| 305/307 [08:53<00:02,  1.47s/it]"
     ]
    },
    {
     "name": "stdout",
     "output_type": "stream",
     "text": [
      "10934.svs_229cols_168rows.csv.h5ad speed :5083.5923198905875\n",
      "NLSI0000229.svs_95cols_106rows.csv.h5ad\n"
     ]
    },
    {
     "name": "stderr",
     "output_type": "stream",
     "text": [
      "/tmp/ipykernel_291422/3061493562.py:22: FutureWarning: The default of observed=False is deprecated and will be changed to True in a future version of pandas. Pass observed=False to retain current behavior or observed=True to adopt the future default and silence this warning.\n",
      "  df['norm_col'] = adata.obs.groupby(['leiden','pred_class'])['n_col'].mean()/n_cols\n",
      "/tmp/ipykernel_291422/3061493562.py:23: FutureWarning: The default of observed=False is deprecated and will be changed to True in a future version of pandas. Pass observed=False to retain current behavior or observed=True to adopt the future default and silence this warning.\n",
      "  df['norm_row'] = adata.obs.groupby(['leiden','pred_class'])['n_row'].mean()/n_rows\n",
      "/tmp/ipykernel_291422/3061493562.py:24: FutureWarning: The default of observed=False is deprecated and will be changed to True in a future version of pandas. Pass observed=False to retain current behavior or observed=True to adopt the future default and silence this warning.\n",
      "  df['dpt_pesudotime'] = adata.obs.groupby(['leiden','pred_class'])['dpt_pseudotime'].mean()\n",
      "100%|█████████▉| 306/307 [08:55<00:01,  1.40s/it]"
     ]
    },
    {
     "name": "stdout",
     "output_type": "stream",
     "text": [
      "NLSI0000229.svs_95cols_106rows.csv.h5ad speed :36207.03599840299\n",
      "10877.svs_346cols_210rows.csv.h5ad\n"
     ]
    },
    {
     "name": "stderr",
     "output_type": "stream",
     "text": [
      "/tmp/ipykernel_291422/3061493562.py:22: FutureWarning: The default of observed=False is deprecated and will be changed to True in a future version of pandas. Pass observed=False to retain current behavior or observed=True to adopt the future default and silence this warning.\n",
      "  df['norm_col'] = adata.obs.groupby(['leiden','pred_class'])['n_col'].mean()/n_cols\n",
      "/tmp/ipykernel_291422/3061493562.py:23: FutureWarning: The default of observed=False is deprecated and will be changed to True in a future version of pandas. Pass observed=False to retain current behavior or observed=True to adopt the future default and silence this warning.\n",
      "  df['norm_row'] = adata.obs.groupby(['leiden','pred_class'])['n_row'].mean()/n_rows\n",
      "/tmp/ipykernel_291422/3061493562.py:24: FutureWarning: The default of observed=False is deprecated and will be changed to True in a future version of pandas. Pass observed=False to retain current behavior or observed=True to adopt the future default and silence this warning.\n",
      "  df['dpt_pesudotime'] = adata.obs.groupby(['leiden','pred_class'])['dpt_pseudotime'].mean()\n",
      "100%|██████████| 307/307 [08:57<00:00,  1.75s/it]"
     ]
    },
    {
     "name": "stdout",
     "output_type": "stream",
     "text": [
      "10877.svs_346cols_210rows.csv.h5ad speed :5439.647717518793\n"
     ]
    },
    {
     "name": "stderr",
     "output_type": "stream",
     "text": [
      "\n"
     ]
    }
   ],
   "source": [
    "import math\n",
    "from tqdm import tqdm\n",
    "from scipy.stats import entropy\n",
    "slides_dict = {}\n",
    "for key in tqdm(paga_f):\n",
    "    slide_id = key.split(\"/\")[3]\n",
    "    print(slide_id)\n",
    "    n_cols, n_rows = int(slide_id.split(\"_\")[1][:-4]), int(slide_id.split(\"_\")[2].split(\".\")[0][:-4])\n",
    "    #print(n_cols, n_rows)\n",
    "\n",
    "    #11436.svs_202cols_178rows.csv.h5ad\n",
    "    \n",
    "    adata = ad.read_h5ad(key)\n",
    "    shannon_index_all= entropy(adata.obs['pred_class'].value_counts())\n",
    "    shannon_index_leiden = entropy(adata.obs['leiden'].value_counts())\n",
    "    shannon_index_tumor = entropy(adata.obs[adata.obs['pred_class'].isin([0,1,2,3])][\"pred_class\"].value_counts())\n",
    "    #adata = lmreg(adata)\n",
    "    #adata = lasso(adata, alpha_value= 0.1)\n",
    "    \n",
    "    col_names = ['norm_col', 'norm_row', 'dpt_pesudotime']\n",
    "    df = pd.DataFrame(columns=col_names)\n",
    "    df['norm_col'] = adata.obs.groupby(['leiden','pred_class'])['n_col'].mean()/n_cols\n",
    "    df['norm_row'] = adata.obs.groupby(['leiden','pred_class'])['n_row'].mean()/n_rows\n",
    "    df['dpt_pesudotime'] = adata.obs.groupby(['leiden','pred_class'])['dpt_pseudotime'].mean()\n",
    "    df = df.replace([np.inf, -np.inf], np.nan)\n",
    "    #print(df)\n",
    "    df = df.dropna(subset=col_names,how='any').reset_index()\n",
    "    #print(df)\n",
    "    if not df.empty:\n",
    "        coordinates = df[[\"norm_col\",\"norm_row\"]]\n",
    "        dist =  pd.DataFrame(euclidean_distances(coordinates,coordinates))\n",
    "        #print(dist)\n",
    "        dist = Norm(dist)\n",
    "        speed_df, speed_df_rao = get_pairwise_speed(dist, df), get_pairwise_speed_rao(dist, df)\n",
    "        #print(speed_df)\n",
    "        speed, speed_rao = pd.DataFrame(speed_df).fillna(0).sum().sum()/len(df), pd.DataFrame(speed_df_rao).fillna(0).sum().sum()/len(df)\n",
    "        \n",
    "        \n",
    "        print(slide_id + ' speed :' + str(speed))\n",
    "        slide_dict = {}\n",
    "        slide_dict['Log_Speed'] = math.log(speed) if speed != 0  else 0\n",
    "        slide_dict['rao_Speed'] = speed_rao\n",
    "        slide_dict['filename'] = slide_id.split(\"_\")[0]\n",
    "        slide_dict['shannon_index_all'] = shannon_index_all\n",
    "        slide_dict['shannon_index_tumor'] = shannon_index_tumor\n",
    "        slide_dict['shannon_index_leiden'] = shannon_index_leiden\n",
    "        slide_dict['tissue_ratio'] = len(adata.obs.index)/(n_cols * n_rows)\n",
    "    \n",
    "        slides_dict[slide_id] = slide_dict\n",
    "    #read_dictionary[key]['Speed_rao'] = speed_rao\n",
    "\n"
   ]
  },
  {
   "cell_type": "code",
   "execution_count": 120,
   "id": "3793e710-627d-43b9-b202-6840d15aa623",
   "metadata": {},
   "outputs": [
    {
     "data": {
      "text/html": [
       "<div>\n",
       "<style scoped>\n",
       "    .dataframe tbody tr th:only-of-type {\n",
       "        vertical-align: middle;\n",
       "    }\n",
       "\n",
       "    .dataframe tbody tr th {\n",
       "        vertical-align: top;\n",
       "    }\n",
       "\n",
       "    .dataframe thead th {\n",
       "        text-align: right;\n",
       "    }\n",
       "</style>\n",
       "<table border=\"1\" class=\"dataframe\">\n",
       "  <thead>\n",
       "    <tr style=\"text-align: right;\">\n",
       "      <th></th>\n",
       "      <th>Log_Speed</th>\n",
       "      <th>rao_Speed</th>\n",
       "      <th>filename</th>\n",
       "      <th>shannon_index_all</th>\n",
       "      <th>shannon_index_tumor</th>\n",
       "      <th>shannon_index_leiden</th>\n",
       "      <th>tissue_ratio</th>\n",
       "    </tr>\n",
       "  </thead>\n",
       "  <tbody>\n",
       "    <tr>\n",
       "      <th>10639.svs_229cols_208rows.csv.h5ad</th>\n",
       "      <td>10.044553</td>\n",
       "      <td>1.209956</td>\n",
       "      <td>10639.svs</td>\n",
       "      <td>1.202468</td>\n",
       "      <td>0.846392</td>\n",
       "      <td>3.267118</td>\n",
       "      <td>0.413671</td>\n",
       "    </tr>\n",
       "    <tr>\n",
       "      <th>11038.svs_212cols_191rows.csv.h5ad</th>\n",
       "      <td>7.869209</td>\n",
       "      <td>5.18383</td>\n",
       "      <td>11038.svs</td>\n",
       "      <td>0.665301</td>\n",
       "      <td>0.201032</td>\n",
       "      <td>3.510597</td>\n",
       "      <td>0.582485</td>\n",
       "    </tr>\n",
       "    <tr>\n",
       "      <th>11259.svs_128cols_158rows.csv.h5ad</th>\n",
       "      <td>8.988631</td>\n",
       "      <td>9.233121</td>\n",
       "      <td>11259.svs</td>\n",
       "      <td>1.21928</td>\n",
       "      <td>1.065766</td>\n",
       "      <td>3.213687</td>\n",
       "      <td>0.6161</td>\n",
       "    </tr>\n",
       "    <tr>\n",
       "      <th>NLSI0000070.svs_95cols_115rows.csv.h5ad</th>\n",
       "      <td>9.327631</td>\n",
       "      <td>10.625834</td>\n",
       "      <td>NLSI0000070.svs</td>\n",
       "      <td>0.657771</td>\n",
       "      <td>0.366555</td>\n",
       "      <td>3.130358</td>\n",
       "      <td>0.553684</td>\n",
       "    </tr>\n",
       "    <tr>\n",
       "      <th>NLSI0000231.svs_145cols_117rows.csv.h5ad</th>\n",
       "      <td>8.731715</td>\n",
       "      <td>4.074367</td>\n",
       "      <td>NLSI0000231.svs</td>\n",
       "      <td>0.856814</td>\n",
       "      <td>0.749805</td>\n",
       "      <td>3.226174</td>\n",
       "      <td>0.492367</td>\n",
       "    </tr>\n",
       "    <tr>\n",
       "      <th>...</th>\n",
       "      <td>...</td>\n",
       "      <td>...</td>\n",
       "      <td>...</td>\n",
       "      <td>...</td>\n",
       "      <td>...</td>\n",
       "      <td>...</td>\n",
       "      <td>...</td>\n",
       "    </tr>\n",
       "    <tr>\n",
       "      <th>9474.svs_248cols_153rows.csv.h5ad</th>\n",
       "      <td>9.150313</td>\n",
       "      <td>0.395053</td>\n",
       "      <td>9474.svs</td>\n",
       "      <td>1.161802</td>\n",
       "      <td>0.793729</td>\n",
       "      <td>3.348059</td>\n",
       "      <td>0.591925</td>\n",
       "    </tr>\n",
       "    <tr>\n",
       "      <th>NLSI0000253.svs_155cols_116rows.csv.h5ad</th>\n",
       "      <td>9.029974</td>\n",
       "      <td>0.905104</td>\n",
       "      <td>NLSI0000253.svs</td>\n",
       "      <td>1.070826</td>\n",
       "      <td>0.664181</td>\n",
       "      <td>3.196347</td>\n",
       "      <td>0.612013</td>\n",
       "    </tr>\n",
       "    <tr>\n",
       "      <th>10934.svs_229cols_168rows.csv.h5ad</th>\n",
       "      <td>8.533773</td>\n",
       "      <td>22.132325</td>\n",
       "      <td>10934.svs</td>\n",
       "      <td>1.327731</td>\n",
       "      <td>1.073065</td>\n",
       "      <td>3.201744</td>\n",
       "      <td>0.511749</td>\n",
       "    </tr>\n",
       "    <tr>\n",
       "      <th>NLSI0000229.svs_95cols_106rows.csv.h5ad</th>\n",
       "      <td>10.497009</td>\n",
       "      <td>15.05627</td>\n",
       "      <td>NLSI0000229.svs</td>\n",
       "      <td>1.06874</td>\n",
       "      <td>0.929285</td>\n",
       "      <td>3.1722</td>\n",
       "      <td>0.636842</td>\n",
       "    </tr>\n",
       "    <tr>\n",
       "      <th>10877.svs_346cols_210rows.csv.h5ad</th>\n",
       "      <td>8.60147</td>\n",
       "      <td>2.27566</td>\n",
       "      <td>10877.svs</td>\n",
       "      <td>0.868494</td>\n",
       "      <td>1.04286</td>\n",
       "      <td>3.253573</td>\n",
       "      <td>0.46635</td>\n",
       "    </tr>\n",
       "  </tbody>\n",
       "</table>\n",
       "<p>307 rows × 7 columns</p>\n",
       "</div>"
      ],
      "text/plain": [
       "                                          Log_Speed  rao_Speed  \\\n",
       "10639.svs_229cols_208rows.csv.h5ad        10.044553   1.209956   \n",
       "11038.svs_212cols_191rows.csv.h5ad         7.869209    5.18383   \n",
       "11259.svs_128cols_158rows.csv.h5ad         8.988631   9.233121   \n",
       "NLSI0000070.svs_95cols_115rows.csv.h5ad    9.327631  10.625834   \n",
       "NLSI0000231.svs_145cols_117rows.csv.h5ad   8.731715   4.074367   \n",
       "...                                             ...        ...   \n",
       "9474.svs_248cols_153rows.csv.h5ad          9.150313   0.395053   \n",
       "NLSI0000253.svs_155cols_116rows.csv.h5ad   9.029974   0.905104   \n",
       "10934.svs_229cols_168rows.csv.h5ad         8.533773  22.132325   \n",
       "NLSI0000229.svs_95cols_106rows.csv.h5ad   10.497009   15.05627   \n",
       "10877.svs_346cols_210rows.csv.h5ad          8.60147    2.27566   \n",
       "\n",
       "                                                 filename shannon_index_all  \\\n",
       "10639.svs_229cols_208rows.csv.h5ad              10639.svs          1.202468   \n",
       "11038.svs_212cols_191rows.csv.h5ad              11038.svs          0.665301   \n",
       "11259.svs_128cols_158rows.csv.h5ad              11259.svs           1.21928   \n",
       "NLSI0000070.svs_95cols_115rows.csv.h5ad   NLSI0000070.svs          0.657771   \n",
       "NLSI0000231.svs_145cols_117rows.csv.h5ad  NLSI0000231.svs          0.856814   \n",
       "...                                                   ...               ...   \n",
       "9474.svs_248cols_153rows.csv.h5ad                9474.svs          1.161802   \n",
       "NLSI0000253.svs_155cols_116rows.csv.h5ad  NLSI0000253.svs          1.070826   \n",
       "10934.svs_229cols_168rows.csv.h5ad              10934.svs          1.327731   \n",
       "NLSI0000229.svs_95cols_106rows.csv.h5ad   NLSI0000229.svs           1.06874   \n",
       "10877.svs_346cols_210rows.csv.h5ad              10877.svs          0.868494   \n",
       "\n",
       "                                         shannon_index_tumor  \\\n",
       "10639.svs_229cols_208rows.csv.h5ad                  0.846392   \n",
       "11038.svs_212cols_191rows.csv.h5ad                  0.201032   \n",
       "11259.svs_128cols_158rows.csv.h5ad                  1.065766   \n",
       "NLSI0000070.svs_95cols_115rows.csv.h5ad             0.366555   \n",
       "NLSI0000231.svs_145cols_117rows.csv.h5ad            0.749805   \n",
       "...                                                      ...   \n",
       "9474.svs_248cols_153rows.csv.h5ad                   0.793729   \n",
       "NLSI0000253.svs_155cols_116rows.csv.h5ad            0.664181   \n",
       "10934.svs_229cols_168rows.csv.h5ad                  1.073065   \n",
       "NLSI0000229.svs_95cols_106rows.csv.h5ad             0.929285   \n",
       "10877.svs_346cols_210rows.csv.h5ad                   1.04286   \n",
       "\n",
       "                                         shannon_index_leiden tissue_ratio  \n",
       "10639.svs_229cols_208rows.csv.h5ad                   3.267118     0.413671  \n",
       "11038.svs_212cols_191rows.csv.h5ad                   3.510597     0.582485  \n",
       "11259.svs_128cols_158rows.csv.h5ad                   3.213687       0.6161  \n",
       "NLSI0000070.svs_95cols_115rows.csv.h5ad              3.130358     0.553684  \n",
       "NLSI0000231.svs_145cols_117rows.csv.h5ad             3.226174     0.492367  \n",
       "...                                                       ...          ...  \n",
       "9474.svs_248cols_153rows.csv.h5ad                    3.348059     0.591925  \n",
       "NLSI0000253.svs_155cols_116rows.csv.h5ad             3.196347     0.612013  \n",
       "10934.svs_229cols_168rows.csv.h5ad                   3.201744     0.511749  \n",
       "NLSI0000229.svs_95cols_106rows.csv.h5ad                3.1722     0.636842  \n",
       "10877.svs_346cols_210rows.csv.h5ad                   3.253573      0.46635  \n",
       "\n",
       "[307 rows x 7 columns]"
      ]
     },
     "execution_count": 120,
     "metadata": {},
     "output_type": "execute_result"
    }
   ],
   "source": [
    "pd.DataFrame(slides_dict).T"
   ]
  },
  {
   "cell_type": "code",
   "execution_count": 4,
   "id": "cbccda5d-c873-46ce-aa4a-53a060a256ae",
   "metadata": {},
   "outputs": [
    {
     "data": {
      "text/html": [
       "<div>\n",
       "<style scoped>\n",
       "    .dataframe tbody tr th:only-of-type {\n",
       "        vertical-align: middle;\n",
       "    }\n",
       "\n",
       "    .dataframe tbody tr th {\n",
       "        vertical-align: top;\n",
       "    }\n",
       "\n",
       "    .dataframe thead th {\n",
       "        text-align: right;\n",
       "    }\n",
       "</style>\n",
       "<table border=\"1\" class=\"dataframe\">\n",
       "  <thead>\n",
       "    <tr style=\"text-align: right;\">\n",
       "      <th></th>\n",
       "      <th>Log_Speed</th>\n",
       "      <th>rao_Speed</th>\n",
       "      <th>filename</th>\n",
       "      <th>shannon_index_all</th>\n",
       "      <th>shannon_index_tumor</th>\n",
       "      <th>shannon_index_leiden</th>\n",
       "      <th>tissue_ratio</th>\n",
       "    </tr>\n",
       "  </thead>\n",
       "  <tbody>\n",
       "    <tr>\n",
       "      <th>10639.svs_229cols_208rows.csv.h5ad</th>\n",
       "      <td>10.044553</td>\n",
       "      <td>1.209956</td>\n",
       "      <td>10639.svs</td>\n",
       "      <td>1.202468</td>\n",
       "      <td>0.846392</td>\n",
       "      <td>3.267118</td>\n",
       "      <td>0.413671</td>\n",
       "    </tr>\n",
       "    <tr>\n",
       "      <th>11038.svs_212cols_191rows.csv.h5ad</th>\n",
       "      <td>7.869209</td>\n",
       "      <td>5.18383</td>\n",
       "      <td>11038.svs</td>\n",
       "      <td>0.665301</td>\n",
       "      <td>0.201032</td>\n",
       "      <td>3.510597</td>\n",
       "      <td>0.582485</td>\n",
       "    </tr>\n",
       "    <tr>\n",
       "      <th>11259.svs_128cols_158rows.csv.h5ad</th>\n",
       "      <td>8.988631</td>\n",
       "      <td>9.233121</td>\n",
       "      <td>11259.svs</td>\n",
       "      <td>1.21928</td>\n",
       "      <td>1.065766</td>\n",
       "      <td>3.213687</td>\n",
       "      <td>0.6161</td>\n",
       "    </tr>\n",
       "    <tr>\n",
       "      <th>NLSI0000070.svs_95cols_115rows.csv.h5ad</th>\n",
       "      <td>9.327631</td>\n",
       "      <td>10.625834</td>\n",
       "      <td>NLSI0000070.svs</td>\n",
       "      <td>0.657771</td>\n",
       "      <td>0.366555</td>\n",
       "      <td>3.130358</td>\n",
       "      <td>0.553684</td>\n",
       "    </tr>\n",
       "    <tr>\n",
       "      <th>NLSI0000231.svs_145cols_117rows.csv.h5ad</th>\n",
       "      <td>8.731715</td>\n",
       "      <td>4.074367</td>\n",
       "      <td>NLSI0000231.svs</td>\n",
       "      <td>0.856814</td>\n",
       "      <td>0.749805</td>\n",
       "      <td>3.226174</td>\n",
       "      <td>0.492367</td>\n",
       "    </tr>\n",
       "    <tr>\n",
       "      <th>...</th>\n",
       "      <td>...</td>\n",
       "      <td>...</td>\n",
       "      <td>...</td>\n",
       "      <td>...</td>\n",
       "      <td>...</td>\n",
       "      <td>...</td>\n",
       "      <td>...</td>\n",
       "    </tr>\n",
       "    <tr>\n",
       "      <th>9474.svs_248cols_153rows.csv.h5ad</th>\n",
       "      <td>9.150313</td>\n",
       "      <td>0.395053</td>\n",
       "      <td>9474.svs</td>\n",
       "      <td>1.161802</td>\n",
       "      <td>0.793729</td>\n",
       "      <td>3.348059</td>\n",
       "      <td>0.591925</td>\n",
       "    </tr>\n",
       "    <tr>\n",
       "      <th>NLSI0000253.svs_155cols_116rows.csv.h5ad</th>\n",
       "      <td>9.029974</td>\n",
       "      <td>0.905104</td>\n",
       "      <td>NLSI0000253.svs</td>\n",
       "      <td>1.070826</td>\n",
       "      <td>0.664181</td>\n",
       "      <td>3.196347</td>\n",
       "      <td>0.612013</td>\n",
       "    </tr>\n",
       "    <tr>\n",
       "      <th>10934.svs_229cols_168rows.csv.h5ad</th>\n",
       "      <td>8.533773</td>\n",
       "      <td>22.132325</td>\n",
       "      <td>10934.svs</td>\n",
       "      <td>1.327731</td>\n",
       "      <td>1.073065</td>\n",
       "      <td>3.201744</td>\n",
       "      <td>0.511749</td>\n",
       "    </tr>\n",
       "    <tr>\n",
       "      <th>NLSI0000229.svs_95cols_106rows.csv.h5ad</th>\n",
       "      <td>10.497009</td>\n",
       "      <td>15.05627</td>\n",
       "      <td>NLSI0000229.svs</td>\n",
       "      <td>1.06874</td>\n",
       "      <td>0.929285</td>\n",
       "      <td>3.1722</td>\n",
       "      <td>0.636842</td>\n",
       "    </tr>\n",
       "    <tr>\n",
       "      <th>10877.svs_346cols_210rows.csv.h5ad</th>\n",
       "      <td>8.60147</td>\n",
       "      <td>2.27566</td>\n",
       "      <td>10877.svs</td>\n",
       "      <td>0.868494</td>\n",
       "      <td>1.04286</td>\n",
       "      <td>3.253573</td>\n",
       "      <td>0.46635</td>\n",
       "    </tr>\n",
       "  </tbody>\n",
       "</table>\n",
       "<p>307 rows × 7 columns</p>\n",
       "</div>"
      ],
      "text/plain": [
       "                                          Log_Speed  rao_Speed  \\\n",
       "10639.svs_229cols_208rows.csv.h5ad        10.044553   1.209956   \n",
       "11038.svs_212cols_191rows.csv.h5ad         7.869209    5.18383   \n",
       "11259.svs_128cols_158rows.csv.h5ad         8.988631   9.233121   \n",
       "NLSI0000070.svs_95cols_115rows.csv.h5ad    9.327631  10.625834   \n",
       "NLSI0000231.svs_145cols_117rows.csv.h5ad   8.731715   4.074367   \n",
       "...                                             ...        ...   \n",
       "9474.svs_248cols_153rows.csv.h5ad          9.150313   0.395053   \n",
       "NLSI0000253.svs_155cols_116rows.csv.h5ad   9.029974   0.905104   \n",
       "10934.svs_229cols_168rows.csv.h5ad         8.533773  22.132325   \n",
       "NLSI0000229.svs_95cols_106rows.csv.h5ad   10.497009   15.05627   \n",
       "10877.svs_346cols_210rows.csv.h5ad          8.60147    2.27566   \n",
       "\n",
       "                                                 filename shannon_index_all  \\\n",
       "10639.svs_229cols_208rows.csv.h5ad              10639.svs          1.202468   \n",
       "11038.svs_212cols_191rows.csv.h5ad              11038.svs          0.665301   \n",
       "11259.svs_128cols_158rows.csv.h5ad              11259.svs           1.21928   \n",
       "NLSI0000070.svs_95cols_115rows.csv.h5ad   NLSI0000070.svs          0.657771   \n",
       "NLSI0000231.svs_145cols_117rows.csv.h5ad  NLSI0000231.svs          0.856814   \n",
       "...                                                   ...               ...   \n",
       "9474.svs_248cols_153rows.csv.h5ad                9474.svs          1.161802   \n",
       "NLSI0000253.svs_155cols_116rows.csv.h5ad  NLSI0000253.svs          1.070826   \n",
       "10934.svs_229cols_168rows.csv.h5ad              10934.svs          1.327731   \n",
       "NLSI0000229.svs_95cols_106rows.csv.h5ad   NLSI0000229.svs           1.06874   \n",
       "10877.svs_346cols_210rows.csv.h5ad              10877.svs          0.868494   \n",
       "\n",
       "                                         shannon_index_tumor  \\\n",
       "10639.svs_229cols_208rows.csv.h5ad                  0.846392   \n",
       "11038.svs_212cols_191rows.csv.h5ad                  0.201032   \n",
       "11259.svs_128cols_158rows.csv.h5ad                  1.065766   \n",
       "NLSI0000070.svs_95cols_115rows.csv.h5ad             0.366555   \n",
       "NLSI0000231.svs_145cols_117rows.csv.h5ad            0.749805   \n",
       "...                                                      ...   \n",
       "9474.svs_248cols_153rows.csv.h5ad                   0.793729   \n",
       "NLSI0000253.svs_155cols_116rows.csv.h5ad            0.664181   \n",
       "10934.svs_229cols_168rows.csv.h5ad                  1.073065   \n",
       "NLSI0000229.svs_95cols_106rows.csv.h5ad             0.929285   \n",
       "10877.svs_346cols_210rows.csv.h5ad                   1.04286   \n",
       "\n",
       "                                         shannon_index_leiden tissue_ratio  \n",
       "10639.svs_229cols_208rows.csv.h5ad                   3.267118     0.413671  \n",
       "11038.svs_212cols_191rows.csv.h5ad                   3.510597     0.582485  \n",
       "11259.svs_128cols_158rows.csv.h5ad                   3.213687       0.6161  \n",
       "NLSI0000070.svs_95cols_115rows.csv.h5ad              3.130358     0.553684  \n",
       "NLSI0000231.svs_145cols_117rows.csv.h5ad             3.226174     0.492367  \n",
       "...                                                       ...          ...  \n",
       "9474.svs_248cols_153rows.csv.h5ad                    3.348059     0.591925  \n",
       "NLSI0000253.svs_155cols_116rows.csv.h5ad             3.196347     0.612013  \n",
       "10934.svs_229cols_168rows.csv.h5ad                   3.201744     0.511749  \n",
       "NLSI0000229.svs_95cols_106rows.csv.h5ad                3.1722     0.636842  \n",
       "10877.svs_346cols_210rows.csv.h5ad                   3.253573      0.46635  \n",
       "\n",
       "[307 rows x 7 columns]"
      ]
     },
     "execution_count": 4,
     "metadata": {},
     "output_type": "execute_result"
    }
   ],
   "source": [
    "paga_outdir = './outputs/6_WSI_pseudotime_phikon_224_nlst'\n",
    "#np.save(os.path.join(paga_outdir,\"slides_metrics_normdist.npy\"), slides_dict)\n",
    "slides_dict = np.load(os.path.join(paga_outdir,\"slides_metrics_normdist.npy\"), allow_pickle=True)\n",
    "pd.DataFrame(slides_dict.item()).T\n"
   ]
  },
  {
   "cell_type": "code",
   "execution_count": 5,
   "id": "5f59d7d7-6b37-4a2d-82d1-efa56da270f5",
   "metadata": {},
   "outputs": [
    {
     "name": "stdout",
     "output_type": "stream",
     "text": [
      "                                          Log_Speed  rao_Speed  \\\n",
      "NLSI0000120.svs_150cols_118rows.csv.h5ad          0        0.0   \n",
      "11361.svs_286cols_210rows.csv.h5ad           8.3532   5.806853   \n",
      "9684.svs_308cols_215rows.csv.h5ad          9.810409  15.415429   \n",
      "9778.svs_286cols_215rows.csv.h5ad         10.294921  23.404733   \n",
      "10675.svs_260cols_210rows.csv.h5ad         8.220527   1.119514   \n",
      "...                                             ...        ...   \n",
      "11113.svs_135cols_170rows.csv.h5ad         8.978988  18.691054   \n",
      "NLSI0000291.svs_135cols_106rows.csv.h5ad   8.361443   1.083606   \n",
      "NLSI0000174.svs_80cols_83rows.csv.h5ad     9.945976  18.138986   \n",
      "9965.svs_243cols_177rows.csv.h5ad          7.903997   1.780448   \n",
      "10128.svs_178cols_57rows.csv.h5ad          9.325098  17.417134   \n",
      "\n",
      "                                                 filename shannon_index_all  \\\n",
      "NLSI0000120.svs_150cols_118rows.csv.h5ad  NLSI0000120.svs          1.069187   \n",
      "11361.svs_286cols_210rows.csv.h5ad              11361.svs           0.49876   \n",
      "9684.svs_308cols_215rows.csv.h5ad                9684.svs          1.091807   \n",
      "9778.svs_286cols_215rows.csv.h5ad                9778.svs          1.055206   \n",
      "10675.svs_260cols_210rows.csv.h5ad              10675.svs          0.552448   \n",
      "...                                                   ...               ...   \n",
      "11113.svs_135cols_170rows.csv.h5ad              11113.svs          0.955411   \n",
      "NLSI0000291.svs_135cols_106rows.csv.h5ad  NLSI0000291.svs          0.866551   \n",
      "NLSI0000174.svs_80cols_83rows.csv.h5ad    NLSI0000174.svs          0.996695   \n",
      "9965.svs_243cols_177rows.csv.h5ad                9965.svs          1.024618   \n",
      "10128.svs_178cols_57rows.csv.h5ad               10128.svs          0.854406   \n",
      "\n",
      "                                         shannon_index_tumor  \\\n",
      "NLSI0000120.svs_150cols_118rows.csv.h5ad            0.681812   \n",
      "11361.svs_286cols_210rows.csv.h5ad                  0.638002   \n",
      "9684.svs_308cols_215rows.csv.h5ad                    0.69231   \n",
      "9778.svs_286cols_215rows.csv.h5ad                   0.668429   \n",
      "10675.svs_260cols_210rows.csv.h5ad                  0.811176   \n",
      "...                                                      ...   \n",
      "11113.svs_135cols_170rows.csv.h5ad                  0.473404   \n",
      "NLSI0000291.svs_135cols_106rows.csv.h5ad            0.347723   \n",
      "NLSI0000174.svs_80cols_83rows.csv.h5ad              0.586268   \n",
      "9965.svs_243cols_177rows.csv.h5ad                   1.066487   \n",
      "10128.svs_178cols_57rows.csv.h5ad                   0.407397   \n",
      "\n",
      "                                         shannon_index_leiden tissue_ratio  \n",
      "NLSI0000120.svs_150cols_118rows.csv.h5ad             3.180113     0.848927  \n",
      "11361.svs_286cols_210rows.csv.h5ad                    3.43622     0.817649  \n",
      "9684.svs_308cols_215rows.csv.h5ad                    3.262616     0.797236  \n",
      "9778.svs_286cols_215rows.csv.h5ad                    3.324821     0.773996  \n",
      "10675.svs_260cols_210rows.csv.h5ad                   3.374665     0.770824  \n",
      "...                                                       ...          ...  \n",
      "11113.svs_135cols_170rows.csv.h5ad                    3.16094     0.301612  \n",
      "NLSI0000291.svs_135cols_106rows.csv.h5ad             3.175574      0.29413  \n",
      "NLSI0000174.svs_80cols_83rows.csv.h5ad               2.983251     0.293373  \n",
      "9965.svs_243cols_177rows.csv.h5ad                     3.48696     0.271419  \n",
      "10128.svs_178cols_57rows.csv.h5ad                    3.288603     0.242362  \n",
      "\n",
      "[307 rows x 7 columns]\n",
      "     Age  Gender  Tobacco.history  Stage  Grade       filename_x  \\\n",
      "225   71       1                0      3      4  NLSI0000120.svs   \n",
      "5     61       1                0      3      3        11361.svs   \n",
      "22    55       1                1      4      3         9684.svs   \n",
      "157   58       2                0      8      4         9778.svs   \n",
      "278   65       1                0      3      3        10675.svs   \n",
      "..   ...     ...              ...    ...    ...              ...   \n",
      "198   65       1                0      3      3         9980.svs   \n",
      "193   64       2                1      3      3         9723.svs   \n",
      "126   64       1                0      3      4         9754.svs   \n",
      "140   55       1                1      3      3  NLSI0000174.svs   \n",
      "78    68       1                0      8      4        10128.svs   \n",
      "\n",
      "     Overall_Survival  vital.status       ID  Log_Speed  ...  speed_tumor  \\\n",
      "225             742.0             1  AA00205   0.000000  ...     0.000000   \n",
      "5              1050.0             0  AA00312   8.353200  ...     6.530139   \n",
      "22              218.0             1  AA00215   9.810409  ...    15.471489   \n",
      "157             972.0             1  AA00596  10.294921  ...    16.251932   \n",
      "278            2497.0             0  AA00466   8.220527  ...     5.598557   \n",
      "..                ...           ...      ...        ...  ...          ...   \n",
      "198            1901.0             0  AA00702   9.003213  ...     4.177408   \n",
      "193            1646.0             0  AA00032   8.210922  ...     8.208007   \n",
      "126             915.0             1  AA00021  10.199960  ...     6.270856   \n",
      "140             691.0             1  AA00418   9.945976  ...    16.908829   \n",
      "78              915.0             1  AA00221   9.325098  ...    19.556892   \n",
      "\n",
      "    speed_normal  speed_leiden  shannon_speed_all  shannon_speed_tumor  \\\n",
      "225     0.000000      0.000000           0.000000             0.000000   \n",
      "5      10.685215     28.703430          16.747932            13.092748   \n",
      "22      6.220741     32.007598           8.985480            14.170536   \n",
      "157     6.521403     34.228773           9.756311            15.401662   \n",
      "278    12.070444     27.741523          14.880169            10.134080   \n",
      "..           ...           ...                ...                  ...   \n",
      "198    19.403862     29.539541          25.126935            11.658666   \n",
      "193     8.213837     28.034049           8.253812             8.250882   \n",
      "126    16.590906     34.856160          20.966842            12.890251   \n",
      "140     5.850342     29.671345           9.978957            16.964900   \n",
      "78      4.446384     30.666543          10.914134            22.889469   \n",
      "\n",
      "    shannon_speed_all_2 shannon_speed_tumor_2 Speed_group Idx_group  \\\n",
      "225            0.000000              0.000000        Slow      Slow   \n",
      "5              4.166242              5.329358        Slow      Fast   \n",
      "22            10.711073              6.791848        Fast      Slow   \n",
      "157           10.863266              6.881426        Fast      Fast   \n",
      "278            4.541418              6.668298        Slow      Fast   \n",
      "..                  ...                   ...         ...       ...   \n",
      "198            3.225935              6.952583        Slow      Slow   \n",
      "193            8.168255              8.171155        Slow      Fast   \n",
      "126            4.962082              8.071152        Fast      Fast   \n",
      "140            9.913103              5.831006        Fast      Slow   \n",
      "78             7.967417              3.799016        Fast      Slow   \n",
      "\n",
      "    Fitness_group  \n",
      "225          Slow  \n",
      "5            Slow  \n",
      "22           Fast  \n",
      "157          Fast  \n",
      "278          Slow  \n",
      "..            ...  \n",
      "198          Slow  \n",
      "193          Slow  \n",
      "126          Fast  \n",
      "140          Slow  \n",
      "78           Fast  \n",
      "\n",
      "[178 rows x 32 columns]\n"
     ]
    }
   ],
   "source": [
    "import math\n",
    "dat = pd.DataFrame(slides_dict.item()).T\n",
    "dat = dat.sort_values(['tissue_ratio'],ascending = False)\n",
    "print(dat)\n",
    "#dat = dat[dat['tissue_ratio'] > 0.5 ]\n",
    "\n",
    "dat['slide_id'] = dat.apply(lambda x: x['filename'].split('_')[0],axis=1)\n",
    "data_df = clinical_df.merge(dat,right_on = \"slide_id\",left_on = \"filename\")\n",
    "cols = [\"rao_Speed\",\"Log_Speed\",'shannon_index_all','shannon_index_tumor','shannon_index_leiden']\n",
    "data_df[cols] = data_df[cols].apply(pd.to_numeric)\n",
    "data_df = data_df.sort_values(['tissue_ratio'],ascending = False).drop_duplicates(subset = 'ID',keep = 'first')\n",
    "\n",
    "data_df['Cancer_Stage'] =data_df['Stage'].apply(lambda x: 'I' if x in ([3,4]) \n",
    "                                                         else ('II' if x in([6,7]) \n",
    "                                                                           else ('III' if x in([8,9]) \n",
    "                                                                                 else 'IV' ))) \n",
    "data_df['Sex'] =data_df['Gender'].apply(lambda x: 'Male' if x in ([1]) \n",
    "                                                         else ('Female' if x in([2]) \n",
    "                                                               else 'Unknown' )) \n",
    "\n",
    "data_df['age_group'] =data_df['Age'].apply(lambda x: '>60' if x >= 60 \n",
    "                                                         else ('<=59' if x<60 \n",
    "                                                               else 'Unknown' )) \n",
    "\n",
    "\n",
    "## keep the slides with highest tissue ratio\n",
    "data_df['index_normal_to_tumor'] = data_df['shannon_index_all']/data_df['shannon_index_tumor']\n",
    "data_df['index_tumor_to_normal'] = data_df['shannon_index_tumor']/data_df['shannon_index_all']\n",
    "data_df['speed_tumor'] = data_df['Log_Speed'] * data_df['index_normal_to_tumor'] \n",
    "data_df['speed_normal'] = data_df['Log_Speed'] * data_df['index_tumor_to_normal'] \n",
    "data_df['speed_leiden'] = data_df['Log_Speed'] * data_df['shannon_index_leiden'] \n",
    "\n",
    "data_df['shannon_speed_all'] = data_df['Log_Speed']/data_df['shannon_index_all']\n",
    "data_df['shannon_speed_tumor'] = data_df['Log_Speed']/data_df['shannon_index_tumor']\n",
    "\n",
    "data_df['shannon_speed_all_2'] = data_df['Log_Speed'] *data_df['shannon_index_all']\n",
    "data_df['shannon_speed_tumor_2'] = data_df['Log_Speed']*data_df['shannon_index_tumor']\n",
    "\n",
    "data_df['Speed_group'] =data_df['Log_Speed'].apply(lambda x: 'Slow' if x <=  np.median(data_df['Log_Speed'])\n",
    "                                                         else ('Fast' )) \n",
    "data_df['Idx_group'] =data_df['shannon_index_leiden'].apply(lambda x: 'Slow' if x <=  np.median(data_df['shannon_index_leiden'])\n",
    "                                                         else ('Fast' )) \n",
    "data_df['Fitness_group'] =data_df['speed_leiden'].apply(lambda x: 'Slow' if x <=  np.median(data_df['speed_leiden'])\n",
    "                                                         else ('Fast' )) \n",
    "\n",
    "\n",
    "\n",
    "data_df.to_csv('data/NLST_ADC.csv', index=True)\n",
    "print(data_df)"
   ]
  },
  {
   "cell_type": "code",
   "execution_count": 37,
   "id": "8230ade7-2d7a-42e8-8d09-4e29ccdc2a89",
   "metadata": {},
   "outputs": [
    {
     "data": {
      "text/plain": [
       "Index(['Age', 'Gender', 'Tobacco.history', 'Stage', 'Grade', 'filename_x',\n",
       "       'Overall_Survival', 'vital.status', 'ID', 'Log_Speed', 'rao_Speed',\n",
       "       'filename_y', 'shannon_index_all', 'shannon_index_tumor',\n",
       "       'shannon_index_leiden', 'tissue_ratio', 'slide_id', 'Cancer_Stage',\n",
       "       'index_normal_to_tumor', 'index_tumor_to_normal', 'speed_tumor',\n",
       "       'speed_normal', 'speed_leiden', 'shannon_speed_all',\n",
       "       'shannon_speed_tumor', 'shannon_speed_all_2', 'shannon_speed_tumor_2'],\n",
       "      dtype='object')"
      ]
     },
     "execution_count": 37,
     "metadata": {},
     "output_type": "execute_result"
    }
   ],
   "source": [
    "data_df.columns"
   ]
  },
  {
   "cell_type": "code",
   "execution_count": 45,
   "id": "06468361-2bf9-4789-9165-f92ff6002f85",
   "metadata": {},
   "outputs": [
    {
     "data": {
      "text/html": [
       "<div>\n",
       "<style scoped>\n",
       "    .dataframe tbody tr th:only-of-type {\n",
       "        vertical-align: middle;\n",
       "    }\n",
       "\n",
       "    .dataframe tbody tr th {\n",
       "        vertical-align: top;\n",
       "    }\n",
       "\n",
       "    .dataframe thead th {\n",
       "        text-align: right;\n",
       "    }\n",
       "</style>\n",
       "<table border=\"1\" class=\"dataframe\">\n",
       "  <thead>\n",
       "    <tr style=\"text-align: right;\">\n",
       "      <th></th>\n",
       "      <th>Cancer_Stage</th>\n",
       "      <th>Sex</th>\n",
       "    </tr>\n",
       "  </thead>\n",
       "  <tbody>\n",
       "    <tr>\n",
       "      <th>225</th>\n",
       "      <td>I</td>\n",
       "      <td>Male</td>\n",
       "    </tr>\n",
       "    <tr>\n",
       "      <th>5</th>\n",
       "      <td>I</td>\n",
       "      <td>Male</td>\n",
       "    </tr>\n",
       "    <tr>\n",
       "      <th>22</th>\n",
       "      <td>I</td>\n",
       "      <td>Male</td>\n",
       "    </tr>\n",
       "    <tr>\n",
       "      <th>157</th>\n",
       "      <td>III</td>\n",
       "      <td>Female</td>\n",
       "    </tr>\n",
       "    <tr>\n",
       "      <th>278</th>\n",
       "      <td>I</td>\n",
       "      <td>Male</td>\n",
       "    </tr>\n",
       "    <tr>\n",
       "      <th>...</th>\n",
       "      <td>...</td>\n",
       "      <td>...</td>\n",
       "    </tr>\n",
       "    <tr>\n",
       "      <th>198</th>\n",
       "      <td>I</td>\n",
       "      <td>Male</td>\n",
       "    </tr>\n",
       "    <tr>\n",
       "      <th>193</th>\n",
       "      <td>I</td>\n",
       "      <td>Female</td>\n",
       "    </tr>\n",
       "    <tr>\n",
       "      <th>126</th>\n",
       "      <td>I</td>\n",
       "      <td>Male</td>\n",
       "    </tr>\n",
       "    <tr>\n",
       "      <th>140</th>\n",
       "      <td>I</td>\n",
       "      <td>Male</td>\n",
       "    </tr>\n",
       "    <tr>\n",
       "      <th>78</th>\n",
       "      <td>III</td>\n",
       "      <td>Male</td>\n",
       "    </tr>\n",
       "  </tbody>\n",
       "</table>\n",
       "<p>178 rows × 2 columns</p>\n",
       "</div>"
      ],
      "text/plain": [
       "    Cancer_Stage     Sex\n",
       "225            I    Male\n",
       "5              I    Male\n",
       "22             I    Male\n",
       "157          III  Female\n",
       "278            I    Male\n",
       "..           ...     ...\n",
       "198            I    Male\n",
       "193            I  Female\n",
       "126            I    Male\n",
       "140            I    Male\n",
       "78           III    Male\n",
       "\n",
       "[178 rows x 2 columns]"
      ]
     },
     "execution_count": 45,
     "metadata": {},
     "output_type": "execute_result"
    }
   ],
   "source": [
    "data_df[['Cancer_Stage','Sex']]"
   ]
  },
  {
   "cell_type": "code",
   "execution_count": 8,
   "id": "1da0fefc-8a42-494a-826d-c6c97f21b6d8",
   "metadata": {},
   "outputs": [
    {
     "name": "stdout",
     "output_type": "stream",
     "text": [
      "(147, 32) Stage\n",
      "3     80\n",
      "4     23\n",
      "8     13\n",
      "6      9\n",
      "9      8\n",
      "7      7\n",
      "10     7\n",
      "Name: count, dtype: int64\n"
     ]
    },
    {
     "data": {
      "text/html": [
       "<div>\n",
       "<style scoped>\n",
       "    .dataframe tbody tr th:only-of-type {\n",
       "        vertical-align: middle;\n",
       "    }\n",
       "\n",
       "    .dataframe tbody tr th {\n",
       "        vertical-align: top;\n",
       "    }\n",
       "\n",
       "    .dataframe thead th {\n",
       "        text-align: right;\n",
       "    }\n",
       "</style>\n",
       "<table border=\"1\" class=\"dataframe\">\n",
       "  <tbody>\n",
       "    <tr>\n",
       "      <th>model</th>\n",
       "      <td>lifelines.CoxPHFitter</td>\n",
       "    </tr>\n",
       "    <tr>\n",
       "      <th>duration col</th>\n",
       "      <td>'Overall_Survival'</td>\n",
       "    </tr>\n",
       "    <tr>\n",
       "      <th>event col</th>\n",
       "      <td>'vital.status'</td>\n",
       "    </tr>\n",
       "    <tr>\n",
       "      <th>baseline estimation</th>\n",
       "      <td>breslow</td>\n",
       "    </tr>\n",
       "    <tr>\n",
       "      <th>number of observations</th>\n",
       "      <td>178</td>\n",
       "    </tr>\n",
       "    <tr>\n",
       "      <th>number of events observed</th>\n",
       "      <td>53</td>\n",
       "    </tr>\n",
       "    <tr>\n",
       "      <th>partial log-likelihood</th>\n",
       "      <td>-248.39</td>\n",
       "    </tr>\n",
       "    <tr>\n",
       "      <th>time fit was run</th>\n",
       "      <td>2024-12-20 19:09:22 UTC</td>\n",
       "    </tr>\n",
       "  </tbody>\n",
       "</table>\n",
       "</div><table border=\"1\" class=\"dataframe\">\n",
       "  <thead>\n",
       "    <tr style=\"text-align: right;\">\n",
       "      <th style=\"min-width: 12px;\"></th>\n",
       "      <th style=\"min-width: 12px;\">coef</th>\n",
       "      <th style=\"min-width: 12px;\">exp(coef)</th>\n",
       "      <th style=\"min-width: 12px;\">se(coef)</th>\n",
       "      <th style=\"min-width: 12px;\">coef lower 95%</th>\n",
       "      <th style=\"min-width: 12px;\">coef upper 95%</th>\n",
       "      <th style=\"min-width: 12px;\">exp(coef) lower 95%</th>\n",
       "      <th style=\"min-width: 12px;\">exp(coef) upper 95%</th>\n",
       "      <th style=\"min-width: 12px;\">cmp to</th>\n",
       "      <th style=\"min-width: 12px;\">z</th>\n",
       "      <th style=\"min-width: 12px;\">p</th>\n",
       "      <th style=\"min-width: 12px;\">-log2(p)</th>\n",
       "    </tr>\n",
       "  </thead>\n",
       "  <tbody>\n",
       "    <tr>\n",
       "      <th>Cancer_Stage[T.II]</th>\n",
       "      <td>0.68</td>\n",
       "      <td>1.97</td>\n",
       "      <td>0.42</td>\n",
       "      <td>-0.15</td>\n",
       "      <td>1.51</td>\n",
       "      <td>0.86</td>\n",
       "      <td>4.54</td>\n",
       "      <td>0.00</td>\n",
       "      <td>1.60</td>\n",
       "      <td>0.11</td>\n",
       "      <td>3.20</td>\n",
       "    </tr>\n",
       "    <tr>\n",
       "      <th>Cancer_Stage[T.III]</th>\n",
       "      <td>1.46</td>\n",
       "      <td>4.31</td>\n",
       "      <td>0.32</td>\n",
       "      <td>0.83</td>\n",
       "      <td>2.10</td>\n",
       "      <td>2.28</td>\n",
       "      <td>8.13</td>\n",
       "      <td>0.00</td>\n",
       "      <td>4.51</td>\n",
       "      <td>&lt;0.005</td>\n",
       "      <td>17.23</td>\n",
       "    </tr>\n",
       "    <tr>\n",
       "      <th>Cancer_Stage[T.IV]</th>\n",
       "      <td>1.40</td>\n",
       "      <td>4.04</td>\n",
       "      <td>0.54</td>\n",
       "      <td>0.34</td>\n",
       "      <td>2.45</td>\n",
       "      <td>1.41</td>\n",
       "      <td>11.59</td>\n",
       "      <td>0.00</td>\n",
       "      <td>2.60</td>\n",
       "      <td>0.01</td>\n",
       "      <td>6.75</td>\n",
       "    </tr>\n",
       "  </tbody>\n",
       "</table><br><div>\n",
       "<style scoped>\n",
       "    .dataframe tbody tr th:only-of-type {\n",
       "        vertical-align: middle;\n",
       "    }\n",
       "\n",
       "    .dataframe tbody tr th {\n",
       "        vertical-align: top;\n",
       "    }\n",
       "\n",
       "    .dataframe thead th {\n",
       "        text-align: right;\n",
       "    }\n",
       "</style>\n",
       "<table border=\"1\" class=\"dataframe\">\n",
       "  <tbody>\n",
       "    <tr>\n",
       "      <th>Concordance</th>\n",
       "      <td>0.65</td>\n",
       "    </tr>\n",
       "    <tr>\n",
       "      <th>Partial AIC</th>\n",
       "      <td>502.79</td>\n",
       "    </tr>\n",
       "    <tr>\n",
       "      <th>log-likelihood ratio test</th>\n",
       "      <td>20.41 on 3 df</td>\n",
       "    </tr>\n",
       "    <tr>\n",
       "      <th>-log2(p) of ll-ratio test</th>\n",
       "      <td>12.80</td>\n",
       "    </tr>\n",
       "  </tbody>\n",
       "</table>\n",
       "</div>"
      ],
      "text/latex": [
       "\\begin{tabular}{lrrrrrrrrrrr}\n",
       " & coef & exp(coef) & se(coef) & coef lower 95% & coef upper 95% & exp(coef) lower 95% & exp(coef) upper 95% & cmp to & z & p & -log2(p) \\\\\n",
       "covariate &  &  &  &  &  &  &  &  &  &  &  \\\\\n",
       "Cancer_Stage[T.II] & 0.68 & 1.97 & 0.42 & -0.15 & 1.51 & 0.86 & 4.54 & 0.00 & 1.60 & 0.11 & 3.20 \\\\\n",
       "Cancer_Stage[T.III] & 1.46 & 4.31 & 0.32 & 0.83 & 2.10 & 2.28 & 8.13 & 0.00 & 4.51 & 0.00 & 17.23 \\\\\n",
       "Cancer_Stage[T.IV] & 1.40 & 4.04 & 0.54 & 0.34 & 2.45 & 1.41 & 11.59 & 0.00 & 2.60 & 0.01 & 6.75 \\\\\n",
       "\\end{tabular}\n"
      ],
      "text/plain": [
       "<lifelines.CoxPHFitter: fitted with 178 total observations, 125 right-censored observations>\n",
       "             duration col = 'Overall_Survival'\n",
       "                event col = 'vital.status'\n",
       "      baseline estimation = breslow\n",
       "   number of observations = 178\n",
       "number of events observed = 53\n",
       "   partial log-likelihood = -248.39\n",
       "         time fit was run = 2024-12-20 19:09:22 UTC\n",
       "\n",
       "---\n",
       "                     coef exp(coef)  se(coef)  coef lower 95%  coef upper 95% exp(coef) lower 95% exp(coef) upper 95%\n",
       "covariate                                                                                                            \n",
       "Cancer_Stage[T.II]   0.68      1.97      0.42           -0.15            1.51                0.86                4.54\n",
       "Cancer_Stage[T.III]  1.46      4.31      0.32            0.83            2.10                2.28                8.13\n",
       "Cancer_Stage[T.IV]   1.40      4.04      0.54            0.34            2.45                1.41               11.59\n",
       "\n",
       "                     cmp to    z      p  -log2(p)\n",
       "covariate                                        \n",
       "Cancer_Stage[T.II]     0.00 1.60   0.11      3.20\n",
       "Cancer_Stage[T.III]    0.00 4.51 <0.005     17.23\n",
       "Cancer_Stage[T.IV]     0.00 2.60   0.01      6.75\n",
       "---\n",
       "Concordance = 0.65\n",
       "Partial AIC = 502.79\n",
       "log-likelihood ratio test = 20.41 on 3 df\n",
       "-log2(p) of ll-ratio test = 12.80"
      ]
     },
     "metadata": {},
     "output_type": "display_data"
    },
    {
     "data": {
      "text/html": [
       "<div>\n",
       "<style scoped>\n",
       "    .dataframe tbody tr th:only-of-type {\n",
       "        vertical-align: middle;\n",
       "    }\n",
       "\n",
       "    .dataframe tbody tr th {\n",
       "        vertical-align: top;\n",
       "    }\n",
       "\n",
       "    .dataframe thead th {\n",
       "        text-align: right;\n",
       "    }\n",
       "</style>\n",
       "<table border=\"1\" class=\"dataframe\">\n",
       "  <tbody>\n",
       "    <tr>\n",
       "      <th>model</th>\n",
       "      <td>lifelines.CoxPHFitter</td>\n",
       "    </tr>\n",
       "    <tr>\n",
       "      <th>duration col</th>\n",
       "      <td>'Overall_Survival'</td>\n",
       "    </tr>\n",
       "    <tr>\n",
       "      <th>event col</th>\n",
       "      <td>'vital.status'</td>\n",
       "    </tr>\n",
       "    <tr>\n",
       "      <th>baseline estimation</th>\n",
       "      <td>breslow</td>\n",
       "    </tr>\n",
       "    <tr>\n",
       "      <th>number of observations</th>\n",
       "      <td>178</td>\n",
       "    </tr>\n",
       "    <tr>\n",
       "      <th>number of events observed</th>\n",
       "      <td>53</td>\n",
       "    </tr>\n",
       "    <tr>\n",
       "      <th>partial log-likelihood</th>\n",
       "      <td>-257.75</td>\n",
       "    </tr>\n",
       "    <tr>\n",
       "      <th>time fit was run</th>\n",
       "      <td>2024-12-20 19:09:23 UTC</td>\n",
       "    </tr>\n",
       "  </tbody>\n",
       "</table>\n",
       "</div><table border=\"1\" class=\"dataframe\">\n",
       "  <thead>\n",
       "    <tr style=\"text-align: right;\">\n",
       "      <th style=\"min-width: 12px;\"></th>\n",
       "      <th style=\"min-width: 12px;\">coef</th>\n",
       "      <th style=\"min-width: 12px;\">exp(coef)</th>\n",
       "      <th style=\"min-width: 12px;\">se(coef)</th>\n",
       "      <th style=\"min-width: 12px;\">coef lower 95%</th>\n",
       "      <th style=\"min-width: 12px;\">coef upper 95%</th>\n",
       "      <th style=\"min-width: 12px;\">exp(coef) lower 95%</th>\n",
       "      <th style=\"min-width: 12px;\">exp(coef) upper 95%</th>\n",
       "      <th style=\"min-width: 12px;\">cmp to</th>\n",
       "      <th style=\"min-width: 12px;\">z</th>\n",
       "      <th style=\"min-width: 12px;\">p</th>\n",
       "      <th style=\"min-width: 12px;\">-log2(p)</th>\n",
       "    </tr>\n",
       "  </thead>\n",
       "  <tbody>\n",
       "    <tr>\n",
       "      <th>Sex[T.Male]</th>\n",
       "      <td>0.36</td>\n",
       "      <td>1.43</td>\n",
       "      <td>0.28</td>\n",
       "      <td>-0.19</td>\n",
       "      <td>0.91</td>\n",
       "      <td>0.83</td>\n",
       "      <td>2.48</td>\n",
       "      <td>0.00</td>\n",
       "      <td>1.29</td>\n",
       "      <td>0.20</td>\n",
       "      <td>2.34</td>\n",
       "    </tr>\n",
       "  </tbody>\n",
       "</table><br><div>\n",
       "<style scoped>\n",
       "    .dataframe tbody tr th:only-of-type {\n",
       "        vertical-align: middle;\n",
       "    }\n",
       "\n",
       "    .dataframe tbody tr th {\n",
       "        vertical-align: top;\n",
       "    }\n",
       "\n",
       "    .dataframe thead th {\n",
       "        text-align: right;\n",
       "    }\n",
       "</style>\n",
       "<table border=\"1\" class=\"dataframe\">\n",
       "  <tbody>\n",
       "    <tr>\n",
       "      <th>Concordance</th>\n",
       "      <td>0.55</td>\n",
       "    </tr>\n",
       "    <tr>\n",
       "      <th>Partial AIC</th>\n",
       "      <td>517.51</td>\n",
       "    </tr>\n",
       "    <tr>\n",
       "      <th>log-likelihood ratio test</th>\n",
       "      <td>1.69 on 1 df</td>\n",
       "    </tr>\n",
       "    <tr>\n",
       "      <th>-log2(p) of ll-ratio test</th>\n",
       "      <td>2.37</td>\n",
       "    </tr>\n",
       "  </tbody>\n",
       "</table>\n",
       "</div>"
      ],
      "text/latex": [
       "\\begin{tabular}{lrrrrrrrrrrr}\n",
       " & coef & exp(coef) & se(coef) & coef lower 95% & coef upper 95% & exp(coef) lower 95% & exp(coef) upper 95% & cmp to & z & p & -log2(p) \\\\\n",
       "covariate &  &  &  &  &  &  &  &  &  &  &  \\\\\n",
       "Sex[T.Male] & 0.36 & 1.43 & 0.28 & -0.19 & 0.91 & 0.83 & 2.48 & 0.00 & 1.29 & 0.20 & 2.34 \\\\\n",
       "\\end{tabular}\n"
      ],
      "text/plain": [
       "<lifelines.CoxPHFitter: fitted with 178 total observations, 125 right-censored observations>\n",
       "             duration col = 'Overall_Survival'\n",
       "                event col = 'vital.status'\n",
       "      baseline estimation = breslow\n",
       "   number of observations = 178\n",
       "number of events observed = 53\n",
       "   partial log-likelihood = -257.75\n",
       "         time fit was run = 2024-12-20 19:09:23 UTC\n",
       "\n",
       "---\n",
       "             coef exp(coef)  se(coef)  coef lower 95%  coef upper 95% exp(coef) lower 95% exp(coef) upper 95%\n",
       "covariate                                                                                                    \n",
       "Sex[T.Male]  0.36      1.43      0.28           -0.19            0.91                0.83                2.48\n",
       "\n",
       "             cmp to    z    p  -log2(p)\n",
       "covariate                              \n",
       "Sex[T.Male]    0.00 1.29 0.20      2.34\n",
       "---\n",
       "Concordance = 0.55\n",
       "Partial AIC = 517.51\n",
       "log-likelihood ratio test = 1.69 on 1 df\n",
       "-log2(p) of ll-ratio test = 2.37"
      ]
     },
     "metadata": {},
     "output_type": "display_data"
    },
    {
     "data": {
      "text/html": [
       "<div>\n",
       "<style scoped>\n",
       "    .dataframe tbody tr th:only-of-type {\n",
       "        vertical-align: middle;\n",
       "    }\n",
       "\n",
       "    .dataframe tbody tr th {\n",
       "        vertical-align: top;\n",
       "    }\n",
       "\n",
       "    .dataframe thead th {\n",
       "        text-align: right;\n",
       "    }\n",
       "</style>\n",
       "<table border=\"1\" class=\"dataframe\">\n",
       "  <tbody>\n",
       "    <tr>\n",
       "      <th>model</th>\n",
       "      <td>lifelines.CoxPHFitter</td>\n",
       "    </tr>\n",
       "    <tr>\n",
       "      <th>duration col</th>\n",
       "      <td>'Overall_Survival'</td>\n",
       "    </tr>\n",
       "    <tr>\n",
       "      <th>event col</th>\n",
       "      <td>'vital.status'</td>\n",
       "    </tr>\n",
       "    <tr>\n",
       "      <th>baseline estimation</th>\n",
       "      <td>breslow</td>\n",
       "    </tr>\n",
       "    <tr>\n",
       "      <th>number of observations</th>\n",
       "      <td>178</td>\n",
       "    </tr>\n",
       "    <tr>\n",
       "      <th>number of events observed</th>\n",
       "      <td>53</td>\n",
       "    </tr>\n",
       "    <tr>\n",
       "      <th>partial log-likelihood</th>\n",
       "      <td>-252.22</td>\n",
       "    </tr>\n",
       "    <tr>\n",
       "      <th>time fit was run</th>\n",
       "      <td>2024-12-20 19:09:24 UTC</td>\n",
       "    </tr>\n",
       "  </tbody>\n",
       "</table>\n",
       "</div><table border=\"1\" class=\"dataframe\">\n",
       "  <thead>\n",
       "    <tr style=\"text-align: right;\">\n",
       "      <th style=\"min-width: 12px;\"></th>\n",
       "      <th style=\"min-width: 12px;\">coef</th>\n",
       "      <th style=\"min-width: 12px;\">exp(coef)</th>\n",
       "      <th style=\"min-width: 12px;\">se(coef)</th>\n",
       "      <th style=\"min-width: 12px;\">coef lower 95%</th>\n",
       "      <th style=\"min-width: 12px;\">coef upper 95%</th>\n",
       "      <th style=\"min-width: 12px;\">exp(coef) lower 95%</th>\n",
       "      <th style=\"min-width: 12px;\">exp(coef) upper 95%</th>\n",
       "      <th style=\"min-width: 12px;\">cmp to</th>\n",
       "      <th style=\"min-width: 12px;\">z</th>\n",
       "      <th style=\"min-width: 12px;\">p</th>\n",
       "      <th style=\"min-width: 12px;\">-log2(p)</th>\n",
       "    </tr>\n",
       "  </thead>\n",
       "  <tbody>\n",
       "    <tr>\n",
       "      <th>Speed_group[T.Slow]</th>\n",
       "      <td>-1.03</td>\n",
       "      <td>0.36</td>\n",
       "      <td>0.31</td>\n",
       "      <td>-1.63</td>\n",
       "      <td>-0.43</td>\n",
       "      <td>0.20</td>\n",
       "      <td>0.65</td>\n",
       "      <td>0.00</td>\n",
       "      <td>-3.38</td>\n",
       "      <td>&lt;0.005</td>\n",
       "      <td>10.41</td>\n",
       "    </tr>\n",
       "  </tbody>\n",
       "</table><br><div>\n",
       "<style scoped>\n",
       "    .dataframe tbody tr th:only-of-type {\n",
       "        vertical-align: middle;\n",
       "    }\n",
       "\n",
       "    .dataframe tbody tr th {\n",
       "        vertical-align: top;\n",
       "    }\n",
       "\n",
       "    .dataframe thead th {\n",
       "        text-align: right;\n",
       "    }\n",
       "</style>\n",
       "<table border=\"1\" class=\"dataframe\">\n",
       "  <tbody>\n",
       "    <tr>\n",
       "      <th>Concordance</th>\n",
       "      <td>0.61</td>\n",
       "    </tr>\n",
       "    <tr>\n",
       "      <th>Partial AIC</th>\n",
       "      <td>506.44</td>\n",
       "    </tr>\n",
       "    <tr>\n",
       "      <th>log-likelihood ratio test</th>\n",
       "      <td>12.75 on 1 df</td>\n",
       "    </tr>\n",
       "    <tr>\n",
       "      <th>-log2(p) of ll-ratio test</th>\n",
       "      <td>11.46</td>\n",
       "    </tr>\n",
       "  </tbody>\n",
       "</table>\n",
       "</div>"
      ],
      "text/latex": [
       "\\begin{tabular}{lrrrrrrrrrrr}\n",
       " & coef & exp(coef) & se(coef) & coef lower 95% & coef upper 95% & exp(coef) lower 95% & exp(coef) upper 95% & cmp to & z & p & -log2(p) \\\\\n",
       "covariate &  &  &  &  &  &  &  &  &  &  &  \\\\\n",
       "Speed_group[T.Slow] & -1.03 & 0.36 & 0.31 & -1.63 & -0.43 & 0.20 & 0.65 & 0.00 & -3.38 & 0.00 & 10.41 \\\\\n",
       "\\end{tabular}\n"
      ],
      "text/plain": [
       "<lifelines.CoxPHFitter: fitted with 178 total observations, 125 right-censored observations>\n",
       "             duration col = 'Overall_Survival'\n",
       "                event col = 'vital.status'\n",
       "      baseline estimation = breslow\n",
       "   number of observations = 178\n",
       "number of events observed = 53\n",
       "   partial log-likelihood = -252.22\n",
       "         time fit was run = 2024-12-20 19:09:24 UTC\n",
       "\n",
       "---\n",
       "                     coef exp(coef)  se(coef)  coef lower 95%  coef upper 95% exp(coef) lower 95% exp(coef) upper 95%\n",
       "covariate                                                                                                            \n",
       "Speed_group[T.Slow] -1.03      0.36      0.31           -1.63           -0.43                0.20                0.65\n",
       "\n",
       "                     cmp to     z      p  -log2(p)\n",
       "covariate                                         \n",
       "Speed_group[T.Slow]    0.00 -3.38 <0.005     10.41\n",
       "---\n",
       "Concordance = 0.61\n",
       "Partial AIC = 506.44\n",
       "log-likelihood ratio test = 12.75 on 1 df\n",
       "-log2(p) of ll-ratio test = 11.46"
      ]
     },
     "metadata": {},
     "output_type": "display_data"
    },
    {
     "data": {
      "text/html": [
       "<div>\n",
       "<style scoped>\n",
       "    .dataframe tbody tr th:only-of-type {\n",
       "        vertical-align: middle;\n",
       "    }\n",
       "\n",
       "    .dataframe tbody tr th {\n",
       "        vertical-align: top;\n",
       "    }\n",
       "\n",
       "    .dataframe thead th {\n",
       "        text-align: right;\n",
       "    }\n",
       "</style>\n",
       "<table border=\"1\" class=\"dataframe\">\n",
       "  <tbody>\n",
       "    <tr>\n",
       "      <th>model</th>\n",
       "      <td>lifelines.CoxPHFitter</td>\n",
       "    </tr>\n",
       "    <tr>\n",
       "      <th>duration col</th>\n",
       "      <td>'Overall_Survival'</td>\n",
       "    </tr>\n",
       "    <tr>\n",
       "      <th>event col</th>\n",
       "      <td>'vital.status'</td>\n",
       "    </tr>\n",
       "    <tr>\n",
       "      <th>baseline estimation</th>\n",
       "      <td>breslow</td>\n",
       "    </tr>\n",
       "    <tr>\n",
       "      <th>number of observations</th>\n",
       "      <td>178</td>\n",
       "    </tr>\n",
       "    <tr>\n",
       "      <th>number of events observed</th>\n",
       "      <td>53</td>\n",
       "    </tr>\n",
       "    <tr>\n",
       "      <th>partial log-likelihood</th>\n",
       "      <td>-257.04</td>\n",
       "    </tr>\n",
       "    <tr>\n",
       "      <th>time fit was run</th>\n",
       "      <td>2024-12-20 19:09:24 UTC</td>\n",
       "    </tr>\n",
       "  </tbody>\n",
       "</table>\n",
       "</div><table border=\"1\" class=\"dataframe\">\n",
       "  <thead>\n",
       "    <tr style=\"text-align: right;\">\n",
       "      <th style=\"min-width: 12px;\"></th>\n",
       "      <th style=\"min-width: 12px;\">coef</th>\n",
       "      <th style=\"min-width: 12px;\">exp(coef)</th>\n",
       "      <th style=\"min-width: 12px;\">se(coef)</th>\n",
       "      <th style=\"min-width: 12px;\">coef lower 95%</th>\n",
       "      <th style=\"min-width: 12px;\">coef upper 95%</th>\n",
       "      <th style=\"min-width: 12px;\">exp(coef) lower 95%</th>\n",
       "      <th style=\"min-width: 12px;\">exp(coef) upper 95%</th>\n",
       "      <th style=\"min-width: 12px;\">cmp to</th>\n",
       "      <th style=\"min-width: 12px;\">z</th>\n",
       "      <th style=\"min-width: 12px;\">p</th>\n",
       "      <th style=\"min-width: 12px;\">-log2(p)</th>\n",
       "    </tr>\n",
       "  </thead>\n",
       "  <tbody>\n",
       "    <tr>\n",
       "      <th>Idx_group[T.Slow]</th>\n",
       "      <td>-0.49</td>\n",
       "      <td>0.61</td>\n",
       "      <td>0.28</td>\n",
       "      <td>-1.04</td>\n",
       "      <td>0.06</td>\n",
       "      <td>0.35</td>\n",
       "      <td>1.06</td>\n",
       "      <td>0.00</td>\n",
       "      <td>-1.75</td>\n",
       "      <td>0.08</td>\n",
       "      <td>3.64</td>\n",
       "    </tr>\n",
       "  </tbody>\n",
       "</table><br><div>\n",
       "<style scoped>\n",
       "    .dataframe tbody tr th:only-of-type {\n",
       "        vertical-align: middle;\n",
       "    }\n",
       "\n",
       "    .dataframe tbody tr th {\n",
       "        vertical-align: top;\n",
       "    }\n",
       "\n",
       "    .dataframe thead th {\n",
       "        text-align: right;\n",
       "    }\n",
       "</style>\n",
       "<table border=\"1\" class=\"dataframe\">\n",
       "  <tbody>\n",
       "    <tr>\n",
       "      <th>Concordance</th>\n",
       "      <td>0.56</td>\n",
       "    </tr>\n",
       "    <tr>\n",
       "      <th>Partial AIC</th>\n",
       "      <td>516.07</td>\n",
       "    </tr>\n",
       "    <tr>\n",
       "      <th>log-likelihood ratio test</th>\n",
       "      <td>3.12 on 1 df</td>\n",
       "    </tr>\n",
       "    <tr>\n",
       "      <th>-log2(p) of ll-ratio test</th>\n",
       "      <td>3.69</td>\n",
       "    </tr>\n",
       "  </tbody>\n",
       "</table>\n",
       "</div>"
      ],
      "text/latex": [
       "\\begin{tabular}{lrrrrrrrrrrr}\n",
       " & coef & exp(coef) & se(coef) & coef lower 95% & coef upper 95% & exp(coef) lower 95% & exp(coef) upper 95% & cmp to & z & p & -log2(p) \\\\\n",
       "covariate &  &  &  &  &  &  &  &  &  &  &  \\\\\n",
       "Idx_group[T.Slow] & -0.49 & 0.61 & 0.28 & -1.04 & 0.06 & 0.35 & 1.06 & 0.00 & -1.75 & 0.08 & 3.64 \\\\\n",
       "\\end{tabular}\n"
      ],
      "text/plain": [
       "<lifelines.CoxPHFitter: fitted with 178 total observations, 125 right-censored observations>\n",
       "             duration col = 'Overall_Survival'\n",
       "                event col = 'vital.status'\n",
       "      baseline estimation = breslow\n",
       "   number of observations = 178\n",
       "number of events observed = 53\n",
       "   partial log-likelihood = -257.04\n",
       "         time fit was run = 2024-12-20 19:09:24 UTC\n",
       "\n",
       "---\n",
       "                   coef exp(coef)  se(coef)  coef lower 95%  coef upper 95% exp(coef) lower 95% exp(coef) upper 95%\n",
       "covariate                                                                                                          \n",
       "Idx_group[T.Slow] -0.49      0.61      0.28           -1.04            0.06                0.35                1.06\n",
       "\n",
       "                   cmp to     z    p  -log2(p)\n",
       "covariate                                     \n",
       "Idx_group[T.Slow]    0.00 -1.75 0.08      3.64\n",
       "---\n",
       "Concordance = 0.56\n",
       "Partial AIC = 516.07\n",
       "log-likelihood ratio test = 3.12 on 1 df\n",
       "-log2(p) of ll-ratio test = 3.69"
      ]
     },
     "metadata": {},
     "output_type": "display_data"
    },
    {
     "data": {
      "text/html": [
       "<div>\n",
       "<style scoped>\n",
       "    .dataframe tbody tr th:only-of-type {\n",
       "        vertical-align: middle;\n",
       "    }\n",
       "\n",
       "    .dataframe tbody tr th {\n",
       "        vertical-align: top;\n",
       "    }\n",
       "\n",
       "    .dataframe thead th {\n",
       "        text-align: right;\n",
       "    }\n",
       "</style>\n",
       "<table border=\"1\" class=\"dataframe\">\n",
       "  <tbody>\n",
       "    <tr>\n",
       "      <th>model</th>\n",
       "      <td>lifelines.CoxPHFitter</td>\n",
       "    </tr>\n",
       "    <tr>\n",
       "      <th>duration col</th>\n",
       "      <td>'Overall_Survival'</td>\n",
       "    </tr>\n",
       "    <tr>\n",
       "      <th>event col</th>\n",
       "      <td>'vital.status'</td>\n",
       "    </tr>\n",
       "    <tr>\n",
       "      <th>baseline estimation</th>\n",
       "      <td>breslow</td>\n",
       "    </tr>\n",
       "    <tr>\n",
       "      <th>number of observations</th>\n",
       "      <td>178</td>\n",
       "    </tr>\n",
       "    <tr>\n",
       "      <th>number of events observed</th>\n",
       "      <td>53</td>\n",
       "    </tr>\n",
       "    <tr>\n",
       "      <th>partial log-likelihood</th>\n",
       "      <td>-252.28</td>\n",
       "    </tr>\n",
       "    <tr>\n",
       "      <th>time fit was run</th>\n",
       "      <td>2024-12-20 19:09:24 UTC</td>\n",
       "    </tr>\n",
       "  </tbody>\n",
       "</table>\n",
       "</div><table border=\"1\" class=\"dataframe\">\n",
       "  <thead>\n",
       "    <tr style=\"text-align: right;\">\n",
       "      <th style=\"min-width: 12px;\"></th>\n",
       "      <th style=\"min-width: 12px;\">coef</th>\n",
       "      <th style=\"min-width: 12px;\">exp(coef)</th>\n",
       "      <th style=\"min-width: 12px;\">se(coef)</th>\n",
       "      <th style=\"min-width: 12px;\">coef lower 95%</th>\n",
       "      <th style=\"min-width: 12px;\">coef upper 95%</th>\n",
       "      <th style=\"min-width: 12px;\">exp(coef) lower 95%</th>\n",
       "      <th style=\"min-width: 12px;\">exp(coef) upper 95%</th>\n",
       "      <th style=\"min-width: 12px;\">cmp to</th>\n",
       "      <th style=\"min-width: 12px;\">z</th>\n",
       "      <th style=\"min-width: 12px;\">p</th>\n",
       "      <th style=\"min-width: 12px;\">-log2(p)</th>\n",
       "    </tr>\n",
       "  </thead>\n",
       "  <tbody>\n",
       "    <tr>\n",
       "      <th>Fitness_group[T.Slow]</th>\n",
       "      <td>-1.03</td>\n",
       "      <td>0.36</td>\n",
       "      <td>0.31</td>\n",
       "      <td>-1.62</td>\n",
       "      <td>-0.43</td>\n",
       "      <td>0.20</td>\n",
       "      <td>0.65</td>\n",
       "      <td>0.00</td>\n",
       "      <td>-3.36</td>\n",
       "      <td>&lt;0.005</td>\n",
       "      <td>10.33</td>\n",
       "    </tr>\n",
       "  </tbody>\n",
       "</table><br><div>\n",
       "<style scoped>\n",
       "    .dataframe tbody tr th:only-of-type {\n",
       "        vertical-align: middle;\n",
       "    }\n",
       "\n",
       "    .dataframe tbody tr th {\n",
       "        vertical-align: top;\n",
       "    }\n",
       "\n",
       "    .dataframe thead th {\n",
       "        text-align: right;\n",
       "    }\n",
       "</style>\n",
       "<table border=\"1\" class=\"dataframe\">\n",
       "  <tbody>\n",
       "    <tr>\n",
       "      <th>Concordance</th>\n",
       "      <td>0.60</td>\n",
       "    </tr>\n",
       "    <tr>\n",
       "      <th>Partial AIC</th>\n",
       "      <td>506.56</td>\n",
       "    </tr>\n",
       "    <tr>\n",
       "      <th>log-likelihood ratio test</th>\n",
       "      <td>12.63 on 1 df</td>\n",
       "    </tr>\n",
       "    <tr>\n",
       "      <th>-log2(p) of ll-ratio test</th>\n",
       "      <td>11.37</td>\n",
       "    </tr>\n",
       "  </tbody>\n",
       "</table>\n",
       "</div>"
      ],
      "text/latex": [
       "\\begin{tabular}{lrrrrrrrrrrr}\n",
       " & coef & exp(coef) & se(coef) & coef lower 95% & coef upper 95% & exp(coef) lower 95% & exp(coef) upper 95% & cmp to & z & p & -log2(p) \\\\\n",
       "covariate &  &  &  &  &  &  &  &  &  &  &  \\\\\n",
       "Fitness_group[T.Slow] & -1.03 & 0.36 & 0.31 & -1.62 & -0.43 & 0.20 & 0.65 & 0.00 & -3.36 & 0.00 & 10.33 \\\\\n",
       "\\end{tabular}\n"
      ],
      "text/plain": [
       "<lifelines.CoxPHFitter: fitted with 178 total observations, 125 right-censored observations>\n",
       "             duration col = 'Overall_Survival'\n",
       "                event col = 'vital.status'\n",
       "      baseline estimation = breslow\n",
       "   number of observations = 178\n",
       "number of events observed = 53\n",
       "   partial log-likelihood = -252.28\n",
       "         time fit was run = 2024-12-20 19:09:24 UTC\n",
       "\n",
       "---\n",
       "                       coef exp(coef)  se(coef)  coef lower 95%  coef upper 95% exp(coef) lower 95% exp(coef) upper 95%\n",
       "covariate                                                                                                              \n",
       "Fitness_group[T.Slow] -1.03      0.36      0.31           -1.62           -0.43                0.20                0.65\n",
       "\n",
       "                       cmp to     z      p  -log2(p)\n",
       "covariate                                           \n",
       "Fitness_group[T.Slow]    0.00 -3.36 <0.005     10.33\n",
       "---\n",
       "Concordance = 0.60\n",
       "Partial AIC = 506.56\n",
       "log-likelihood ratio test = 12.63 on 1 df\n",
       "-log2(p) of ll-ratio test = 11.37"
      ]
     },
     "metadata": {},
     "output_type": "display_data"
    },
    {
     "data": {
      "text/html": [
       "<div>\n",
       "<style scoped>\n",
       "    .dataframe tbody tr th:only-of-type {\n",
       "        vertical-align: middle;\n",
       "    }\n",
       "\n",
       "    .dataframe tbody tr th {\n",
       "        vertical-align: top;\n",
       "    }\n",
       "\n",
       "    .dataframe thead th {\n",
       "        text-align: right;\n",
       "    }\n",
       "</style>\n",
       "<table border=\"1\" class=\"dataframe\">\n",
       "  <tbody>\n",
       "    <tr>\n",
       "      <th>model</th>\n",
       "      <td>lifelines.CoxPHFitter</td>\n",
       "    </tr>\n",
       "    <tr>\n",
       "      <th>duration col</th>\n",
       "      <td>'Overall_Survival'</td>\n",
       "    </tr>\n",
       "    <tr>\n",
       "      <th>event col</th>\n",
       "      <td>'vital.status'</td>\n",
       "    </tr>\n",
       "    <tr>\n",
       "      <th>baseline estimation</th>\n",
       "      <td>breslow</td>\n",
       "    </tr>\n",
       "    <tr>\n",
       "      <th>number of observations</th>\n",
       "      <td>147</td>\n",
       "    </tr>\n",
       "    <tr>\n",
       "      <th>number of events observed</th>\n",
       "      <td>44</td>\n",
       "    </tr>\n",
       "    <tr>\n",
       "      <th>partial log-likelihood</th>\n",
       "      <td>-198.62</td>\n",
       "    </tr>\n",
       "    <tr>\n",
       "      <th>time fit was run</th>\n",
       "      <td>2024-12-20 19:09:24 UTC</td>\n",
       "    </tr>\n",
       "  </tbody>\n",
       "</table>\n",
       "</div><table border=\"1\" class=\"dataframe\">\n",
       "  <thead>\n",
       "    <tr style=\"text-align: right;\">\n",
       "      <th style=\"min-width: 12px;\"></th>\n",
       "      <th style=\"min-width: 12px;\">coef</th>\n",
       "      <th style=\"min-width: 12px;\">exp(coef)</th>\n",
       "      <th style=\"min-width: 12px;\">se(coef)</th>\n",
       "      <th style=\"min-width: 12px;\">coef lower 95%</th>\n",
       "      <th style=\"min-width: 12px;\">coef upper 95%</th>\n",
       "      <th style=\"min-width: 12px;\">exp(coef) lower 95%</th>\n",
       "      <th style=\"min-width: 12px;\">exp(coef) upper 95%</th>\n",
       "      <th style=\"min-width: 12px;\">cmp to</th>\n",
       "      <th style=\"min-width: 12px;\">z</th>\n",
       "      <th style=\"min-width: 12px;\">p</th>\n",
       "      <th style=\"min-width: 12px;\">-log2(p)</th>\n",
       "    </tr>\n",
       "  </thead>\n",
       "  <tbody>\n",
       "    <tr>\n",
       "      <th>Log_Speed</th>\n",
       "      <td>0.32</td>\n",
       "      <td>1.37</td>\n",
       "      <td>0.14</td>\n",
       "      <td>0.05</td>\n",
       "      <td>0.59</td>\n",
       "      <td>1.05</td>\n",
       "      <td>1.80</td>\n",
       "      <td>0.00</td>\n",
       "      <td>2.31</td>\n",
       "      <td>0.02</td>\n",
       "      <td>5.57</td>\n",
       "    </tr>\n",
       "    <tr>\n",
       "      <th>shannon_index_leiden</th>\n",
       "      <td>3.56</td>\n",
       "      <td>35.26</td>\n",
       "      <td>1.45</td>\n",
       "      <td>0.71</td>\n",
       "      <td>6.41</td>\n",
       "      <td>2.04</td>\n",
       "      <td>608.27</td>\n",
       "      <td>0.00</td>\n",
       "      <td>2.45</td>\n",
       "      <td>0.01</td>\n",
       "      <td>6.14</td>\n",
       "    </tr>\n",
       "  </tbody>\n",
       "</table><br><div>\n",
       "<style scoped>\n",
       "    .dataframe tbody tr th:only-of-type {\n",
       "        vertical-align: middle;\n",
       "    }\n",
       "\n",
       "    .dataframe tbody tr th {\n",
       "        vertical-align: top;\n",
       "    }\n",
       "\n",
       "    .dataframe thead th {\n",
       "        text-align: right;\n",
       "    }\n",
       "</style>\n",
       "<table border=\"1\" class=\"dataframe\">\n",
       "  <tbody>\n",
       "    <tr>\n",
       "      <th>Concordance</th>\n",
       "      <td>0.67</td>\n",
       "    </tr>\n",
       "    <tr>\n",
       "      <th>Partial AIC</th>\n",
       "      <td>401.24</td>\n",
       "    </tr>\n",
       "    <tr>\n",
       "      <th>log-likelihood ratio test</th>\n",
       "      <td>14.36 on 2 df</td>\n",
       "    </tr>\n",
       "    <tr>\n",
       "      <th>-log2(p) of ll-ratio test</th>\n",
       "      <td>10.36</td>\n",
       "    </tr>\n",
       "  </tbody>\n",
       "</table>\n",
       "</div>"
      ],
      "text/latex": [
       "\\begin{tabular}{lrrrrrrrrrrr}\n",
       " & coef & exp(coef) & se(coef) & coef lower 95% & coef upper 95% & exp(coef) lower 95% & exp(coef) upper 95% & cmp to & z & p & -log2(p) \\\\\n",
       "covariate &  &  &  &  &  &  &  &  &  &  &  \\\\\n",
       "Log_Speed & 0.32 & 1.37 & 0.14 & 0.05 & 0.59 & 1.05 & 1.80 & 0.00 & 2.31 & 0.02 & 5.57 \\\\\n",
       "shannon_index_leiden & 3.56 & 35.26 & 1.45 & 0.71 & 6.41 & 2.04 & 608.27 & 0.00 & 2.45 & 0.01 & 6.14 \\\\\n",
       "\\end{tabular}\n"
      ],
      "text/plain": [
       "<lifelines.CoxPHFitter: fitted with 147 total observations, 103 right-censored observations>\n",
       "             duration col = 'Overall_Survival'\n",
       "                event col = 'vital.status'\n",
       "      baseline estimation = breslow\n",
       "   number of observations = 147\n",
       "number of events observed = 44\n",
       "   partial log-likelihood = -198.62\n",
       "         time fit was run = 2024-12-20 19:09:24 UTC\n",
       "\n",
       "---\n",
       "                      coef exp(coef)  se(coef)  coef lower 95%  coef upper 95% exp(coef) lower 95% exp(coef) upper 95%\n",
       "covariate                                                                                                             \n",
       "Log_Speed             0.32      1.37      0.14            0.05            0.59                1.05                1.80\n",
       "shannon_index_leiden  3.56     35.26      1.45            0.71            6.41                2.04              608.27\n",
       "\n",
       "                      cmp to    z    p  -log2(p)\n",
       "covariate                                       \n",
       "Log_Speed               0.00 2.31 0.02      5.57\n",
       "shannon_index_leiden    0.00 2.45 0.01      6.14\n",
       "---\n",
       "Concordance = 0.67\n",
       "Partial AIC = 401.24\n",
       "log-likelihood ratio test = 14.36 on 2 df\n",
       "-log2(p) of ll-ratio test = 10.36"
      ]
     },
     "metadata": {},
     "output_type": "display_data"
    },
    {
     "data": {
      "text/html": [
       "<div>\n",
       "<style scoped>\n",
       "    .dataframe tbody tr th:only-of-type {\n",
       "        vertical-align: middle;\n",
       "    }\n",
       "\n",
       "    .dataframe tbody tr th {\n",
       "        vertical-align: top;\n",
       "    }\n",
       "\n",
       "    .dataframe thead th {\n",
       "        text-align: right;\n",
       "    }\n",
       "</style>\n",
       "<table border=\"1\" class=\"dataframe\">\n",
       "  <tbody>\n",
       "    <tr>\n",
       "      <th>model</th>\n",
       "      <td>lifelines.CoxPHFitter</td>\n",
       "    </tr>\n",
       "    <tr>\n",
       "      <th>duration col</th>\n",
       "      <td>'Overall_Survival'</td>\n",
       "    </tr>\n",
       "    <tr>\n",
       "      <th>event col</th>\n",
       "      <td>'vital.status'</td>\n",
       "    </tr>\n",
       "    <tr>\n",
       "      <th>baseline estimation</th>\n",
       "      <td>breslow</td>\n",
       "    </tr>\n",
       "    <tr>\n",
       "      <th>number of observations</th>\n",
       "      <td>147</td>\n",
       "    </tr>\n",
       "    <tr>\n",
       "      <th>number of events observed</th>\n",
       "      <td>44</td>\n",
       "    </tr>\n",
       "    <tr>\n",
       "      <th>partial log-likelihood</th>\n",
       "      <td>-201.87</td>\n",
       "    </tr>\n",
       "    <tr>\n",
       "      <th>time fit was run</th>\n",
       "      <td>2024-12-20 19:09:24 UTC</td>\n",
       "    </tr>\n",
       "  </tbody>\n",
       "</table>\n",
       "</div><table border=\"1\" class=\"dataframe\">\n",
       "  <thead>\n",
       "    <tr style=\"text-align: right;\">\n",
       "      <th style=\"min-width: 12px;\"></th>\n",
       "      <th style=\"min-width: 12px;\">coef</th>\n",
       "      <th style=\"min-width: 12px;\">exp(coef)</th>\n",
       "      <th style=\"min-width: 12px;\">se(coef)</th>\n",
       "      <th style=\"min-width: 12px;\">coef lower 95%</th>\n",
       "      <th style=\"min-width: 12px;\">coef upper 95%</th>\n",
       "      <th style=\"min-width: 12px;\">exp(coef) lower 95%</th>\n",
       "      <th style=\"min-width: 12px;\">exp(coef) upper 95%</th>\n",
       "      <th style=\"min-width: 12px;\">cmp to</th>\n",
       "      <th style=\"min-width: 12px;\">z</th>\n",
       "      <th style=\"min-width: 12px;\">p</th>\n",
       "      <th style=\"min-width: 12px;\">-log2(p)</th>\n",
       "    </tr>\n",
       "  </thead>\n",
       "  <tbody>\n",
       "    <tr>\n",
       "      <th>Log_Speed</th>\n",
       "      <td>0.36</td>\n",
       "      <td>1.44</td>\n",
       "      <td>0.13</td>\n",
       "      <td>0.10</td>\n",
       "      <td>0.62</td>\n",
       "      <td>1.10</td>\n",
       "      <td>1.87</td>\n",
       "      <td>0.00</td>\n",
       "      <td>2.71</td>\n",
       "      <td>0.01</td>\n",
       "      <td>7.20</td>\n",
       "    </tr>\n",
       "  </tbody>\n",
       "</table><br><div>\n",
       "<style scoped>\n",
       "    .dataframe tbody tr th:only-of-type {\n",
       "        vertical-align: middle;\n",
       "    }\n",
       "\n",
       "    .dataframe tbody tr th {\n",
       "        vertical-align: top;\n",
       "    }\n",
       "\n",
       "    .dataframe thead th {\n",
       "        text-align: right;\n",
       "    }\n",
       "</style>\n",
       "<table border=\"1\" class=\"dataframe\">\n",
       "  <tbody>\n",
       "    <tr>\n",
       "      <th>Concordance</th>\n",
       "      <td>0.62</td>\n",
       "    </tr>\n",
       "    <tr>\n",
       "      <th>Partial AIC</th>\n",
       "      <td>405.74</td>\n",
       "    </tr>\n",
       "    <tr>\n",
       "      <th>log-likelihood ratio test</th>\n",
       "      <td>7.85 on 1 df</td>\n",
       "    </tr>\n",
       "    <tr>\n",
       "      <th>-log2(p) of ll-ratio test</th>\n",
       "      <td>7.62</td>\n",
       "    </tr>\n",
       "  </tbody>\n",
       "</table>\n",
       "</div>"
      ],
      "text/latex": [
       "\\begin{tabular}{lrrrrrrrrrrr}\n",
       " & coef & exp(coef) & se(coef) & coef lower 95% & coef upper 95% & exp(coef) lower 95% & exp(coef) upper 95% & cmp to & z & p & -log2(p) \\\\\n",
       "covariate &  &  &  &  &  &  &  &  &  &  &  \\\\\n",
       "Log_Speed & 0.36 & 1.44 & 0.13 & 0.10 & 0.62 & 1.10 & 1.87 & 0.00 & 2.71 & 0.01 & 7.20 \\\\\n",
       "\\end{tabular}\n"
      ],
      "text/plain": [
       "<lifelines.CoxPHFitter: fitted with 147 total observations, 103 right-censored observations>\n",
       "             duration col = 'Overall_Survival'\n",
       "                event col = 'vital.status'\n",
       "      baseline estimation = breslow\n",
       "   number of observations = 147\n",
       "number of events observed = 44\n",
       "   partial log-likelihood = -201.87\n",
       "         time fit was run = 2024-12-20 19:09:24 UTC\n",
       "\n",
       "---\n",
       "           coef exp(coef)  se(coef)  coef lower 95%  coef upper 95% exp(coef) lower 95% exp(coef) upper 95%\n",
       "covariate                                                                                                  \n",
       "Log_Speed  0.36      1.44      0.13            0.10            0.62                1.10                1.87\n",
       "\n",
       "           cmp to    z    p  -log2(p)\n",
       "covariate                            \n",
       "Log_Speed    0.00 2.71 0.01      7.20\n",
       "---\n",
       "Concordance = 0.62\n",
       "Partial AIC = 405.74\n",
       "log-likelihood ratio test = 7.85 on 1 df\n",
       "-log2(p) of ll-ratio test = 7.62"
      ]
     },
     "metadata": {},
     "output_type": "display_data"
    },
    {
     "data": {
      "text/html": [
       "<div>\n",
       "<style scoped>\n",
       "    .dataframe tbody tr th:only-of-type {\n",
       "        vertical-align: middle;\n",
       "    }\n",
       "\n",
       "    .dataframe tbody tr th {\n",
       "        vertical-align: top;\n",
       "    }\n",
       "\n",
       "    .dataframe thead th {\n",
       "        text-align: right;\n",
       "    }\n",
       "</style>\n",
       "<table border=\"1\" class=\"dataframe\">\n",
       "  <tbody>\n",
       "    <tr>\n",
       "      <th>model</th>\n",
       "      <td>lifelines.CoxPHFitter</td>\n",
       "    </tr>\n",
       "    <tr>\n",
       "      <th>duration col</th>\n",
       "      <td>'Overall_Survival'</td>\n",
       "    </tr>\n",
       "    <tr>\n",
       "      <th>event col</th>\n",
       "      <td>'vital.status'</td>\n",
       "    </tr>\n",
       "    <tr>\n",
       "      <th>baseline estimation</th>\n",
       "      <td>breslow</td>\n",
       "    </tr>\n",
       "    <tr>\n",
       "      <th>number of observations</th>\n",
       "      <td>147</td>\n",
       "    </tr>\n",
       "    <tr>\n",
       "      <th>number of events observed</th>\n",
       "      <td>44</td>\n",
       "    </tr>\n",
       "    <tr>\n",
       "      <th>partial log-likelihood</th>\n",
       "      <td>-201.33</td>\n",
       "    </tr>\n",
       "    <tr>\n",
       "      <th>time fit was run</th>\n",
       "      <td>2024-12-20 19:09:24 UTC</td>\n",
       "    </tr>\n",
       "  </tbody>\n",
       "</table>\n",
       "</div><table border=\"1\" class=\"dataframe\">\n",
       "  <thead>\n",
       "    <tr style=\"text-align: right;\">\n",
       "      <th style=\"min-width: 12px;\"></th>\n",
       "      <th style=\"min-width: 12px;\">coef</th>\n",
       "      <th style=\"min-width: 12px;\">exp(coef)</th>\n",
       "      <th style=\"min-width: 12px;\">se(coef)</th>\n",
       "      <th style=\"min-width: 12px;\">coef lower 95%</th>\n",
       "      <th style=\"min-width: 12px;\">coef upper 95%</th>\n",
       "      <th style=\"min-width: 12px;\">exp(coef) lower 95%</th>\n",
       "      <th style=\"min-width: 12px;\">exp(coef) upper 95%</th>\n",
       "      <th style=\"min-width: 12px;\">cmp to</th>\n",
       "      <th style=\"min-width: 12px;\">z</th>\n",
       "      <th style=\"min-width: 12px;\">p</th>\n",
       "      <th style=\"min-width: 12px;\">-log2(p)</th>\n",
       "    </tr>\n",
       "  </thead>\n",
       "  <tbody>\n",
       "    <tr>\n",
       "      <th>shannon_index_leiden</th>\n",
       "      <td>4.25</td>\n",
       "      <td>70.35</td>\n",
       "      <td>1.48</td>\n",
       "      <td>1.35</td>\n",
       "      <td>7.16</td>\n",
       "      <td>3.85</td>\n",
       "      <td>1285.60</td>\n",
       "      <td>0.00</td>\n",
       "      <td>2.87</td>\n",
       "      <td>&lt;0.005</td>\n",
       "      <td>7.92</td>\n",
       "    </tr>\n",
       "  </tbody>\n",
       "</table><br><div>\n",
       "<style scoped>\n",
       "    .dataframe tbody tr th:only-of-type {\n",
       "        vertical-align: middle;\n",
       "    }\n",
       "\n",
       "    .dataframe tbody tr th {\n",
       "        vertical-align: top;\n",
       "    }\n",
       "\n",
       "    .dataframe thead th {\n",
       "        text-align: right;\n",
       "    }\n",
       "</style>\n",
       "<table border=\"1\" class=\"dataframe\">\n",
       "  <tbody>\n",
       "    <tr>\n",
       "      <th>Concordance</th>\n",
       "      <td>0.63</td>\n",
       "    </tr>\n",
       "    <tr>\n",
       "      <th>Partial AIC</th>\n",
       "      <td>404.66</td>\n",
       "    </tr>\n",
       "    <tr>\n",
       "      <th>log-likelihood ratio test</th>\n",
       "      <td>8.93 on 1 df</td>\n",
       "    </tr>\n",
       "    <tr>\n",
       "      <th>-log2(p) of ll-ratio test</th>\n",
       "      <td>8.48</td>\n",
       "    </tr>\n",
       "  </tbody>\n",
       "</table>\n",
       "</div>"
      ],
      "text/latex": [
       "\\begin{tabular}{lrrrrrrrrrrr}\n",
       " & coef & exp(coef) & se(coef) & coef lower 95% & coef upper 95% & exp(coef) lower 95% & exp(coef) upper 95% & cmp to & z & p & -log2(p) \\\\\n",
       "covariate &  &  &  &  &  &  &  &  &  &  &  \\\\\n",
       "shannon_index_leiden & 4.25 & 70.35 & 1.48 & 1.35 & 7.16 & 3.85 & 1285.60 & 0.00 & 2.87 & 0.00 & 7.92 \\\\\n",
       "\\end{tabular}\n"
      ],
      "text/plain": [
       "<lifelines.CoxPHFitter: fitted with 147 total observations, 103 right-censored observations>\n",
       "             duration col = 'Overall_Survival'\n",
       "                event col = 'vital.status'\n",
       "      baseline estimation = breslow\n",
       "   number of observations = 147\n",
       "number of events observed = 44\n",
       "   partial log-likelihood = -201.33\n",
       "         time fit was run = 2024-12-20 19:09:24 UTC\n",
       "\n",
       "---\n",
       "                      coef exp(coef)  se(coef)  coef lower 95%  coef upper 95% exp(coef) lower 95% exp(coef) upper 95%\n",
       "covariate                                                                                                             \n",
       "shannon_index_leiden  4.25     70.35      1.48            1.35            7.16                3.85             1285.60\n",
       "\n",
       "                      cmp to    z      p  -log2(p)\n",
       "covariate                                         \n",
       "shannon_index_leiden    0.00 2.87 <0.005      7.92\n",
       "---\n",
       "Concordance = 0.63\n",
       "Partial AIC = 404.66\n",
       "log-likelihood ratio test = 8.93 on 1 df\n",
       "-log2(p) of ll-ratio test = 8.48"
      ]
     },
     "metadata": {},
     "output_type": "display_data"
    },
    {
     "data": {
      "text/html": [
       "<div>\n",
       "<style scoped>\n",
       "    .dataframe tbody tr th:only-of-type {\n",
       "        vertical-align: middle;\n",
       "    }\n",
       "\n",
       "    .dataframe tbody tr th {\n",
       "        vertical-align: top;\n",
       "    }\n",
       "\n",
       "    .dataframe thead th {\n",
       "        text-align: right;\n",
       "    }\n",
       "</style>\n",
       "<table border=\"1\" class=\"dataframe\">\n",
       "  <tbody>\n",
       "    <tr>\n",
       "      <th>model</th>\n",
       "      <td>lifelines.CoxPHFitter</td>\n",
       "    </tr>\n",
       "    <tr>\n",
       "      <th>duration col</th>\n",
       "      <td>'Overall_Survival'</td>\n",
       "    </tr>\n",
       "    <tr>\n",
       "      <th>event col</th>\n",
       "      <td>'vital.status'</td>\n",
       "    </tr>\n",
       "    <tr>\n",
       "      <th>baseline estimation</th>\n",
       "      <td>breslow</td>\n",
       "    </tr>\n",
       "    <tr>\n",
       "      <th>number of observations</th>\n",
       "      <td>147</td>\n",
       "    </tr>\n",
       "    <tr>\n",
       "      <th>number of events observed</th>\n",
       "      <td>44</td>\n",
       "    </tr>\n",
       "    <tr>\n",
       "      <th>partial log-likelihood</th>\n",
       "      <td>-200.16</td>\n",
       "    </tr>\n",
       "    <tr>\n",
       "      <th>time fit was run</th>\n",
       "      <td>2024-12-20 19:09:24 UTC</td>\n",
       "    </tr>\n",
       "  </tbody>\n",
       "</table>\n",
       "</div><table border=\"1\" class=\"dataframe\">\n",
       "  <thead>\n",
       "    <tr style=\"text-align: right;\">\n",
       "      <th style=\"min-width: 12px;\"></th>\n",
       "      <th style=\"min-width: 12px;\">coef</th>\n",
       "      <th style=\"min-width: 12px;\">exp(coef)</th>\n",
       "      <th style=\"min-width: 12px;\">se(coef)</th>\n",
       "      <th style=\"min-width: 12px;\">coef lower 95%</th>\n",
       "      <th style=\"min-width: 12px;\">coef upper 95%</th>\n",
       "      <th style=\"min-width: 12px;\">exp(coef) lower 95%</th>\n",
       "      <th style=\"min-width: 12px;\">exp(coef) upper 95%</th>\n",
       "      <th style=\"min-width: 12px;\">cmp to</th>\n",
       "      <th style=\"min-width: 12px;\">z</th>\n",
       "      <th style=\"min-width: 12px;\">p</th>\n",
       "      <th style=\"min-width: 12px;\">-log2(p)</th>\n",
       "    </tr>\n",
       "  </thead>\n",
       "  <tbody>\n",
       "    <tr>\n",
       "      <th>speed_leiden</th>\n",
       "      <td>0.12</td>\n",
       "      <td>1.13</td>\n",
       "      <td>0.04</td>\n",
       "      <td>0.05</td>\n",
       "      <td>0.20</td>\n",
       "      <td>1.05</td>\n",
       "      <td>1.22</td>\n",
       "      <td>0.00</td>\n",
       "      <td>3.27</td>\n",
       "      <td>&lt;0.005</td>\n",
       "      <td>9.85</td>\n",
       "    </tr>\n",
       "  </tbody>\n",
       "</table><br><div>\n",
       "<style scoped>\n",
       "    .dataframe tbody tr th:only-of-type {\n",
       "        vertical-align: middle;\n",
       "    }\n",
       "\n",
       "    .dataframe tbody tr th {\n",
       "        vertical-align: top;\n",
       "    }\n",
       "\n",
       "    .dataframe thead th {\n",
       "        text-align: right;\n",
       "    }\n",
       "</style>\n",
       "<table border=\"1\" class=\"dataframe\">\n",
       "  <tbody>\n",
       "    <tr>\n",
       "      <th>Concordance</th>\n",
       "      <td>0.65</td>\n",
       "    </tr>\n",
       "    <tr>\n",
       "      <th>Partial AIC</th>\n",
       "      <td>402.32</td>\n",
       "    </tr>\n",
       "    <tr>\n",
       "      <th>log-likelihood ratio test</th>\n",
       "      <td>11.27 on 1 df</td>\n",
       "    </tr>\n",
       "    <tr>\n",
       "      <th>-log2(p) of ll-ratio test</th>\n",
       "      <td>10.31</td>\n",
       "    </tr>\n",
       "  </tbody>\n",
       "</table>\n",
       "</div>"
      ],
      "text/latex": [
       "\\begin{tabular}{lrrrrrrrrrrr}\n",
       " & coef & exp(coef) & se(coef) & coef lower 95% & coef upper 95% & exp(coef) lower 95% & exp(coef) upper 95% & cmp to & z & p & -log2(p) \\\\\n",
       "covariate &  &  &  &  &  &  &  &  &  &  &  \\\\\n",
       "speed_leiden & 0.12 & 1.13 & 0.04 & 0.05 & 0.20 & 1.05 & 1.22 & 0.00 & 3.27 & 0.00 & 9.85 \\\\\n",
       "\\end{tabular}\n"
      ],
      "text/plain": [
       "<lifelines.CoxPHFitter: fitted with 147 total observations, 103 right-censored observations>\n",
       "             duration col = 'Overall_Survival'\n",
       "                event col = 'vital.status'\n",
       "      baseline estimation = breslow\n",
       "   number of observations = 147\n",
       "number of events observed = 44\n",
       "   partial log-likelihood = -200.16\n",
       "         time fit was run = 2024-12-20 19:09:24 UTC\n",
       "\n",
       "---\n",
       "              coef exp(coef)  se(coef)  coef lower 95%  coef upper 95% exp(coef) lower 95% exp(coef) upper 95%\n",
       "covariate                                                                                                     \n",
       "speed_leiden  0.12      1.13      0.04            0.05            0.20                1.05                1.22\n",
       "\n",
       "              cmp to    z      p  -log2(p)\n",
       "covariate                                 \n",
       "speed_leiden    0.00 3.27 <0.005      9.85\n",
       "---\n",
       "Concordance = 0.65\n",
       "Partial AIC = 402.32\n",
       "log-likelihood ratio test = 11.27 on 1 df\n",
       "-log2(p) of ll-ratio test = 10.31"
      ]
     },
     "metadata": {},
     "output_type": "display_data"
    },
    {
     "data": {
      "text/html": [
       "<div>\n",
       "<style scoped>\n",
       "    .dataframe tbody tr th:only-of-type {\n",
       "        vertical-align: middle;\n",
       "    }\n",
       "\n",
       "    .dataframe tbody tr th {\n",
       "        vertical-align: top;\n",
       "    }\n",
       "\n",
       "    .dataframe thead th {\n",
       "        text-align: right;\n",
       "    }\n",
       "</style>\n",
       "<table border=\"1\" class=\"dataframe\">\n",
       "  <tbody>\n",
       "    <tr>\n",
       "      <th>model</th>\n",
       "      <td>lifelines.CoxPHFitter</td>\n",
       "    </tr>\n",
       "    <tr>\n",
       "      <th>duration col</th>\n",
       "      <td>'Overall_Survival'</td>\n",
       "    </tr>\n",
       "    <tr>\n",
       "      <th>event col</th>\n",
       "      <td>'vital.status'</td>\n",
       "    </tr>\n",
       "    <tr>\n",
       "      <th>baseline estimation</th>\n",
       "      <td>breslow</td>\n",
       "    </tr>\n",
       "    <tr>\n",
       "      <th>number of observations</th>\n",
       "      <td>147</td>\n",
       "    </tr>\n",
       "    <tr>\n",
       "      <th>number of events observed</th>\n",
       "      <td>44</td>\n",
       "    </tr>\n",
       "    <tr>\n",
       "      <th>partial log-likelihood</th>\n",
       "      <td>-194.88</td>\n",
       "    </tr>\n",
       "    <tr>\n",
       "      <th>time fit was run</th>\n",
       "      <td>2024-12-20 19:09:24 UTC</td>\n",
       "    </tr>\n",
       "  </tbody>\n",
       "</table>\n",
       "</div><table border=\"1\" class=\"dataframe\">\n",
       "  <thead>\n",
       "    <tr style=\"text-align: right;\">\n",
       "      <th style=\"min-width: 12px;\"></th>\n",
       "      <th style=\"min-width: 12px;\">coef</th>\n",
       "      <th style=\"min-width: 12px;\">exp(coef)</th>\n",
       "      <th style=\"min-width: 12px;\">se(coef)</th>\n",
       "      <th style=\"min-width: 12px;\">coef lower 95%</th>\n",
       "      <th style=\"min-width: 12px;\">coef upper 95%</th>\n",
       "      <th style=\"min-width: 12px;\">exp(coef) lower 95%</th>\n",
       "      <th style=\"min-width: 12px;\">exp(coef) upper 95%</th>\n",
       "      <th style=\"min-width: 12px;\">cmp to</th>\n",
       "      <th style=\"min-width: 12px;\">z</th>\n",
       "      <th style=\"min-width: 12px;\">p</th>\n",
       "      <th style=\"min-width: 12px;\">-log2(p)</th>\n",
       "    </tr>\n",
       "  </thead>\n",
       "  <tbody>\n",
       "    <tr>\n",
       "      <th>Cancer_Stage[T.II]</th>\n",
       "      <td>0.56</td>\n",
       "      <td>1.74</td>\n",
       "      <td>0.51</td>\n",
       "      <td>-0.43</td>\n",
       "      <td>1.55</td>\n",
       "      <td>0.65</td>\n",
       "      <td>4.70</td>\n",
       "      <td>0.00</td>\n",
       "      <td>1.10</td>\n",
       "      <td>0.27</td>\n",
       "      <td>1.88</td>\n",
       "    </tr>\n",
       "    <tr>\n",
       "      <th>Cancer_Stage[T.III]</th>\n",
       "      <td>1.55</td>\n",
       "      <td>4.72</td>\n",
       "      <td>0.35</td>\n",
       "      <td>0.87</td>\n",
       "      <td>2.23</td>\n",
       "      <td>2.38</td>\n",
       "      <td>9.34</td>\n",
       "      <td>0.00</td>\n",
       "      <td>4.45</td>\n",
       "      <td>&lt;0.005</td>\n",
       "      <td>16.83</td>\n",
       "    </tr>\n",
       "    <tr>\n",
       "      <th>Cancer_Stage[T.IV]</th>\n",
       "      <td>1.44</td>\n",
       "      <td>4.23</td>\n",
       "      <td>0.56</td>\n",
       "      <td>0.34</td>\n",
       "      <td>2.54</td>\n",
       "      <td>1.41</td>\n",
       "      <td>12.66</td>\n",
       "      <td>0.00</td>\n",
       "      <td>2.57</td>\n",
       "      <td>0.01</td>\n",
       "      <td>6.64</td>\n",
       "    </tr>\n",
       "    <tr>\n",
       "      <th>Age</th>\n",
       "      <td>0.01</td>\n",
       "      <td>1.01</td>\n",
       "      <td>0.03</td>\n",
       "      <td>-0.04</td>\n",
       "      <td>0.07</td>\n",
       "      <td>0.96</td>\n",
       "      <td>1.07</td>\n",
       "      <td>0.00</td>\n",
       "      <td>0.47</td>\n",
       "      <td>0.64</td>\n",
       "      <td>0.64</td>\n",
       "    </tr>\n",
       "    <tr>\n",
       "      <th>Gender</th>\n",
       "      <td>-0.41</td>\n",
       "      <td>0.66</td>\n",
       "      <td>0.32</td>\n",
       "      <td>-1.03</td>\n",
       "      <td>0.21</td>\n",
       "      <td>0.36</td>\n",
       "      <td>1.23</td>\n",
       "      <td>0.00</td>\n",
       "      <td>-1.30</td>\n",
       "      <td>0.20</td>\n",
       "      <td>2.36</td>\n",
       "    </tr>\n",
       "    <tr>\n",
       "      <th>Tobacco.history</th>\n",
       "      <td>0.02</td>\n",
       "      <td>1.02</td>\n",
       "      <td>0.31</td>\n",
       "      <td>-0.59</td>\n",
       "      <td>0.63</td>\n",
       "      <td>0.55</td>\n",
       "      <td>1.87</td>\n",
       "      <td>0.00</td>\n",
       "      <td>0.05</td>\n",
       "      <td>0.96</td>\n",
       "      <td>0.06</td>\n",
       "    </tr>\n",
       "  </tbody>\n",
       "</table><br><div>\n",
       "<style scoped>\n",
       "    .dataframe tbody tr th:only-of-type {\n",
       "        vertical-align: middle;\n",
       "    }\n",
       "\n",
       "    .dataframe tbody tr th {\n",
       "        vertical-align: top;\n",
       "    }\n",
       "\n",
       "    .dataframe thead th {\n",
       "        text-align: right;\n",
       "    }\n",
       "</style>\n",
       "<table border=\"1\" class=\"dataframe\">\n",
       "  <tbody>\n",
       "    <tr>\n",
       "      <th>Concordance</th>\n",
       "      <td>0.70</td>\n",
       "    </tr>\n",
       "    <tr>\n",
       "      <th>Partial AIC</th>\n",
       "      <td>401.77</td>\n",
       "    </tr>\n",
       "    <tr>\n",
       "      <th>log-likelihood ratio test</th>\n",
       "      <td>21.82 on 6 df</td>\n",
       "    </tr>\n",
       "    <tr>\n",
       "      <th>-log2(p) of ll-ratio test</th>\n",
       "      <td>9.58</td>\n",
       "    </tr>\n",
       "  </tbody>\n",
       "</table>\n",
       "</div>"
      ],
      "text/latex": [
       "\\begin{tabular}{lrrrrrrrrrrr}\n",
       " & coef & exp(coef) & se(coef) & coef lower 95% & coef upper 95% & exp(coef) lower 95% & exp(coef) upper 95% & cmp to & z & p & -log2(p) \\\\\n",
       "covariate &  &  &  &  &  &  &  &  &  &  &  \\\\\n",
       "Cancer_Stage[T.II] & 0.56 & 1.74 & 0.51 & -0.43 & 1.55 & 0.65 & 4.70 & 0.00 & 1.10 & 0.27 & 1.88 \\\\\n",
       "Cancer_Stage[T.III] & 1.55 & 4.72 & 0.35 & 0.87 & 2.23 & 2.38 & 9.34 & 0.00 & 4.45 & 0.00 & 16.83 \\\\\n",
       "Cancer_Stage[T.IV] & 1.44 & 4.23 & 0.56 & 0.34 & 2.54 & 1.41 & 12.66 & 0.00 & 2.57 & 0.01 & 6.64 \\\\\n",
       "Age & 0.01 & 1.01 & 0.03 & -0.04 & 0.07 & 0.96 & 1.07 & 0.00 & 0.47 & 0.64 & 0.64 \\\\\n",
       "Gender & -0.41 & 0.66 & 0.32 & -1.03 & 0.21 & 0.36 & 1.23 & 0.00 & -1.30 & 0.20 & 2.36 \\\\\n",
       "Tobacco.history & 0.02 & 1.02 & 0.31 & -0.59 & 0.63 & 0.55 & 1.87 & 0.00 & 0.05 & 0.96 & 0.06 \\\\\n",
       "\\end{tabular}\n"
      ],
      "text/plain": [
       "<lifelines.CoxPHFitter: fitted with 147 total observations, 103 right-censored observations>\n",
       "             duration col = 'Overall_Survival'\n",
       "                event col = 'vital.status'\n",
       "      baseline estimation = breslow\n",
       "   number of observations = 147\n",
       "number of events observed = 44\n",
       "   partial log-likelihood = -194.88\n",
       "         time fit was run = 2024-12-20 19:09:24 UTC\n",
       "\n",
       "---\n",
       "                     coef exp(coef)  se(coef)  coef lower 95%  coef upper 95% exp(coef) lower 95% exp(coef) upper 95%\n",
       "covariate                                                                                                            \n",
       "Cancer_Stage[T.II]   0.56      1.74      0.51           -0.43            1.55                0.65                4.70\n",
       "Cancer_Stage[T.III]  1.55      4.72      0.35            0.87            2.23                2.38                9.34\n",
       "Cancer_Stage[T.IV]   1.44      4.23      0.56            0.34            2.54                1.41               12.66\n",
       "Age                  0.01      1.01      0.03           -0.04            0.07                0.96                1.07\n",
       "Gender              -0.41      0.66      0.32           -1.03            0.21                0.36                1.23\n",
       "Tobacco.history      0.02      1.02      0.31           -0.59            0.63                0.55                1.87\n",
       "\n",
       "                     cmp to     z      p  -log2(p)\n",
       "covariate                                         \n",
       "Cancer_Stage[T.II]     0.00  1.10   0.27      1.88\n",
       "Cancer_Stage[T.III]    0.00  4.45 <0.005     16.83\n",
       "Cancer_Stage[T.IV]     0.00  2.57   0.01      6.64\n",
       "Age                    0.00  0.47   0.64      0.64\n",
       "Gender                 0.00 -1.30   0.20      2.36\n",
       "Tobacco.history        0.00  0.05   0.96      0.06\n",
       "---\n",
       "Concordance = 0.70\n",
       "Partial AIC = 401.77\n",
       "log-likelihood ratio test = 21.82 on 6 df\n",
       "-log2(p) of ll-ratio test = 9.58"
      ]
     },
     "metadata": {},
     "output_type": "display_data"
    },
    {
     "data": {
      "text/html": [
       "<div>\n",
       "<style scoped>\n",
       "    .dataframe tbody tr th:only-of-type {\n",
       "        vertical-align: middle;\n",
       "    }\n",
       "\n",
       "    .dataframe tbody tr th {\n",
       "        vertical-align: top;\n",
       "    }\n",
       "\n",
       "    .dataframe thead th {\n",
       "        text-align: right;\n",
       "    }\n",
       "</style>\n",
       "<table border=\"1\" class=\"dataframe\">\n",
       "  <tbody>\n",
       "    <tr>\n",
       "      <th>model</th>\n",
       "      <td>lifelines.CoxPHFitter</td>\n",
       "    </tr>\n",
       "    <tr>\n",
       "      <th>duration col</th>\n",
       "      <td>'Overall_Survival'</td>\n",
       "    </tr>\n",
       "    <tr>\n",
       "      <th>event col</th>\n",
       "      <td>'vital.status'</td>\n",
       "    </tr>\n",
       "    <tr>\n",
       "      <th>baseline estimation</th>\n",
       "      <td>breslow</td>\n",
       "    </tr>\n",
       "    <tr>\n",
       "      <th>number of observations</th>\n",
       "      <td>147</td>\n",
       "    </tr>\n",
       "    <tr>\n",
       "      <th>number of events observed</th>\n",
       "      <td>44</td>\n",
       "    </tr>\n",
       "    <tr>\n",
       "      <th>partial log-likelihood</th>\n",
       "      <td>-190.83</td>\n",
       "    </tr>\n",
       "    <tr>\n",
       "      <th>time fit was run</th>\n",
       "      <td>2024-12-20 19:09:24 UTC</td>\n",
       "    </tr>\n",
       "  </tbody>\n",
       "</table>\n",
       "</div><table border=\"1\" class=\"dataframe\">\n",
       "  <thead>\n",
       "    <tr style=\"text-align: right;\">\n",
       "      <th style=\"min-width: 12px;\"></th>\n",
       "      <th style=\"min-width: 12px;\">coef</th>\n",
       "      <th style=\"min-width: 12px;\">exp(coef)</th>\n",
       "      <th style=\"min-width: 12px;\">se(coef)</th>\n",
       "      <th style=\"min-width: 12px;\">coef lower 95%</th>\n",
       "      <th style=\"min-width: 12px;\">coef upper 95%</th>\n",
       "      <th style=\"min-width: 12px;\">exp(coef) lower 95%</th>\n",
       "      <th style=\"min-width: 12px;\">exp(coef) upper 95%</th>\n",
       "      <th style=\"min-width: 12px;\">cmp to</th>\n",
       "      <th style=\"min-width: 12px;\">z</th>\n",
       "      <th style=\"min-width: 12px;\">p</th>\n",
       "      <th style=\"min-width: 12px;\">-log2(p)</th>\n",
       "    </tr>\n",
       "  </thead>\n",
       "  <tbody>\n",
       "    <tr>\n",
       "      <th>Cancer_Stage[T.II]</th>\n",
       "      <td>0.50</td>\n",
       "      <td>1.65</td>\n",
       "      <td>0.52</td>\n",
       "      <td>-0.51</td>\n",
       "      <td>1.51</td>\n",
       "      <td>0.60</td>\n",
       "      <td>4.54</td>\n",
       "      <td>0.00</td>\n",
       "      <td>0.97</td>\n",
       "      <td>0.33</td>\n",
       "      <td>1.59</td>\n",
       "    </tr>\n",
       "    <tr>\n",
       "      <th>Cancer_Stage[T.III]</th>\n",
       "      <td>1.28</td>\n",
       "      <td>3.61</td>\n",
       "      <td>0.36</td>\n",
       "      <td>0.58</td>\n",
       "      <td>1.99</td>\n",
       "      <td>1.79</td>\n",
       "      <td>7.30</td>\n",
       "      <td>0.00</td>\n",
       "      <td>3.57</td>\n",
       "      <td>&lt;0.005</td>\n",
       "      <td>11.48</td>\n",
       "    </tr>\n",
       "    <tr>\n",
       "      <th>Cancer_Stage[T.IV]</th>\n",
       "      <td>1.00</td>\n",
       "      <td>2.73</td>\n",
       "      <td>0.57</td>\n",
       "      <td>-0.12</td>\n",
       "      <td>2.13</td>\n",
       "      <td>0.89</td>\n",
       "      <td>8.39</td>\n",
       "      <td>0.00</td>\n",
       "      <td>1.75</td>\n",
       "      <td>0.08</td>\n",
       "      <td>3.65</td>\n",
       "    </tr>\n",
       "    <tr>\n",
       "      <th>Age</th>\n",
       "      <td>0.02</td>\n",
       "      <td>1.02</td>\n",
       "      <td>0.03</td>\n",
       "      <td>-0.03</td>\n",
       "      <td>0.08</td>\n",
       "      <td>0.97</td>\n",
       "      <td>1.09</td>\n",
       "      <td>0.00</td>\n",
       "      <td>0.81</td>\n",
       "      <td>0.42</td>\n",
       "      <td>1.26</td>\n",
       "    </tr>\n",
       "    <tr>\n",
       "      <th>Gender</th>\n",
       "      <td>-0.51</td>\n",
       "      <td>0.60</td>\n",
       "      <td>0.32</td>\n",
       "      <td>-1.13</td>\n",
       "      <td>0.12</td>\n",
       "      <td>0.32</td>\n",
       "      <td>1.12</td>\n",
       "      <td>0.00</td>\n",
       "      <td>-1.60</td>\n",
       "      <td>0.11</td>\n",
       "      <td>3.18</td>\n",
       "    </tr>\n",
       "    <tr>\n",
       "      <th>Log_Speed</th>\n",
       "      <td>0.24</td>\n",
       "      <td>1.27</td>\n",
       "      <td>0.14</td>\n",
       "      <td>-0.03</td>\n",
       "      <td>0.52</td>\n",
       "      <td>0.97</td>\n",
       "      <td>1.68</td>\n",
       "      <td>0.00</td>\n",
       "      <td>1.73</td>\n",
       "      <td>0.08</td>\n",
       "      <td>3.58</td>\n",
       "    </tr>\n",
       "    <tr>\n",
       "      <th>shannon_index_leiden</th>\n",
       "      <td>2.82</td>\n",
       "      <td>16.77</td>\n",
       "      <td>1.53</td>\n",
       "      <td>-0.18</td>\n",
       "      <td>5.81</td>\n",
       "      <td>0.84</td>\n",
       "      <td>335.25</td>\n",
       "      <td>0.00</td>\n",
       "      <td>1.85</td>\n",
       "      <td>0.07</td>\n",
       "      <td>3.94</td>\n",
       "    </tr>\n",
       "  </tbody>\n",
       "</table><br><div>\n",
       "<style scoped>\n",
       "    .dataframe tbody tr th:only-of-type {\n",
       "        vertical-align: middle;\n",
       "    }\n",
       "\n",
       "    .dataframe tbody tr th {\n",
       "        vertical-align: top;\n",
       "    }\n",
       "\n",
       "    .dataframe thead th {\n",
       "        text-align: right;\n",
       "    }\n",
       "</style>\n",
       "<table border=\"1\" class=\"dataframe\">\n",
       "  <tbody>\n",
       "    <tr>\n",
       "      <th>Concordance</th>\n",
       "      <td>0.75</td>\n",
       "    </tr>\n",
       "    <tr>\n",
       "      <th>Partial AIC</th>\n",
       "      <td>395.66</td>\n",
       "    </tr>\n",
       "    <tr>\n",
       "      <th>log-likelihood ratio test</th>\n",
       "      <td>29.93 on 7 df</td>\n",
       "    </tr>\n",
       "    <tr>\n",
       "      <th>-log2(p) of ll-ratio test</th>\n",
       "      <td>13.32</td>\n",
       "    </tr>\n",
       "  </tbody>\n",
       "</table>\n",
       "</div>"
      ],
      "text/latex": [
       "\\begin{tabular}{lrrrrrrrrrrr}\n",
       " & coef & exp(coef) & se(coef) & coef lower 95% & coef upper 95% & exp(coef) lower 95% & exp(coef) upper 95% & cmp to & z & p & -log2(p) \\\\\n",
       "covariate &  &  &  &  &  &  &  &  &  &  &  \\\\\n",
       "Cancer_Stage[T.II] & 0.50 & 1.65 & 0.52 & -0.51 & 1.51 & 0.60 & 4.54 & 0.00 & 0.97 & 0.33 & 1.59 \\\\\n",
       "Cancer_Stage[T.III] & 1.28 & 3.61 & 0.36 & 0.58 & 1.99 & 1.79 & 7.30 & 0.00 & 3.57 & 0.00 & 11.48 \\\\\n",
       "Cancer_Stage[T.IV] & 1.00 & 2.73 & 0.57 & -0.12 & 2.13 & 0.89 & 8.39 & 0.00 & 1.75 & 0.08 & 3.65 \\\\\n",
       "Age & 0.02 & 1.02 & 0.03 & -0.03 & 0.08 & 0.97 & 1.09 & 0.00 & 0.81 & 0.42 & 1.26 \\\\\n",
       "Gender & -0.51 & 0.60 & 0.32 & -1.13 & 0.12 & 0.32 & 1.12 & 0.00 & -1.60 & 0.11 & 3.18 \\\\\n",
       "Log_Speed & 0.24 & 1.27 & 0.14 & -0.03 & 0.52 & 0.97 & 1.68 & 0.00 & 1.73 & 0.08 & 3.58 \\\\\n",
       "shannon_index_leiden & 2.82 & 16.77 & 1.53 & -0.18 & 5.81 & 0.84 & 335.25 & 0.00 & 1.85 & 0.07 & 3.94 \\\\\n",
       "\\end{tabular}\n"
      ],
      "text/plain": [
       "<lifelines.CoxPHFitter: fitted with 147 total observations, 103 right-censored observations>\n",
       "             duration col = 'Overall_Survival'\n",
       "                event col = 'vital.status'\n",
       "      baseline estimation = breslow\n",
       "   number of observations = 147\n",
       "number of events observed = 44\n",
       "   partial log-likelihood = -190.83\n",
       "         time fit was run = 2024-12-20 19:09:24 UTC\n",
       "\n",
       "---\n",
       "                      coef exp(coef)  se(coef)  coef lower 95%  coef upper 95% exp(coef) lower 95% exp(coef) upper 95%\n",
       "covariate                                                                                                             \n",
       "Cancer_Stage[T.II]    0.50      1.65      0.52           -0.51            1.51                0.60                4.54\n",
       "Cancer_Stage[T.III]   1.28      3.61      0.36            0.58            1.99                1.79                7.30\n",
       "Cancer_Stage[T.IV]    1.00      2.73      0.57           -0.12            2.13                0.89                8.39\n",
       "Age                   0.02      1.02      0.03           -0.03            0.08                0.97                1.09\n",
       "Gender               -0.51      0.60      0.32           -1.13            0.12                0.32                1.12\n",
       "Log_Speed             0.24      1.27      0.14           -0.03            0.52                0.97                1.68\n",
       "shannon_index_leiden  2.82     16.77      1.53           -0.18            5.81                0.84              335.25\n",
       "\n",
       "                      cmp to     z      p  -log2(p)\n",
       "covariate                                          \n",
       "Cancer_Stage[T.II]      0.00  0.97   0.33      1.59\n",
       "Cancer_Stage[T.III]     0.00  3.57 <0.005     11.48\n",
       "Cancer_Stage[T.IV]      0.00  1.75   0.08      3.65\n",
       "Age                     0.00  0.81   0.42      1.26\n",
       "Gender                  0.00 -1.60   0.11      3.18\n",
       "Log_Speed               0.00  1.73   0.08      3.58\n",
       "shannon_index_leiden    0.00  1.85   0.07      3.94\n",
       "---\n",
       "Concordance = 0.75\n",
       "Partial AIC = 395.66\n",
       "log-likelihood ratio test = 29.93 on 7 df\n",
       "-log2(p) of ll-ratio test = 13.32"
      ]
     },
     "metadata": {},
     "output_type": "display_data"
    },
    {
     "data": {
      "text/html": [
       "<div>\n",
       "<style scoped>\n",
       "    .dataframe tbody tr th:only-of-type {\n",
       "        vertical-align: middle;\n",
       "    }\n",
       "\n",
       "    .dataframe tbody tr th {\n",
       "        vertical-align: top;\n",
       "    }\n",
       "\n",
       "    .dataframe thead th {\n",
       "        text-align: right;\n",
       "    }\n",
       "</style>\n",
       "<table border=\"1\" class=\"dataframe\">\n",
       "  <tbody>\n",
       "    <tr>\n",
       "      <th>model</th>\n",
       "      <td>lifelines.CoxPHFitter</td>\n",
       "    </tr>\n",
       "    <tr>\n",
       "      <th>duration col</th>\n",
       "      <td>'Overall_Survival'</td>\n",
       "    </tr>\n",
       "    <tr>\n",
       "      <th>event col</th>\n",
       "      <td>'vital.status'</td>\n",
       "    </tr>\n",
       "    <tr>\n",
       "      <th>baseline estimation</th>\n",
       "      <td>breslow</td>\n",
       "    </tr>\n",
       "    <tr>\n",
       "      <th>number of observations</th>\n",
       "      <td>147</td>\n",
       "    </tr>\n",
       "    <tr>\n",
       "      <th>number of events observed</th>\n",
       "      <td>44</td>\n",
       "    </tr>\n",
       "    <tr>\n",
       "      <th>partial log-likelihood</th>\n",
       "      <td>-192.48</td>\n",
       "    </tr>\n",
       "    <tr>\n",
       "      <th>time fit was run</th>\n",
       "      <td>2024-12-20 19:09:24 UTC</td>\n",
       "    </tr>\n",
       "  </tbody>\n",
       "</table>\n",
       "</div><table border=\"1\" class=\"dataframe\">\n",
       "  <thead>\n",
       "    <tr style=\"text-align: right;\">\n",
       "      <th style=\"min-width: 12px;\"></th>\n",
       "      <th style=\"min-width: 12px;\">coef</th>\n",
       "      <th style=\"min-width: 12px;\">exp(coef)</th>\n",
       "      <th style=\"min-width: 12px;\">se(coef)</th>\n",
       "      <th style=\"min-width: 12px;\">coef lower 95%</th>\n",
       "      <th style=\"min-width: 12px;\">coef upper 95%</th>\n",
       "      <th style=\"min-width: 12px;\">exp(coef) lower 95%</th>\n",
       "      <th style=\"min-width: 12px;\">exp(coef) upper 95%</th>\n",
       "      <th style=\"min-width: 12px;\">cmp to</th>\n",
       "      <th style=\"min-width: 12px;\">z</th>\n",
       "      <th style=\"min-width: 12px;\">p</th>\n",
       "      <th style=\"min-width: 12px;\">-log2(p)</th>\n",
       "    </tr>\n",
       "  </thead>\n",
       "  <tbody>\n",
       "    <tr>\n",
       "      <th>Cancer_Stage[T.II]</th>\n",
       "      <td>0.68</td>\n",
       "      <td>1.98</td>\n",
       "      <td>0.50</td>\n",
       "      <td>-0.30</td>\n",
       "      <td>1.67</td>\n",
       "      <td>0.74</td>\n",
       "      <td>5.31</td>\n",
       "      <td>0.00</td>\n",
       "      <td>1.36</td>\n",
       "      <td>0.18</td>\n",
       "      <td>2.51</td>\n",
       "    </tr>\n",
       "    <tr>\n",
       "      <th>Cancer_Stage[T.III]</th>\n",
       "      <td>1.25</td>\n",
       "      <td>3.50</td>\n",
       "      <td>0.36</td>\n",
       "      <td>0.54</td>\n",
       "      <td>1.96</td>\n",
       "      <td>1.71</td>\n",
       "      <td>7.13</td>\n",
       "      <td>0.00</td>\n",
       "      <td>3.44</td>\n",
       "      <td>&lt;0.005</td>\n",
       "      <td>10.77</td>\n",
       "    </tr>\n",
       "    <tr>\n",
       "      <th>Cancer_Stage[T.IV]</th>\n",
       "      <td>1.08</td>\n",
       "      <td>2.93</td>\n",
       "      <td>0.56</td>\n",
       "      <td>-0.03</td>\n",
       "      <td>2.18</td>\n",
       "      <td>0.97</td>\n",
       "      <td>8.84</td>\n",
       "      <td>0.00</td>\n",
       "      <td>1.91</td>\n",
       "      <td>0.06</td>\n",
       "      <td>4.15</td>\n",
       "    </tr>\n",
       "    <tr>\n",
       "      <th>Log_Speed</th>\n",
       "      <td>0.21</td>\n",
       "      <td>1.24</td>\n",
       "      <td>0.14</td>\n",
       "      <td>-0.06</td>\n",
       "      <td>0.49</td>\n",
       "      <td>0.94</td>\n",
       "      <td>1.63</td>\n",
       "      <td>0.00</td>\n",
       "      <td>1.51</td>\n",
       "      <td>0.13</td>\n",
       "      <td>2.94</td>\n",
       "    </tr>\n",
       "    <tr>\n",
       "      <th>shannon_index_leiden</th>\n",
       "      <td>2.70</td>\n",
       "      <td>14.85</td>\n",
       "      <td>1.52</td>\n",
       "      <td>-0.28</td>\n",
       "      <td>5.67</td>\n",
       "      <td>0.76</td>\n",
       "      <td>290.27</td>\n",
       "      <td>0.00</td>\n",
       "      <td>1.78</td>\n",
       "      <td>0.08</td>\n",
       "      <td>3.73</td>\n",
       "    </tr>\n",
       "  </tbody>\n",
       "</table><br><div>\n",
       "<style scoped>\n",
       "    .dataframe tbody tr th:only-of-type {\n",
       "        vertical-align: middle;\n",
       "    }\n",
       "\n",
       "    .dataframe tbody tr th {\n",
       "        vertical-align: top;\n",
       "    }\n",
       "\n",
       "    .dataframe thead th {\n",
       "        text-align: right;\n",
       "    }\n",
       "</style>\n",
       "<table border=\"1\" class=\"dataframe\">\n",
       "  <tbody>\n",
       "    <tr>\n",
       "      <th>Concordance</th>\n",
       "      <td>0.74</td>\n",
       "    </tr>\n",
       "    <tr>\n",
       "      <th>Partial AIC</th>\n",
       "      <td>394.96</td>\n",
       "    </tr>\n",
       "    <tr>\n",
       "      <th>log-likelihood ratio test</th>\n",
       "      <td>26.63 on 5 df</td>\n",
       "    </tr>\n",
       "    <tr>\n",
       "      <th>-log2(p) of ll-ratio test</th>\n",
       "      <td>13.86</td>\n",
       "    </tr>\n",
       "  </tbody>\n",
       "</table>\n",
       "</div>"
      ],
      "text/latex": [
       "\\begin{tabular}{lrrrrrrrrrrr}\n",
       " & coef & exp(coef) & se(coef) & coef lower 95% & coef upper 95% & exp(coef) lower 95% & exp(coef) upper 95% & cmp to & z & p & -log2(p) \\\\\n",
       "covariate &  &  &  &  &  &  &  &  &  &  &  \\\\\n",
       "Cancer_Stage[T.II] & 0.68 & 1.98 & 0.50 & -0.30 & 1.67 & 0.74 & 5.31 & 0.00 & 1.36 & 0.18 & 2.51 \\\\\n",
       "Cancer_Stage[T.III] & 1.25 & 3.50 & 0.36 & 0.54 & 1.96 & 1.71 & 7.13 & 0.00 & 3.44 & 0.00 & 10.77 \\\\\n",
       "Cancer_Stage[T.IV] & 1.08 & 2.93 & 0.56 & -0.03 & 2.18 & 0.97 & 8.84 & 0.00 & 1.91 & 0.06 & 4.15 \\\\\n",
       "Log_Speed & 0.21 & 1.24 & 0.14 & -0.06 & 0.49 & 0.94 & 1.63 & 0.00 & 1.51 & 0.13 & 2.94 \\\\\n",
       "shannon_index_leiden & 2.70 & 14.85 & 1.52 & -0.28 & 5.67 & 0.76 & 290.27 & 0.00 & 1.78 & 0.08 & 3.73 \\\\\n",
       "\\end{tabular}\n"
      ],
      "text/plain": [
       "<lifelines.CoxPHFitter: fitted with 147 total observations, 103 right-censored observations>\n",
       "             duration col = 'Overall_Survival'\n",
       "                event col = 'vital.status'\n",
       "      baseline estimation = breslow\n",
       "   number of observations = 147\n",
       "number of events observed = 44\n",
       "   partial log-likelihood = -192.48\n",
       "         time fit was run = 2024-12-20 19:09:24 UTC\n",
       "\n",
       "---\n",
       "                      coef exp(coef)  se(coef)  coef lower 95%  coef upper 95% exp(coef) lower 95% exp(coef) upper 95%\n",
       "covariate                                                                                                             \n",
       "Cancer_Stage[T.II]    0.68      1.98      0.50           -0.30            1.67                0.74                5.31\n",
       "Cancer_Stage[T.III]   1.25      3.50      0.36            0.54            1.96                1.71                7.13\n",
       "Cancer_Stage[T.IV]    1.08      2.93      0.56           -0.03            2.18                0.97                8.84\n",
       "Log_Speed             0.21      1.24      0.14           -0.06            0.49                0.94                1.63\n",
       "shannon_index_leiden  2.70     14.85      1.52           -0.28            5.67                0.76              290.27\n",
       "\n",
       "                      cmp to    z      p  -log2(p)\n",
       "covariate                                         \n",
       "Cancer_Stage[T.II]      0.00 1.36   0.18      2.51\n",
       "Cancer_Stage[T.III]     0.00 3.44 <0.005     10.77\n",
       "Cancer_Stage[T.IV]      0.00 1.91   0.06      4.15\n",
       "Log_Speed               0.00 1.51   0.13      2.94\n",
       "shannon_index_leiden    0.00 1.78   0.08      3.73\n",
       "---\n",
       "Concordance = 0.74\n",
       "Partial AIC = 394.96\n",
       "log-likelihood ratio test = 26.63 on 5 df\n",
       "-log2(p) of ll-ratio test = 13.86"
      ]
     },
     "metadata": {},
     "output_type": "display_data"
    },
    {
     "data": {
      "text/html": [
       "<div>\n",
       "<style scoped>\n",
       "    .dataframe tbody tr th:only-of-type {\n",
       "        vertical-align: middle;\n",
       "    }\n",
       "\n",
       "    .dataframe tbody tr th {\n",
       "        vertical-align: top;\n",
       "    }\n",
       "\n",
       "    .dataframe thead th {\n",
       "        text-align: right;\n",
       "    }\n",
       "</style>\n",
       "<table border=\"1\" class=\"dataframe\">\n",
       "  <tbody>\n",
       "    <tr>\n",
       "      <th>model</th>\n",
       "      <td>lifelines.CoxPHFitter</td>\n",
       "    </tr>\n",
       "    <tr>\n",
       "      <th>duration col</th>\n",
       "      <td>'Overall_Survival'</td>\n",
       "    </tr>\n",
       "    <tr>\n",
       "      <th>event col</th>\n",
       "      <td>'vital.status'</td>\n",
       "    </tr>\n",
       "    <tr>\n",
       "      <th>baseline estimation</th>\n",
       "      <td>breslow</td>\n",
       "    </tr>\n",
       "    <tr>\n",
       "      <th>number of observations</th>\n",
       "      <td>147</td>\n",
       "    </tr>\n",
       "    <tr>\n",
       "      <th>number of events observed</th>\n",
       "      <td>44</td>\n",
       "    </tr>\n",
       "    <tr>\n",
       "      <th>partial log-likelihood</th>\n",
       "      <td>-190.47</td>\n",
       "    </tr>\n",
       "    <tr>\n",
       "      <th>time fit was run</th>\n",
       "      <td>2024-12-20 19:09:24 UTC</td>\n",
       "    </tr>\n",
       "  </tbody>\n",
       "</table>\n",
       "</div><table border=\"1\" class=\"dataframe\">\n",
       "  <thead>\n",
       "    <tr style=\"text-align: right;\">\n",
       "      <th style=\"min-width: 12px;\"></th>\n",
       "      <th style=\"min-width: 12px;\">coef</th>\n",
       "      <th style=\"min-width: 12px;\">exp(coef)</th>\n",
       "      <th style=\"min-width: 12px;\">se(coef)</th>\n",
       "      <th style=\"min-width: 12px;\">coef lower 95%</th>\n",
       "      <th style=\"min-width: 12px;\">coef upper 95%</th>\n",
       "      <th style=\"min-width: 12px;\">exp(coef) lower 95%</th>\n",
       "      <th style=\"min-width: 12px;\">exp(coef) upper 95%</th>\n",
       "      <th style=\"min-width: 12px;\">cmp to</th>\n",
       "      <th style=\"min-width: 12px;\">z</th>\n",
       "      <th style=\"min-width: 12px;\">p</th>\n",
       "      <th style=\"min-width: 12px;\">-log2(p)</th>\n",
       "    </tr>\n",
       "  </thead>\n",
       "  <tbody>\n",
       "    <tr>\n",
       "      <th>Cancer_Stage[T.II]</th>\n",
       "      <td>0.66</td>\n",
       "      <td>1.94</td>\n",
       "      <td>0.51</td>\n",
       "      <td>-0.34</td>\n",
       "      <td>1.67</td>\n",
       "      <td>0.71</td>\n",
       "      <td>5.33</td>\n",
       "      <td>0.00</td>\n",
       "      <td>1.29</td>\n",
       "      <td>0.20</td>\n",
       "      <td>2.35</td>\n",
       "    </tr>\n",
       "    <tr>\n",
       "      <th>Cancer_Stage[T.III]</th>\n",
       "      <td>1.35</td>\n",
       "      <td>3.85</td>\n",
       "      <td>0.36</td>\n",
       "      <td>0.65</td>\n",
       "      <td>2.05</td>\n",
       "      <td>1.92</td>\n",
       "      <td>7.74</td>\n",
       "      <td>0.00</td>\n",
       "      <td>3.79</td>\n",
       "      <td>&lt;0.005</td>\n",
       "      <td>12.67</td>\n",
       "    </tr>\n",
       "    <tr>\n",
       "      <th>Cancer_Stage[T.IV]</th>\n",
       "      <td>0.97</td>\n",
       "      <td>2.63</td>\n",
       "      <td>0.57</td>\n",
       "      <td>-0.15</td>\n",
       "      <td>2.09</td>\n",
       "      <td>0.86</td>\n",
       "      <td>8.10</td>\n",
       "      <td>0.00</td>\n",
       "      <td>1.69</td>\n",
       "      <td>0.09</td>\n",
       "      <td>3.46</td>\n",
       "    </tr>\n",
       "    <tr>\n",
       "      <th>Speed_group[T.Slow]</th>\n",
       "      <td>-0.82</td>\n",
       "      <td>0.44</td>\n",
       "      <td>0.35</td>\n",
       "      <td>-1.51</td>\n",
       "      <td>-0.14</td>\n",
       "      <td>0.22</td>\n",
       "      <td>0.87</td>\n",
       "      <td>0.00</td>\n",
       "      <td>-2.35</td>\n",
       "      <td>0.02</td>\n",
       "      <td>5.73</td>\n",
       "    </tr>\n",
       "    <tr>\n",
       "      <th>Idx_group[T.Slow]</th>\n",
       "      <td>-0.53</td>\n",
       "      <td>0.59</td>\n",
       "      <td>0.33</td>\n",
       "      <td>-1.18</td>\n",
       "      <td>0.11</td>\n",
       "      <td>0.31</td>\n",
       "      <td>1.12</td>\n",
       "      <td>0.00</td>\n",
       "      <td>-1.61</td>\n",
       "      <td>0.11</td>\n",
       "      <td>3.23</td>\n",
       "    </tr>\n",
       "    <tr>\n",
       "      <th>Age</th>\n",
       "      <td>0.03</td>\n",
       "      <td>1.03</td>\n",
       "      <td>0.03</td>\n",
       "      <td>-0.03</td>\n",
       "      <td>0.08</td>\n",
       "      <td>0.97</td>\n",
       "      <td>1.09</td>\n",
       "      <td>0.00</td>\n",
       "      <td>0.83</td>\n",
       "      <td>0.41</td>\n",
       "      <td>1.30</td>\n",
       "    </tr>\n",
       "    <tr>\n",
       "      <th>Gender</th>\n",
       "      <td>-0.43</td>\n",
       "      <td>0.65</td>\n",
       "      <td>0.32</td>\n",
       "      <td>-1.05</td>\n",
       "      <td>0.20</td>\n",
       "      <td>0.35</td>\n",
       "      <td>1.22</td>\n",
       "      <td>0.00</td>\n",
       "      <td>-1.34</td>\n",
       "      <td>0.18</td>\n",
       "      <td>2.47</td>\n",
       "    </tr>\n",
       "  </tbody>\n",
       "</table><br><div>\n",
       "<style scoped>\n",
       "    .dataframe tbody tr th:only-of-type {\n",
       "        vertical-align: middle;\n",
       "    }\n",
       "\n",
       "    .dataframe tbody tr th {\n",
       "        vertical-align: top;\n",
       "    }\n",
       "\n",
       "    .dataframe thead th {\n",
       "        text-align: right;\n",
       "    }\n",
       "</style>\n",
       "<table border=\"1\" class=\"dataframe\">\n",
       "  <tbody>\n",
       "    <tr>\n",
       "      <th>Concordance</th>\n",
       "      <td>0.74</td>\n",
       "    </tr>\n",
       "    <tr>\n",
       "      <th>Partial AIC</th>\n",
       "      <td>394.93</td>\n",
       "    </tr>\n",
       "    <tr>\n",
       "      <th>log-likelihood ratio test</th>\n",
       "      <td>30.66 on 7 df</td>\n",
       "    </tr>\n",
       "    <tr>\n",
       "      <th>-log2(p) of ll-ratio test</th>\n",
       "      <td>13.76</td>\n",
       "    </tr>\n",
       "  </tbody>\n",
       "</table>\n",
       "</div>"
      ],
      "text/latex": [
       "\\begin{tabular}{lrrrrrrrrrrr}\n",
       " & coef & exp(coef) & se(coef) & coef lower 95% & coef upper 95% & exp(coef) lower 95% & exp(coef) upper 95% & cmp to & z & p & -log2(p) \\\\\n",
       "covariate &  &  &  &  &  &  &  &  &  &  &  \\\\\n",
       "Cancer_Stage[T.II] & 0.66 & 1.94 & 0.51 & -0.34 & 1.67 & 0.71 & 5.33 & 0.00 & 1.29 & 0.20 & 2.35 \\\\\n",
       "Cancer_Stage[T.III] & 1.35 & 3.85 & 0.36 & 0.65 & 2.05 & 1.92 & 7.74 & 0.00 & 3.79 & 0.00 & 12.67 \\\\\n",
       "Cancer_Stage[T.IV] & 0.97 & 2.63 & 0.57 & -0.15 & 2.09 & 0.86 & 8.10 & 0.00 & 1.69 & 0.09 & 3.46 \\\\\n",
       "Speed_group[T.Slow] & -0.82 & 0.44 & 0.35 & -1.51 & -0.14 & 0.22 & 0.87 & 0.00 & -2.35 & 0.02 & 5.73 \\\\\n",
       "Idx_group[T.Slow] & -0.53 & 0.59 & 0.33 & -1.18 & 0.11 & 0.31 & 1.12 & 0.00 & -1.61 & 0.11 & 3.23 \\\\\n",
       "Age & 0.03 & 1.03 & 0.03 & -0.03 & 0.08 & 0.97 & 1.09 & 0.00 & 0.83 & 0.41 & 1.30 \\\\\n",
       "Gender & -0.43 & 0.65 & 0.32 & -1.05 & 0.20 & 0.35 & 1.22 & 0.00 & -1.34 & 0.18 & 2.47 \\\\\n",
       "\\end{tabular}\n"
      ],
      "text/plain": [
       "<lifelines.CoxPHFitter: fitted with 147 total observations, 103 right-censored observations>\n",
       "             duration col = 'Overall_Survival'\n",
       "                event col = 'vital.status'\n",
       "      baseline estimation = breslow\n",
       "   number of observations = 147\n",
       "number of events observed = 44\n",
       "   partial log-likelihood = -190.47\n",
       "         time fit was run = 2024-12-20 19:09:24 UTC\n",
       "\n",
       "---\n",
       "                     coef exp(coef)  se(coef)  coef lower 95%  coef upper 95% exp(coef) lower 95% exp(coef) upper 95%\n",
       "covariate                                                                                                            \n",
       "Cancer_Stage[T.II]   0.66      1.94      0.51           -0.34            1.67                0.71                5.33\n",
       "Cancer_Stage[T.III]  1.35      3.85      0.36            0.65            2.05                1.92                7.74\n",
       "Cancer_Stage[T.IV]   0.97      2.63      0.57           -0.15            2.09                0.86                8.10\n",
       "Speed_group[T.Slow] -0.82      0.44      0.35           -1.51           -0.14                0.22                0.87\n",
       "Idx_group[T.Slow]   -0.53      0.59      0.33           -1.18            0.11                0.31                1.12\n",
       "Age                  0.03      1.03      0.03           -0.03            0.08                0.97                1.09\n",
       "Gender              -0.43      0.65      0.32           -1.05            0.20                0.35                1.22\n",
       "\n",
       "                     cmp to     z      p  -log2(p)\n",
       "covariate                                         \n",
       "Cancer_Stage[T.II]     0.00  1.29   0.20      2.35\n",
       "Cancer_Stage[T.III]    0.00  3.79 <0.005     12.67\n",
       "Cancer_Stage[T.IV]     0.00  1.69   0.09      3.46\n",
       "Speed_group[T.Slow]    0.00 -2.35   0.02      5.73\n",
       "Idx_group[T.Slow]      0.00 -1.61   0.11      3.23\n",
       "Age                    0.00  0.83   0.41      1.30\n",
       "Gender                 0.00 -1.34   0.18      2.47\n",
       "---\n",
       "Concordance = 0.74\n",
       "Partial AIC = 394.93\n",
       "log-likelihood ratio test = 30.66 on 7 df\n",
       "-log2(p) of ll-ratio test = 13.76"
      ]
     },
     "metadata": {},
     "output_type": "display_data"
    },
    {
     "data": {
      "text/html": [
       "<div>\n",
       "<style scoped>\n",
       "    .dataframe tbody tr th:only-of-type {\n",
       "        vertical-align: middle;\n",
       "    }\n",
       "\n",
       "    .dataframe tbody tr th {\n",
       "        vertical-align: top;\n",
       "    }\n",
       "\n",
       "    .dataframe thead th {\n",
       "        text-align: right;\n",
       "    }\n",
       "</style>\n",
       "<table border=\"1\" class=\"dataframe\">\n",
       "  <tbody>\n",
       "    <tr>\n",
       "      <th>model</th>\n",
       "      <td>lifelines.CoxPHFitter</td>\n",
       "    </tr>\n",
       "    <tr>\n",
       "      <th>duration col</th>\n",
       "      <td>'Overall_Survival'</td>\n",
       "    </tr>\n",
       "    <tr>\n",
       "      <th>event col</th>\n",
       "      <td>'vital.status'</td>\n",
       "    </tr>\n",
       "    <tr>\n",
       "      <th>baseline estimation</th>\n",
       "      <td>breslow</td>\n",
       "    </tr>\n",
       "    <tr>\n",
       "      <th>number of observations</th>\n",
       "      <td>147</td>\n",
       "    </tr>\n",
       "    <tr>\n",
       "      <th>number of events observed</th>\n",
       "      <td>44</td>\n",
       "    </tr>\n",
       "    <tr>\n",
       "      <th>partial log-likelihood</th>\n",
       "      <td>-191.00</td>\n",
       "    </tr>\n",
       "    <tr>\n",
       "      <th>time fit was run</th>\n",
       "      <td>2024-12-20 19:09:25 UTC</td>\n",
       "    </tr>\n",
       "  </tbody>\n",
       "</table>\n",
       "</div><table border=\"1\" class=\"dataframe\">\n",
       "  <thead>\n",
       "    <tr style=\"text-align: right;\">\n",
       "      <th style=\"min-width: 12px;\"></th>\n",
       "      <th style=\"min-width: 12px;\">coef</th>\n",
       "      <th style=\"min-width: 12px;\">exp(coef)</th>\n",
       "      <th style=\"min-width: 12px;\">se(coef)</th>\n",
       "      <th style=\"min-width: 12px;\">coef lower 95%</th>\n",
       "      <th style=\"min-width: 12px;\">coef upper 95%</th>\n",
       "      <th style=\"min-width: 12px;\">exp(coef) lower 95%</th>\n",
       "      <th style=\"min-width: 12px;\">exp(coef) upper 95%</th>\n",
       "      <th style=\"min-width: 12px;\">cmp to</th>\n",
       "      <th style=\"min-width: 12px;\">z</th>\n",
       "      <th style=\"min-width: 12px;\">p</th>\n",
       "      <th style=\"min-width: 12px;\">-log2(p)</th>\n",
       "    </tr>\n",
       "  </thead>\n",
       "  <tbody>\n",
       "    <tr>\n",
       "      <th>Cancer_Stage[T.II]</th>\n",
       "      <td>0.93</td>\n",
       "      <td>2.53</td>\n",
       "      <td>0.51</td>\n",
       "      <td>-0.07</td>\n",
       "      <td>1.92</td>\n",
       "      <td>0.94</td>\n",
       "      <td>6.82</td>\n",
       "      <td>0.00</td>\n",
       "      <td>1.83</td>\n",
       "      <td>0.07</td>\n",
       "      <td>3.90</td>\n",
       "    </tr>\n",
       "    <tr>\n",
       "      <th>Cancer_Stage[T.III]</th>\n",
       "      <td>1.30</td>\n",
       "      <td>3.66</td>\n",
       "      <td>0.35</td>\n",
       "      <td>0.61</td>\n",
       "      <td>1.99</td>\n",
       "      <td>1.84</td>\n",
       "      <td>7.30</td>\n",
       "      <td>0.00</td>\n",
       "      <td>3.69</td>\n",
       "      <td>&lt;0.005</td>\n",
       "      <td>12.14</td>\n",
       "    </tr>\n",
       "    <tr>\n",
       "      <th>Cancer_Stage[T.IV]</th>\n",
       "      <td>1.02</td>\n",
       "      <td>2.77</td>\n",
       "      <td>0.56</td>\n",
       "      <td>-0.07</td>\n",
       "      <td>2.11</td>\n",
       "      <td>0.93</td>\n",
       "      <td>8.25</td>\n",
       "      <td>0.00</td>\n",
       "      <td>1.83</td>\n",
       "      <td>0.07</td>\n",
       "      <td>3.88</td>\n",
       "    </tr>\n",
       "    <tr>\n",
       "      <th>Fitness_group[T.Slow]</th>\n",
       "      <td>-1.11</td>\n",
       "      <td>0.33</td>\n",
       "      <td>0.38</td>\n",
       "      <td>-1.86</td>\n",
       "      <td>-0.37</td>\n",
       "      <td>0.16</td>\n",
       "      <td>0.69</td>\n",
       "      <td>0.00</td>\n",
       "      <td>-2.93</td>\n",
       "      <td>&lt;0.005</td>\n",
       "      <td>8.20</td>\n",
       "    </tr>\n",
       "  </tbody>\n",
       "</table><br><div>\n",
       "<style scoped>\n",
       "    .dataframe tbody tr th:only-of-type {\n",
       "        vertical-align: middle;\n",
       "    }\n",
       "\n",
       "    .dataframe tbody tr th {\n",
       "        vertical-align: top;\n",
       "    }\n",
       "\n",
       "    .dataframe thead th {\n",
       "        text-align: right;\n",
       "    }\n",
       "</style>\n",
       "<table border=\"1\" class=\"dataframe\">\n",
       "  <tbody>\n",
       "    <tr>\n",
       "      <th>Concordance</th>\n",
       "      <td>0.75</td>\n",
       "    </tr>\n",
       "    <tr>\n",
       "      <th>Partial AIC</th>\n",
       "      <td>390.00</td>\n",
       "    </tr>\n",
       "    <tr>\n",
       "      <th>log-likelihood ratio test</th>\n",
       "      <td>29.59 on 4 df</td>\n",
       "    </tr>\n",
       "    <tr>\n",
       "      <th>-log2(p) of ll-ratio test</th>\n",
       "      <td>17.36</td>\n",
       "    </tr>\n",
       "  </tbody>\n",
       "</table>\n",
       "</div>"
      ],
      "text/latex": [
       "\\begin{tabular}{lrrrrrrrrrrr}\n",
       " & coef & exp(coef) & se(coef) & coef lower 95% & coef upper 95% & exp(coef) lower 95% & exp(coef) upper 95% & cmp to & z & p & -log2(p) \\\\\n",
       "covariate &  &  &  &  &  &  &  &  &  &  &  \\\\\n",
       "Cancer_Stage[T.II] & 0.93 & 2.53 & 0.51 & -0.07 & 1.92 & 0.94 & 6.82 & 0.00 & 1.83 & 0.07 & 3.90 \\\\\n",
       "Cancer_Stage[T.III] & 1.30 & 3.66 & 0.35 & 0.61 & 1.99 & 1.84 & 7.30 & 0.00 & 3.69 & 0.00 & 12.14 \\\\\n",
       "Cancer_Stage[T.IV] & 1.02 & 2.77 & 0.56 & -0.07 & 2.11 & 0.93 & 8.25 & 0.00 & 1.83 & 0.07 & 3.88 \\\\\n",
       "Fitness_group[T.Slow] & -1.11 & 0.33 & 0.38 & -1.86 & -0.37 & 0.16 & 0.69 & 0.00 & -2.93 & 0.00 & 8.20 \\\\\n",
       "\\end{tabular}\n"
      ],
      "text/plain": [
       "<lifelines.CoxPHFitter: fitted with 147 total observations, 103 right-censored observations>\n",
       "             duration col = 'Overall_Survival'\n",
       "                event col = 'vital.status'\n",
       "      baseline estimation = breslow\n",
       "   number of observations = 147\n",
       "number of events observed = 44\n",
       "   partial log-likelihood = -191.00\n",
       "         time fit was run = 2024-12-20 19:09:25 UTC\n",
       "\n",
       "---\n",
       "                       coef exp(coef)  se(coef)  coef lower 95%  coef upper 95% exp(coef) lower 95% exp(coef) upper 95%\n",
       "covariate                                                                                                              \n",
       "Cancer_Stage[T.II]     0.93      2.53      0.51           -0.07            1.92                0.94                6.82\n",
       "Cancer_Stage[T.III]    1.30      3.66      0.35            0.61            1.99                1.84                7.30\n",
       "Cancer_Stage[T.IV]     1.02      2.77      0.56           -0.07            2.11                0.93                8.25\n",
       "Fitness_group[T.Slow] -1.11      0.33      0.38           -1.86           -0.37                0.16                0.69\n",
       "\n",
       "                       cmp to     z      p  -log2(p)\n",
       "covariate                                           \n",
       "Cancer_Stage[T.II]       0.00  1.83   0.07      3.90\n",
       "Cancer_Stage[T.III]      0.00  3.69 <0.005     12.14\n",
       "Cancer_Stage[T.IV]       0.00  1.83   0.07      3.88\n",
       "Fitness_group[T.Slow]    0.00 -2.93 <0.005      8.20\n",
       "---\n",
       "Concordance = 0.75\n",
       "Partial AIC = 390.00\n",
       "log-likelihood ratio test = 29.59 on 4 df\n",
       "-log2(p) of ll-ratio test = 17.36"
      ]
     },
     "metadata": {},
     "output_type": "display_data"
    },
    {
     "data": {
      "image/png": "[encoded data removed]",
      "text/plain": [
       "<Figure size 300x400 with 1 Axes>"
      ]
     },
     "metadata": {},
     "output_type": "display_data"
    }
   ],
   "source": [
    "from lifelines import CoxPHFitter,KaplanMeierFitter\n",
    "from lifelines.utils import concordance_index\n",
    "from lifelines.statistics import logrank_test\n",
    "cutoff = 0.5\n",
    "dat = data_df[data_df['tissue_ratio'] >= cutoff ]\n",
    "dat = dat[dat['Log_Speed'] > 0 ]\n",
    "#dat = dat[dat['Stage'] < 10 ]\n",
    "\n",
    "print(dat.shape, dat['Stage'].value_counts())\n",
    "\n",
    "cph = CoxPHFitter()\n",
    "cph.fit(data_df, duration_col = 'Overall_Survival', event_col = 'vital.status',formula=\"Cancer_Stage\")\n",
    "cph.print_summary()\n",
    "\n",
    "cph = CoxPHFitter()\n",
    "cph.fit(data_df, duration_col = 'Overall_Survival', event_col = 'vital.status',formula=\"Sex\")\n",
    "cph.print_summary()\n",
    "\n",
    "cph = CoxPHFitter()\n",
    "cph.fit(data_df, duration_col = 'Overall_Survival', event_col = 'vital.status',formula=\"Speed_group\")\n",
    "cph.print_summary()\n",
    "\n",
    "cph = CoxPHFitter()\n",
    "cph.fit(data_df, duration_col = 'Overall_Survival', event_col = 'vital.status',formula=\"Idx_group\")\n",
    "cph.print_summary()\n",
    "\n",
    "cph = CoxPHFitter()\n",
    "cph.fit(data_df, duration_col = 'Overall_Survival', event_col = 'vital.status',formula=\"Fitness_group\")\n",
    "cph.print_summary()\n",
    "\n",
    "cph = CoxPHFitter()\n",
    "cph.fit(dat, duration_col = 'Overall_Survival', event_col = 'vital.status',\n",
    "        formula=\"Log_Speed + shannon_index_leiden\")\n",
    "cph.print_summary()\n",
    "\n",
    "cph = CoxPHFitter()\n",
    "cph.fit(dat, duration_col = 'Overall_Survival', event_col = 'vital.status',\n",
    "        formula=\"Log_Speed\")\n",
    "cph.print_summary()\n",
    "\n",
    "\n",
    "cph = CoxPHFitter()\n",
    "cph.fit(dat, duration_col = 'Overall_Survival', event_col = 'vital.status',\n",
    "        formula=\"shannon_index_leiden\")\n",
    "cph.print_summary()\n",
    "\n",
    "cph = CoxPHFitter()\n",
    "cph.fit(dat, duration_col = 'Overall_Survival', event_col = 'vital.status',\n",
    "        formula=\"speed_leiden\")\n",
    "cph.print_summary()\n",
    "\n",
    "cph = CoxPHFitter()\n",
    "cph.fit(dat, duration_col = 'Overall_Survival', event_col = 'vital.status',\n",
    "        formula=\"Cancer_Stage + Age+Gender + Tobacco.history\")\n",
    "cph.print_summary()\n",
    "\n",
    "\n",
    "cph = CoxPHFitter()\n",
    "cph.fit(dat, duration_col = 'Overall_Survival', event_col = 'vital.status',\n",
    "        formula=\"Cancer_Stage + Age+Gender + Log_Speed + shannon_index_leiden\")\n",
    "cph.print_summary()\n",
    "\n",
    "cph = CoxPHFitter()\n",
    "cph.fit(dat, duration_col = 'Overall_Survival', event_col = 'vital.status',\n",
    "        formula=\"Cancer_Stage + Log_Speed + shannon_index_leiden\")\n",
    "cph.print_summary()\n",
    "\n",
    "\n",
    "cph = CoxPHFitter()\n",
    "cph.fit(dat, duration_col = 'Overall_Survival', event_col = 'vital.status',\n",
    "        formula=\"Cancer_Stage + Speed_group + Idx_group + Age+Gender \")\n",
    "cph.print_summary()\n",
    "\n",
    "\n",
    "\n",
    "cph = CoxPHFitter()\n",
    "cph.fit(dat, duration_col = 'Overall_Survival', event_col = 'vital.status',\n",
    "        formula=\"Cancer_Stage + Fitness_group \")\n",
    "cph.print_summary()\n",
    "\n",
    "\n",
    "\n",
    "\n",
    "plt.figure(figsize =(3, 4))\n",
    "cph.plot()\n",
    "plt.show()"
   ]
  },
  {
   "cell_type": "code",
   "execution_count": 34,
   "id": "81ce8bc8-2cab-4231-9daf-31a0b620ea0d",
   "metadata": {},
   "outputs": [
    {
     "data": {
      "text/html": [
       "<div>\n",
       "<style scoped>\n",
       "    .dataframe tbody tr th:only-of-type {\n",
       "        vertical-align: middle;\n",
       "    }\n",
       "\n",
       "    .dataframe tbody tr th {\n",
       "        vertical-align: top;\n",
       "    }\n",
       "\n",
       "    .dataframe thead th {\n",
       "        text-align: right;\n",
       "    }\n",
       "</style>\n",
       "<table border=\"1\" class=\"dataframe\">\n",
       "  <tbody>\n",
       "    <tr>\n",
       "      <th>model</th>\n",
       "      <td>lifelines.CoxPHFitter</td>\n",
       "    </tr>\n",
       "    <tr>\n",
       "      <th>duration col</th>\n",
       "      <td>'Overall_Survival'</td>\n",
       "    </tr>\n",
       "    <tr>\n",
       "      <th>event col</th>\n",
       "      <td>'vital.status'</td>\n",
       "    </tr>\n",
       "    <tr>\n",
       "      <th>baseline estimation</th>\n",
       "      <td>breslow</td>\n",
       "    </tr>\n",
       "    <tr>\n",
       "      <th>number of observations</th>\n",
       "      <td>147</td>\n",
       "    </tr>\n",
       "    <tr>\n",
       "      <th>number of events observed</th>\n",
       "      <td>44</td>\n",
       "    </tr>\n",
       "    <tr>\n",
       "      <th>partial log-likelihood</th>\n",
       "      <td>-194.89</td>\n",
       "    </tr>\n",
       "    <tr>\n",
       "      <th>time fit was run</th>\n",
       "      <td>2024-11-21 21:12:33 UTC</td>\n",
       "    </tr>\n",
       "  </tbody>\n",
       "</table>\n",
       "</div><table border=\"1\" class=\"dataframe\">\n",
       "  <thead>\n",
       "    <tr style=\"text-align: right;\">\n",
       "      <th style=\"min-width: 12px;\"></th>\n",
       "      <th style=\"min-width: 12px;\">coef</th>\n",
       "      <th style=\"min-width: 12px;\">exp(coef)</th>\n",
       "      <th style=\"min-width: 12px;\">se(coef)</th>\n",
       "      <th style=\"min-width: 12px;\">coef lower 95%</th>\n",
       "      <th style=\"min-width: 12px;\">coef upper 95%</th>\n",
       "      <th style=\"min-width: 12px;\">exp(coef) lower 95%</th>\n",
       "      <th style=\"min-width: 12px;\">exp(coef) upper 95%</th>\n",
       "      <th style=\"min-width: 12px;\">cmp to</th>\n",
       "      <th style=\"min-width: 12px;\">z</th>\n",
       "      <th style=\"min-width: 12px;\">p</th>\n",
       "      <th style=\"min-width: 12px;\">-log2(p)</th>\n",
       "    </tr>\n",
       "  </thead>\n",
       "  <tbody>\n",
       "    <tr>\n",
       "      <th>Cancer_Stage[T.II]</th>\n",
       "      <td>0.56</td>\n",
       "      <td>1.75</td>\n",
       "      <td>0.51</td>\n",
       "      <td>-0.43</td>\n",
       "      <td>1.55</td>\n",
       "      <td>0.65</td>\n",
       "      <td>4.70</td>\n",
       "      <td>0.00</td>\n",
       "      <td>1.10</td>\n",
       "      <td>0.27</td>\n",
       "      <td>1.88</td>\n",
       "    </tr>\n",
       "    <tr>\n",
       "      <th>Cancer_Stage[T.III]</th>\n",
       "      <td>1.55</td>\n",
       "      <td>4.72</td>\n",
       "      <td>0.35</td>\n",
       "      <td>0.87</td>\n",
       "      <td>2.23</td>\n",
       "      <td>2.39</td>\n",
       "      <td>9.33</td>\n",
       "      <td>0.00</td>\n",
       "      <td>4.47</td>\n",
       "      <td>&lt;0.005</td>\n",
       "      <td>16.94</td>\n",
       "    </tr>\n",
       "    <tr>\n",
       "      <th>Cancer_Stage[T.IV]</th>\n",
       "      <td>1.44</td>\n",
       "      <td>4.23</td>\n",
       "      <td>0.56</td>\n",
       "      <td>0.35</td>\n",
       "      <td>2.54</td>\n",
       "      <td>1.42</td>\n",
       "      <td>12.65</td>\n",
       "      <td>0.00</td>\n",
       "      <td>2.58</td>\n",
       "      <td>0.01</td>\n",
       "      <td>6.68</td>\n",
       "    </tr>\n",
       "    <tr>\n",
       "      <th>Age</th>\n",
       "      <td>0.01</td>\n",
       "      <td>1.01</td>\n",
       "      <td>0.03</td>\n",
       "      <td>-0.04</td>\n",
       "      <td>0.07</td>\n",
       "      <td>0.96</td>\n",
       "      <td>1.07</td>\n",
       "      <td>0.00</td>\n",
       "      <td>0.47</td>\n",
       "      <td>0.64</td>\n",
       "      <td>0.64</td>\n",
       "    </tr>\n",
       "    <tr>\n",
       "      <th>Sex[T.Male]</th>\n",
       "      <td>0.41</td>\n",
       "      <td>1.50</td>\n",
       "      <td>0.31</td>\n",
       "      <td>-0.20</td>\n",
       "      <td>1.02</td>\n",
       "      <td>0.82</td>\n",
       "      <td>2.76</td>\n",
       "      <td>0.00</td>\n",
       "      <td>1.30</td>\n",
       "      <td>0.19</td>\n",
       "      <td>2.38</td>\n",
       "    </tr>\n",
       "  </tbody>\n",
       "</table><br><div>\n",
       "<style scoped>\n",
       "    .dataframe tbody tr th:only-of-type {\n",
       "        vertical-align: middle;\n",
       "    }\n",
       "\n",
       "    .dataframe tbody tr th {\n",
       "        vertical-align: top;\n",
       "    }\n",
       "\n",
       "    .dataframe thead th {\n",
       "        text-align: right;\n",
       "    }\n",
       "</style>\n",
       "<table border=\"1\" class=\"dataframe\">\n",
       "  <tbody>\n",
       "    <tr>\n",
       "      <th>Concordance</th>\n",
       "      <td>0.70</td>\n",
       "    </tr>\n",
       "    <tr>\n",
       "      <th>Partial AIC</th>\n",
       "      <td>399.77</td>\n",
       "    </tr>\n",
       "    <tr>\n",
       "      <th>log-likelihood ratio test</th>\n",
       "      <td>21.82 on 5 df</td>\n",
       "    </tr>\n",
       "    <tr>\n",
       "      <th>-log2(p) of ll-ratio test</th>\n",
       "      <td>10.79</td>\n",
       "    </tr>\n",
       "  </tbody>\n",
       "</table>\n",
       "</div>"
      ],
      "text/latex": [
       "\\begin{tabular}{lrrrrrrrrrrr}\n",
       " & coef & exp(coef) & se(coef) & coef lower 95% & coef upper 95% & exp(coef) lower 95% & exp(coef) upper 95% & cmp to & z & p & -log2(p) \\\\\n",
       "covariate &  &  &  &  &  &  &  &  &  &  &  \\\\\n",
       "Cancer_Stage[T.II] & 0.56 & 1.75 & 0.51 & -0.43 & 1.55 & 0.65 & 4.70 & 0.00 & 1.10 & 0.27 & 1.88 \\\\\n",
       "Cancer_Stage[T.III] & 1.55 & 4.72 & 0.35 & 0.87 & 2.23 & 2.39 & 9.33 & 0.00 & 4.47 & 0.00 & 16.94 \\\\\n",
       "Cancer_Stage[T.IV] & 1.44 & 4.23 & 0.56 & 0.35 & 2.54 & 1.42 & 12.65 & 0.00 & 2.58 & 0.01 & 6.68 \\\\\n",
       "Age & 0.01 & 1.01 & 0.03 & -0.04 & 0.07 & 0.96 & 1.07 & 0.00 & 0.47 & 0.64 & 0.64 \\\\\n",
       "Sex[T.Male] & 0.41 & 1.50 & 0.31 & -0.20 & 1.02 & 0.82 & 2.76 & 0.00 & 1.30 & 0.19 & 2.38 \\\\\n",
       "\\end{tabular}\n"
      ],
      "text/plain": [
       "<lifelines.CoxPHFitter: fitted with 147 total observations, 103 right-censored observations>\n",
       "             duration col = 'Overall_Survival'\n",
       "                event col = 'vital.status'\n",
       "      baseline estimation = breslow\n",
       "   number of observations = 147\n",
       "number of events observed = 44\n",
       "   partial log-likelihood = -194.89\n",
       "         time fit was run = 2024-11-21 21:12:33 UTC\n",
       "\n",
       "---\n",
       "                     coef exp(coef)  se(coef)  coef lower 95%  coef upper 95% exp(coef) lower 95% exp(coef) upper 95%\n",
       "covariate                                                                                                            \n",
       "Cancer_Stage[T.II]   0.56      1.75      0.51           -0.43            1.55                0.65                4.70\n",
       "Cancer_Stage[T.III]  1.55      4.72      0.35            0.87            2.23                2.39                9.33\n",
       "Cancer_Stage[T.IV]   1.44      4.23      0.56            0.35            2.54                1.42               12.65\n",
       "Age                  0.01      1.01      0.03           -0.04            0.07                0.96                1.07\n",
       "Sex[T.Male]          0.41      1.50      0.31           -0.20            1.02                0.82                2.76\n",
       "\n",
       "                     cmp to    z      p  -log2(p)\n",
       "covariate                                        \n",
       "Cancer_Stage[T.II]     0.00 1.10   0.27      1.88\n",
       "Cancer_Stage[T.III]    0.00 4.47 <0.005     16.94\n",
       "Cancer_Stage[T.IV]     0.00 2.58   0.01      6.68\n",
       "Age                    0.00 0.47   0.64      0.64\n",
       "Sex[T.Male]            0.00 1.30   0.19      2.38\n",
       "---\n",
       "Concordance = 0.70\n",
       "Partial AIC = 399.77\n",
       "log-likelihood ratio test = 21.82 on 5 df\n",
       "-log2(p) of ll-ratio test = 10.79"
      ]
     },
     "metadata": {},
     "output_type": "display_data"
    },
    {
     "data": {
      "text/html": [
       "<div>\n",
       "<style scoped>\n",
       "    .dataframe tbody tr th:only-of-type {\n",
       "        vertical-align: middle;\n",
       "    }\n",
       "\n",
       "    .dataframe tbody tr th {\n",
       "        vertical-align: top;\n",
       "    }\n",
       "\n",
       "    .dataframe thead th {\n",
       "        text-align: right;\n",
       "    }\n",
       "</style>\n",
       "<table border=\"1\" class=\"dataframe\">\n",
       "  <tbody>\n",
       "    <tr>\n",
       "      <th>model</th>\n",
       "      <td>lifelines.CoxPHFitter</td>\n",
       "    </tr>\n",
       "    <tr>\n",
       "      <th>duration col</th>\n",
       "      <td>'Overall_Survival'</td>\n",
       "    </tr>\n",
       "    <tr>\n",
       "      <th>event col</th>\n",
       "      <td>'vital.status'</td>\n",
       "    </tr>\n",
       "    <tr>\n",
       "      <th>baseline estimation</th>\n",
       "      <td>breslow</td>\n",
       "    </tr>\n",
       "    <tr>\n",
       "      <th>number of observations</th>\n",
       "      <td>147</td>\n",
       "    </tr>\n",
       "    <tr>\n",
       "      <th>number of events observed</th>\n",
       "      <td>44</td>\n",
       "    </tr>\n",
       "    <tr>\n",
       "      <th>partial log-likelihood</th>\n",
       "      <td>-198.62</td>\n",
       "    </tr>\n",
       "    <tr>\n",
       "      <th>time fit was run</th>\n",
       "      <td>2024-11-21 21:12:33 UTC</td>\n",
       "    </tr>\n",
       "  </tbody>\n",
       "</table>\n",
       "</div><table border=\"1\" class=\"dataframe\">\n",
       "  <thead>\n",
       "    <tr style=\"text-align: right;\">\n",
       "      <th style=\"min-width: 12px;\"></th>\n",
       "      <th style=\"min-width: 12px;\">coef</th>\n",
       "      <th style=\"min-width: 12px;\">exp(coef)</th>\n",
       "      <th style=\"min-width: 12px;\">se(coef)</th>\n",
       "      <th style=\"min-width: 12px;\">coef lower 95%</th>\n",
       "      <th style=\"min-width: 12px;\">coef upper 95%</th>\n",
       "      <th style=\"min-width: 12px;\">exp(coef) lower 95%</th>\n",
       "      <th style=\"min-width: 12px;\">exp(coef) upper 95%</th>\n",
       "      <th style=\"min-width: 12px;\">cmp to</th>\n",
       "      <th style=\"min-width: 12px;\">z</th>\n",
       "      <th style=\"min-width: 12px;\">p</th>\n",
       "      <th style=\"min-width: 12px;\">-log2(p)</th>\n",
       "    </tr>\n",
       "  </thead>\n",
       "  <tbody>\n",
       "    <tr>\n",
       "      <th>Log_Speed</th>\n",
       "      <td>0.32</td>\n",
       "      <td>1.37</td>\n",
       "      <td>0.14</td>\n",
       "      <td>0.05</td>\n",
       "      <td>0.59</td>\n",
       "      <td>1.05</td>\n",
       "      <td>1.80</td>\n",
       "      <td>0.00</td>\n",
       "      <td>2.31</td>\n",
       "      <td>0.02</td>\n",
       "      <td>5.57</td>\n",
       "    </tr>\n",
       "    <tr>\n",
       "      <th>shannon_index_leiden</th>\n",
       "      <td>3.56</td>\n",
       "      <td>35.26</td>\n",
       "      <td>1.45</td>\n",
       "      <td>0.71</td>\n",
       "      <td>6.41</td>\n",
       "      <td>2.04</td>\n",
       "      <td>608.27</td>\n",
       "      <td>0.00</td>\n",
       "      <td>2.45</td>\n",
       "      <td>0.01</td>\n",
       "      <td>6.14</td>\n",
       "    </tr>\n",
       "  </tbody>\n",
       "</table><br><div>\n",
       "<style scoped>\n",
       "    .dataframe tbody tr th:only-of-type {\n",
       "        vertical-align: middle;\n",
       "    }\n",
       "\n",
       "    .dataframe tbody tr th {\n",
       "        vertical-align: top;\n",
       "    }\n",
       "\n",
       "    .dataframe thead th {\n",
       "        text-align: right;\n",
       "    }\n",
       "</style>\n",
       "<table border=\"1\" class=\"dataframe\">\n",
       "  <tbody>\n",
       "    <tr>\n",
       "      <th>Concordance</th>\n",
       "      <td>0.67</td>\n",
       "    </tr>\n",
       "    <tr>\n",
       "      <th>Partial AIC</th>\n",
       "      <td>401.24</td>\n",
       "    </tr>\n",
       "    <tr>\n",
       "      <th>log-likelihood ratio test</th>\n",
       "      <td>14.36 on 2 df</td>\n",
       "    </tr>\n",
       "    <tr>\n",
       "      <th>-log2(p) of ll-ratio test</th>\n",
       "      <td>10.36</td>\n",
       "    </tr>\n",
       "  </tbody>\n",
       "</table>\n",
       "</div>"
      ],
      "text/latex": [
       "\\begin{tabular}{lrrrrrrrrrrr}\n",
       " & coef & exp(coef) & se(coef) & coef lower 95% & coef upper 95% & exp(coef) lower 95% & exp(coef) upper 95% & cmp to & z & p & -log2(p) \\\\\n",
       "covariate &  &  &  &  &  &  &  &  &  &  &  \\\\\n",
       "Log_Speed & 0.32 & 1.37 & 0.14 & 0.05 & 0.59 & 1.05 & 1.80 & 0.00 & 2.31 & 0.02 & 5.57 \\\\\n",
       "shannon_index_leiden & 3.56 & 35.26 & 1.45 & 0.71 & 6.41 & 2.04 & 608.27 & 0.00 & 2.45 & 0.01 & 6.14 \\\\\n",
       "\\end{tabular}\n"
      ],
      "text/plain": [
       "<lifelines.CoxPHFitter: fitted with 147 total observations, 103 right-censored observations>\n",
       "             duration col = 'Overall_Survival'\n",
       "                event col = 'vital.status'\n",
       "      baseline estimation = breslow\n",
       "   number of observations = 147\n",
       "number of events observed = 44\n",
       "   partial log-likelihood = -198.62\n",
       "         time fit was run = 2024-11-21 21:12:33 UTC\n",
       "\n",
       "---\n",
       "                      coef exp(coef)  se(coef)  coef lower 95%  coef upper 95% exp(coef) lower 95% exp(coef) upper 95%\n",
       "covariate                                                                                                             \n",
       "Log_Speed             0.32      1.37      0.14            0.05            0.59                1.05                1.80\n",
       "shannon_index_leiden  3.56     35.26      1.45            0.71            6.41                2.04              608.27\n",
       "\n",
       "                      cmp to    z    p  -log2(p)\n",
       "covariate                                       \n",
       "Log_Speed               0.00 2.31 0.02      5.57\n",
       "shannon_index_leiden    0.00 2.45 0.01      6.14\n",
       "---\n",
       "Concordance = 0.67\n",
       "Partial AIC = 401.24\n",
       "log-likelihood ratio test = 14.36 on 2 df\n",
       "-log2(p) of ll-ratio test = 10.36"
      ]
     },
     "metadata": {},
     "output_type": "display_data"
    },
    {
     "data": {
      "text/html": [
       "<div>\n",
       "<style scoped>\n",
       "    .dataframe tbody tr th:only-of-type {\n",
       "        vertical-align: middle;\n",
       "    }\n",
       "\n",
       "    .dataframe tbody tr th {\n",
       "        vertical-align: top;\n",
       "    }\n",
       "\n",
       "    .dataframe thead th {\n",
       "        text-align: right;\n",
       "    }\n",
       "</style>\n",
       "<table border=\"1\" class=\"dataframe\">\n",
       "  <tbody>\n",
       "    <tr>\n",
       "      <th>model</th>\n",
       "      <td>lifelines.CoxPHFitter</td>\n",
       "    </tr>\n",
       "    <tr>\n",
       "      <th>duration col</th>\n",
       "      <td>'Overall_Survival'</td>\n",
       "    </tr>\n",
       "    <tr>\n",
       "      <th>event col</th>\n",
       "      <td>'vital.status'</td>\n",
       "    </tr>\n",
       "    <tr>\n",
       "      <th>baseline estimation</th>\n",
       "      <td>breslow</td>\n",
       "    </tr>\n",
       "    <tr>\n",
       "      <th>number of observations</th>\n",
       "      <td>147</td>\n",
       "    </tr>\n",
       "    <tr>\n",
       "      <th>number of events observed</th>\n",
       "      <td>44</td>\n",
       "    </tr>\n",
       "    <tr>\n",
       "      <th>partial log-likelihood</th>\n",
       "      <td>-190.83</td>\n",
       "    </tr>\n",
       "    <tr>\n",
       "      <th>time fit was run</th>\n",
       "      <td>2024-11-21 21:12:33 UTC</td>\n",
       "    </tr>\n",
       "  </tbody>\n",
       "</table>\n",
       "</div><table border=\"1\" class=\"dataframe\">\n",
       "  <thead>\n",
       "    <tr style=\"text-align: right;\">\n",
       "      <th style=\"min-width: 12px;\"></th>\n",
       "      <th style=\"min-width: 12px;\">coef</th>\n",
       "      <th style=\"min-width: 12px;\">exp(coef)</th>\n",
       "      <th style=\"min-width: 12px;\">se(coef)</th>\n",
       "      <th style=\"min-width: 12px;\">coef lower 95%</th>\n",
       "      <th style=\"min-width: 12px;\">coef upper 95%</th>\n",
       "      <th style=\"min-width: 12px;\">exp(coef) lower 95%</th>\n",
       "      <th style=\"min-width: 12px;\">exp(coef) upper 95%</th>\n",
       "      <th style=\"min-width: 12px;\">cmp to</th>\n",
       "      <th style=\"min-width: 12px;\">z</th>\n",
       "      <th style=\"min-width: 12px;\">p</th>\n",
       "      <th style=\"min-width: 12px;\">-log2(p)</th>\n",
       "    </tr>\n",
       "  </thead>\n",
       "  <tbody>\n",
       "    <tr>\n",
       "      <th>Cancer_Stage[T.II]</th>\n",
       "      <td>0.50</td>\n",
       "      <td>1.65</td>\n",
       "      <td>0.52</td>\n",
       "      <td>-0.51</td>\n",
       "      <td>1.51</td>\n",
       "      <td>0.60</td>\n",
       "      <td>4.54</td>\n",
       "      <td>0.00</td>\n",
       "      <td>0.97</td>\n",
       "      <td>0.33</td>\n",
       "      <td>1.59</td>\n",
       "    </tr>\n",
       "    <tr>\n",
       "      <th>Cancer_Stage[T.III]</th>\n",
       "      <td>1.28</td>\n",
       "      <td>3.61</td>\n",
       "      <td>0.36</td>\n",
       "      <td>0.58</td>\n",
       "      <td>1.99</td>\n",
       "      <td>1.79</td>\n",
       "      <td>7.30</td>\n",
       "      <td>0.00</td>\n",
       "      <td>3.57</td>\n",
       "      <td>&lt;0.005</td>\n",
       "      <td>11.48</td>\n",
       "    </tr>\n",
       "    <tr>\n",
       "      <th>Cancer_Stage[T.IV]</th>\n",
       "      <td>1.00</td>\n",
       "      <td>2.73</td>\n",
       "      <td>0.57</td>\n",
       "      <td>-0.12</td>\n",
       "      <td>2.13</td>\n",
       "      <td>0.89</td>\n",
       "      <td>8.39</td>\n",
       "      <td>0.00</td>\n",
       "      <td>1.75</td>\n",
       "      <td>0.08</td>\n",
       "      <td>3.65</td>\n",
       "    </tr>\n",
       "    <tr>\n",
       "      <th>Age</th>\n",
       "      <td>0.02</td>\n",
       "      <td>1.02</td>\n",
       "      <td>0.03</td>\n",
       "      <td>-0.03</td>\n",
       "      <td>0.08</td>\n",
       "      <td>0.97</td>\n",
       "      <td>1.09</td>\n",
       "      <td>0.00</td>\n",
       "      <td>0.81</td>\n",
       "      <td>0.42</td>\n",
       "      <td>1.26</td>\n",
       "    </tr>\n",
       "    <tr>\n",
       "      <th>Sex[T.Male]</th>\n",
       "      <td>0.51</td>\n",
       "      <td>1.66</td>\n",
       "      <td>0.32</td>\n",
       "      <td>-0.12</td>\n",
       "      <td>1.13</td>\n",
       "      <td>0.89</td>\n",
       "      <td>3.08</td>\n",
       "      <td>0.00</td>\n",
       "      <td>1.60</td>\n",
       "      <td>0.11</td>\n",
       "      <td>3.18</td>\n",
       "    </tr>\n",
       "    <tr>\n",
       "      <th>Log_Speed</th>\n",
       "      <td>0.24</td>\n",
       "      <td>1.27</td>\n",
       "      <td>0.14</td>\n",
       "      <td>-0.03</td>\n",
       "      <td>0.52</td>\n",
       "      <td>0.97</td>\n",
       "      <td>1.68</td>\n",
       "      <td>0.00</td>\n",
       "      <td>1.73</td>\n",
       "      <td>0.08</td>\n",
       "      <td>3.58</td>\n",
       "    </tr>\n",
       "    <tr>\n",
       "      <th>shannon_index_leiden</th>\n",
       "      <td>2.82</td>\n",
       "      <td>16.77</td>\n",
       "      <td>1.53</td>\n",
       "      <td>-0.18</td>\n",
       "      <td>5.81</td>\n",
       "      <td>0.84</td>\n",
       "      <td>335.25</td>\n",
       "      <td>0.00</td>\n",
       "      <td>1.85</td>\n",
       "      <td>0.07</td>\n",
       "      <td>3.94</td>\n",
       "    </tr>\n",
       "  </tbody>\n",
       "</table><br><div>\n",
       "<style scoped>\n",
       "    .dataframe tbody tr th:only-of-type {\n",
       "        vertical-align: middle;\n",
       "    }\n",
       "\n",
       "    .dataframe tbody tr th {\n",
       "        vertical-align: top;\n",
       "    }\n",
       "\n",
       "    .dataframe thead th {\n",
       "        text-align: right;\n",
       "    }\n",
       "</style>\n",
       "<table border=\"1\" class=\"dataframe\">\n",
       "  <tbody>\n",
       "    <tr>\n",
       "      <th>Concordance</th>\n",
       "      <td>0.75</td>\n",
       "    </tr>\n",
       "    <tr>\n",
       "      <th>Partial AIC</th>\n",
       "      <td>395.66</td>\n",
       "    </tr>\n",
       "    <tr>\n",
       "      <th>log-likelihood ratio test</th>\n",
       "      <td>29.93 on 7 df</td>\n",
       "    </tr>\n",
       "    <tr>\n",
       "      <th>-log2(p) of ll-ratio test</th>\n",
       "      <td>13.32</td>\n",
       "    </tr>\n",
       "  </tbody>\n",
       "</table>\n",
       "</div>"
      ],
      "text/latex": [
       "\\begin{tabular}{lrrrrrrrrrrr}\n",
       " & coef & exp(coef) & se(coef) & coef lower 95% & coef upper 95% & exp(coef) lower 95% & exp(coef) upper 95% & cmp to & z & p & -log2(p) \\\\\n",
       "covariate &  &  &  &  &  &  &  &  &  &  &  \\\\\n",
       "Cancer_Stage[T.II] & 0.50 & 1.65 & 0.52 & -0.51 & 1.51 & 0.60 & 4.54 & 0.00 & 0.97 & 0.33 & 1.59 \\\\\n",
       "Cancer_Stage[T.III] & 1.28 & 3.61 & 0.36 & 0.58 & 1.99 & 1.79 & 7.30 & 0.00 & 3.57 & 0.00 & 11.48 \\\\\n",
       "Cancer_Stage[T.IV] & 1.00 & 2.73 & 0.57 & -0.12 & 2.13 & 0.89 & 8.39 & 0.00 & 1.75 & 0.08 & 3.65 \\\\\n",
       "Age & 0.02 & 1.02 & 0.03 & -0.03 & 0.08 & 0.97 & 1.09 & 0.00 & 0.81 & 0.42 & 1.26 \\\\\n",
       "Sex[T.Male] & 0.51 & 1.66 & 0.32 & -0.12 & 1.13 & 0.89 & 3.08 & 0.00 & 1.60 & 0.11 & 3.18 \\\\\n",
       "Log_Speed & 0.24 & 1.27 & 0.14 & -0.03 & 0.52 & 0.97 & 1.68 & 0.00 & 1.73 & 0.08 & 3.58 \\\\\n",
       "shannon_index_leiden & 2.82 & 16.77 & 1.53 & -0.18 & 5.81 & 0.84 & 335.25 & 0.00 & 1.85 & 0.07 & 3.94 \\\\\n",
       "\\end{tabular}\n"
      ],
      "text/plain": [
       "<lifelines.CoxPHFitter: fitted with 147 total observations, 103 right-censored observations>\n",
       "             duration col = 'Overall_Survival'\n",
       "                event col = 'vital.status'\n",
       "      baseline estimation = breslow\n",
       "   number of observations = 147\n",
       "number of events observed = 44\n",
       "   partial log-likelihood = -190.83\n",
       "         time fit was run = 2024-11-21 21:12:33 UTC\n",
       "\n",
       "---\n",
       "                      coef exp(coef)  se(coef)  coef lower 95%  coef upper 95% exp(coef) lower 95% exp(coef) upper 95%\n",
       "covariate                                                                                                             \n",
       "Cancer_Stage[T.II]    0.50      1.65      0.52           -0.51            1.51                0.60                4.54\n",
       "Cancer_Stage[T.III]   1.28      3.61      0.36            0.58            1.99                1.79                7.30\n",
       "Cancer_Stage[T.IV]    1.00      2.73      0.57           -0.12            2.13                0.89                8.39\n",
       "Age                   0.02      1.02      0.03           -0.03            0.08                0.97                1.09\n",
       "Sex[T.Male]           0.51      1.66      0.32           -0.12            1.13                0.89                3.08\n",
       "Log_Speed             0.24      1.27      0.14           -0.03            0.52                0.97                1.68\n",
       "shannon_index_leiden  2.82     16.77      1.53           -0.18            5.81                0.84              335.25\n",
       "\n",
       "                      cmp to    z      p  -log2(p)\n",
       "covariate                                         \n",
       "Cancer_Stage[T.II]      0.00 0.97   0.33      1.59\n",
       "Cancer_Stage[T.III]     0.00 3.57 <0.005     11.48\n",
       "Cancer_Stage[T.IV]      0.00 1.75   0.08      3.65\n",
       "Age                     0.00 0.81   0.42      1.26\n",
       "Sex[T.Male]             0.00 1.60   0.11      3.18\n",
       "Log_Speed               0.00 1.73   0.08      3.58\n",
       "shannon_index_leiden    0.00 1.85   0.07      3.94\n",
       "---\n",
       "Concordance = 0.75\n",
       "Partial AIC = 395.66\n",
       "log-likelihood ratio test = 29.93 on 7 df\n",
       "-log2(p) of ll-ratio test = 13.32"
      ]
     },
     "metadata": {},
     "output_type": "display_data"
    }
   ],
   "source": [
    "cph = CoxPHFitter()\n",
    "cph.fit(dat, duration_col = 'Overall_Survival', event_col = 'vital.status',\n",
    "        formula=\"Cancer_Stage + Age+Sex \")\n",
    "cph.print_summary()\n",
    "\n",
    "cph = CoxPHFitter()\n",
    "cph.fit(dat, duration_col = 'Overall_Survival', event_col = 'vital.status',\n",
    "        formula=\" Log_Speed + shannon_index_leiden\")\n",
    "cph.print_summary()\n",
    "\n",
    "cph = CoxPHFitter()\n",
    "cph.fit(dat, duration_col = 'Overall_Survival', event_col = 'vital.status',\n",
    "        formula=\"Cancer_Stage + Age+Sex + Log_Speed + shannon_index_leiden\")\n",
    "cph.print_summary()\n"
   ]
  },
  {
   "cell_type": "code",
   "execution_count": 11,
   "id": "af9c20b4-dd88-409f-9890-4094c473951f",
   "metadata": {},
   "outputs": [
    {
     "data": {
      "text/html": [
       "<div>\n",
       "<style scoped>\n",
       "    .dataframe tbody tr th:only-of-type {\n",
       "        vertical-align: middle;\n",
       "    }\n",
       "\n",
       "    .dataframe tbody tr th {\n",
       "        vertical-align: top;\n",
       "    }\n",
       "\n",
       "    .dataframe thead th {\n",
       "        text-align: right;\n",
       "    }\n",
       "</style>\n",
       "<table border=\"1\" class=\"dataframe\">\n",
       "  <tbody>\n",
       "    <tr>\n",
       "      <th>t_0</th>\n",
       "      <td>-1</td>\n",
       "    </tr>\n",
       "    <tr>\n",
       "      <th>null_distribution</th>\n",
       "      <td>chi squared</td>\n",
       "    </tr>\n",
       "    <tr>\n",
       "      <th>degrees_of_freedom</th>\n",
       "      <td>1</td>\n",
       "    </tr>\n",
       "    <tr>\n",
       "      <th>test_name</th>\n",
       "      <td>logrank_test</td>\n",
       "    </tr>\n",
       "  </tbody>\n",
       "</table>\n",
       "</div><table border=\"1\" class=\"dataframe\">\n",
       "  <thead>\n",
       "    <tr style=\"text-align: right;\">\n",
       "      <th></th>\n",
       "      <th>test_statistic</th>\n",
       "      <th>p</th>\n",
       "      <th>-log2(p)</th>\n",
       "    </tr>\n",
       "  </thead>\n",
       "  <tbody>\n",
       "    <tr>\n",
       "      <th>0</th>\n",
       "      <td>5.68</td>\n",
       "      <td>0.02</td>\n",
       "      <td>5.87</td>\n",
       "    </tr>\n",
       "  </tbody>\n",
       "</table>"
      ],
      "text/latex": [
       "\\begin{tabular}{lrrr}\n",
       " & test_statistic & p & -log2(p) \\\\\n",
       "0 & 5.68 & 0.02 & 5.87 \\\\\n",
       "\\end{tabular}\n"
      ],
      "text/plain": [
       "<lifelines.StatisticalResult: logrank_test>\n",
       "               t_0 = -1\n",
       " null_distribution = chi squared\n",
       "degrees_of_freedom = 1\n",
       "         test_name = logrank_test\n",
       "\n",
       "---\n",
       " test_statistic    p  -log2(p)\n",
       "           5.68 0.02      5.87"
      ]
     },
     "metadata": {},
     "output_type": "display_data"
    },
    {
     "data": {
      "text/html": [
       "<div>\n",
       "<style scoped>\n",
       "    .dataframe tbody tr th:only-of-type {\n",
       "        vertical-align: middle;\n",
       "    }\n",
       "\n",
       "    .dataframe tbody tr th {\n",
       "        vertical-align: top;\n",
       "    }\n",
       "\n",
       "    .dataframe thead th {\n",
       "        text-align: right;\n",
       "    }\n",
       "</style>\n",
       "<table border=\"1\" class=\"dataframe\">\n",
       "  <tbody>\n",
       "    <tr>\n",
       "      <th>t_0</th>\n",
       "      <td>-1</td>\n",
       "    </tr>\n",
       "    <tr>\n",
       "      <th>null_distribution</th>\n",
       "      <td>chi squared</td>\n",
       "    </tr>\n",
       "    <tr>\n",
       "      <th>degrees_of_freedom</th>\n",
       "      <td>1</td>\n",
       "    </tr>\n",
       "    <tr>\n",
       "      <th>test_name</th>\n",
       "      <td>logrank_test</td>\n",
       "    </tr>\n",
       "  </tbody>\n",
       "</table>\n",
       "</div><table border=\"1\" class=\"dataframe\">\n",
       "  <thead>\n",
       "    <tr style=\"text-align: right;\">\n",
       "      <th></th>\n",
       "      <th>test_statistic</th>\n",
       "      <th>p</th>\n",
       "      <th>-log2(p)</th>\n",
       "    </tr>\n",
       "  </thead>\n",
       "  <tbody>\n",
       "    <tr>\n",
       "      <th>0</th>\n",
       "      <td>12.28</td>\n",
       "      <td>&lt;0.005</td>\n",
       "      <td>11.09</td>\n",
       "    </tr>\n",
       "  </tbody>\n",
       "</table>"
      ],
      "text/latex": [
       "\\begin{tabular}{lrrr}\n",
       " & test_statistic & p & -log2(p) \\\\\n",
       "0 & 12.28 & 0.00 & 11.09 \\\\\n",
       "\\end{tabular}\n"
      ],
      "text/plain": [
       "<lifelines.StatisticalResult: logrank_test>\n",
       "               t_0 = -1\n",
       " null_distribution = chi squared\n",
       "degrees_of_freedom = 1\n",
       "         test_name = logrank_test\n",
       "\n",
       "---\n",
       " test_statistic      p  -log2(p)\n",
       "          12.28 <0.005     11.09"
      ]
     },
     "metadata": {},
     "output_type": "display_data"
    },
    {
     "data": {
      "text/html": [
       "<div>\n",
       "<style scoped>\n",
       "    .dataframe tbody tr th:only-of-type {\n",
       "        vertical-align: middle;\n",
       "    }\n",
       "\n",
       "    .dataframe tbody tr th {\n",
       "        vertical-align: top;\n",
       "    }\n",
       "\n",
       "    .dataframe thead th {\n",
       "        text-align: right;\n",
       "    }\n",
       "</style>\n",
       "<table border=\"1\" class=\"dataframe\">\n",
       "  <tbody>\n",
       "    <tr>\n",
       "      <th>model</th>\n",
       "      <td>lifelines.CoxPHFitter</td>\n",
       "    </tr>\n",
       "    <tr>\n",
       "      <th>duration col</th>\n",
       "      <td>'Overall_Survival'</td>\n",
       "    </tr>\n",
       "    <tr>\n",
       "      <th>event col</th>\n",
       "      <td>'vital.status'</td>\n",
       "    </tr>\n",
       "    <tr>\n",
       "      <th>baseline estimation</th>\n",
       "      <td>breslow</td>\n",
       "    </tr>\n",
       "    <tr>\n",
       "      <th>number of observations</th>\n",
       "      <td>147</td>\n",
       "    </tr>\n",
       "    <tr>\n",
       "      <th>number of events observed</th>\n",
       "      <td>44</td>\n",
       "    </tr>\n",
       "    <tr>\n",
       "      <th>partial log-likelihood</th>\n",
       "      <td>-194.05</td>\n",
       "    </tr>\n",
       "    <tr>\n",
       "      <th>time fit was run</th>\n",
       "      <td>2024-11-15 20:21:43 UTC</td>\n",
       "    </tr>\n",
       "  </tbody>\n",
       "</table>\n",
       "</div><table border=\"1\" class=\"dataframe\">\n",
       "  <thead>\n",
       "    <tr style=\"text-align: right;\">\n",
       "      <th style=\"min-width: 12px;\"></th>\n",
       "      <th style=\"min-width: 12px;\">coef</th>\n",
       "      <th style=\"min-width: 12px;\">exp(coef)</th>\n",
       "      <th style=\"min-width: 12px;\">se(coef)</th>\n",
       "      <th style=\"min-width: 12px;\">coef lower 95%</th>\n",
       "      <th style=\"min-width: 12px;\">coef upper 95%</th>\n",
       "      <th style=\"min-width: 12px;\">exp(coef) lower 95%</th>\n",
       "      <th style=\"min-width: 12px;\">exp(coef) upper 95%</th>\n",
       "      <th style=\"min-width: 12px;\">cmp to</th>\n",
       "      <th style=\"min-width: 12px;\">z</th>\n",
       "      <th style=\"min-width: 12px;\">p</th>\n",
       "      <th style=\"min-width: 12px;\">-log2(p)</th>\n",
       "    </tr>\n",
       "  </thead>\n",
       "  <tbody>\n",
       "    <tr>\n",
       "      <th>Stage</th>\n",
       "      <td>0.21</td>\n",
       "      <td>1.23</td>\n",
       "      <td>0.06</td>\n",
       "      <td>0.09</td>\n",
       "      <td>0.32</td>\n",
       "      <td>1.10</td>\n",
       "      <td>1.38</td>\n",
       "      <td>0.00</td>\n",
       "      <td>3.59</td>\n",
       "      <td>&lt;0.005</td>\n",
       "      <td>11.58</td>\n",
       "    </tr>\n",
       "    <tr>\n",
       "      <th>speed_leiden</th>\n",
       "      <td>0.09</td>\n",
       "      <td>1.09</td>\n",
       "      <td>0.04</td>\n",
       "      <td>0.01</td>\n",
       "      <td>0.16</td>\n",
       "      <td>1.01</td>\n",
       "      <td>1.18</td>\n",
       "      <td>0.00</td>\n",
       "      <td>2.25</td>\n",
       "      <td>0.02</td>\n",
       "      <td>5.35</td>\n",
       "    </tr>\n",
       "  </tbody>\n",
       "</table><br><div>\n",
       "<style scoped>\n",
       "    .dataframe tbody tr th:only-of-type {\n",
       "        vertical-align: middle;\n",
       "    }\n",
       "\n",
       "    .dataframe tbody tr th {\n",
       "        vertical-align: top;\n",
       "    }\n",
       "\n",
       "    .dataframe thead th {\n",
       "        text-align: right;\n",
       "    }\n",
       "</style>\n",
       "<table border=\"1\" class=\"dataframe\">\n",
       "  <tbody>\n",
       "    <tr>\n",
       "      <th>Concordance</th>\n",
       "      <td>0.75</td>\n",
       "    </tr>\n",
       "    <tr>\n",
       "      <th>Partial AIC</th>\n",
       "      <td>392.11</td>\n",
       "    </tr>\n",
       "    <tr>\n",
       "      <th>log-likelihood ratio test</th>\n",
       "      <td>23.48 on 2 df</td>\n",
       "    </tr>\n",
       "    <tr>\n",
       "      <th>-log2(p) of ll-ratio test</th>\n",
       "      <td>16.94</td>\n",
       "    </tr>\n",
       "  </tbody>\n",
       "</table>\n",
       "</div>"
      ],
      "text/latex": [
       "\\begin{tabular}{lrrrrrrrrrrr}\n",
       " & coef & exp(coef) & se(coef) & coef lower 95% & coef upper 95% & exp(coef) lower 95% & exp(coef) upper 95% & cmp to & z & p & -log2(p) \\\\\n",
       "covariate &  &  &  &  &  &  &  &  &  &  &  \\\\\n",
       "Stage & 0.21 & 1.23 & 0.06 & 0.09 & 0.32 & 1.10 & 1.38 & 0.00 & 3.59 & 0.00 & 11.58 \\\\\n",
       "speed_leiden & 0.09 & 1.09 & 0.04 & 0.01 & 0.16 & 1.01 & 1.18 & 0.00 & 2.25 & 0.02 & 5.35 \\\\\n",
       "\\end{tabular}\n"
      ],
      "text/plain": [
       "<lifelines.CoxPHFitter: fitted with 147 total observations, 103 right-censored observations>\n",
       "             duration col = 'Overall_Survival'\n",
       "                event col = 'vital.status'\n",
       "      baseline estimation = breslow\n",
       "   number of observations = 147\n",
       "number of events observed = 44\n",
       "   partial log-likelihood = -194.05\n",
       "         time fit was run = 2024-11-15 20:21:43 UTC\n",
       "\n",
       "---\n",
       "              coef exp(coef)  se(coef)  coef lower 95%  coef upper 95% exp(coef) lower 95% exp(coef) upper 95%\n",
       "covariate                                                                                                     \n",
       "Stage         0.21      1.23      0.06            0.09            0.32                1.10                1.38\n",
       "speed_leiden  0.09      1.09      0.04            0.01            0.16                1.01                1.18\n",
       "\n",
       "              cmp to    z      p  -log2(p)\n",
       "covariate                                 \n",
       "Stage           0.00 3.59 <0.005     11.58\n",
       "speed_leiden    0.00 2.25   0.02      5.35\n",
       "---\n",
       "Concordance = 0.75\n",
       "Partial AIC = 392.11\n",
       "log-likelihood ratio test = 23.48 on 2 df\n",
       "-log2(p) of ll-ratio test = 16.94"
      ]
     },
     "metadata": {},
     "output_type": "display_data"
    },
    {
     "data": {
      "image/png": "[encoded data removed]",
      "text/plain": [
       "<Figure size 1500x500 with 6 Axes>"
      ]
     },
     "metadata": {},
     "output_type": "display_data"
    },
    {
     "data": {
      "text/html": [
       "<div>\n",
       "<style scoped>\n",
       "    .dataframe tbody tr th:only-of-type {\n",
       "        vertical-align: middle;\n",
       "    }\n",
       "\n",
       "    .dataframe tbody tr th {\n",
       "        vertical-align: top;\n",
       "    }\n",
       "\n",
       "    .dataframe thead th {\n",
       "        text-align: right;\n",
       "    }\n",
       "</style>\n",
       "<table border=\"1\" class=\"dataframe\">\n",
       "  <tbody>\n",
       "    <tr>\n",
       "      <th>t_0</th>\n",
       "      <td>-1</td>\n",
       "    </tr>\n",
       "    <tr>\n",
       "      <th>null_distribution</th>\n",
       "      <td>chi squared</td>\n",
       "    </tr>\n",
       "    <tr>\n",
       "      <th>degrees_of_freedom</th>\n",
       "      <td>1</td>\n",
       "    </tr>\n",
       "    <tr>\n",
       "      <th>test_name</th>\n",
       "      <td>logrank_test</td>\n",
       "    </tr>\n",
       "  </tbody>\n",
       "</table>\n",
       "</div><table border=\"1\" class=\"dataframe\">\n",
       "  <thead>\n",
       "    <tr style=\"text-align: right;\">\n",
       "      <th></th>\n",
       "      <th>test_statistic</th>\n",
       "      <th>p</th>\n",
       "      <th>-log2(p)</th>\n",
       "    </tr>\n",
       "  </thead>\n",
       "  <tbody>\n",
       "    <tr>\n",
       "      <th>0</th>\n",
       "      <td>6.52</td>\n",
       "      <td>0.01</td>\n",
       "      <td>6.55</td>\n",
       "    </tr>\n",
       "  </tbody>\n",
       "</table>"
      ],
      "text/latex": [
       "\\begin{tabular}{lrrr}\n",
       " & test_statistic & p & -log2(p) \\\\\n",
       "0 & 6.52 & 0.01 & 6.55 \\\\\n",
       "\\end{tabular}\n"
      ],
      "text/plain": [
       "<lifelines.StatisticalResult: logrank_test>\n",
       "               t_0 = -1\n",
       " null_distribution = chi squared\n",
       "degrees_of_freedom = 1\n",
       "         test_name = logrank_test\n",
       "\n",
       "---\n",
       " test_statistic    p  -log2(p)\n",
       "           6.52 0.01      6.55"
      ]
     },
     "metadata": {},
     "output_type": "display_data"
    }
   ],
   "source": [
    "\n",
    "plt.figure(figsize =(15, 5))\n",
    "ax = plt.subplot(131)\n",
    "kmf = KaplanMeierFitter()\n",
    "T, E = dat['Overall_Survival'], dat['vital.status']\n",
    "G =  (dat['Log_Speed'] <= np.median(dat['Log_Speed']))\n",
    "kmf.fit(durations = T[G], event_observed = E[G], label = \"Slow\")\n",
    "kmf.plot_survival_function(ax=ax, at_risk_counts = False, ci_show =False)\n",
    "kmf.fit(durations = T[-G], event_observed = E[-G], label = \"Fast\")\n",
    "kmf.plot_survival_function(ax=ax, at_risk_counts = True,ci_show =False)\n",
    "#kmf.fit(durations = T, event_observed = E)\n",
    "#kmf.plot_survival_function(ax=ax, at_risk_counts = True,ci_show =False)\n",
    "plt.title('Speed')\n",
    "#plt.show()\n",
    "\n",
    "\n",
    "results = logrank_test(T[G], T[-G], event_observed_A=E[G], event_observed_B=E[-G])\n",
    "results.print_summary()\n",
    "\n",
    "#plt.figure(figsize =(5, 5))\n",
    "ax = plt.subplot(133)\n",
    "kmf = KaplanMeierFitter()\n",
    "T, E = dat['Overall_Survival'], dat['vital.status']\n",
    "G =  (dat['speed_leiden'] <= np.median(dat['speed_leiden']))\n",
    "#G =  (data_df['Log_Speed'] <= 8 )\n",
    "kmf.fit(durations = T[G], event_observed = E[G], label = \"Slow\")\n",
    "kmf.plot_survival_function(ax=ax,at_risk_counts = False, ci_show =False)\n",
    "\n",
    "kmf.fit(durations = T[-G], event_observed = E[-G], label = \"Fast\")\n",
    "kmf.plot_survival_function(ax=ax, at_risk_counts = True,ci_show =False)\n",
    "plt.title('Fitness')\n",
    "#plt.tight_layout()\n",
    "#plt.show()\n",
    "\n",
    "results = logrank_test(T[G], T[-G], event_observed_A=E[G], event_observed_B=E[-G])\n",
    "results.print_summary()\n",
    "\n",
    "\n",
    "cph = CoxPHFitter()\n",
    "cph.fit(dat, duration_col = 'Overall_Survival', event_col = 'vital.status',\n",
    "        formula=\"Stage + speed_leiden \")\n",
    "cph.print_summary()\n",
    "\n",
    "\n",
    "#plt.figure(figsize =(5, 5))\n",
    "ax = plt.subplot(132)\n",
    "kmf = KaplanMeierFitter()\n",
    "T, E = dat['Overall_Survival'], dat['vital.status']\n",
    "G =  (dat['shannon_index_leiden'] <= np.median(dat['shannon_index_leiden']))\n",
    "#G =  (data_df['Log_Speed'] <= 8 )\n",
    "kmf.fit(durations = T[G], event_observed = E[G], label = \"Slow\")\n",
    "kmf.plot_survival_function(ax=ax,at_risk_counts = False, ci_show =False)\n",
    "kmf.fit(durations = T[-G], event_observed = E[-G], label = \"Fast\")\n",
    "kmf.plot_survival_function(ax=ax, at_risk_counts = True, ci_show =False)\n",
    "plt.title('Shannon Diversity')\n",
    "plt.show()\n",
    "\n",
    "results = logrank_test(T[G], T[-G], event_observed_A=E[G], event_observed_B=E[-G])\n",
    "results.print_summary()\n"
   ]
  },
  {
   "cell_type": "code",
   "execution_count": 13,
   "id": "e81226f9-6eac-49cf-9591-99b41770f57f",
   "metadata": {},
   "outputs": [
    {
     "name": "stdout",
     "output_type": "stream",
     "text": [
      "0.18304611628061992\n"
     ]
    },
    {
     "data": {
      "image/png": "[encoded data removed]",
      "text/plain": [
       "<Figure size 300x600 with 2 Axes>"
      ]
     },
     "metadata": {},
     "output_type": "display_data"
    },
    {
     "data": {
      "text/html": [
       "<div>\n",
       "<style scoped>\n",
       "    .dataframe tbody tr th:only-of-type {\n",
       "        vertical-align: middle;\n",
       "    }\n",
       "\n",
       "    .dataframe tbody tr th {\n",
       "        vertical-align: top;\n",
       "    }\n",
       "\n",
       "    .dataframe thead th {\n",
       "        text-align: right;\n",
       "    }\n",
       "</style>\n",
       "<table border=\"1\" class=\"dataframe\">\n",
       "  <tbody>\n",
       "    <tr>\n",
       "      <th>t_0</th>\n",
       "      <td>-1</td>\n",
       "    </tr>\n",
       "    <tr>\n",
       "      <th>null_distribution</th>\n",
       "      <td>chi squared</td>\n",
       "    </tr>\n",
       "    <tr>\n",
       "      <th>degrees_of_freedom</th>\n",
       "      <td>1</td>\n",
       "    </tr>\n",
       "    <tr>\n",
       "      <th>test_name</th>\n",
       "      <td>logrank_test</td>\n",
       "    </tr>\n",
       "  </tbody>\n",
       "</table>\n",
       "</div><table border=\"1\" class=\"dataframe\">\n",
       "  <thead>\n",
       "    <tr style=\"text-align: right;\">\n",
       "      <th></th>\n",
       "      <th>test_statistic</th>\n",
       "      <th>p</th>\n",
       "      <th>-log2(p)</th>\n",
       "    </tr>\n",
       "  </thead>\n",
       "  <tbody>\n",
       "    <tr>\n",
       "      <th>0</th>\n",
       "      <td>11.53</td>\n",
       "      <td>&lt;0.005</td>\n",
       "      <td>10.51</td>\n",
       "    </tr>\n",
       "  </tbody>\n",
       "</table>"
      ],
      "text/latex": [
       "\\begin{tabular}{lrrr}\n",
       " & test_statistic & p & -log2(p) \\\\\n",
       "0 & 11.53 & 0.00 & 10.51 \\\\\n",
       "\\end{tabular}\n"
      ],
      "text/plain": [
       "<lifelines.StatisticalResult: logrank_test>\n",
       "               t_0 = -1\n",
       " null_distribution = chi squared\n",
       "degrees_of_freedom = 1\n",
       "         test_name = logrank_test\n",
       "\n",
       "---\n",
       " test_statistic      p  -log2(p)\n",
       "          11.53 <0.005     10.51"
      ]
     },
     "metadata": {},
     "output_type": "display_data"
    },
    {
     "data": {
      "text/html": [
       "<div>\n",
       "<style scoped>\n",
       "    .dataframe tbody tr th:only-of-type {\n",
       "        vertical-align: middle;\n",
       "    }\n",
       "\n",
       "    .dataframe tbody tr th {\n",
       "        vertical-align: top;\n",
       "    }\n",
       "\n",
       "    .dataframe thead th {\n",
       "        text-align: right;\n",
       "    }\n",
       "</style>\n",
       "<table border=\"1\" class=\"dataframe\">\n",
       "  <tbody>\n",
       "    <tr>\n",
       "      <th>t_0</th>\n",
       "      <td>-1</td>\n",
       "    </tr>\n",
       "    <tr>\n",
       "      <th>null_distribution</th>\n",
       "      <td>chi squared</td>\n",
       "    </tr>\n",
       "    <tr>\n",
       "      <th>degrees_of_freedom</th>\n",
       "      <td>1</td>\n",
       "    </tr>\n",
       "    <tr>\n",
       "      <th>test_name</th>\n",
       "      <td>logrank_test</td>\n",
       "    </tr>\n",
       "  </tbody>\n",
       "</table>\n",
       "</div><table border=\"1\" class=\"dataframe\">\n",
       "  <thead>\n",
       "    <tr style=\"text-align: right;\">\n",
       "      <th></th>\n",
       "      <th>test_statistic</th>\n",
       "      <th>p</th>\n",
       "      <th>-log2(p)</th>\n",
       "    </tr>\n",
       "  </thead>\n",
       "  <tbody>\n",
       "    <tr>\n",
       "      <th>0</th>\n",
       "      <td>2.96</td>\n",
       "      <td>0.09</td>\n",
       "      <td>3.55</td>\n",
       "    </tr>\n",
       "  </tbody>\n",
       "</table>"
      ],
      "text/latex": [
       "\\begin{tabular}{lrrr}\n",
       " & test_statistic & p & -log2(p) \\\\\n",
       "0 & 2.96 & 0.09 & 3.55 \\\\\n",
       "\\end{tabular}\n"
      ],
      "text/plain": [
       "<lifelines.StatisticalResult: logrank_test>\n",
       "               t_0 = -1\n",
       " null_distribution = chi squared\n",
       "degrees_of_freedom = 1\n",
       "         test_name = logrank_test\n",
       "\n",
       "---\n",
       " test_statistic    p  -log2(p)\n",
       "           2.96 0.09      3.55"
      ]
     },
     "metadata": {},
     "output_type": "display_data"
    },
    {
     "data": {
      "text/html": [
       "<div>\n",
       "<style scoped>\n",
       "    .dataframe tbody tr th:only-of-type {\n",
       "        vertical-align: middle;\n",
       "    }\n",
       "\n",
       "    .dataframe tbody tr th {\n",
       "        vertical-align: top;\n",
       "    }\n",
       "\n",
       "    .dataframe thead th {\n",
       "        text-align: right;\n",
       "    }\n",
       "</style>\n",
       "<table border=\"1\" class=\"dataframe\">\n",
       "  <tbody>\n",
       "    <tr>\n",
       "      <th>t_0</th>\n",
       "      <td>-1</td>\n",
       "    </tr>\n",
       "    <tr>\n",
       "      <th>null_distribution</th>\n",
       "      <td>chi squared</td>\n",
       "    </tr>\n",
       "    <tr>\n",
       "      <th>degrees_of_freedom</th>\n",
       "      <td>1</td>\n",
       "    </tr>\n",
       "    <tr>\n",
       "      <th>test_name</th>\n",
       "      <td>logrank_test</td>\n",
       "    </tr>\n",
       "  </tbody>\n",
       "</table>\n",
       "</div><table border=\"1\" class=\"dataframe\">\n",
       "  <thead>\n",
       "    <tr style=\"text-align: right;\">\n",
       "      <th></th>\n",
       "      <th>test_statistic</th>\n",
       "      <th>p</th>\n",
       "      <th>-log2(p)</th>\n",
       "    </tr>\n",
       "  </thead>\n",
       "  <tbody>\n",
       "    <tr>\n",
       "      <th>0</th>\n",
       "      <td>4.35</td>\n",
       "      <td>0.04</td>\n",
       "      <td>4.76</td>\n",
       "    </tr>\n",
       "  </tbody>\n",
       "</table>"
      ],
      "text/latex": [
       "\\begin{tabular}{lrrr}\n",
       " & test_statistic & p & -log2(p) \\\\\n",
       "0 & 4.35 & 0.04 & 4.76 \\\\\n",
       "\\end{tabular}\n"
      ],
      "text/plain": [
       "<lifelines.StatisticalResult: logrank_test>\n",
       "               t_0 = -1\n",
       " null_distribution = chi squared\n",
       "degrees_of_freedom = 1\n",
       "         test_name = logrank_test\n",
       "\n",
       "---\n",
       " test_statistic    p  -log2(p)\n",
       "           4.35 0.04      4.76"
      ]
     },
     "metadata": {},
     "output_type": "display_data"
    }
   ],
   "source": [
    "\n",
    "\n",
    "correlation = np.corrcoef(dat['Log_Speed'], dat['shannon_index_leiden'])[0, 1]\n",
    "print(correlation)\n",
    "\n",
    "slow =  ((dat['shannon_index_leiden'] <= np.median(dat['shannon_index_leiden'])) & (dat['Log_Speed'] <= np.median(dat['Log_Speed'])))\n",
    "median_fast = ((dat['shannon_index_leiden'] > np.median(dat['shannon_index_leiden'])) & (dat['Log_Speed'] <= np.median(dat['Log_Speed'])))\n",
    "fast =  ((dat['shannon_index_leiden'] > np.median(dat['shannon_index_leiden'])) & (dat['Log_Speed'] > np.median(dat['Log_Speed'])))\n",
    "median_slow = ((dat['shannon_index_leiden'] <= np.median(dat['shannon_index_leiden'])) & (dat['Log_Speed'] > np.median(dat['Log_Speed'])))\n",
    "\n",
    "dat['colors'] = '#2ca02c'\n",
    "dat.loc[slow,'colors'] = '#1f77b4'\n",
    "dat.loc[fast,'colors'] = '#ff7f0e'\n",
    "#print (dat['colors'])\n",
    "\n",
    "plt.figure(figsize=(3,6))\n",
    "plt.subplot(211)\n",
    "#plt.scatter(dat['Log_Speed'],dat['shannon_index_leiden'], color='b', label=f'Correlation: {correlation:.2f}')\n",
    "plt.scatter(dat['Log_Speed'],dat['shannon_index_leiden'], c=dat['colors'], label=f'Correlation: {correlation:.2f}')\n",
    "#plt.title('Speed vs Shannon Index')\n",
    "plt.xlabel('Speed')\n",
    "plt.ylabel('Shannon Index')\n",
    "plt.legend()\n",
    "plt.grid(False)\n",
    "#plt.show()\n",
    "\n",
    "\n",
    "#plt.figure(figsize =(5, 5))\n",
    "ax = plt.subplot(212)\n",
    "kmf = KaplanMeierFitter()\n",
    "T, E = dat['Overall_Survival'], dat['vital.status']\n",
    "kmf.fit(durations = T[slow], event_observed = E[slow], label = \"Slow\")\n",
    "kmf.plot_survival_function(ax=ax, ci_show =False,color='#1f77b4')\n",
    "\n",
    "kmf.fit(durations = T[median_slow + median_fast], event_observed = E[median_slow+median_fast], label = \"Median\")\n",
    "kmf.plot_survival_function(ax=ax, ci_show =False,color='#2ca02c')\n",
    "\n",
    "#kmf.fit(durations = T[median_fast], event_observed = E[median_fast], label = \"median Fast\")\n",
    "#kmf.plot_survival_function(ax=ax, ci_show =False)\n",
    "\n",
    "kmf.fit(durations = T[fast], event_observed = E[fast], label = \"Fast\")\n",
    "kmf.plot_survival_function(ax=ax, ci_show =False,color='#ff7f0e')\n",
    "\n",
    "plt.show()\n",
    "\n",
    "results = logrank_test(T[slow], T[fast], event_observed_A=E[slow], event_observed_B=E[fast])\n",
    "results.print_summary()\n",
    "\n",
    "results = logrank_test(T[median_slow + median_fast], T[fast], event_observed_A=E[median_slow + median_fast], event_observed_B=E[fast])\n",
    "results.print_summary()\n",
    "\n",
    "results = logrank_test(T[median_slow + median_fast], T[slow], event_observed_A=E[median_slow + median_fast], event_observed_B=E[slow])\n",
    "results.print_summary()\n",
    "\n",
    "\n"
   ]
  }
 ],
 "metadata": {
  "kernelspec": {
   "display_name": "Python 3 (ipykernel)",
   "language": "python",
   "name": "python3"
  },
  "language_info": {
   "codemirror_mode": {
    "name": "ipython",
    "version": 3
   },
   "file_extension": ".py",
   "mimetype": "text/x-python",
   "name": "python",
   "nbconvert_exporter": "python",
   "pygments_lexer": "ipython3",
   "version": "3.12.2"
  }
 },
 "nbformat": 4,
 "nbformat_minor": 5
}
